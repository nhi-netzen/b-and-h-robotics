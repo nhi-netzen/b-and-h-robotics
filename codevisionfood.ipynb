{
  "cells": [
    {
      "cell_type": "markdown",
      "metadata": {
        "id": "view-in-github",
        "colab_type": "text"
      },
      "source": [
        "<a href=\"https://colab.research.google.com/github/nhi-netzen/b-and-h-robotics/blob/main/codevisionfood.ipynb\" target=\"_parent\"><img src=\"https://colab.research.google.com/assets/colab-badge.svg\" alt=\"Open In Colab\"/></a>"
      ]
    },
    {
      "cell_type": "code",
      "execution_count": null,
      "metadata": {
        "colab": {
          "base_uri": "https://localhost:8080/",
          "height": 1000
        },
        "id": "hC425E2EtxHH",
        "outputId": "8568d1fe-ce56-41d7-9c51-33a7e4c7ffbc"
      },
      "outputs": [
        {
          "data": {
            "text/html": [
              "\n",
              "     <input type=\"file\" id=\"files-09dde7cc-15ea-47e7-aa8c-8aeb835e8006\" name=\"files[]\" multiple disabled\n",
              "        style=\"border:none\" />\n",
              "     <output id=\"result-09dde7cc-15ea-47e7-aa8c-8aeb835e8006\">\n",
              "      Upload widget is only available when the cell has been executed in the\n",
              "      current browser session. Please rerun this cell to enable.\n",
              "      </output>\n",
              "      <script>// Copyright 2017 Google LLC\n",
              "//\n",
              "// Licensed under the Apache License, Version 2.0 (the \"License\");\n",
              "// you may not use this file except in compliance with the License.\n",
              "// You may obtain a copy of the License at\n",
              "//\n",
              "//      http://www.apache.org/licenses/LICENSE-2.0\n",
              "//\n",
              "// Unless required by applicable law or agreed to in writing, software\n",
              "// distributed under the License is distributed on an \"AS IS\" BASIS,\n",
              "// WITHOUT WARRANTIES OR CONDITIONS OF ANY KIND, either express or implied.\n",
              "// See the License for the specific language governing permissions and\n",
              "// limitations under the License.\n",
              "\n",
              "/**\n",
              " * @fileoverview Helpers for google.colab Python module.\n",
              " */\n",
              "(function(scope) {\n",
              "function span(text, styleAttributes = {}) {\n",
              "  const element = document.createElement('span');\n",
              "  element.textContent = text;\n",
              "  for (const key of Object.keys(styleAttributes)) {\n",
              "    element.style[key] = styleAttributes[key];\n",
              "  }\n",
              "  return element;\n",
              "}\n",
              "\n",
              "// Max number of bytes which will be uploaded at a time.\n",
              "const MAX_PAYLOAD_SIZE = 100 * 1024;\n",
              "\n",
              "function _uploadFiles(inputId, outputId) {\n",
              "  const steps = uploadFilesStep(inputId, outputId);\n",
              "  const outputElement = document.getElementById(outputId);\n",
              "  // Cache steps on the outputElement to make it available for the next call\n",
              "  // to uploadFilesContinue from Python.\n",
              "  outputElement.steps = steps;\n",
              "\n",
              "  return _uploadFilesContinue(outputId);\n",
              "}\n",
              "\n",
              "// This is roughly an async generator (not supported in the browser yet),\n",
              "// where there are multiple asynchronous steps and the Python side is going\n",
              "// to poll for completion of each step.\n",
              "// This uses a Promise to block the python side on completion of each step,\n",
              "// then passes the result of the previous step as the input to the next step.\n",
              "function _uploadFilesContinue(outputId) {\n",
              "  const outputElement = document.getElementById(outputId);\n",
              "  const steps = outputElement.steps;\n",
              "\n",
              "  const next = steps.next(outputElement.lastPromiseValue);\n",
              "  return Promise.resolve(next.value.promise).then((value) => {\n",
              "    // Cache the last promise value to make it available to the next\n",
              "    // step of the generator.\n",
              "    outputElement.lastPromiseValue = value;\n",
              "    return next.value.response;\n",
              "  });\n",
              "}\n",
              "\n",
              "/**\n",
              " * Generator function which is called between each async step of the upload\n",
              " * process.\n",
              " * @param {string} inputId Element ID of the input file picker element.\n",
              " * @param {string} outputId Element ID of the output display.\n",
              " * @return {!Iterable<!Object>} Iterable of next steps.\n",
              " */\n",
              "function* uploadFilesStep(inputId, outputId) {\n",
              "  const inputElement = document.getElementById(inputId);\n",
              "  inputElement.disabled = false;\n",
              "\n",
              "  const outputElement = document.getElementById(outputId);\n",
              "  outputElement.innerHTML = '';\n",
              "\n",
              "  const pickedPromise = new Promise((resolve) => {\n",
              "    inputElement.addEventListener('change', (e) => {\n",
              "      resolve(e.target.files);\n",
              "    });\n",
              "  });\n",
              "\n",
              "  const cancel = document.createElement('button');\n",
              "  inputElement.parentElement.appendChild(cancel);\n",
              "  cancel.textContent = 'Cancel upload';\n",
              "  const cancelPromise = new Promise((resolve) => {\n",
              "    cancel.onclick = () => {\n",
              "      resolve(null);\n",
              "    };\n",
              "  });\n",
              "\n",
              "  // Wait for the user to pick the files.\n",
              "  const files = yield {\n",
              "    promise: Promise.race([pickedPromise, cancelPromise]),\n",
              "    response: {\n",
              "      action: 'starting',\n",
              "    }\n",
              "  };\n",
              "\n",
              "  cancel.remove();\n",
              "\n",
              "  // Disable the input element since further picks are not allowed.\n",
              "  inputElement.disabled = true;\n",
              "\n",
              "  if (!files) {\n",
              "    return {\n",
              "      response: {\n",
              "        action: 'complete',\n",
              "      }\n",
              "    };\n",
              "  }\n",
              "\n",
              "  for (const file of files) {\n",
              "    const li = document.createElement('li');\n",
              "    li.append(span(file.name, {fontWeight: 'bold'}));\n",
              "    li.append(span(\n",
              "        `(${file.type || 'n/a'}) - ${file.size} bytes, ` +\n",
              "        `last modified: ${\n",
              "            file.lastModifiedDate ? file.lastModifiedDate.toLocaleDateString() :\n",
              "                                    'n/a'} - `));\n",
              "    const percent = span('0% done');\n",
              "    li.appendChild(percent);\n",
              "\n",
              "    outputElement.appendChild(li);\n",
              "\n",
              "    const fileDataPromise = new Promise((resolve) => {\n",
              "      const reader = new FileReader();\n",
              "      reader.onload = (e) => {\n",
              "        resolve(e.target.result);\n",
              "      };\n",
              "      reader.readAsArrayBuffer(file);\n",
              "    });\n",
              "    // Wait for the data to be ready.\n",
              "    let fileData = yield {\n",
              "      promise: fileDataPromise,\n",
              "      response: {\n",
              "        action: 'continue',\n",
              "      }\n",
              "    };\n",
              "\n",
              "    // Use a chunked sending to avoid message size limits. See b/62115660.\n",
              "    let position = 0;\n",
              "    do {\n",
              "      const length = Math.min(fileData.byteLength - position, MAX_PAYLOAD_SIZE);\n",
              "      const chunk = new Uint8Array(fileData, position, length);\n",
              "      position += length;\n",
              "\n",
              "      const base64 = btoa(String.fromCharCode.apply(null, chunk));\n",
              "      yield {\n",
              "        response: {\n",
              "          action: 'append',\n",
              "          file: file.name,\n",
              "          data: base64,\n",
              "        },\n",
              "      };\n",
              "\n",
              "      let percentDone = fileData.byteLength === 0 ?\n",
              "          100 :\n",
              "          Math.round((position / fileData.byteLength) * 100);\n",
              "      percent.textContent = `${percentDone}% done`;\n",
              "\n",
              "    } while (position < fileData.byteLength);\n",
              "  }\n",
              "\n",
              "  // All done.\n",
              "  yield {\n",
              "    response: {\n",
              "      action: 'complete',\n",
              "    }\n",
              "  };\n",
              "}\n",
              "\n",
              "scope.google = scope.google || {};\n",
              "scope.google.colab = scope.google.colab || {};\n",
              "scope.google.colab._files = {\n",
              "  _uploadFiles,\n",
              "  _uploadFilesContinue,\n",
              "};\n",
              "})(self);\n",
              "</script> "
            ],
            "text/plain": [
              "<IPython.core.display.HTML object>"
            ]
          },
          "metadata": {},
          "output_type": "display_data"
        },
        {
          "name": "stdout",
          "output_type": "stream",
          "text": [
            "Saving MENU-UEH.v7i.yolov8.zip to MENU-UEH.v7i.yolov8.zip\n",
            "-rw-r--r-- 1 root root 28M May 17 15:41 MENU-UEH.v7i.yolov8.zip\n",
            "Archive:  MENU-UEH.v7i.yolov8.zip\n",
            "  inflating: extracted_files/README.dataset.txt  \n",
            "  inflating: extracted_files/README.roboflow.txt  \n",
            "  inflating: extracted_files/data.yaml  \n",
            "   creating: extracted_files/test/\n",
            "   creating: extracted_files/test/images/\n",
            " extracting: extracted_files/test/images/IMG_1249_png.rf.0feeaffbc64952fb83262936d8e83e0f.jpg  \n",
            " extracting: extracted_files/test/images/IMG_1641_png.rf.7d84964400a02dba17a771a3ba75fa14.jpg  \n",
            " extracting: extracted_files/test/images/IMG_1723_png.rf.c1a3681496b31aa815159b169d129502.jpg  \n",
            " extracting: extracted_files/test/images/IMG_1927-1-_png.rf.239029b453b72dbf2a6df36574dec562.jpg  \n",
            " extracting: extracted_files/test/images/d66a6b545f0cea52b31d_jpg.rf.a3fa3ceb87adea7db1e4483fef2a039b.jpg  \n",
            " extracting: extracted_files/test/images/f137817d8c2b3975603a_jpg.rf.bd01e735728011893c75ab9934c4fe5b.jpg  \n",
            " extracting: extracted_files/test/images/feb2c137f56f4031197e_jpg.rf.96ac06f076d6ad5e65134222bb93a20d.jpg  \n",
            "   creating: extracted_files/test/labels/\n",
            "  inflating: extracted_files/test/labels/IMG_1249_png.rf.0feeaffbc64952fb83262936d8e83e0f.txt  \n",
            "  inflating: extracted_files/test/labels/IMG_1641_png.rf.7d84964400a02dba17a771a3ba75fa14.txt  \n",
            "  inflating: extracted_files/test/labels/IMG_1723_png.rf.c1a3681496b31aa815159b169d129502.txt  \n",
            "  inflating: extracted_files/test/labels/IMG_1927-1-_png.rf.239029b453b72dbf2a6df36574dec562.txt  \n",
            "  inflating: extracted_files/test/labels/d66a6b545f0cea52b31d_jpg.rf.a3fa3ceb87adea7db1e4483fef2a039b.txt  \n",
            "  inflating: extracted_files/test/labels/f137817d8c2b3975603a_jpg.rf.bd01e735728011893c75ab9934c4fe5b.txt  \n",
            "  inflating: extracted_files/test/labels/feb2c137f56f4031197e_jpg.rf.96ac06f076d6ad5e65134222bb93a20d.txt  \n",
            "   creating: extracted_files/train/\n",
            "   creating: extracted_files/train/images/\n",
            " extracting: extracted_files/train/images/071ae3a01efdaba3f2ec_jpg.rf.474e8ce2db01bd8e5e4e4a0851589502.jpg  \n",
            " extracting: extracted_files/train/images/24ed1fa812fea7a0feef_jpg.rf.a4b3c50f6ab588e20912efeb96ce2726.jpg  \n",
            " extracting: extracted_files/train/images/253b28022554900ac945_jpg.rf.a74d9ff36fc0311135f84ed3026bb18e.jpg  \n",
            " extracting: extracted_files/train/images/264d2d78202e9570cc3f_jpg.rf.0428cabf9f02fa531bab3dcfea708a9d.jpg  \n",
            " extracting: extracted_files/train/images/2e1deec1bc9709c95086_jpg.rf.4518ada124bb207bf6da2b317a6d9c6c.jpg  \n",
            " extracting: extracted_files/train/images/2e3b958268dfdd8184ce_jpg.rf.772340c59bcc8ae7637f9660332b3362.jpg  \n",
            " extracting: extracted_files/train/images/3ee3d97ded25587b0134_jpg.rf.63b9fde2b8697e1cef610f67495a6af9.jpg  \n",
            " extracting: extracted_files/train/images/3f5751edacb019ee40a1_jpg.rf.8dc36de036b46f23b7cbe03ae447ea4a.jpg  \n",
            " extracting: extracted_files/train/images/4b0e3f243272872cde63_jpg.rf.d127561a453a49bfeb4e2199b964678e.jpg  \n",
            " extracting: extracted_files/train/images/5ae56cef61b9d4e78da8_jpg.rf.be420a7151f06098b4086d4ec18e13b5.jpg  \n",
            " extracting: extracted_files/train/images/64ca20267270c72e9e61_jpg.rf.31eab4e0a21eeddc7056886418cb685c.jpg  \n",
            " extracting: extracted_files/train/images/736052ca6692d3cc8a83_jpg.rf.7855426c180da17b1eb532faa696e430.jpg  \n",
            " extracting: extracted_files/train/images/7cb9b176cfe17dbf24f0_jpg.rf.b38d85874b747e7ece7fc82b5fe90f73.jpg  \n",
            " extracting: extracted_files/train/images/8d465a09575fe201bb4e_jpg.rf.e33e65cbfa32f6a7029352d2d10a5a10.jpg  \n",
            " extracting: extracted_files/train/images/9f0b7ab187ec32b26bfd_jpg.rf.d29858442e3952a40852465ac2f3e9e0.jpg  \n",
            " extracting: extracted_files/train/images/9fa4a1fc95a420fa79b5_jpg.rf.ca9a07e2bb95150b81c48e71c4954dbc.jpg  \n",
            " extracting: extracted_files/train/images/IMG_0801_png.rf.a081629aaa8eb53cc2ce148b265a0355.jpg  \n",
            " extracting: extracted_files/train/images/IMG_1245_png.rf.0544789525f48801305623f6c82e8006.jpg  \n",
            " extracting: extracted_files/train/images/IMG_1250_png.rf.204fe4ec9072c3a11064b840757503b1.jpg  \n",
            " extracting: extracted_files/train/images/IMG_1478_png.rf.c9185662b7af0af4a570961197b4d00f.jpg  \n",
            " extracting: extracted_files/train/images/IMG_1493-2-_png.rf.29772bea4011067c588489f0c67a445a.jpg  \n",
            " extracting: extracted_files/train/images/IMG_1519_png.rf.60c57a95000d8565c0361c3c50d43a99.jpg  \n",
            " extracting: extracted_files/train/images/IMG_1613_png.rf.f602edcdeb86d73677d0e9bf099b4ea6.jpg  \n",
            " extracting: extracted_files/train/images/IMG_1629_png.rf.40243ed6e64486370eacffbeecdad534.jpg  \n",
            " extracting: extracted_files/train/images/IMG_1632_png.rf.c58ab4d03a7534e13146e5df39816cf9.jpg  \n",
            " extracting: extracted_files/train/images/IMG_1642_png.rf.d0240184c78c7c601eddbf56e858a32a.jpg  \n",
            " extracting: extracted_files/train/images/IMG_1693_png.rf.c50d222ff3971fb9d98f06db8eff4409.jpg  \n",
            " extracting: extracted_files/train/images/IMG_1725_png.rf.69bff7471e0eb219f80c2e1fa4bc647b.jpg  \n",
            " extracting: extracted_files/train/images/IMG_1726_png.rf.4e7a8153803ad94632ac633369a2eae8.jpg  \n",
            " extracting: extracted_files/train/images/IMG_1734_png.rf.a640d39e994e70307c23261e0961401d.jpg  \n",
            " extracting: extracted_files/train/images/IMG_1742_png.rf.1df32e8940892bb34c0b71e71d7acf6e.jpg  \n",
            " extracting: extracted_files/train/images/IMG_1746_png.rf.ce2323988236b6215d1b8ff146d32d13.jpg  \n",
            " extracting: extracted_files/train/images/IMG_1767_png.rf.931bb90dc93b7977e31b5f0c6f865930.jpg  \n",
            " extracting: extracted_files/train/images/IMG_1832_png.rf.f72b7c1efd385056ab00be1e7c90fc5f.jpg  \n",
            " extracting: extracted_files/train/images/IMG_1840_png.rf.8d813f06b34ddd33ec56bcf89e546480.jpg  \n",
            " extracting: extracted_files/train/images/IMG_1922_png.rf.09d55a0659681fc4adcc7e96155b9d9b.jpg  \n",
            " extracting: extracted_files/train/images/IMG_1951_png.rf.b752fb746b2afcbf0d1b1e7f8fb35595.jpg  \n",
            " extracting: extracted_files/train/images/IMG_2087_png.rf.b5861c8c3a4a71290cdb7dbec2962869.jpg  \n",
            " extracting: extracted_files/train/images/IMG_2103_png.rf.1e0e299549d744808a9a5ac47c2c1df7.jpg  \n",
            " extracting: extracted_files/train/images/IMG_2109_png.rf.8394536666aea48eda51c920116b2a45.jpg  \n",
            " extracting: extracted_files/train/images/IMG_2147_png.rf.0a64ca735a0c40c80e615ee5fa6efb7e.jpg  \n",
            " extracting: extracted_files/train/images/IMG_2166_png.rf.13a0905e513b076feb39820a1239e64b.jpg  \n",
            " extracting: extracted_files/train/images/a305793d746bc135987a_jpg.rf.d456ea23900705d43d2c7feba61fbd6d.jpg  \n",
            " extracting: extracted_files/train/images/bb48b31ebe480b165259_jpg.rf.3dfc46047cbbc618d2778ad90e7edf0d.jpg  \n",
            " extracting: extracted_files/train/images/c324fb15f643431d1a52_jpg.rf.75677a4c0c1070298144e71ead27560e.jpg  \n",
            " extracting: extracted_files/train/images/c63cd104dc52690c3043_jpg.rf.806a4fc9d2d15046c37138ce27008eaa.jpg  \n",
            " extracting: extracted_files/train/images/d45954fe60a6d5f88cb7_jpg.rf.994844260bef2d36a7fb7ad4fec4f98e.jpg  \n",
            " extracting: extracted_files/train/images/df2b3f1d324b8715de5a_jpg.rf.757842aec1cbabf6c80dd908b240a3c7.jpg  \n",
            " extracting: extracted_files/train/images/download_jpg.rf.0048be3d0f4cb80fc13ce24f0b9dc80b.jpg  \n",
            " extracting: extracted_files/train/images/download_jpg.rf.059822dc84150eea4ba1a3245504ca5d.jpg  \n",
            " extracting: extracted_files/train/images/download_jpg.rf.08f346511fb847aac9f9ffd5912aacba.jpg  \n",
            " extracting: extracted_files/train/images/download_jpg.rf.0990db5a9fe3025179fd874e9924ff92.jpg  \n",
            " extracting: extracted_files/train/images/download_jpg.rf.0b988d92ac2e67f050dd6b9814495749.jpg  \n",
            " extracting: extracted_files/train/images/download_jpg.rf.0cb066bd2261fb3c23e23443b0f8f2cc.jpg  \n",
            " extracting: extracted_files/train/images/download_jpg.rf.0dbd042472c6bd2cc378ac4c978cc466.jpg  \n",
            " extracting: extracted_files/train/images/download_jpg.rf.1166b535c02d75f14c1204c3746f263b.jpg  \n",
            " extracting: extracted_files/train/images/download_jpg.rf.142cbb3ea9453d28bdf41d9ce96bac39.jpg  \n",
            " extracting: extracted_files/train/images/download_jpg.rf.1bf30e428fa5117bbb24d19b6bde8a78.jpg  \n",
            " extracting: extracted_files/train/images/download_jpg.rf.1d33381c2b037f7217269342cd1a16b2.jpg  \n",
            " extracting: extracted_files/train/images/download_jpg.rf.2437a95571f5192613d32ff8ec6175a8.jpg  \n",
            " extracting: extracted_files/train/images/download_jpg.rf.266cc028ca4583cd080326b45a5a5646.jpg  \n",
            " extracting: extracted_files/train/images/download_jpg.rf.288182e7aa9aed7b68c546c5f7b9682f.jpg  \n",
            " extracting: extracted_files/train/images/download_jpg.rf.28ad181cdd6d07ec126e3d88eaa385ea.jpg  \n",
            " extracting: extracted_files/train/images/download_jpg.rf.365a2a5298abb2efb729769a33ccf38d.jpg  \n",
            " extracting: extracted_files/train/images/download_jpg.rf.369187f17067019d60de3b342d1a4556.jpg  \n",
            " extracting: extracted_files/train/images/download_jpg.rf.3e7203bb11c7f7f12c8b99d905dfd821.jpg  \n",
            " extracting: extracted_files/train/images/download_jpg.rf.3f4f81b685a2fa1f47dd0091ba5f18c5.jpg  \n",
            " extracting: extracted_files/train/images/download_jpg.rf.42488b025c151e267259dd056d5c285a.jpg  \n",
            " extracting: extracted_files/train/images/download_jpg.rf.44b09116c38a735fba0185d9134432a4.jpg  \n",
            " extracting: extracted_files/train/images/download_jpg.rf.47faafea1b2769b71c47d6f058e65e97.jpg  \n",
            " extracting: extracted_files/train/images/download_jpg.rf.48011e5ffe706f72ea05eee0f1f4027e.jpg  \n",
            " extracting: extracted_files/train/images/download_jpg.rf.49bbec60c0cac370cbab3d23d10a8a98.jpg  \n",
            " extracting: extracted_files/train/images/download_jpg.rf.4abdb3a9362117b2b97d9bdd4920233f.jpg  \n",
            " extracting: extracted_files/train/images/download_jpg.rf.544a8aac40a17479c7cdd78a0bfd45b3.jpg  \n",
            " extracting: extracted_files/train/images/download_jpg.rf.5647517e0eb0bd3c1126e8e1b1d52e39.jpg  \n",
            " extracting: extracted_files/train/images/download_jpg.rf.5b08fafd2f51ca572daf532796808c64.jpg  \n",
            " extracting: extracted_files/train/images/download_jpg.rf.5baf7d361486fc8f72881d49f303d158.jpg  \n",
            " extracting: extracted_files/train/images/download_jpg.rf.5c583dcf11d81d03eeeb9854619bfa33.jpg  \n",
            " extracting: extracted_files/train/images/download_jpg.rf.5f0742eabd8e02b772ebdcaa570b4014.jpg  \n",
            " extracting: extracted_files/train/images/download_jpg.rf.5f37bd83d0405c1ad3817ac706e2b9a2.jpg  \n",
            " extracting: extracted_files/train/images/download_jpg.rf.5fd229e9ad70f53b27a7f3f15b937f21.jpg  \n",
            " extracting: extracted_files/train/images/download_jpg.rf.6c866990464fb578232ab1838880d81b.jpg  \n",
            " extracting: extracted_files/train/images/download_jpg.rf.6eb28f1d19a0fad74123174d7ba43e31.jpg  \n",
            " extracting: extracted_files/train/images/download_jpg.rf.70c9d3c435c037657afbe5cce7b91863.jpg  \n",
            " extracting: extracted_files/train/images/download_jpg.rf.7183918eb39a1ed0520531bf55db9782.jpg  \n",
            " extracting: extracted_files/train/images/download_jpg.rf.76602c049698f0077138f8e095fd4923.jpg  \n",
            " extracting: extracted_files/train/images/download_jpg.rf.76739dd0b65dd16a43d287da91afaab3.jpg  \n",
            " extracting: extracted_files/train/images/download_jpg.rf.78b36a9b527197100bf8053ea08c6f95.jpg  \n",
            " extracting: extracted_files/train/images/download_jpg.rf.78e01aeb16edb13a3c371065f28bfdb2.jpg  \n",
            " extracting: extracted_files/train/images/download_jpg.rf.7eb8481c3a1f8b22980a6d1b5001b932.jpg  \n",
            " extracting: extracted_files/train/images/download_jpg.rf.7f4ed897d6bc2dc105a09ee7a4e697b2.jpg  \n",
            " extracting: extracted_files/train/images/download_jpg.rf.80595b101a822db4ed2dc08e1f7182d5.jpg  \n",
            " extracting: extracted_files/train/images/download_jpg.rf.811b00fc6e42953b4f0312548084ae4e.jpg  \n",
            " extracting: extracted_files/train/images/download_jpg.rf.834c1b71536b8e4d6d047fff228192d8.jpg  \n",
            " extracting: extracted_files/train/images/download_jpg.rf.8390639fb50dc97e6788af13a4cbba83.jpg  \n",
            " extracting: extracted_files/train/images/download_jpg.rf.8752dd223cc438ad4ded00e18b647a1c.jpg  \n",
            " extracting: extracted_files/train/images/download_jpg.rf.8b20875b5bddaa536f4df85c7deaa1a8.jpg  \n",
            " extracting: extracted_files/train/images/download_jpg.rf.8c5c01a2f61cca3212176f9c43af2ad2.jpg  \n",
            " extracting: extracted_files/train/images/download_jpg.rf.8da5784016fe86ab2f81cc484d1be53b.jpg  \n",
            " extracting: extracted_files/train/images/download_jpg.rf.918d782e531c3baa40b8fee3a0b21f51.jpg  \n",
            " extracting: extracted_files/train/images/download_jpg.rf.a464ded99a584e9ba82a4e0bbc945584.jpg  \n",
            " extracting: extracted_files/train/images/download_jpg.rf.aae1404c40fd9d9a16684d4b6d2f9f45.jpg  \n",
            " extracting: extracted_files/train/images/download_jpg.rf.ab1f7717188cdcb1230235fdb10a3f95.jpg  \n",
            " extracting: extracted_files/train/images/download_jpg.rf.abba422862e2af61453b60b366d7178a.jpg  \n",
            " extracting: extracted_files/train/images/download_jpg.rf.abf508419ab1e180c5a42313ff96f133.jpg  \n",
            " extracting: extracted_files/train/images/download_jpg.rf.ac418d837f8964cc84e487779fb961b8.jpg  \n",
            " extracting: extracted_files/train/images/download_jpg.rf.af0c7b5260c250360eb5afc313a0bbb1.jpg  \n",
            " extracting: extracted_files/train/images/download_jpg.rf.b158b232b017df1107f8c48ecd061d15.jpg  \n",
            " extracting: extracted_files/train/images/download_jpg.rf.b90f5c187a833043cc53683b8276e89d.jpg  \n",
            " extracting: extracted_files/train/images/download_jpg.rf.bad7a058802ed84a8735558e6f2133bc.jpg  \n",
            " extracting: extracted_files/train/images/download_jpg.rf.bce3545b4a51c34f2c770a456e20960b.jpg  \n",
            " extracting: extracted_files/train/images/download_jpg.rf.cde925a90509781b1b7a1cb34aad5b78.jpg  \n",
            " extracting: extracted_files/train/images/download_jpg.rf.d1ecfc4d1c2f718f888d528db6b37705.jpg  \n",
            " extracting: extracted_files/train/images/download_jpg.rf.d585c2f68d64ca8a31c940a14157e974.jpg  \n",
            " extracting: extracted_files/train/images/download_jpg.rf.d86d9e930119908019d1fca466fa1c0a.jpg  \n",
            " extracting: extracted_files/train/images/download_jpg.rf.da535920d3d79148a8704246fc551388.jpg  \n",
            " extracting: extracted_files/train/images/download_jpg.rf.de6ee9493564f7261e5e0afbb74cce88.jpg  \n",
            " extracting: extracted_files/train/images/download_jpg.rf.deb43402a6feacf512f0b74f487ffa57.jpg  \n",
            " extracting: extracted_files/train/images/download_jpg.rf.e3cd87c9e0d0669481158af89071c3e2.jpg  \n",
            " extracting: extracted_files/train/images/download_jpg.rf.e3fce82cdb41cf867421ac42734946a1.jpg  \n",
            " extracting: extracted_files/train/images/download_jpg.rf.ec5ce945ae8a21e4d5bce77093140541.jpg  \n",
            " extracting: extracted_files/train/images/download_jpg.rf.f43adb3220bf05c47d3edcecdebf8758.jpg  \n",
            " extracting: extracted_files/train/images/download_jpg.rf.f7f01f9bd0ca4fdf46db9d1d5045776c.jpg  \n",
            " extracting: extracted_files/train/images/download_jpg.rf.ff0e03de6b2d6531b6443f7708a00f0d.jpg  \n",
            " extracting: extracted_files/train/images/e385adaea0f815a64ce9_jpg.rf.52744b2e34760baa4ac57a3f0f4ff6cc.jpg  \n",
            " extracting: extracted_files/train/images/e73310061d50a80ef141_jpg.rf.d06f92dbb124b124461b163a0dd2e143.jpg  \n",
            " extracting: extracted_files/train/images/e75244b416e2a3bcfaf3_jpg.rf.154b6b38b4f27b122ffa6db9672292a5.jpg  \n",
            " extracting: extracted_files/train/images/e8973e7b6c2dd973803c_jpg.rf.77ffb74e23b8e3ccdc462a1b9bea95cc.jpg  \n",
            " extracting: extracted_files/train/images/images_jpg.rf.00469b6d0967fd0ac4dc88e97eeadaeb.jpg  \n",
            " extracting: extracted_files/train/images/images_jpg.rf.0176ff4213d2d6356f45e0fe2395cce4.jpg  \n",
            " extracting: extracted_files/train/images/images_jpg.rf.03d3dd5a22169ef90ebec1ce33511fc9.jpg  \n",
            " extracting: extracted_files/train/images/images_jpg.rf.0652f2627344bcd901fea9b1c95b05cd.jpg  \n",
            " extracting: extracted_files/train/images/images_jpg.rf.06a5c005c1be21c90ceaf0a7c1838b1b.jpg  \n",
            " extracting: extracted_files/train/images/images_jpg.rf.07a4fd933ccc211e48ac508c8d3c6e9f.jpg  \n",
            " extracting: extracted_files/train/images/images_jpg.rf.099a63a84ae12a94030b778abdf24fe5.jpg  \n",
            " extracting: extracted_files/train/images/images_jpg.rf.099e5ea1d6c47435ae8034bda81372d1.jpg  \n",
            " extracting: extracted_files/train/images/images_jpg.rf.0b0aa43116c6d5a44b9785bc6ed27619.jpg  \n",
            " extracting: extracted_files/train/images/images_jpg.rf.0b679d0ff8b597d89660238910870df1.jpg  \n",
            " extracting: extracted_files/train/images/images_jpg.rf.0b7ac755ac1090db6692547e7735cae1.jpg  \n",
            " extracting: extracted_files/train/images/images_jpg.rf.0da6ff02836c50ae80c8702ec9009863.jpg  \n",
            " extracting: extracted_files/train/images/images_jpg.rf.0dd312e61a2d0dc7e9acf10fe175d328.jpg  \n",
            " extracting: extracted_files/train/images/images_jpg.rf.0e4723e2df04ed55b03ba9bbf3846480.jpg  \n",
            " extracting: extracted_files/train/images/images_jpg.rf.0eaa5d88aa277cad41f59d54ba46d02a.jpg  \n",
            " extracting: extracted_files/train/images/images_jpg.rf.0fb63af7f91254987f48e5a9612db881.jpg  \n",
            " extracting: extracted_files/train/images/images_jpg.rf.0fb8006b9435de647dd41bbd7c224cfb.jpg  \n",
            " extracting: extracted_files/train/images/images_jpg.rf.10f49fd434d1e8b57369c2057024bebc.jpg  \n",
            " extracting: extracted_files/train/images/images_jpg.rf.11e734e86d0624cf54fbb662d41882e5.jpg  \n",
            " extracting: extracted_files/train/images/images_jpg.rf.120a1549618de05e91201a631a58ccbe.jpg  \n",
            " extracting: extracted_files/train/images/images_jpg.rf.1384e25abf0de6147f3130c3622135d7.jpg  \n",
            " extracting: extracted_files/train/images/images_jpg.rf.14f138455eb823198f0e96b69002b89a.jpg  \n",
            " extracting: extracted_files/train/images/images_jpg.rf.15d7d2e0be5725aa75bcd63a1ac3d33a.jpg  \n",
            " extracting: extracted_files/train/images/images_jpg.rf.16371e7fbb513c4ae26cceee329b2922.jpg  \n",
            " extracting: extracted_files/train/images/images_jpg.rf.169e2a9a67ef920e1c9a90d50bcc101e.jpg  \n",
            " extracting: extracted_files/train/images/images_jpg.rf.169e6ca3c37901d7ff99a5b46d1b8ef8.jpg  \n",
            " extracting: extracted_files/train/images/images_jpg.rf.17944e70bafb2480181c6d96e0c12c4e.jpg  \n",
            " extracting: extracted_files/train/images/images_jpg.rf.189c8d0f4795a6993c98e94cd3705284.jpg  \n",
            " extracting: extracted_files/train/images/images_jpg.rf.18a149c704e441b9bcbbd9c37e7a5e57.jpg  \n",
            " extracting: extracted_files/train/images/images_jpg.rf.1a183cda5255ce179204b410ed3b597c.jpg  \n",
            " extracting: extracted_files/train/images/images_jpg.rf.1ad4b6eb7f962b67a0148116ddd2d6b7.jpg  \n",
            " extracting: extracted_files/train/images/images_jpg.rf.1ae40e1fd228aa193d306f3baf7e6ec9.jpg  \n",
            " extracting: extracted_files/train/images/images_jpg.rf.1b015d3d96136e0e9dad91b36dbe39e0.jpg  \n",
            " extracting: extracted_files/train/images/images_jpg.rf.1b50d6fe80aaaec44d3ee085e9bc43d0.jpg  \n",
            " extracting: extracted_files/train/images/images_jpg.rf.1c712872db210b86f74ca5697a983d4f.jpg  \n",
            " extracting: extracted_files/train/images/images_jpg.rf.1ea1eacd50ef32306ba3b3d94ed58e3f.jpg  \n",
            " extracting: extracted_files/train/images/images_jpg.rf.1f3e0d845cfbba08685afebc1475aaa1.jpg  \n",
            " extracting: extracted_files/train/images/images_jpg.rf.2060d18109dff937305df72092f08475.jpg  \n",
            " extracting: extracted_files/train/images/images_jpg.rf.24fba2c70d664e8f220633f8decce927.jpg  \n",
            " extracting: extracted_files/train/images/images_jpg.rf.259977261749591d3db33aa6b394763b.jpg  \n",
            " extracting: extracted_files/train/images/images_jpg.rf.26363ed2d105e691c8f4664aedaa65b7.jpg  \n",
            " extracting: extracted_files/train/images/images_jpg.rf.263c17f85f6e0aae066b641351d24631.jpg  \n",
            " extracting: extracted_files/train/images/images_jpg.rf.26bc02a2090575b10483b6f42109ff60.jpg  \n",
            " extracting: extracted_files/train/images/images_jpg.rf.28d00864457c940de362b3460af154a4.jpg  \n",
            " extracting: extracted_files/train/images/images_jpg.rf.2a8867ca2d0837780e14724518ff97b9.jpg  \n",
            " extracting: extracted_files/train/images/images_jpg.rf.2c6ece2da061f5563170eb5f66740190.jpg  \n",
            " extracting: extracted_files/train/images/images_jpg.rf.2ce3931e0ed4e3f9af2e662a608851ff.jpg  \n",
            " extracting: extracted_files/train/images/images_jpg.rf.2f5bb00ba803b83d455563a5131ab9b2.jpg  \n",
            " extracting: extracted_files/train/images/images_jpg.rf.2fd079200d72e50fa4bdfe805db155dd.jpg  \n",
            " extracting: extracted_files/train/images/images_jpg.rf.3013474fc1bedf1f59dfa6295cc537ba.jpg  \n",
            " extracting: extracted_files/train/images/images_jpg.rf.30a6995905eb6500a88581d3dd1b1bac.jpg  \n",
            " extracting: extracted_files/train/images/images_jpg.rf.30dbc049b4ef2b1ea7cb3104806fd996.jpg  \n",
            " extracting: extracted_files/train/images/images_jpg.rf.31a30dd4ce64fd7b6c1fff7784301211.jpg  \n",
            " extracting: extracted_files/train/images/images_jpg.rf.31eee0302fb9f0b70d467c1e8abac112.jpg  \n",
            " extracting: extracted_files/train/images/images_jpg.rf.32064a13567e144aae484539267ce7f3.jpg  \n",
            " extracting: extracted_files/train/images/images_jpg.rf.33087d02de20eadda97e83a9bcc27f5e.jpg  \n",
            " extracting: extracted_files/train/images/images_jpg.rf.33d99d58b381a1046069a2db2a2255aa.jpg  \n",
            " extracting: extracted_files/train/images/images_jpg.rf.33e12e60785e687a687ce46145b646cb.jpg  \n",
            " extracting: extracted_files/train/images/images_jpg.rf.3502a781b7ec414fb751f2c372b09763.jpg  \n",
            " extracting: extracted_files/train/images/images_jpg.rf.37d8ba374bf90edfdf69f98a0237b973.jpg  \n",
            " extracting: extracted_files/train/images/images_jpg.rf.38200bd4c3af30f15e721ba75a9b8bb7.jpg  \n",
            " extracting: extracted_files/train/images/images_jpg.rf.38d88973a8c2261c8397d3d61385bc9b.jpg  \n",
            " extracting: extracted_files/train/images/images_jpg.rf.395535b3edccb2a3968bd576e3df6904.jpg  \n",
            " extracting: extracted_files/train/images/images_jpg.rf.3b6bda328c106b5bf832d52e0859d8b0.jpg  \n",
            " extracting: extracted_files/train/images/images_jpg.rf.3e240cfce5c307f46e73f1ad8e2ef9cc.jpg  \n",
            " extracting: extracted_files/train/images/images_jpg.rf.3e524540568ec2eaea13da493f80a761.jpg  \n",
            " extracting: extracted_files/train/images/images_jpg.rf.3fc9e5628f78bf4ecdf507fcc232f841.jpg  \n",
            " extracting: extracted_files/train/images/images_jpg.rf.3fdb748be49105c6e0a9abcf31e4f76d.jpg  \n",
            " extracting: extracted_files/train/images/images_jpg.rf.402e067dc7ba3ee17a3f84e107ca9def.jpg  \n",
            " extracting: extracted_files/train/images/images_jpg.rf.40461afbe0f51f2d54f6a14f98e4fccb.jpg  \n",
            " extracting: extracted_files/train/images/images_jpg.rf.4090a4bab7b3d542b4af9aa177176773.jpg  \n",
            " extracting: extracted_files/train/images/images_jpg.rf.42c874e6a31da89444e25c960a2865a8.jpg  \n",
            " extracting: extracted_files/train/images/images_jpg.rf.443ec8579a50214b6d4e756b72a716e0.jpg  \n",
            " extracting: extracted_files/train/images/images_jpg.rf.478f695e5b5e051f39a1f9b4406a73fb.jpg  \n",
            " extracting: extracted_files/train/images/images_jpg.rf.47ce819ceb09afb0755d4b9876c44cef.jpg  \n",
            " extracting: extracted_files/train/images/images_jpg.rf.494c2d30b105758b6c851cb2f97b3cdd.jpg  \n",
            " extracting: extracted_files/train/images/images_jpg.rf.49611adf159b9635a09e380ffd36549d.jpg  \n",
            " extracting: extracted_files/train/images/images_jpg.rf.4a71e6c7359febbf2f4547e8f0e60629.jpg  \n",
            " extracting: extracted_files/train/images/images_jpg.rf.4ad725f6ebc0f1cae93382be2a849ac6.jpg  \n",
            " extracting: extracted_files/train/images/images_jpg.rf.4c031b1412cd42278117a99e47ca2a56.jpg  \n",
            " extracting: extracted_files/train/images/images_jpg.rf.4c359f69b4f780300ea42106436fc437.jpg  \n",
            " extracting: extracted_files/train/images/images_jpg.rf.4c3e5c50720ebdf5c599f0eae5c48083.jpg  \n",
            " extracting: extracted_files/train/images/images_jpg.rf.4e8ae7fb0756b57425f330fa8a068fd8.jpg  \n",
            " extracting: extracted_files/train/images/images_jpg.rf.4f07b069d60d45c1f2e4debcbb72f8b0.jpg  \n",
            " extracting: extracted_files/train/images/images_jpg.rf.4f8fa5301e271209ac91abc70c4b0b89.jpg  \n",
            " extracting: extracted_files/train/images/images_jpg.rf.4fbd6bdb6876014ef40de9d98f57f202.jpg  \n",
            " extracting: extracted_files/train/images/images_jpg.rf.50eaa75932452c0aefe1468dcc9079e8.jpg  \n",
            " extracting: extracted_files/train/images/images_jpg.rf.522338f8976ee6c15d9a755740228860.jpg  \n",
            " extracting: extracted_files/train/images/images_jpg.rf.55268bf33da880f8ffd8157d04171829.jpg  \n",
            " extracting: extracted_files/train/images/images_jpg.rf.55c6977e118742a07ee30d1b34572cdd.jpg  \n",
            " extracting: extracted_files/train/images/images_jpg.rf.5844f7ebc5ad2b574183116df13d5348.jpg  \n",
            " extracting: extracted_files/train/images/images_jpg.rf.5845e7856367b676697a3ae2c90d110e.jpg  \n",
            " extracting: extracted_files/train/images/images_jpg.rf.58e09dfd66ed161ada62a33e2ac10cd1.jpg  \n",
            " extracting: extracted_files/train/images/images_jpg.rf.59f9daced981b425002056beefde9cab.jpg  \n",
            " extracting: extracted_files/train/images/images_jpg.rf.5aaa141d66c72ee7df7f1b459f80a311.jpg  \n",
            " extracting: extracted_files/train/images/images_jpg.rf.5b2edcec90b0b4f802309e6213158580.jpg  \n",
            " extracting: extracted_files/train/images/images_jpg.rf.5d8594231dbe67ac2778fcd42ff91f0a.jpg  \n",
            " extracting: extracted_files/train/images/images_jpg.rf.5e828c0e10c0a6404d7a391b0b3cdd22.jpg  \n",
            " extracting: extracted_files/train/images/images_jpg.rf.5fc94df6ba9a1f8faff3cf1022ec40ae.jpg  \n",
            " extracting: extracted_files/train/images/images_jpg.rf.60e0b06d6a455a52432daa754e30258b.jpg  \n",
            " extracting: extracted_files/train/images/images_jpg.rf.62bdac24981f077a21a1c77bfb7d9a62.jpg  \n",
            " extracting: extracted_files/train/images/images_jpg.rf.63df69e5b63fd39947bbc16cef1261fc.jpg  \n",
            " extracting: extracted_files/train/images/images_jpg.rf.64f6c14fcc14f1f62a8f63cb5dcf6510.jpg  \n",
            " extracting: extracted_files/train/images/images_jpg.rf.64fa198eec6be194ee9bff4f89dd3924.jpg  \n",
            " extracting: extracted_files/train/images/images_jpg.rf.671d8965a344b3e6c110df602199b421.jpg  \n",
            " extracting: extracted_files/train/images/images_jpg.rf.67616c7ea3ac6b3dd1ced23f82183bf3.jpg  \n",
            " extracting: extracted_files/train/images/images_jpg.rf.689318f345da32d10f4b68bbb52e5ee8.jpg  \n",
            " extracting: extracted_files/train/images/images_jpg.rf.68bbf1cf1304a15eeef62b421f643425.jpg  \n",
            " extracting: extracted_files/train/images/images_jpg.rf.697930985530361d83fc88f9773bae87.jpg  \n",
            " extracting: extracted_files/train/images/images_jpg.rf.6993526dcd2f625b87f030ddcad4ee03.jpg  \n",
            " extracting: extracted_files/train/images/images_jpg.rf.6b40e9095b4f069c1458c585f7be9f34.jpg  \n",
            " extracting: extracted_files/train/images/images_jpg.rf.6bd7b39ad7d2e3b40898a804d0d1e128.jpg  \n",
            " extracting: extracted_files/train/images/images_jpg.rf.6c0a60f508c9a3b217399fa0e4eb0f7e.jpg  \n",
            " extracting: extracted_files/train/images/images_jpg.rf.6c93a0de9ec372a70e2dbafb47c8324f.jpg  \n",
            " extracting: extracted_files/train/images/images_jpg.rf.6cf371a9e2cc157ac03921f7ae3c1caf.jpg  \n",
            " extracting: extracted_files/train/images/images_jpg.rf.6e3674b5993da7141df796fbdf012f6c.jpg  \n",
            " extracting: extracted_files/train/images/images_jpg.rf.6ef37410b1cc773a9bba8d08687e7b96.jpg  \n",
            " extracting: extracted_files/train/images/images_jpg.rf.6f75c74378d0a8500653ae667d3884d0.jpg  \n",
            " extracting: extracted_files/train/images/images_jpg.rf.6fadd04c2ba20fcb98c25114ecc8465a.jpg  \n",
            " extracting: extracted_files/train/images/images_jpg.rf.712e0ab8191d2257f4c1d189b2a67c17.jpg  \n",
            " extracting: extracted_files/train/images/images_jpg.rf.7173fd68d8cea2212984602342b7134f.jpg  \n",
            " extracting: extracted_files/train/images/images_jpg.rf.717ae731658fbe8ce17ee7fd69d2559c.jpg  \n",
            " extracting: extracted_files/train/images/images_jpg.rf.719ab5fd18f65fbec19e1868259ef9ff.jpg  \n",
            " extracting: extracted_files/train/images/images_jpg.rf.71ddbc378c79ee147df72516e69c561c.jpg  \n",
            " extracting: extracted_files/train/images/images_jpg.rf.7274ed3aaf71ddf54eaa69386dd44023.jpg  \n",
            " extracting: extracted_files/train/images/images_jpg.rf.7301e2dc5003ed621ac775e52e924526.jpg  \n",
            " extracting: extracted_files/train/images/images_jpg.rf.733f35663459552d066dc7b147485e2a.jpg  \n",
            " extracting: extracted_files/train/images/images_jpg.rf.73af807df54425141e407031604a0dd7.jpg  \n",
            " extracting: extracted_files/train/images/images_jpg.rf.73eab2731076d045f8c2c185f20bf2c7.jpg  \n",
            " extracting: extracted_files/train/images/images_jpg.rf.7488dab3a8f3f465f56c4edc48dcdca2.jpg  \n",
            " extracting: extracted_files/train/images/images_jpg.rf.7653dfd16ebfd577c386af3648eb6503.jpg  \n",
            " extracting: extracted_files/train/images/images_jpg.rf.780a71bfc2a5a7470cc7077dca3f3478.jpg  \n",
            " extracting: extracted_files/train/images/images_jpg.rf.7847abb740270eb657fe290198a2b4f3.jpg  \n",
            " extracting: extracted_files/train/images/images_jpg.rf.79bc20e2d27aa5d4e765fb2daece7593.jpg  \n",
            " extracting: extracted_files/train/images/images_jpg.rf.7aa0430dff7262a40826ecf4ac2dcd2d.jpg  \n",
            " extracting: extracted_files/train/images/images_jpg.rf.7d34fc60f9aab382ec16cecadcd60e06.jpg  \n",
            " extracting: extracted_files/train/images/images_jpg.rf.7e8959f357cb9e2555f73af3dfa12f7b.jpg  \n",
            " extracting: extracted_files/train/images/images_jpg.rf.7f2130e13a8c2fa3d1e521d1d4d04493.jpg  \n",
            " extracting: extracted_files/train/images/images_jpg.rf.7f49b25c703011ad249866a7e7926985.jpg  \n",
            " extracting: extracted_files/train/images/images_jpg.rf.801f41915f3fdb047f55b7d24c5809ee.jpg  \n",
            " extracting: extracted_files/train/images/images_jpg.rf.835f369c66914c7846b866df8ba873a8.jpg  \n",
            " extracting: extracted_files/train/images/images_jpg.rf.83fd522be6db2433aa9974b0b32e9232.jpg  \n",
            " extracting: extracted_files/train/images/images_jpg.rf.84c7568de14a215a24a4de25015a009b.jpg  \n",
            " extracting: extracted_files/train/images/images_jpg.rf.850d94a6f59fe50bb6168756c6274301.jpg  \n",
            " extracting: extracted_files/train/images/images_jpg.rf.857d4175c185d938b07a95513e3e2acc.jpg  \n",
            " extracting: extracted_files/train/images/images_jpg.rf.86141b32a809f5ea1d5e42773b81a576.jpg  \n",
            " extracting: extracted_files/train/images/images_jpg.rf.87127bf8443040e3743935819069cf03.jpg  \n",
            " extracting: extracted_files/train/images/images_jpg.rf.880a90f6ed10e8a81cadb0e2c08125f1.jpg  \n",
            " extracting: extracted_files/train/images/images_jpg.rf.8996e9bf912a8403a24d3ee86f86b480.jpg  \n",
            " extracting: extracted_files/train/images/images_jpg.rf.8ae8179a2e725e878f486a327404d540.jpg  \n",
            " extracting: extracted_files/train/images/images_jpg.rf.8b4e68e567a30143d775dc209b057c59.jpg  \n",
            " extracting: extracted_files/train/images/images_jpg.rf.8be1fd71460a675388b17d7345ef75ef.jpg  \n",
            " extracting: extracted_files/train/images/images_jpg.rf.8d8624234fab80314bd878ab0d7084d9.jpg  \n",
            " extracting: extracted_files/train/images/images_jpg.rf.8f51c20a5aa986bea01fcce69596954a.jpg  \n",
            " extracting: extracted_files/train/images/images_jpg.rf.8f5db8d7d247ac431d2d4a5a09ea1c1d.jpg  \n",
            " extracting: extracted_files/train/images/images_jpg.rf.8f6a5eb68a13427ac51cd4d21842f0e6.jpg  \n",
            " extracting: extracted_files/train/images/images_jpg.rf.901215bb223b32822907ddd639dce42e.jpg  \n",
            " extracting: extracted_files/train/images/images_jpg.rf.907232553d103042ed3b23cd80b44cb8.jpg  \n",
            " extracting: extracted_files/train/images/images_jpg.rf.90827ab37a460af7fc7c5c23e0e96b0b.jpg  \n",
            " extracting: extracted_files/train/images/images_jpg.rf.916b3733d8870d5470ffb735cbe89af8.jpg  \n",
            " extracting: extracted_files/train/images/images_jpg.rf.93000f9f622d80ccbf9327d4475292df.jpg  \n",
            " extracting: extracted_files/train/images/images_jpg.rf.930ad2ddbaa7b00567b0c72f3a46c946.jpg  \n",
            " extracting: extracted_files/train/images/images_jpg.rf.95fa96aa4539e6697794d97d0e87a512.jpg  \n",
            " extracting: extracted_files/train/images/images_jpg.rf.967ca4033ee4c6c08c60e2662edf7c3d.jpg  \n",
            " extracting: extracted_files/train/images/images_jpg.rf.967f9ce389558cd58a6253d70594dee0.jpg  \n",
            " extracting: extracted_files/train/images/images_jpg.rf.987b55f4803f552917a48e6f0c385af5.jpg  \n",
            " extracting: extracted_files/train/images/images_jpg.rf.99be55b5da34550663b42132a1a745f2.jpg  \n",
            " extracting: extracted_files/train/images/images_jpg.rf.9c82327ff781cdc57a825677b9957c96.jpg  \n",
            " extracting: extracted_files/train/images/images_jpg.rf.9c849110318afaddee8e57f1b1f8c030.jpg  \n",
            " extracting: extracted_files/train/images/images_jpg.rf.9c88aeb751f9f7877ec2e736097127ea.jpg  \n",
            " extracting: extracted_files/train/images/images_jpg.rf.9cfbe0775ef0968567cae157c72f1612.jpg  \n",
            " extracting: extracted_files/train/images/images_jpg.rf.9d58622864da038223552020e442cbbd.jpg  \n",
            " extracting: extracted_files/train/images/images_jpg.rf.9d6045482ade673a9b8d4830801617d1.jpg  \n",
            " extracting: extracted_files/train/images/images_jpg.rf.9fbe6485688d00226d8babb3449e4b37.jpg  \n",
            " extracting: extracted_files/train/images/images_jpg.rf.a0fc0bc44d9e7daa3f23d1cdce4b8c3e.jpg  \n",
            " extracting: extracted_files/train/images/images_jpg.rf.a15eef44b3e462047b7b91cc2f766090.jpg  \n",
            " extracting: extracted_files/train/images/images_jpg.rf.a1f3a2d58cb1b71021ebe43654e068f0.jpg  \n",
            " extracting: extracted_files/train/images/images_jpg.rf.a30b10ab3422b2560d0d47b2ee013e1b.jpg  \n",
            " extracting: extracted_files/train/images/images_jpg.rf.a3317acd633d53c6c5abb99aa4c1e9e8.jpg  \n",
            " extracting: extracted_files/train/images/images_jpg.rf.a3ea099da664547a07102dcde0b8d8f0.jpg  \n",
            " extracting: extracted_files/train/images/images_jpg.rf.a4bdf8268e3a6b9f3f475fa4d9bf806f.jpg  \n",
            " extracting: extracted_files/train/images/images_jpg.rf.a53a846cf5b4500fd1c795cc654d0bc4.jpg  \n",
            " extracting: extracted_files/train/images/images_jpg.rf.a5af4c4bb30e4f48b7f5127f85ecf743.jpg  \n",
            " extracting: extracted_files/train/images/images_jpg.rf.a5e25248f583c5081396c0c27e34d891.jpg  \n",
            " extracting: extracted_files/train/images/images_jpg.rf.a77589c924381b041012733afe56f3a1.jpg  \n",
            " extracting: extracted_files/train/images/images_jpg.rf.a7c081444cc878582ee4c33cb3f6090d.jpg  \n",
            " extracting: extracted_files/train/images/images_jpg.rf.a82fa05d37443d0431f4778ee16e5445.jpg  \n",
            " extracting: extracted_files/train/images/images_jpg.rf.a86b859e332346bde9621762367aa5a1.jpg  \n",
            " extracting: extracted_files/train/images/images_jpg.rf.aa96149e358e39d7680765011dd64d32.jpg  \n",
            " extracting: extracted_files/train/images/images_jpg.rf.ab8ff721bc820adbeb8b4c5ee9f775e9.jpg  \n",
            " extracting: extracted_files/train/images/images_jpg.rf.ad93389436f8c4b9539112f1a217f361.jpg  \n",
            " extracting: extracted_files/train/images/images_jpg.rf.ae8ccd6ec6066e92d619a4aaee249236.jpg  \n",
            " extracting: extracted_files/train/images/images_jpg.rf.af355eb48a5a18cba57cc8a848fafc13.jpg  \n",
            " extracting: extracted_files/train/images/images_jpg.rf.afb3937aa32714af70bd37f4b3f7f126.jpg  \n",
            " extracting: extracted_files/train/images/images_jpg.rf.b07e2e9325f275657044b0ddb42311fb.jpg  \n",
            " extracting: extracted_files/train/images/images_jpg.rf.b1d73a739e72ad303be2050649bf8642.jpg  \n",
            " extracting: extracted_files/train/images/images_jpg.rf.b205ad4b734c74a67bece5bf10edff04.jpg  \n",
            " extracting: extracted_files/train/images/images_jpg.rf.b2a4c1f612c40cdfbd391bc80da075bd.jpg  \n",
            " extracting: extracted_files/train/images/images_jpg.rf.b32ff2a4c9001d0cd082ec58034c8923.jpg  \n",
            " extracting: extracted_files/train/images/images_jpg.rf.b354be765327f510a01bf48965e905ca.jpg  \n",
            " extracting: extracted_files/train/images/images_jpg.rf.b53240e951bad4c58ca402abcb311170.jpg  \n",
            " extracting: extracted_files/train/images/images_jpg.rf.b5879ba22b81815291f509edc672a70a.jpg  \n",
            " extracting: extracted_files/train/images/images_jpg.rf.ba0d344bbddb1857846512100c975b85.jpg  \n",
            " extracting: extracted_files/train/images/images_jpg.rf.bb576117fadb31a220119b186e227b13.jpg  \n",
            " extracting: extracted_files/train/images/images_jpg.rf.bbb9cbae255f19c10eadadcadc091488.jpg  \n",
            " extracting: extracted_files/train/images/images_jpg.rf.bc03ae3d32545c7ebb7332fef14a95ca.jpg  \n",
            " extracting: extracted_files/train/images/images_jpg.rf.bc3c681743f0f1aa6a548818ad878431.jpg  \n",
            " extracting: extracted_files/train/images/images_jpg.rf.bc7ba0d32bbe501e6a691361cb98e7c4.jpg  \n",
            " extracting: extracted_files/train/images/images_jpg.rf.bccca7ddc3fca23b37ddb8f57ffa6aed.jpg  \n",
            " extracting: extracted_files/train/images/images_jpg.rf.bdbc15b08108b580ce4329c5859c99b8.jpg  \n",
            " extracting: extracted_files/train/images/images_jpg.rf.be8fbb1fcac244c4347f48323d2bdc58.jpg  \n",
            " extracting: extracted_files/train/images/images_jpg.rf.bf6ef1aeb1a1a7eb06eebe3146a6c989.jpg  \n",
            " extracting: extracted_files/train/images/images_jpg.rf.c051d03cc7359b51d77f8007dfcebd5b.jpg  \n",
            " extracting: extracted_files/train/images/images_jpg.rf.c0624d5d84536cf56857219ae505825e.jpg  \n",
            " extracting: extracted_files/train/images/images_jpg.rf.c103d70292940e99f516c69e2825330e.jpg  \n",
            " extracting: extracted_files/train/images/images_jpg.rf.c1f08513e5bbae2ea135d5592ae6f2f2.jpg  \n",
            " extracting: extracted_files/train/images/images_jpg.rf.c273e85917c88e9f14576d46fa4c1bb4.jpg  \n",
            " extracting: extracted_files/train/images/images_jpg.rf.c540a75813ec48bee204c2163f35ca16.jpg  \n",
            " extracting: extracted_files/train/images/images_jpg.rf.c5cf4224ddf8bac1a1e871e4f1fa2a07.jpg  \n",
            " extracting: extracted_files/train/images/images_jpg.rf.c7c03f3040b21b70e15f3f6873f9a8f0.jpg  \n",
            " extracting: extracted_files/train/images/images_jpg.rf.c8fa1eb117331ae05be4783b37b49947.jpg  \n",
            " extracting: extracted_files/train/images/images_jpg.rf.c965cb8cc6294428dfb595d0ca449a89.jpg  \n",
            " extracting: extracted_files/train/images/images_jpg.rf.cb0210a9b925786896d851d8032fdae5.jpg  \n",
            " extracting: extracted_files/train/images/images_jpg.rf.cb26b54fba052805ecad5cd32c23c9f8.jpg  \n",
            " extracting: extracted_files/train/images/images_jpg.rf.cbb2aa29b90c780ccc02985ad449e616.jpg  \n",
            " extracting: extracted_files/train/images/images_jpg.rf.ce683978a75da3b796677119804d5f2a.jpg  \n",
            " extracting: extracted_files/train/images/images_jpg.rf.ceca039c7d8a6541145715461739f93b.jpg  \n",
            " extracting: extracted_files/train/images/images_jpg.rf.cf159706efb7a2f8132f6036ecfb594d.jpg  \n",
            " extracting: extracted_files/train/images/images_jpg.rf.d180415ab5644d6f14f33d94c7cc7846.jpg  \n",
            " extracting: extracted_files/train/images/images_jpg.rf.d325c393766c82cf5e7a86fbee01181e.jpg  \n",
            " extracting: extracted_files/train/images/images_jpg.rf.d46b4d562e31632d91996d21c89c3c71.jpg  \n",
            " extracting: extracted_files/train/images/images_jpg.rf.d59570a6c3318e2c0328cfb5bcd068f0.jpg  \n",
            " extracting: extracted_files/train/images/images_jpg.rf.d766da8a2ebd54a539cc8db70a41a2a0.jpg  \n",
            " extracting: extracted_files/train/images/images_jpg.rf.d7a63c99c37793bae49d5441a3d35693.jpg  \n",
            " extracting: extracted_files/train/images/images_jpg.rf.d861f66dae04e79c9e3c1a2cf4d94223.jpg  \n",
            " extracting: extracted_files/train/images/images_jpg.rf.d868dbbb2832a750ec7ff07f75d87f87.jpg  \n",
            " extracting: extracted_files/train/images/images_jpg.rf.d8ba6baa504dd60cd987a1f2970d62fb.jpg  \n",
            " extracting: extracted_files/train/images/images_jpg.rf.d8fcf6c39df10940788a42d2cde6d60b.jpg  \n",
            " extracting: extracted_files/train/images/images_jpg.rf.d9a92e34355eec51f15ce347b043762e.jpg  \n",
            " extracting: extracted_files/train/images/images_jpg.rf.da2c17cf06f34d3456a64953c5dc6374.jpg  \n",
            " extracting: extracted_files/train/images/images_jpg.rf.dd4e334b03210298046a71965c582041.jpg  \n",
            " extracting: extracted_files/train/images/images_jpg.rf.de4812d56924509341eea07fbd778ed7.jpg  \n",
            " extracting: extracted_files/train/images/images_jpg.rf.de916d9dad093edb1b77f45af12f9eb6.jpg  \n",
            " extracting: extracted_files/train/images/images_jpg.rf.e0f6b417ae77986cdfcf25aff88a0ba2.jpg  \n",
            " extracting: extracted_files/train/images/images_jpg.rf.e164e2cfabfd59e63c377f8779810173.jpg  \n",
            " extracting: extracted_files/train/images/images_jpg.rf.e3eeb00823d38a644fb15c7aa8b343d3.jpg  \n",
            " extracting: extracted_files/train/images/images_jpg.rf.e4a66f8e1c100094383f41f05d03d86f.jpg  \n",
            " extracting: extracted_files/train/images/images_jpg.rf.e4df5aabe883c413ac312d92bc8e2818.jpg  \n",
            " extracting: extracted_files/train/images/images_jpg.rf.e5657a10c1aabe2e9c31ac7687f5117d.jpg  \n",
            " extracting: extracted_files/train/images/images_jpg.rf.e9b26ab706419bd325cf4359e173b8f4.jpg  \n",
            " extracting: extracted_files/train/images/images_jpg.rf.ea84524dfa56e8af5938cdc8276861e0.jpg  \n",
            " extracting: extracted_files/train/images/images_jpg.rf.eb4f8edd81f99a872043fb365c8c7fc9.jpg  \n",
            " extracting: extracted_files/train/images/images_jpg.rf.eda945103788a73c86d5256db7a8258d.jpg  \n",
            " extracting: extracted_files/train/images/images_jpg.rf.f024f936bf541e7eec47b9f071025ced.jpg  \n",
            " extracting: extracted_files/train/images/images_jpg.rf.f02c3db0d0e3cbfb6b430340cc5a1124.jpg  \n",
            " extracting: extracted_files/train/images/images_jpg.rf.f2c25b25fa9c6a1e2dd689b18d4e234a.jpg  \n",
            " extracting: extracted_files/train/images/images_jpg.rf.f309573aa4630aaa440c72d5a827002c.jpg  \n",
            " extracting: extracted_files/train/images/images_jpg.rf.f376e3f991cf3432fc0bf3e5639f00e4.jpg  \n",
            " extracting: extracted_files/train/images/images_jpg.rf.f4e85572010da8ab64a56d6447a0cf46.jpg  \n",
            " extracting: extracted_files/train/images/images_jpg.rf.f4ecd76adfe753c813f232e29f38431d.jpg  \n",
            " extracting: extracted_files/train/images/images_jpg.rf.f5afa495aeed15d5dd7f5fdd413c4c0a.jpg  \n",
            " extracting: extracted_files/train/images/images_jpg.rf.f5f033987e4825e0b1d97d85cc719b91.jpg  \n",
            " extracting: extracted_files/train/images/images_jpg.rf.f8f3fb21e960c18b15f8a1a8c2d5929b.jpg  \n",
            " extracting: extracted_files/train/images/images_jpg.rf.f9dd43925832b2dddb8c361ecbde1596.jpg  \n",
            " extracting: extracted_files/train/images/images_jpg.rf.faec82b0ee36755a5a88e1a7efcff5f4.jpg  \n",
            " extracting: extracted_files/train/images/images_jpg.rf.fb01864ddfbd1eec30f218dee34a405e.jpg  \n",
            " extracting: extracted_files/train/images/images_jpg.rf.fbb252706a49781d1258bc752feb98f9.jpg  \n",
            " extracting: extracted_files/train/images/images_jpg.rf.fbf031e4005f82eee0aabcc702835257.jpg  \n",
            " extracting: extracted_files/train/images/thit-vai-heo-kho-xa-xi-recipe-main-photo_jpg.rf.fff6736ac533b06e1cb6b826be629ac9.jpg  \n",
            " extracting: extracted_files/train/images/trung-chien-cha-bong-recipe-main-photo_jpg.rf.e5d869cf113626d19a36e636a6a2da2b.jpg  \n",
            "   creating: extracted_files/train/labels/\n",
            "  inflating: extracted_files/train/labels/071ae3a01efdaba3f2ec_jpg.rf.474e8ce2db01bd8e5e4e4a0851589502.txt  \n",
            "  inflating: extracted_files/train/labels/24ed1fa812fea7a0feef_jpg.rf.a4b3c50f6ab588e20912efeb96ce2726.txt  \n",
            "  inflating: extracted_files/train/labels/253b28022554900ac945_jpg.rf.a74d9ff36fc0311135f84ed3026bb18e.txt  \n",
            "  inflating: extracted_files/train/labels/264d2d78202e9570cc3f_jpg.rf.0428cabf9f02fa531bab3dcfea708a9d.txt  \n",
            "  inflating: extracted_files/train/labels/2e1deec1bc9709c95086_jpg.rf.4518ada124bb207bf6da2b317a6d9c6c.txt  \n",
            "  inflating: extracted_files/train/labels/2e3b958268dfdd8184ce_jpg.rf.772340c59bcc8ae7637f9660332b3362.txt  \n",
            "  inflating: extracted_files/train/labels/3ee3d97ded25587b0134_jpg.rf.63b9fde2b8697e1cef610f67495a6af9.txt  \n",
            "  inflating: extracted_files/train/labels/3f5751edacb019ee40a1_jpg.rf.8dc36de036b46f23b7cbe03ae447ea4a.txt  \n",
            "  inflating: extracted_files/train/labels/4b0e3f243272872cde63_jpg.rf.d127561a453a49bfeb4e2199b964678e.txt  \n",
            "  inflating: extracted_files/train/labels/5ae56cef61b9d4e78da8_jpg.rf.be420a7151f06098b4086d4ec18e13b5.txt  \n",
            "  inflating: extracted_files/train/labels/64ca20267270c72e9e61_jpg.rf.31eab4e0a21eeddc7056886418cb685c.txt  \n",
            "  inflating: extracted_files/train/labels/736052ca6692d3cc8a83_jpg.rf.7855426c180da17b1eb532faa696e430.txt  \n",
            "  inflating: extracted_files/train/labels/7cb9b176cfe17dbf24f0_jpg.rf.b38d85874b747e7ece7fc82b5fe90f73.txt  \n",
            "  inflating: extracted_files/train/labels/8d465a09575fe201bb4e_jpg.rf.e33e65cbfa32f6a7029352d2d10a5a10.txt  \n",
            "  inflating: extracted_files/train/labels/9f0b7ab187ec32b26bfd_jpg.rf.d29858442e3952a40852465ac2f3e9e0.txt  \n",
            "  inflating: extracted_files/train/labels/9fa4a1fc95a420fa79b5_jpg.rf.ca9a07e2bb95150b81c48e71c4954dbc.txt  \n",
            "  inflating: extracted_files/train/labels/IMG_0801_png.rf.a081629aaa8eb53cc2ce148b265a0355.txt  \n",
            "  inflating: extracted_files/train/labels/IMG_1245_png.rf.0544789525f48801305623f6c82e8006.txt  \n",
            "  inflating: extracted_files/train/labels/IMG_1250_png.rf.204fe4ec9072c3a11064b840757503b1.txt  \n",
            "  inflating: extracted_files/train/labels/IMG_1478_png.rf.c9185662b7af0af4a570961197b4d00f.txt  \n",
            "  inflating: extracted_files/train/labels/IMG_1493-2-_png.rf.29772bea4011067c588489f0c67a445a.txt  \n",
            "  inflating: extracted_files/train/labels/IMG_1519_png.rf.60c57a95000d8565c0361c3c50d43a99.txt  \n",
            "  inflating: extracted_files/train/labels/IMG_1613_png.rf.f602edcdeb86d73677d0e9bf099b4ea6.txt  \n",
            "  inflating: extracted_files/train/labels/IMG_1629_png.rf.40243ed6e64486370eacffbeecdad534.txt  \n",
            "  inflating: extracted_files/train/labels/IMG_1632_png.rf.c58ab4d03a7534e13146e5df39816cf9.txt  \n",
            "  inflating: extracted_files/train/labels/IMG_1642_png.rf.d0240184c78c7c601eddbf56e858a32a.txt  \n",
            "  inflating: extracted_files/train/labels/IMG_1693_png.rf.c50d222ff3971fb9d98f06db8eff4409.txt  \n",
            "  inflating: extracted_files/train/labels/IMG_1725_png.rf.69bff7471e0eb219f80c2e1fa4bc647b.txt  \n",
            "  inflating: extracted_files/train/labels/IMG_1726_png.rf.4e7a8153803ad94632ac633369a2eae8.txt  \n",
            "  inflating: extracted_files/train/labels/IMG_1734_png.rf.a640d39e994e70307c23261e0961401d.txt  \n",
            "  inflating: extracted_files/train/labels/IMG_1742_png.rf.1df32e8940892bb34c0b71e71d7acf6e.txt  \n",
            "  inflating: extracted_files/train/labels/IMG_1746_png.rf.ce2323988236b6215d1b8ff146d32d13.txt  \n",
            "  inflating: extracted_files/train/labels/IMG_1767_png.rf.931bb90dc93b7977e31b5f0c6f865930.txt  \n",
            "  inflating: extracted_files/train/labels/IMG_1832_png.rf.f72b7c1efd385056ab00be1e7c90fc5f.txt  \n",
            "  inflating: extracted_files/train/labels/IMG_1840_png.rf.8d813f06b34ddd33ec56bcf89e546480.txt  \n",
            "  inflating: extracted_files/train/labels/IMG_1922_png.rf.09d55a0659681fc4adcc7e96155b9d9b.txt  \n",
            "  inflating: extracted_files/train/labels/IMG_1951_png.rf.b752fb746b2afcbf0d1b1e7f8fb35595.txt  \n",
            "  inflating: extracted_files/train/labels/IMG_2087_png.rf.b5861c8c3a4a71290cdb7dbec2962869.txt  \n",
            "  inflating: extracted_files/train/labels/IMG_2103_png.rf.1e0e299549d744808a9a5ac47c2c1df7.txt  \n",
            "  inflating: extracted_files/train/labels/IMG_2109_png.rf.8394536666aea48eda51c920116b2a45.txt  \n",
            "  inflating: extracted_files/train/labels/IMG_2147_png.rf.0a64ca735a0c40c80e615ee5fa6efb7e.txt  \n",
            "  inflating: extracted_files/train/labels/IMG_2166_png.rf.13a0905e513b076feb39820a1239e64b.txt  \n",
            "  inflating: extracted_files/train/labels/a305793d746bc135987a_jpg.rf.d456ea23900705d43d2c7feba61fbd6d.txt  \n",
            "  inflating: extracted_files/train/labels/bb48b31ebe480b165259_jpg.rf.3dfc46047cbbc618d2778ad90e7edf0d.txt  \n",
            "  inflating: extracted_files/train/labels/c324fb15f643431d1a52_jpg.rf.75677a4c0c1070298144e71ead27560e.txt  \n",
            "  inflating: extracted_files/train/labels/c63cd104dc52690c3043_jpg.rf.806a4fc9d2d15046c37138ce27008eaa.txt  \n",
            "  inflating: extracted_files/train/labels/d45954fe60a6d5f88cb7_jpg.rf.994844260bef2d36a7fb7ad4fec4f98e.txt  \n",
            "  inflating: extracted_files/train/labels/df2b3f1d324b8715de5a_jpg.rf.757842aec1cbabf6c80dd908b240a3c7.txt  \n",
            "  inflating: extracted_files/train/labels/download_jpg.rf.0048be3d0f4cb80fc13ce24f0b9dc80b.txt  \n",
            "  inflating: extracted_files/train/labels/download_jpg.rf.059822dc84150eea4ba1a3245504ca5d.txt  \n",
            "  inflating: extracted_files/train/labels/download_jpg.rf.08f346511fb847aac9f9ffd5912aacba.txt  \n",
            "  inflating: extracted_files/train/labels/download_jpg.rf.0990db5a9fe3025179fd874e9924ff92.txt  \n",
            "  inflating: extracted_files/train/labels/download_jpg.rf.0b988d92ac2e67f050dd6b9814495749.txt  \n",
            "  inflating: extracted_files/train/labels/download_jpg.rf.0cb066bd2261fb3c23e23443b0f8f2cc.txt  \n",
            "  inflating: extracted_files/train/labels/download_jpg.rf.0dbd042472c6bd2cc378ac4c978cc466.txt  \n",
            "  inflating: extracted_files/train/labels/download_jpg.rf.1166b535c02d75f14c1204c3746f263b.txt  \n",
            "  inflating: extracted_files/train/labels/download_jpg.rf.142cbb3ea9453d28bdf41d9ce96bac39.txt  \n",
            "  inflating: extracted_files/train/labels/download_jpg.rf.1bf30e428fa5117bbb24d19b6bde8a78.txt  \n",
            "  inflating: extracted_files/train/labels/download_jpg.rf.1d33381c2b037f7217269342cd1a16b2.txt  \n",
            "  inflating: extracted_files/train/labels/download_jpg.rf.2437a95571f5192613d32ff8ec6175a8.txt  \n",
            "  inflating: extracted_files/train/labels/download_jpg.rf.266cc028ca4583cd080326b45a5a5646.txt  \n",
            "  inflating: extracted_files/train/labels/download_jpg.rf.288182e7aa9aed7b68c546c5f7b9682f.txt  \n",
            "  inflating: extracted_files/train/labels/download_jpg.rf.28ad181cdd6d07ec126e3d88eaa385ea.txt  \n",
            "  inflating: extracted_files/train/labels/download_jpg.rf.365a2a5298abb2efb729769a33ccf38d.txt  \n",
            "  inflating: extracted_files/train/labels/download_jpg.rf.369187f17067019d60de3b342d1a4556.txt  \n",
            "  inflating: extracted_files/train/labels/download_jpg.rf.3e7203bb11c7f7f12c8b99d905dfd821.txt  \n",
            "  inflating: extracted_files/train/labels/download_jpg.rf.3f4f81b685a2fa1f47dd0091ba5f18c5.txt  \n",
            "  inflating: extracted_files/train/labels/download_jpg.rf.42488b025c151e267259dd056d5c285a.txt  \n",
            "  inflating: extracted_files/train/labels/download_jpg.rf.44b09116c38a735fba0185d9134432a4.txt  \n",
            "  inflating: extracted_files/train/labels/download_jpg.rf.47faafea1b2769b71c47d6f058e65e97.txt  \n",
            "  inflating: extracted_files/train/labels/download_jpg.rf.48011e5ffe706f72ea05eee0f1f4027e.txt  \n",
            "  inflating: extracted_files/train/labels/download_jpg.rf.49bbec60c0cac370cbab3d23d10a8a98.txt  \n",
            "  inflating: extracted_files/train/labels/download_jpg.rf.4abdb3a9362117b2b97d9bdd4920233f.txt  \n",
            "  inflating: extracted_files/train/labels/download_jpg.rf.544a8aac40a17479c7cdd78a0bfd45b3.txt  \n",
            "  inflating: extracted_files/train/labels/download_jpg.rf.5647517e0eb0bd3c1126e8e1b1d52e39.txt  \n",
            "  inflating: extracted_files/train/labels/download_jpg.rf.5b08fafd2f51ca572daf532796808c64.txt  \n",
            " extracting: extracted_files/train/labels/download_jpg.rf.5baf7d361486fc8f72881d49f303d158.txt  \n",
            "  inflating: extracted_files/train/labels/download_jpg.rf.5c583dcf11d81d03eeeb9854619bfa33.txt  \n",
            "  inflating: extracted_files/train/labels/download_jpg.rf.5f0742eabd8e02b772ebdcaa570b4014.txt  \n",
            "  inflating: extracted_files/train/labels/download_jpg.rf.5f37bd83d0405c1ad3817ac706e2b9a2.txt  \n",
            "  inflating: extracted_files/train/labels/download_jpg.rf.5fd229e9ad70f53b27a7f3f15b937f21.txt  \n",
            "  inflating: extracted_files/train/labels/download_jpg.rf.6c866990464fb578232ab1838880d81b.txt  \n",
            "  inflating: extracted_files/train/labels/download_jpg.rf.6eb28f1d19a0fad74123174d7ba43e31.txt  \n",
            "  inflating: extracted_files/train/labels/download_jpg.rf.70c9d3c435c037657afbe5cce7b91863.txt  \n",
            "  inflating: extracted_files/train/labels/download_jpg.rf.7183918eb39a1ed0520531bf55db9782.txt  \n",
            "  inflating: extracted_files/train/labels/download_jpg.rf.76602c049698f0077138f8e095fd4923.txt  \n",
            "  inflating: extracted_files/train/labels/download_jpg.rf.76739dd0b65dd16a43d287da91afaab3.txt  \n",
            "  inflating: extracted_files/train/labels/download_jpg.rf.78b36a9b527197100bf8053ea08c6f95.txt  \n",
            "  inflating: extracted_files/train/labels/download_jpg.rf.78e01aeb16edb13a3c371065f28bfdb2.txt  \n",
            "  inflating: extracted_files/train/labels/download_jpg.rf.7eb8481c3a1f8b22980a6d1b5001b932.txt  \n",
            "  inflating: extracted_files/train/labels/download_jpg.rf.7f4ed897d6bc2dc105a09ee7a4e697b2.txt  \n",
            "  inflating: extracted_files/train/labels/download_jpg.rf.80595b101a822db4ed2dc08e1f7182d5.txt  \n",
            "  inflating: extracted_files/train/labels/download_jpg.rf.811b00fc6e42953b4f0312548084ae4e.txt  \n",
            "  inflating: extracted_files/train/labels/download_jpg.rf.834c1b71536b8e4d6d047fff228192d8.txt  \n",
            "  inflating: extracted_files/train/labels/download_jpg.rf.8390639fb50dc97e6788af13a4cbba83.txt  \n",
            " extracting: extracted_files/train/labels/download_jpg.rf.8752dd223cc438ad4ded00e18b647a1c.txt  \n",
            "  inflating: extracted_files/train/labels/download_jpg.rf.8b20875b5bddaa536f4df85c7deaa1a8.txt  \n",
            "  inflating: extracted_files/train/labels/download_jpg.rf.8c5c01a2f61cca3212176f9c43af2ad2.txt  \n",
            "  inflating: extracted_files/train/labels/download_jpg.rf.8da5784016fe86ab2f81cc484d1be53b.txt  \n",
            "  inflating: extracted_files/train/labels/download_jpg.rf.918d782e531c3baa40b8fee3a0b21f51.txt  \n",
            " extracting: extracted_files/train/labels/download_jpg.rf.a464ded99a584e9ba82a4e0bbc945584.txt  \n",
            "  inflating: extracted_files/train/labels/download_jpg.rf.aae1404c40fd9d9a16684d4b6d2f9f45.txt  \n",
            "  inflating: extracted_files/train/labels/download_jpg.rf.ab1f7717188cdcb1230235fdb10a3f95.txt  \n",
            "  inflating: extracted_files/train/labels/download_jpg.rf.abba422862e2af61453b60b366d7178a.txt  \n",
            "  inflating: extracted_files/train/labels/download_jpg.rf.abf508419ab1e180c5a42313ff96f133.txt  \n",
            "  inflating: extracted_files/train/labels/download_jpg.rf.ac418d837f8964cc84e487779fb961b8.txt  \n",
            "  inflating: extracted_files/train/labels/download_jpg.rf.af0c7b5260c250360eb5afc313a0bbb1.txt  \n",
            "  inflating: extracted_files/train/labels/download_jpg.rf.b158b232b017df1107f8c48ecd061d15.txt  \n",
            " extracting: extracted_files/train/labels/download_jpg.rf.b90f5c187a833043cc53683b8276e89d.txt  \n",
            "  inflating: extracted_files/train/labels/download_jpg.rf.bad7a058802ed84a8735558e6f2133bc.txt  \n",
            "  inflating: extracted_files/train/labels/download_jpg.rf.bce3545b4a51c34f2c770a456e20960b.txt  \n",
            "  inflating: extracted_files/train/labels/download_jpg.rf.cde925a90509781b1b7a1cb34aad5b78.txt  \n",
            "  inflating: extracted_files/train/labels/download_jpg.rf.d1ecfc4d1c2f718f888d528db6b37705.txt  \n",
            "  inflating: extracted_files/train/labels/download_jpg.rf.d585c2f68d64ca8a31c940a14157e974.txt  \n",
            "  inflating: extracted_files/train/labels/download_jpg.rf.d86d9e930119908019d1fca466fa1c0a.txt  \n",
            " extracting: extracted_files/train/labels/download_jpg.rf.da535920d3d79148a8704246fc551388.txt  \n",
            "  inflating: extracted_files/train/labels/download_jpg.rf.de6ee9493564f7261e5e0afbb74cce88.txt  \n",
            "  inflating: extracted_files/train/labels/download_jpg.rf.deb43402a6feacf512f0b74f487ffa57.txt  \n",
            "  inflating: extracted_files/train/labels/download_jpg.rf.e3cd87c9e0d0669481158af89071c3e2.txt  \n",
            "  inflating: extracted_files/train/labels/download_jpg.rf.e3fce82cdb41cf867421ac42734946a1.txt  \n",
            "  inflating: extracted_files/train/labels/download_jpg.rf.ec5ce945ae8a21e4d5bce77093140541.txt  \n",
            "  inflating: extracted_files/train/labels/download_jpg.rf.f43adb3220bf05c47d3edcecdebf8758.txt  \n",
            "  inflating: extracted_files/train/labels/download_jpg.rf.f7f01f9bd0ca4fdf46db9d1d5045776c.txt  \n",
            "  inflating: extracted_files/train/labels/download_jpg.rf.ff0e03de6b2d6531b6443f7708a00f0d.txt  \n",
            " extracting: extracted_files/train/labels/e385adaea0f815a64ce9_jpg.rf.52744b2e34760baa4ac57a3f0f4ff6cc.txt  \n",
            "  inflating: extracted_files/train/labels/e73310061d50a80ef141_jpg.rf.d06f92dbb124b124461b163a0dd2e143.txt  \n",
            "  inflating: extracted_files/train/labels/e75244b416e2a3bcfaf3_jpg.rf.154b6b38b4f27b122ffa6db9672292a5.txt  \n",
            "  inflating: extracted_files/train/labels/e8973e7b6c2dd973803c_jpg.rf.77ffb74e23b8e3ccdc462a1b9bea95cc.txt  \n",
            "  inflating: extracted_files/train/labels/images_jpg.rf.00469b6d0967fd0ac4dc88e97eeadaeb.txt  \n",
            "  inflating: extracted_files/train/labels/images_jpg.rf.0176ff4213d2d6356f45e0fe2395cce4.txt  \n",
            "  inflating: extracted_files/train/labels/images_jpg.rf.03d3dd5a22169ef90ebec1ce33511fc9.txt  \n",
            "  inflating: extracted_files/train/labels/images_jpg.rf.0652f2627344bcd901fea9b1c95b05cd.txt  \n",
            "  inflating: extracted_files/train/labels/images_jpg.rf.06a5c005c1be21c90ceaf0a7c1838b1b.txt  \n",
            "  inflating: extracted_files/train/labels/images_jpg.rf.07a4fd933ccc211e48ac508c8d3c6e9f.txt  \n",
            "  inflating: extracted_files/train/labels/images_jpg.rf.099a63a84ae12a94030b778abdf24fe5.txt  \n",
            " extracting: extracted_files/train/labels/images_jpg.rf.099e5ea1d6c47435ae8034bda81372d1.txt  \n",
            "  inflating: extracted_files/train/labels/images_jpg.rf.0b0aa43116c6d5a44b9785bc6ed27619.txt  \n",
            "  inflating: extracted_files/train/labels/images_jpg.rf.0b679d0ff8b597d89660238910870df1.txt  \n",
            "  inflating: extracted_files/train/labels/images_jpg.rf.0b7ac755ac1090db6692547e7735cae1.txt  \n",
            "  inflating: extracted_files/train/labels/images_jpg.rf.0da6ff02836c50ae80c8702ec9009863.txt  \n",
            "  inflating: extracted_files/train/labels/images_jpg.rf.0dd312e61a2d0dc7e9acf10fe175d328.txt  \n",
            "  inflating: extracted_files/train/labels/images_jpg.rf.0e4723e2df04ed55b03ba9bbf3846480.txt  \n",
            "  inflating: extracted_files/train/labels/images_jpg.rf.0eaa5d88aa277cad41f59d54ba46d02a.txt  \n",
            "  inflating: extracted_files/train/labels/images_jpg.rf.0fb63af7f91254987f48e5a9612db881.txt  \n",
            "  inflating: extracted_files/train/labels/images_jpg.rf.0fb8006b9435de647dd41bbd7c224cfb.txt  \n",
            "  inflating: extracted_files/train/labels/images_jpg.rf.10f49fd434d1e8b57369c2057024bebc.txt  \n",
            "  inflating: extracted_files/train/labels/images_jpg.rf.11e734e86d0624cf54fbb662d41882e5.txt  \n",
            "  inflating: extracted_files/train/labels/images_jpg.rf.120a1549618de05e91201a631a58ccbe.txt  \n",
            "  inflating: extracted_files/train/labels/images_jpg.rf.1384e25abf0de6147f3130c3622135d7.txt  \n",
            "  inflating: extracted_files/train/labels/images_jpg.rf.14f138455eb823198f0e96b69002b89a.txt  \n",
            "  inflating: extracted_files/train/labels/images_jpg.rf.15d7d2e0be5725aa75bcd63a1ac3d33a.txt  \n",
            "  inflating: extracted_files/train/labels/images_jpg.rf.16371e7fbb513c4ae26cceee329b2922.txt  \n",
            " extracting: extracted_files/train/labels/images_jpg.rf.169e2a9a67ef920e1c9a90d50bcc101e.txt  \n",
            "  inflating: extracted_files/train/labels/images_jpg.rf.169e6ca3c37901d7ff99a5b46d1b8ef8.txt  \n",
            "  inflating: extracted_files/train/labels/images_jpg.rf.17944e70bafb2480181c6d96e0c12c4e.txt  \n",
            "  inflating: extracted_files/train/labels/images_jpg.rf.189c8d0f4795a6993c98e94cd3705284.txt  \n",
            "  inflating: extracted_files/train/labels/images_jpg.rf.18a149c704e441b9bcbbd9c37e7a5e57.txt  \n",
            " extracting: extracted_files/train/labels/images_jpg.rf.1a183cda5255ce179204b410ed3b597c.txt  \n",
            "  inflating: extracted_files/train/labels/images_jpg.rf.1ad4b6eb7f962b67a0148116ddd2d6b7.txt  \n",
            "  inflating: extracted_files/train/labels/images_jpg.rf.1ae40e1fd228aa193d306f3baf7e6ec9.txt  \n",
            "  inflating: extracted_files/train/labels/images_jpg.rf.1b015d3d96136e0e9dad91b36dbe39e0.txt  \n",
            "  inflating: extracted_files/train/labels/images_jpg.rf.1b50d6fe80aaaec44d3ee085e9bc43d0.txt  \n",
            "  inflating: extracted_files/train/labels/images_jpg.rf.1c712872db210b86f74ca5697a983d4f.txt  \n",
            "  inflating: extracted_files/train/labels/images_jpg.rf.1ea1eacd50ef32306ba3b3d94ed58e3f.txt  \n",
            "  inflating: extracted_files/train/labels/images_jpg.rf.1f3e0d845cfbba08685afebc1475aaa1.txt  \n",
            "  inflating: extracted_files/train/labels/images_jpg.rf.2060d18109dff937305df72092f08475.txt  \n",
            "  inflating: extracted_files/train/labels/images_jpg.rf.24fba2c70d664e8f220633f8decce927.txt  \n",
            "  inflating: extracted_files/train/labels/images_jpg.rf.259977261749591d3db33aa6b394763b.txt  \n",
            "  inflating: extracted_files/train/labels/images_jpg.rf.26363ed2d105e691c8f4664aedaa65b7.txt  \n",
            "  inflating: extracted_files/train/labels/images_jpg.rf.263c17f85f6e0aae066b641351d24631.txt  \n",
            "  inflating: extracted_files/train/labels/images_jpg.rf.26bc02a2090575b10483b6f42109ff60.txt  \n",
            "  inflating: extracted_files/train/labels/images_jpg.rf.28d00864457c940de362b3460af154a4.txt  \n",
            "  inflating: extracted_files/train/labels/images_jpg.rf.2a8867ca2d0837780e14724518ff97b9.txt  \n",
            "  inflating: extracted_files/train/labels/images_jpg.rf.2c6ece2da061f5563170eb5f66740190.txt  \n",
            "  inflating: extracted_files/train/labels/images_jpg.rf.2ce3931e0ed4e3f9af2e662a608851ff.txt  \n",
            "  inflating: extracted_files/train/labels/images_jpg.rf.2f5bb00ba803b83d455563a5131ab9b2.txt  \n",
            "  inflating: extracted_files/train/labels/images_jpg.rf.2fd079200d72e50fa4bdfe805db155dd.txt  \n",
            "  inflating: extracted_files/train/labels/images_jpg.rf.3013474fc1bedf1f59dfa6295cc537ba.txt  \n",
            "  inflating: extracted_files/train/labels/images_jpg.rf.30a6995905eb6500a88581d3dd1b1bac.txt  \n",
            "  inflating: extracted_files/train/labels/images_jpg.rf.30dbc049b4ef2b1ea7cb3104806fd996.txt  \n",
            "  inflating: extracted_files/train/labels/images_jpg.rf.31a30dd4ce64fd7b6c1fff7784301211.txt  \n",
            "  inflating: extracted_files/train/labels/images_jpg.rf.31eee0302fb9f0b70d467c1e8abac112.txt  \n",
            "  inflating: extracted_files/train/labels/images_jpg.rf.32064a13567e144aae484539267ce7f3.txt  \n",
            "  inflating: extracted_files/train/labels/images_jpg.rf.33087d02de20eadda97e83a9bcc27f5e.txt  \n",
            "  inflating: extracted_files/train/labels/images_jpg.rf.33d99d58b381a1046069a2db2a2255aa.txt  \n",
            " extracting: extracted_files/train/labels/images_jpg.rf.33e12e60785e687a687ce46145b646cb.txt  \n",
            "  inflating: extracted_files/train/labels/images_jpg.rf.3502a781b7ec414fb751f2c372b09763.txt  \n",
            "  inflating: extracted_files/train/labels/images_jpg.rf.37d8ba374bf90edfdf69f98a0237b973.txt  \n",
            "  inflating: extracted_files/train/labels/images_jpg.rf.38200bd4c3af30f15e721ba75a9b8bb7.txt  \n",
            "  inflating: extracted_files/train/labels/images_jpg.rf.38d88973a8c2261c8397d3d61385bc9b.txt  \n",
            "  inflating: extracted_files/train/labels/images_jpg.rf.395535b3edccb2a3968bd576e3df6904.txt  \n",
            "  inflating: extracted_files/train/labels/images_jpg.rf.3b6bda328c106b5bf832d52e0859d8b0.txt  \n",
            "  inflating: extracted_files/train/labels/images_jpg.rf.3e240cfce5c307f46e73f1ad8e2ef9cc.txt  \n",
            "  inflating: extracted_files/train/labels/images_jpg.rf.3e524540568ec2eaea13da493f80a761.txt  \n",
            "  inflating: extracted_files/train/labels/images_jpg.rf.3fc9e5628f78bf4ecdf507fcc232f841.txt  \n",
            "  inflating: extracted_files/train/labels/images_jpg.rf.3fdb748be49105c6e0a9abcf31e4f76d.txt  \n",
            "  inflating: extracted_files/train/labels/images_jpg.rf.402e067dc7ba3ee17a3f84e107ca9def.txt  \n",
            "  inflating: extracted_files/train/labels/images_jpg.rf.40461afbe0f51f2d54f6a14f98e4fccb.txt  \n",
            "  inflating: extracted_files/train/labels/images_jpg.rf.4090a4bab7b3d542b4af9aa177176773.txt  \n",
            "  inflating: extracted_files/train/labels/images_jpg.rf.42c874e6a31da89444e25c960a2865a8.txt  \n",
            "  inflating: extracted_files/train/labels/images_jpg.rf.443ec8579a50214b6d4e756b72a716e0.txt  \n",
            "  inflating: extracted_files/train/labels/images_jpg.rf.478f695e5b5e051f39a1f9b4406a73fb.txt  \n",
            " extracting: extracted_files/train/labels/images_jpg.rf.47ce819ceb09afb0755d4b9876c44cef.txt  \n",
            "  inflating: extracted_files/train/labels/images_jpg.rf.494c2d30b105758b6c851cb2f97b3cdd.txt  \n",
            " extracting: extracted_files/train/labels/images_jpg.rf.49611adf159b9635a09e380ffd36549d.txt  \n",
            "  inflating: extracted_files/train/labels/images_jpg.rf.4a71e6c7359febbf2f4547e8f0e60629.txt  \n",
            "  inflating: extracted_files/train/labels/images_jpg.rf.4ad725f6ebc0f1cae93382be2a849ac6.txt  \n",
            "  inflating: extracted_files/train/labels/images_jpg.rf.4c031b1412cd42278117a99e47ca2a56.txt  \n",
            " extracting: extracted_files/train/labels/images_jpg.rf.4c359f69b4f780300ea42106436fc437.txt  \n",
            "  inflating: extracted_files/train/labels/images_jpg.rf.4c3e5c50720ebdf5c599f0eae5c48083.txt  \n",
            "  inflating: extracted_files/train/labels/images_jpg.rf.4e8ae7fb0756b57425f330fa8a068fd8.txt  \n",
            "  inflating: extracted_files/train/labels/images_jpg.rf.4f07b069d60d45c1f2e4debcbb72f8b0.txt  \n",
            "  inflating: extracted_files/train/labels/images_jpg.rf.4f8fa5301e271209ac91abc70c4b0b89.txt  \n",
            "  inflating: extracted_files/train/labels/images_jpg.rf.4fbd6bdb6876014ef40de9d98f57f202.txt  \n",
            "  inflating: extracted_files/train/labels/images_jpg.rf.50eaa75932452c0aefe1468dcc9079e8.txt  \n",
            "  inflating: extracted_files/train/labels/images_jpg.rf.522338f8976ee6c15d9a755740228860.txt  \n",
            "  inflating: extracted_files/train/labels/images_jpg.rf.55268bf33da880f8ffd8157d04171829.txt  \n",
            "  inflating: extracted_files/train/labels/images_jpg.rf.55c6977e118742a07ee30d1b34572cdd.txt  \n",
            "  inflating: extracted_files/train/labels/images_jpg.rf.5844f7ebc5ad2b574183116df13d5348.txt  \n",
            "  inflating: extracted_files/train/labels/images_jpg.rf.5845e7856367b676697a3ae2c90d110e.txt  \n",
            "  inflating: extracted_files/train/labels/images_jpg.rf.58e09dfd66ed161ada62a33e2ac10cd1.txt  \n",
            "  inflating: extracted_files/train/labels/images_jpg.rf.59f9daced981b425002056beefde9cab.txt  \n",
            "  inflating: extracted_files/train/labels/images_jpg.rf.5aaa141d66c72ee7df7f1b459f80a311.txt  \n",
            "  inflating: extracted_files/train/labels/images_jpg.rf.5b2edcec90b0b4f802309e6213158580.txt  \n",
            "  inflating: extracted_files/train/labels/images_jpg.rf.5d8594231dbe67ac2778fcd42ff91f0a.txt  \n",
            "  inflating: extracted_files/train/labels/images_jpg.rf.5e828c0e10c0a6404d7a391b0b3cdd22.txt  \n",
            " extracting: extracted_files/train/labels/images_jpg.rf.5fc94df6ba9a1f8faff3cf1022ec40ae.txt  \n",
            "  inflating: extracted_files/train/labels/images_jpg.rf.60e0b06d6a455a52432daa754e30258b.txt  \n",
            "  inflating: extracted_files/train/labels/images_jpg.rf.62bdac24981f077a21a1c77bfb7d9a62.txt  \n",
            "  inflating: extracted_files/train/labels/images_jpg.rf.63df69e5b63fd39947bbc16cef1261fc.txt  \n",
            "  inflating: extracted_files/train/labels/images_jpg.rf.64f6c14fcc14f1f62a8f63cb5dcf6510.txt  \n",
            "  inflating: extracted_files/train/labels/images_jpg.rf.64fa198eec6be194ee9bff4f89dd3924.txt  \n",
            "  inflating: extracted_files/train/labels/images_jpg.rf.671d8965a344b3e6c110df602199b421.txt  \n",
            "  inflating: extracted_files/train/labels/images_jpg.rf.67616c7ea3ac6b3dd1ced23f82183bf3.txt  \n",
            "  inflating: extracted_files/train/labels/images_jpg.rf.689318f345da32d10f4b68bbb52e5ee8.txt  \n",
            "  inflating: extracted_files/train/labels/images_jpg.rf.68bbf1cf1304a15eeef62b421f643425.txt  \n",
            "  inflating: extracted_files/train/labels/images_jpg.rf.697930985530361d83fc88f9773bae87.txt  \n",
            "  inflating: extracted_files/train/labels/images_jpg.rf.6993526dcd2f625b87f030ddcad4ee03.txt  \n",
            "  inflating: extracted_files/train/labels/images_jpg.rf.6b40e9095b4f069c1458c585f7be9f34.txt  \n",
            "  inflating: extracted_files/train/labels/images_jpg.rf.6bd7b39ad7d2e3b40898a804d0d1e128.txt  \n",
            "  inflating: extracted_files/train/labels/images_jpg.rf.6c0a60f508c9a3b217399fa0e4eb0f7e.txt  \n",
            "  inflating: extracted_files/train/labels/images_jpg.rf.6c93a0de9ec372a70e2dbafb47c8324f.txt  \n",
            "  inflating: extracted_files/train/labels/images_jpg.rf.6cf371a9e2cc157ac03921f7ae3c1caf.txt  \n",
            "  inflating: extracted_files/train/labels/images_jpg.rf.6e3674b5993da7141df796fbdf012f6c.txt  \n",
            "  inflating: extracted_files/train/labels/images_jpg.rf.6ef37410b1cc773a9bba8d08687e7b96.txt  \n",
            "  inflating: extracted_files/train/labels/images_jpg.rf.6f75c74378d0a8500653ae667d3884d0.txt  \n",
            "  inflating: extracted_files/train/labels/images_jpg.rf.6fadd04c2ba20fcb98c25114ecc8465a.txt  \n",
            "  inflating: extracted_files/train/labels/images_jpg.rf.712e0ab8191d2257f4c1d189b2a67c17.txt  \n",
            "  inflating: extracted_files/train/labels/images_jpg.rf.7173fd68d8cea2212984602342b7134f.txt  \n",
            "  inflating: extracted_files/train/labels/images_jpg.rf.717ae731658fbe8ce17ee7fd69d2559c.txt  \n",
            "  inflating: extracted_files/train/labels/images_jpg.rf.719ab5fd18f65fbec19e1868259ef9ff.txt  \n",
            "  inflating: extracted_files/train/labels/images_jpg.rf.71ddbc378c79ee147df72516e69c561c.txt  \n",
            "  inflating: extracted_files/train/labels/images_jpg.rf.7274ed3aaf71ddf54eaa69386dd44023.txt  \n",
            "  inflating: extracted_files/train/labels/images_jpg.rf.7301e2dc5003ed621ac775e52e924526.txt  \n",
            "  inflating: extracted_files/train/labels/images_jpg.rf.733f35663459552d066dc7b147485e2a.txt  \n",
            "  inflating: extracted_files/train/labels/images_jpg.rf.73af807df54425141e407031604a0dd7.txt  \n",
            "  inflating: extracted_files/train/labels/images_jpg.rf.73eab2731076d045f8c2c185f20bf2c7.txt  \n",
            "  inflating: extracted_files/train/labels/images_jpg.rf.7488dab3a8f3f465f56c4edc48dcdca2.txt  \n",
            "  inflating: extracted_files/train/labels/images_jpg.rf.7653dfd16ebfd577c386af3648eb6503.txt  \n",
            "  inflating: extracted_files/train/labels/images_jpg.rf.780a71bfc2a5a7470cc7077dca3f3478.txt  \n",
            "  inflating: extracted_files/train/labels/images_jpg.rf.7847abb740270eb657fe290198a2b4f3.txt  \n",
            "  inflating: extracted_files/train/labels/images_jpg.rf.79bc20e2d27aa5d4e765fb2daece7593.txt  \n",
            "  inflating: extracted_files/train/labels/images_jpg.rf.7aa0430dff7262a40826ecf4ac2dcd2d.txt  \n",
            "  inflating: extracted_files/train/labels/images_jpg.rf.7d34fc60f9aab382ec16cecadcd60e06.txt  \n",
            "  inflating: extracted_files/train/labels/images_jpg.rf.7e8959f357cb9e2555f73af3dfa12f7b.txt  \n",
            "  inflating: extracted_files/train/labels/images_jpg.rf.7f2130e13a8c2fa3d1e521d1d4d04493.txt  \n",
            "  inflating: extracted_files/train/labels/images_jpg.rf.7f49b25c703011ad249866a7e7926985.txt  \n",
            "  inflating: extracted_files/train/labels/images_jpg.rf.801f41915f3fdb047f55b7d24c5809ee.txt  \n",
            "  inflating: extracted_files/train/labels/images_jpg.rf.835f369c66914c7846b866df8ba873a8.txt  \n",
            "  inflating: extracted_files/train/labels/images_jpg.rf.83fd522be6db2433aa9974b0b32e9232.txt  \n",
            "  inflating: extracted_files/train/labels/images_jpg.rf.84c7568de14a215a24a4de25015a009b.txt  \n",
            "  inflating: extracted_files/train/labels/images_jpg.rf.850d94a6f59fe50bb6168756c6274301.txt  \n",
            "  inflating: extracted_files/train/labels/images_jpg.rf.857d4175c185d938b07a95513e3e2acc.txt  \n",
            "  inflating: extracted_files/train/labels/images_jpg.rf.86141b32a809f5ea1d5e42773b81a576.txt  \n",
            "  inflating: extracted_files/train/labels/images_jpg.rf.87127bf8443040e3743935819069cf03.txt  \n",
            " extracting: extracted_files/train/labels/images_jpg.rf.880a90f6ed10e8a81cadb0e2c08125f1.txt  \n",
            "  inflating: extracted_files/train/labels/images_jpg.rf.8996e9bf912a8403a24d3ee86f86b480.txt  \n",
            "  inflating: extracted_files/train/labels/images_jpg.rf.8ae8179a2e725e878f486a327404d540.txt  \n",
            "  inflating: extracted_files/train/labels/images_jpg.rf.8b4e68e567a30143d775dc209b057c59.txt  \n",
            "  inflating: extracted_files/train/labels/images_jpg.rf.8be1fd71460a675388b17d7345ef75ef.txt  \n",
            "  inflating: extracted_files/train/labels/images_jpg.rf.8d8624234fab80314bd878ab0d7084d9.txt  \n",
            "  inflating: extracted_files/train/labels/images_jpg.rf.8f51c20a5aa986bea01fcce69596954a.txt  \n",
            "  inflating: extracted_files/train/labels/images_jpg.rf.8f5db8d7d247ac431d2d4a5a09ea1c1d.txt  \n",
            " extracting: extracted_files/train/labels/images_jpg.rf.8f6a5eb68a13427ac51cd4d21842f0e6.txt  \n",
            "  inflating: extracted_files/train/labels/images_jpg.rf.901215bb223b32822907ddd639dce42e.txt  \n",
            "  inflating: extracted_files/train/labels/images_jpg.rf.907232553d103042ed3b23cd80b44cb8.txt  \n",
            "  inflating: extracted_files/train/labels/images_jpg.rf.90827ab37a460af7fc7c5c23e0e96b0b.txt  \n",
            "  inflating: extracted_files/train/labels/images_jpg.rf.916b3733d8870d5470ffb735cbe89af8.txt  \n",
            "  inflating: extracted_files/train/labels/images_jpg.rf.93000f9f622d80ccbf9327d4475292df.txt  \n",
            "  inflating: extracted_files/train/labels/images_jpg.rf.930ad2ddbaa7b00567b0c72f3a46c946.txt  \n",
            "  inflating: extracted_files/train/labels/images_jpg.rf.95fa96aa4539e6697794d97d0e87a512.txt  \n",
            "  inflating: extracted_files/train/labels/images_jpg.rf.967ca4033ee4c6c08c60e2662edf7c3d.txt  \n",
            " extracting: extracted_files/train/labels/images_jpg.rf.967f9ce389558cd58a6253d70594dee0.txt  \n",
            "  inflating: extracted_files/train/labels/images_jpg.rf.987b55f4803f552917a48e6f0c385af5.txt  \n",
            "  inflating: extracted_files/train/labels/images_jpg.rf.99be55b5da34550663b42132a1a745f2.txt  \n",
            "  inflating: extracted_files/train/labels/images_jpg.rf.9c82327ff781cdc57a825677b9957c96.txt  \n",
            "  inflating: extracted_files/train/labels/images_jpg.rf.9c849110318afaddee8e57f1b1f8c030.txt  \n",
            "  inflating: extracted_files/train/labels/images_jpg.rf.9c88aeb751f9f7877ec2e736097127ea.txt  \n",
            "  inflating: extracted_files/train/labels/images_jpg.rf.9cfbe0775ef0968567cae157c72f1612.txt  \n",
            "  inflating: extracted_files/train/labels/images_jpg.rf.9d58622864da038223552020e442cbbd.txt  \n",
            "  inflating: extracted_files/train/labels/images_jpg.rf.9d6045482ade673a9b8d4830801617d1.txt  \n",
            "  inflating: extracted_files/train/labels/images_jpg.rf.9fbe6485688d00226d8babb3449e4b37.txt  \n",
            "  inflating: extracted_files/train/labels/images_jpg.rf.a0fc0bc44d9e7daa3f23d1cdce4b8c3e.txt  \n",
            " extracting: extracted_files/train/labels/images_jpg.rf.a15eef44b3e462047b7b91cc2f766090.txt  \n",
            "  inflating: extracted_files/train/labels/images_jpg.rf.a1f3a2d58cb1b71021ebe43654e068f0.txt  \n",
            "  inflating: extracted_files/train/labels/images_jpg.rf.a30b10ab3422b2560d0d47b2ee013e1b.txt  \n",
            "  inflating: extracted_files/train/labels/images_jpg.rf.a3317acd633d53c6c5abb99aa4c1e9e8.txt  \n",
            " extracting: extracted_files/train/labels/images_jpg.rf.a3ea099da664547a07102dcde0b8d8f0.txt  \n",
            "  inflating: extracted_files/train/labels/images_jpg.rf.a4bdf8268e3a6b9f3f475fa4d9bf806f.txt  \n",
            "  inflating: extracted_files/train/labels/images_jpg.rf.a53a846cf5b4500fd1c795cc654d0bc4.txt  \n",
            "  inflating: extracted_files/train/labels/images_jpg.rf.a5af4c4bb30e4f48b7f5127f85ecf743.txt  \n",
            "  inflating: extracted_files/train/labels/images_jpg.rf.a5e25248f583c5081396c0c27e34d891.txt  \n",
            "  inflating: extracted_files/train/labels/images_jpg.rf.a77589c924381b041012733afe56f3a1.txt  \n",
            "  inflating: extracted_files/train/labels/images_jpg.rf.a7c081444cc878582ee4c33cb3f6090d.txt  \n",
            "  inflating: extracted_files/train/labels/images_jpg.rf.a82fa05d37443d0431f4778ee16e5445.txt  \n",
            "  inflating: extracted_files/train/labels/images_jpg.rf.a86b859e332346bde9621762367aa5a1.txt  \n",
            "  inflating: extracted_files/train/labels/images_jpg.rf.aa96149e358e39d7680765011dd64d32.txt  \n",
            "  inflating: extracted_files/train/labels/images_jpg.rf.ab8ff721bc820adbeb8b4c5ee9f775e9.txt  \n",
            "  inflating: extracted_files/train/labels/images_jpg.rf.ad93389436f8c4b9539112f1a217f361.txt  \n",
            "  inflating: extracted_files/train/labels/images_jpg.rf.ae8ccd6ec6066e92d619a4aaee249236.txt  \n",
            "  inflating: extracted_files/train/labels/images_jpg.rf.af355eb48a5a18cba57cc8a848fafc13.txt  \n",
            "  inflating: extracted_files/train/labels/images_jpg.rf.afb3937aa32714af70bd37f4b3f7f126.txt  \n",
            "  inflating: extracted_files/train/labels/images_jpg.rf.b07e2e9325f275657044b0ddb42311fb.txt  \n",
            "  inflating: extracted_files/train/labels/images_jpg.rf.b1d73a739e72ad303be2050649bf8642.txt  \n",
            "  inflating: extracted_files/train/labels/images_jpg.rf.b205ad4b734c74a67bece5bf10edff04.txt  \n",
            "  inflating: extracted_files/train/labels/images_jpg.rf.b2a4c1f612c40cdfbd391bc80da075bd.txt  \n",
            "  inflating: extracted_files/train/labels/images_jpg.rf.b32ff2a4c9001d0cd082ec58034c8923.txt  \n",
            "  inflating: extracted_files/train/labels/images_jpg.rf.b354be765327f510a01bf48965e905ca.txt  \n",
            "  inflating: extracted_files/train/labels/images_jpg.rf.b53240e951bad4c58ca402abcb311170.txt  \n",
            "  inflating: extracted_files/train/labels/images_jpg.rf.b5879ba22b81815291f509edc672a70a.txt  \n",
            "  inflating: extracted_files/train/labels/images_jpg.rf.ba0d344bbddb1857846512100c975b85.txt  \n",
            "  inflating: extracted_files/train/labels/images_jpg.rf.bb576117fadb31a220119b186e227b13.txt  \n",
            " extracting: extracted_files/train/labels/images_jpg.rf.bbb9cbae255f19c10eadadcadc091488.txt  \n",
            "  inflating: extracted_files/train/labels/images_jpg.rf.bc03ae3d32545c7ebb7332fef14a95ca.txt  \n",
            "  inflating: extracted_files/train/labels/images_jpg.rf.bc3c681743f0f1aa6a548818ad878431.txt  \n",
            "  inflating: extracted_files/train/labels/images_jpg.rf.bc7ba0d32bbe501e6a691361cb98e7c4.txt  \n",
            "  inflating: extracted_files/train/labels/images_jpg.rf.bccca7ddc3fca23b37ddb8f57ffa6aed.txt  \n",
            "  inflating: extracted_files/train/labels/images_jpg.rf.bdbc15b08108b580ce4329c5859c99b8.txt  \n",
            "  inflating: extracted_files/train/labels/images_jpg.rf.be8fbb1fcac244c4347f48323d2bdc58.txt  \n",
            "  inflating: extracted_files/train/labels/images_jpg.rf.bf6ef1aeb1a1a7eb06eebe3146a6c989.txt  \n",
            "  inflating: extracted_files/train/labels/images_jpg.rf.c051d03cc7359b51d77f8007dfcebd5b.txt  \n",
            "  inflating: extracted_files/train/labels/images_jpg.rf.c0624d5d84536cf56857219ae505825e.txt  \n",
            "  inflating: extracted_files/train/labels/images_jpg.rf.c103d70292940e99f516c69e2825330e.txt  \n",
            "  inflating: extracted_files/train/labels/images_jpg.rf.c1f08513e5bbae2ea135d5592ae6f2f2.txt  \n",
            "  inflating: extracted_files/train/labels/images_jpg.rf.c273e85917c88e9f14576d46fa4c1bb4.txt  \n",
            "  inflating: extracted_files/train/labels/images_jpg.rf.c540a75813ec48bee204c2163f35ca16.txt  \n",
            "  inflating: extracted_files/train/labels/images_jpg.rf.c5cf4224ddf8bac1a1e871e4f1fa2a07.txt  \n",
            "  inflating: extracted_files/train/labels/images_jpg.rf.c7c03f3040b21b70e15f3f6873f9a8f0.txt  \n",
            "  inflating: extracted_files/train/labels/images_jpg.rf.c8fa1eb117331ae05be4783b37b49947.txt  \n",
            "  inflating: extracted_files/train/labels/images_jpg.rf.c965cb8cc6294428dfb595d0ca449a89.txt  \n",
            "  inflating: extracted_files/train/labels/images_jpg.rf.cb0210a9b925786896d851d8032fdae5.txt  \n",
            "  inflating: extracted_files/train/labels/images_jpg.rf.cb26b54fba052805ecad5cd32c23c9f8.txt  \n",
            "  inflating: extracted_files/train/labels/images_jpg.rf.cbb2aa29b90c780ccc02985ad449e616.txt  \n",
            "  inflating: extracted_files/train/labels/images_jpg.rf.ce683978a75da3b796677119804d5f2a.txt  \n",
            "  inflating: extracted_files/train/labels/images_jpg.rf.ceca039c7d8a6541145715461739f93b.txt  \n",
            "  inflating: extracted_files/train/labels/images_jpg.rf.cf159706efb7a2f8132f6036ecfb594d.txt  \n",
            "  inflating: extracted_files/train/labels/images_jpg.rf.d180415ab5644d6f14f33d94c7cc7846.txt  \n",
            "  inflating: extracted_files/train/labels/images_jpg.rf.d325c393766c82cf5e7a86fbee01181e.txt  \n",
            "  inflating: extracted_files/train/labels/images_jpg.rf.d46b4d562e31632d91996d21c89c3c71.txt  \n",
            "  inflating: extracted_files/train/labels/images_jpg.rf.d59570a6c3318e2c0328cfb5bcd068f0.txt  \n",
            "  inflating: extracted_files/train/labels/images_jpg.rf.d766da8a2ebd54a539cc8db70a41a2a0.txt  \n",
            "  inflating: extracted_files/train/labels/images_jpg.rf.d7a63c99c37793bae49d5441a3d35693.txt  \n",
            "  inflating: extracted_files/train/labels/images_jpg.rf.d861f66dae04e79c9e3c1a2cf4d94223.txt  \n",
            "  inflating: extracted_files/train/labels/images_jpg.rf.d868dbbb2832a750ec7ff07f75d87f87.txt  \n",
            " extracting: extracted_files/train/labels/images_jpg.rf.d8ba6baa504dd60cd987a1f2970d62fb.txt  \n",
            "  inflating: extracted_files/train/labels/images_jpg.rf.d8fcf6c39df10940788a42d2cde6d60b.txt  \n",
            "  inflating: extracted_files/train/labels/images_jpg.rf.d9a92e34355eec51f15ce347b043762e.txt  \n",
            "  inflating: extracted_files/train/labels/images_jpg.rf.da2c17cf06f34d3456a64953c5dc6374.txt  \n",
            "  inflating: extracted_files/train/labels/images_jpg.rf.dd4e334b03210298046a71965c582041.txt  \n",
            "  inflating: extracted_files/train/labels/images_jpg.rf.de4812d56924509341eea07fbd778ed7.txt  \n",
            "  inflating: extracted_files/train/labels/images_jpg.rf.de916d9dad093edb1b77f45af12f9eb6.txt  \n",
            "  inflating: extracted_files/train/labels/images_jpg.rf.e0f6b417ae77986cdfcf25aff88a0ba2.txt  \n",
            "  inflating: extracted_files/train/labels/images_jpg.rf.e164e2cfabfd59e63c377f8779810173.txt  \n",
            "  inflating: extracted_files/train/labels/images_jpg.rf.e3eeb00823d38a644fb15c7aa8b343d3.txt  \n",
            "  inflating: extracted_files/train/labels/images_jpg.rf.e4a66f8e1c100094383f41f05d03d86f.txt  \n",
            " extracting: extracted_files/train/labels/images_jpg.rf.e4df5aabe883c413ac312d92bc8e2818.txt  \n",
            "  inflating: extracted_files/train/labels/images_jpg.rf.e5657a10c1aabe2e9c31ac7687f5117d.txt  \n",
            "  inflating: extracted_files/train/labels/images_jpg.rf.e9b26ab706419bd325cf4359e173b8f4.txt  \n",
            "  inflating: extracted_files/train/labels/images_jpg.rf.ea84524dfa56e8af5938cdc8276861e0.txt  \n",
            "  inflating: extracted_files/train/labels/images_jpg.rf.eb4f8edd81f99a872043fb365c8c7fc9.txt  \n",
            "  inflating: extracted_files/train/labels/images_jpg.rf.eda945103788a73c86d5256db7a8258d.txt  \n",
            "  inflating: extracted_files/train/labels/images_jpg.rf.f024f936bf541e7eec47b9f071025ced.txt  \n",
            "  inflating: extracted_files/train/labels/images_jpg.rf.f02c3db0d0e3cbfb6b430340cc5a1124.txt  \n",
            "  inflating: extracted_files/train/labels/images_jpg.rf.f2c25b25fa9c6a1e2dd689b18d4e234a.txt  \n",
            "  inflating: extracted_files/train/labels/images_jpg.rf.f309573aa4630aaa440c72d5a827002c.txt  \n",
            "  inflating: extracted_files/train/labels/images_jpg.rf.f376e3f991cf3432fc0bf3e5639f00e4.txt  \n",
            "  inflating: extracted_files/train/labels/images_jpg.rf.f4e85572010da8ab64a56d6447a0cf46.txt  \n",
            "  inflating: extracted_files/train/labels/images_jpg.rf.f4ecd76adfe753c813f232e29f38431d.txt  \n",
            "  inflating: extracted_files/train/labels/images_jpg.rf.f5afa495aeed15d5dd7f5fdd413c4c0a.txt  \n",
            "  inflating: extracted_files/train/labels/images_jpg.rf.f5f033987e4825e0b1d97d85cc719b91.txt  \n",
            "  inflating: extracted_files/train/labels/images_jpg.rf.f8f3fb21e960c18b15f8a1a8c2d5929b.txt  \n",
            "  inflating: extracted_files/train/labels/images_jpg.rf.f9dd43925832b2dddb8c361ecbde1596.txt  \n",
            "  inflating: extracted_files/train/labels/images_jpg.rf.faec82b0ee36755a5a88e1a7efcff5f4.txt  \n",
            "  inflating: extracted_files/train/labels/images_jpg.rf.fb01864ddfbd1eec30f218dee34a405e.txt  \n",
            " extracting: extracted_files/train/labels/images_jpg.rf.fbb252706a49781d1258bc752feb98f9.txt  \n",
            "  inflating: extracted_files/train/labels/images_jpg.rf.fbf031e4005f82eee0aabcc702835257.txt  \n",
            "  inflating: extracted_files/train/labels/thit-vai-heo-kho-xa-xi-recipe-main-photo_jpg.rf.fff6736ac533b06e1cb6b826be629ac9.txt  \n",
            "  inflating: extracted_files/train/labels/trung-chien-cha-bong-recipe-main-photo_jpg.rf.e5d869cf113626d19a36e636a6a2da2b.txt  \n",
            "   creating: extracted_files/valid/\n",
            "   creating: extracted_files/valid/images/\n",
            " extracting: extracted_files/valid/images/01f64d52790acc54951b_jpg.rf.2a1f65826ab9f92c3542f2967bb2bc15.jpg  \n",
            " extracting: extracted_files/valid/images/3210ab319f692a377378_jpg.rf.ed70ca4f0590cbe8c699cc12e5cc97c7.jpg  \n",
            " extracting: extracted_files/valid/images/3f549a6b973d22637b2c_jpg.rf.2a0fd78ad56e87c7aa9eafaec6e5aabf.jpg  \n",
            " extracting: extracted_files/valid/images/42bfe93add62683c3173_jpg.rf.2cd1b0a8f5c992b96be25a9393d5ec86.jpg  \n",
            " extracting: extracted_files/valid/images/473f51786520d07e8931_jpg.rf.c3dda8a754057258a2cfb20ca9ef4fda.jpg  \n",
            " extracting: extracted_files/valid/images/8c256c7c5824ed7ab435_jpg.rf.680dd7b8a7077c37b55916e03d7b324c.jpg  \n",
            " extracting: extracted_files/valid/images/9768e391edc7589901d6_jpg.rf.2cb8302fbacfe258c0dbd682f75a8b86.jpg  \n",
            " extracting: extracted_files/valid/images/IMG_0800_png.rf.df953b6324ab504a143bfc3b23cb9355.jpg  \n",
            " extracting: extracted_files/valid/images/IMG_1546_png.rf.39e95adee3312b108a53023fbbc9207c.jpg  \n",
            " extracting: extracted_files/valid/images/IMG_1561_png.rf.853b13d5a0070e9660cdbcd1f1029f6c.jpg  \n",
            " extracting: extracted_files/valid/images/IMG_1596_png.rf.0fa414264a689d55421556522eb9a17b.jpg  \n",
            " extracting: extracted_files/valid/images/IMG_1622_png.rf.4d4767741e1ed7d0f58487ba603455cc.jpg  \n",
            " extracting: extracted_files/valid/images/IMG_1638_png.rf.c2944f8a5d0ac70d027b0d2d174427ab.jpg  \n",
            " extracting: extracted_files/valid/images/IMG_1664_png.rf.00aac89a3c9d6dab4c90554cb47c8cd5.jpg  \n",
            " extracting: extracted_files/valid/images/IMG_1688_png.rf.c598affd4196ee0070c2ce1315d71d1a.jpg  \n",
            " extracting: extracted_files/valid/images/IMG_1694_png.rf.262d74eff276ac107204246b7250a7a1.jpg  \n",
            " extracting: extracted_files/valid/images/IMG_1718_png.rf.86afa66e97d74e4420248194d5d93991.jpg  \n",
            " extracting: extracted_files/valid/images/IMG_1738_png.rf.3a710b198186b2f25c941a98e2d8083c.jpg  \n",
            " extracting: extracted_files/valid/images/IMG_1768_png.rf.1cf4f2e05f3e256a938dea816c7dd72c.jpg  \n",
            " extracting: extracted_files/valid/images/IMG_1823_png.rf.66a670b6d6ed83bec9c6e2518eae3ea6.jpg  \n",
            " extracting: extracted_files/valid/images/IMG_1824-1-_png.rf.55a9fc5425f096e0d9361be155fee13f.jpg  \n",
            " extracting: extracted_files/valid/images/IMG_1835_png.rf.ccfb08a97c676cfcb20d7cb81ad3d65c.jpg  \n",
            " extracting: extracted_files/valid/images/IMG_1842_png.rf.15d61306dc98f70c9a0a064d302d06cb.jpg  \n",
            " extracting: extracted_files/valid/images/IMG_1866_png.rf.49b62a530d410d2a3520f4108f5a6260.jpg  \n",
            " extracting: extracted_files/valid/images/IMG_1872_png.rf.e3848176332d8cd8b34e73ba7976532f.jpg  \n",
            " extracting: extracted_files/valid/images/IMG_1889_png.rf.c742dc646eff11641a80923def5363d0.jpg  \n",
            " extracting: extracted_files/valid/images/IMG_1899_png.rf.c1daf1e97f2c20f5caca2aecba9c3170.jpg  \n",
            " extracting: extracted_files/valid/images/IMG_1947_png.rf.86e79ed4854226eed71ae456b5d8c90e.jpg  \n",
            " extracting: extracted_files/valid/images/IMG_1964-1-_png.rf.8ad8afbdec6b543484f8f5274b8dd777.jpg  \n",
            " extracting: extracted_files/valid/images/IMG_2059_png.rf.4a41824c766b945ad2f22ff4a23b0ef0.jpg  \n",
            " extracting: extracted_files/valid/images/IMG_2073_png.rf.81b21020f543a013ff2d598579d78a37.jpg  \n",
            " extracting: extracted_files/valid/images/IMG_2102_png.rf.ec64b6fa6e189a7167c7aa527cf7f72d.jpg  \n",
            " extracting: extracted_files/valid/images/IMG_2129_png.rf.77ebf2a02a78c9320faa0b8254187ed9.jpg  \n",
            " extracting: extracted_files/valid/images/IMG_2168_png.rf.427e3892cec126202b6a9409dfc5ea3b.jpg  \n",
            " extracting: extracted_files/valid/images/IMG_2208_png.rf.5cb9fad7a3a005d9e808353c31a89053.jpg  \n",
            " extracting: extracted_files/valid/images/IMG_2209_png.rf.794df27d858ebb6314167fd9a27a23d7.jpg  \n",
            " extracting: extracted_files/valid/images/IMG_2213_png.rf.541729404553f51c16fd53211272f928.jpg  \n",
            " extracting: extracted_files/valid/images/IMG_2259-1-_png.rf.eb63d9cafe963b179a52089bf5247752.jpg  \n",
            " extracting: extracted_files/valid/images/c361ba1fca8878d62199_jpg.rf.c02f7f6c8c7e5a1f7537af4c8013eba8.jpg  \n",
            " extracting: extracted_files/valid/images/ca-kho-to-cung-canh-chua_webp.rf.5d56455a3f13d49e1e474dd6a26a05f8.jpg  \n",
            " extracting: extracted_files/valid/images/ce2a8b71bf290a775338_jpg.rf.ca9a5f1c46e576d3eff988a772b0b133.jpg  \n",
            " extracting: extracted_files/valid/images/cefd53a72330916ec821_jpg.rf.04d7de872aa3254fb9562608401fde40.jpg  \n",
            " extracting: extracted_files/valid/images/d59326dc1284a7dafe95_jpg.rf.9a433625d609c0c1ee309a0170eca969.jpg  \n",
            " extracting: extracted_files/valid/images/de1ecb36c660733e2a71_jpg.rf.a30a8fb0a75a5a81ce0f2782fb68857a.jpg  \n",
            " extracting: extracted_files/valid/images/download_jpg.rf.34f89bad44ce1e63a4d4104fe6867021.jpg  \n",
            " extracting: extracted_files/valid/images/download_jpg.rf.95d725713c50eaecdbba6b5093e38390.jpg  \n",
            " extracting: extracted_files/valid/images/images_jpg.rf.0c36a07b331c459a0b1723ab30ee846f.jpg  \n",
            " extracting: extracted_files/valid/images/images_jpg.rf.2d93caa86627acaf22e9842c461a4615.jpg  \n",
            " extracting: extracted_files/valid/images/images_jpg.rf.57530def0ac0828f8ea33eebdac856c3.jpg  \n",
            " extracting: extracted_files/valid/images/images_jpg.rf.65b7d5953900e1d4bf683317a8ed54c2.jpg  \n",
            " extracting: extracted_files/valid/images/images_jpg.rf.7b1434e549b1d57224382aeef2b51a84.jpg  \n",
            " extracting: extracted_files/valid/images/images_jpg.rf.7c161a4b3b7e4b4618a787c2b552e5c7.jpg  \n",
            " extracting: extracted_files/valid/images/images_jpg.rf.8999fd112c612d76a5b6ba41e3434d83.jpg  \n",
            " extracting: extracted_files/valid/images/images_jpg.rf.97230df1738274f4a138b5676199c193.jpg  \n",
            " extracting: extracted_files/valid/images/images_jpg.rf.d4d4346abb247eb4ae1cb322b4591e3e.jpg  \n",
            " extracting: extracted_files/valid/images/images_jpg.rf.f98179484c83006de36863200286c029.jpg  \n",
            "   creating: extracted_files/valid/labels/\n",
            "  inflating: extracted_files/valid/labels/01f64d52790acc54951b_jpg.rf.2a1f65826ab9f92c3542f2967bb2bc15.txt  \n",
            "  inflating: extracted_files/valid/labels/3210ab319f692a377378_jpg.rf.ed70ca4f0590cbe8c699cc12e5cc97c7.txt  \n",
            "  inflating: extracted_files/valid/labels/3f549a6b973d22637b2c_jpg.rf.2a0fd78ad56e87c7aa9eafaec6e5aabf.txt  \n",
            "  inflating: extracted_files/valid/labels/42bfe93add62683c3173_jpg.rf.2cd1b0a8f5c992b96be25a9393d5ec86.txt  \n",
            "  inflating: extracted_files/valid/labels/473f51786520d07e8931_jpg.rf.c3dda8a754057258a2cfb20ca9ef4fda.txt  \n",
            "  inflating: extracted_files/valid/labels/8c256c7c5824ed7ab435_jpg.rf.680dd7b8a7077c37b55916e03d7b324c.txt  \n",
            "  inflating: extracted_files/valid/labels/9768e391edc7589901d6_jpg.rf.2cb8302fbacfe258c0dbd682f75a8b86.txt  \n",
            "  inflating: extracted_files/valid/labels/IMG_0800_png.rf.df953b6324ab504a143bfc3b23cb9355.txt  \n",
            "  inflating: extracted_files/valid/labels/IMG_1546_png.rf.39e95adee3312b108a53023fbbc9207c.txt  \n",
            "  inflating: extracted_files/valid/labels/IMG_1561_png.rf.853b13d5a0070e9660cdbcd1f1029f6c.txt  \n",
            "  inflating: extracted_files/valid/labels/IMG_1596_png.rf.0fa414264a689d55421556522eb9a17b.txt  \n",
            "  inflating: extracted_files/valid/labels/IMG_1622_png.rf.4d4767741e1ed7d0f58487ba603455cc.txt  \n",
            "  inflating: extracted_files/valid/labels/IMG_1638_png.rf.c2944f8a5d0ac70d027b0d2d174427ab.txt  \n",
            "  inflating: extracted_files/valid/labels/IMG_1664_png.rf.00aac89a3c9d6dab4c90554cb47c8cd5.txt  \n",
            "  inflating: extracted_files/valid/labels/IMG_1688_png.rf.c598affd4196ee0070c2ce1315d71d1a.txt  \n",
            "  inflating: extracted_files/valid/labels/IMG_1694_png.rf.262d74eff276ac107204246b7250a7a1.txt  \n",
            "  inflating: extracted_files/valid/labels/IMG_1718_png.rf.86afa66e97d74e4420248194d5d93991.txt  \n",
            "  inflating: extracted_files/valid/labels/IMG_1738_png.rf.3a710b198186b2f25c941a98e2d8083c.txt  \n",
            "  inflating: extracted_files/valid/labels/IMG_1768_png.rf.1cf4f2e05f3e256a938dea816c7dd72c.txt  \n",
            "  inflating: extracted_files/valid/labels/IMG_1823_png.rf.66a670b6d6ed83bec9c6e2518eae3ea6.txt  \n",
            " extracting: extracted_files/valid/labels/IMG_1824-1-_png.rf.55a9fc5425f096e0d9361be155fee13f.txt  \n",
            "  inflating: extracted_files/valid/labels/IMG_1835_png.rf.ccfb08a97c676cfcb20d7cb81ad3d65c.txt  \n",
            "  inflating: extracted_files/valid/labels/IMG_1842_png.rf.15d61306dc98f70c9a0a064d302d06cb.txt  \n",
            "  inflating: extracted_files/valid/labels/IMG_1866_png.rf.49b62a530d410d2a3520f4108f5a6260.txt  \n",
            "  inflating: extracted_files/valid/labels/IMG_1872_png.rf.e3848176332d8cd8b34e73ba7976532f.txt  \n",
            "  inflating: extracted_files/valid/labels/IMG_1889_png.rf.c742dc646eff11641a80923def5363d0.txt  \n",
            "  inflating: extracted_files/valid/labels/IMG_1899_png.rf.c1daf1e97f2c20f5caca2aecba9c3170.txt  \n",
            "  inflating: extracted_files/valid/labels/IMG_1947_png.rf.86e79ed4854226eed71ae456b5d8c90e.txt  \n",
            "  inflating: extracted_files/valid/labels/IMG_1964-1-_png.rf.8ad8afbdec6b543484f8f5274b8dd777.txt  \n",
            "  inflating: extracted_files/valid/labels/IMG_2059_png.rf.4a41824c766b945ad2f22ff4a23b0ef0.txt  \n",
            "  inflating: extracted_files/valid/labels/IMG_2073_png.rf.81b21020f543a013ff2d598579d78a37.txt  \n",
            "  inflating: extracted_files/valid/labels/IMG_2102_png.rf.ec64b6fa6e189a7167c7aa527cf7f72d.txt  \n",
            "  inflating: extracted_files/valid/labels/IMG_2129_png.rf.77ebf2a02a78c9320faa0b8254187ed9.txt  \n",
            "  inflating: extracted_files/valid/labels/IMG_2168_png.rf.427e3892cec126202b6a9409dfc5ea3b.txt  \n",
            "  inflating: extracted_files/valid/labels/IMG_2208_png.rf.5cb9fad7a3a005d9e808353c31a89053.txt  \n",
            "  inflating: extracted_files/valid/labels/IMG_2209_png.rf.794df27d858ebb6314167fd9a27a23d7.txt  \n",
            "  inflating: extracted_files/valid/labels/IMG_2213_png.rf.541729404553f51c16fd53211272f928.txt  \n",
            "  inflating: extracted_files/valid/labels/IMG_2259-1-_png.rf.eb63d9cafe963b179a52089bf5247752.txt  \n",
            "  inflating: extracted_files/valid/labels/c361ba1fca8878d62199_jpg.rf.c02f7f6c8c7e5a1f7537af4c8013eba8.txt  \n",
            "  inflating: extracted_files/valid/labels/ca-kho-to-cung-canh-chua_webp.rf.5d56455a3f13d49e1e474dd6a26a05f8.txt  \n",
            "  inflating: extracted_files/valid/labels/ce2a8b71bf290a775338_jpg.rf.ca9a5f1c46e576d3eff988a772b0b133.txt  \n",
            "  inflating: extracted_files/valid/labels/cefd53a72330916ec821_jpg.rf.04d7de872aa3254fb9562608401fde40.txt  \n",
            "  inflating: extracted_files/valid/labels/d59326dc1284a7dafe95_jpg.rf.9a433625d609c0c1ee309a0170eca969.txt  \n",
            "  inflating: extracted_files/valid/labels/de1ecb36c660733e2a71_jpg.rf.a30a8fb0a75a5a81ce0f2782fb68857a.txt  \n",
            "  inflating: extracted_files/valid/labels/download_jpg.rf.34f89bad44ce1e63a4d4104fe6867021.txt  \n",
            "  inflating: extracted_files/valid/labels/download_jpg.rf.95d725713c50eaecdbba6b5093e38390.txt  \n",
            "  inflating: extracted_files/valid/labels/images_jpg.rf.0c36a07b331c459a0b1723ab30ee846f.txt  \n",
            "  inflating: extracted_files/valid/labels/images_jpg.rf.2d93caa86627acaf22e9842c461a4615.txt  \n",
            "  inflating: extracted_files/valid/labels/images_jpg.rf.57530def0ac0828f8ea33eebdac856c3.txt  \n",
            "  inflating: extracted_files/valid/labels/images_jpg.rf.65b7d5953900e1d4bf683317a8ed54c2.txt  \n",
            "  inflating: extracted_files/valid/labels/images_jpg.rf.7b1434e549b1d57224382aeef2b51a84.txt  \n",
            "  inflating: extracted_files/valid/labels/images_jpg.rf.7c161a4b3b7e4b4618a787c2b552e5c7.txt  \n",
            "  inflating: extracted_files/valid/labels/images_jpg.rf.8999fd112c612d76a5b6ba41e3434d83.txt  \n",
            "  inflating: extracted_files/valid/labels/images_jpg.rf.97230df1738274f4a138b5676199c193.txt  \n",
            "  inflating: extracted_files/valid/labels/images_jpg.rf.d4d4346abb247eb4ae1cb322b4591e3e.txt  \n",
            "  inflating: extracted_files/valid/labels/images_jpg.rf.f98179484c83006de36863200286c029.txt  \n"
          ]
        }
      ],
      "source": [
        "from google.colab import files\n",
        "import shlex\n",
        "uploaded = files.upload()\n",
        "filename = next(iter(uploaded))\n",
        "!ls -lh {shlex.quote(filename)}\n",
        "!unzip {shlex.quote(filename)} -d extracted_files"
      ]
    },
    {
      "cell_type": "code",
      "execution_count": null,
      "metadata": {
        "colab": {
          "base_uri": "https://localhost:8080/"
        },
        "id": "skNAO-Vz9GBx",
        "outputId": "4b82d6b9-f230-42e0-ea05-6037247b6b55"
      },
      "outputs": [
        {
          "name": "stdout",
          "output_type": "stream",
          "text": [
            "Mounted at /content/drive\n"
          ]
        }
      ],
      "source": [
        "from google.colab import drive\n",
        "drive.mount('/content/drive')"
      ]
    },
    {
      "cell_type": "code",
      "execution_count": null,
      "metadata": {
        "id": "ckcTrXwSML3q"
      },
      "outputs": [],
      "source": []
    },
    {
      "cell_type": "code",
      "execution_count": null,
      "metadata": {
        "id": "K1_lxpQcV-HQ"
      },
      "outputs": [],
      "source": []
    },
    {
      "cell_type": "code",
      "execution_count": 3,
      "metadata": {
        "colab": {
          "base_uri": "https://localhost:8080/"
        },
        "id": "gnJK_9_ut-q5",
        "outputId": "1c371e62-de4f-4960-fd11-7467906b8cb5"
      },
      "outputs": [
        {
          "metadata": {
            "tags": null
          },
          "name": "stdout",
          "output_type": "stream",
          "text": [
            "Collecting ultralytics\n",
            "  Using cached ultralytics-8.3.137-py3-none-any.whl.metadata (37 kB)\n",
            "Requirement already satisfied: numpy>=1.23.0 in /usr/local/lib/python3.11/dist-packages (from ultralytics) (2.0.2)\n",
            "Requirement already satisfied: matplotlib>=3.3.0 in /usr/local/lib/python3.11/dist-packages (from ultralytics) (3.10.0)\n",
            "Requirement already satisfied: opencv-python>=4.6.0 in /usr/local/lib/python3.11/dist-packages (from ultralytics) (4.11.0.86)\n",
            "Requirement already satisfied: pillow>=7.1.2 in /usr/local/lib/python3.11/dist-packages (from ultralytics) (11.2.1)\n",
            "Requirement already satisfied: pyyaml>=5.3.1 in /usr/local/lib/python3.11/dist-packages (from ultralytics) (6.0.2)\n",
            "Requirement already satisfied: requests>=2.23.0 in /usr/local/lib/python3.11/dist-packages (from ultralytics) (2.32.3)\n",
            "Requirement already satisfied: scipy>=1.4.1 in /usr/local/lib/python3.11/dist-packages (from ultralytics) (1.15.3)\n",
            "Requirement already satisfied: torch>=1.8.0 in /usr/local/lib/python3.11/dist-packages (from ultralytics) (2.6.0+cu124)\n",
            "Requirement already satisfied: torchvision>=0.9.0 in /usr/local/lib/python3.11/dist-packages (from ultralytics) (0.21.0+cu124)\n",
            "Requirement already satisfied: tqdm>=4.64.0 in /usr/local/lib/python3.11/dist-packages (from ultralytics) (4.67.1)\n",
            "Requirement already satisfied: psutil in /usr/local/lib/python3.11/dist-packages (from ultralytics) (5.9.5)\n",
            "Requirement already satisfied: py-cpuinfo in /usr/local/lib/python3.11/dist-packages (from ultralytics) (9.0.0)\n",
            "Requirement already satisfied: pandas>=1.1.4 in /usr/local/lib/python3.11/dist-packages (from ultralytics) (2.2.2)\n",
            "Collecting ultralytics-thop>=2.0.0 (from ultralytics)\n",
            "  Using cached ultralytics_thop-2.0.14-py3-none-any.whl.metadata (9.4 kB)\n",
            "Requirement already satisfied: contourpy>=1.0.1 in /usr/local/lib/python3.11/dist-packages (from matplotlib>=3.3.0->ultralytics) (1.3.2)\n",
            "Requirement already satisfied: cycler>=0.10 in /usr/local/lib/python3.11/dist-packages (from matplotlib>=3.3.0->ultralytics) (0.12.1)\n",
            "Requirement already satisfied: fonttools>=4.22.0 in /usr/local/lib/python3.11/dist-packages (from matplotlib>=3.3.0->ultralytics) (4.58.0)\n",
            "Requirement already satisfied: kiwisolver>=1.3.1 in /usr/local/lib/python3.11/dist-packages (from matplotlib>=3.3.0->ultralytics) (1.4.8)\n",
            "Requirement already satisfied: packaging>=20.0 in /usr/local/lib/python3.11/dist-packages (from matplotlib>=3.3.0->ultralytics) (24.2)\n",
            "Requirement already satisfied: pyparsing>=2.3.1 in /usr/local/lib/python3.11/dist-packages (from matplotlib>=3.3.0->ultralytics) (3.2.3)\n",
            "Requirement already satisfied: python-dateutil>=2.7 in /usr/local/lib/python3.11/dist-packages (from matplotlib>=3.3.0->ultralytics) (2.9.0.post0)\n",
            "Requirement already satisfied: pytz>=2020.1 in /usr/local/lib/python3.11/dist-packages (from pandas>=1.1.4->ultralytics) (2025.2)\n",
            "Requirement already satisfied: tzdata>=2022.7 in /usr/local/lib/python3.11/dist-packages (from pandas>=1.1.4->ultralytics) (2025.2)\n",
            "Requirement already satisfied: charset-normalizer<4,>=2 in /usr/local/lib/python3.11/dist-packages (from requests>=2.23.0->ultralytics) (3.4.2)\n",
            "Requirement already satisfied: idna<4,>=2.5 in /usr/local/lib/python3.11/dist-packages (from requests>=2.23.0->ultralytics) (3.10)\n",
            "Requirement already satisfied: urllib3<3,>=1.21.1 in /usr/local/lib/python3.11/dist-packages (from requests>=2.23.0->ultralytics) (2.4.0)\n",
            "Requirement already satisfied: certifi>=2017.4.17 in /usr/local/lib/python3.11/dist-packages (from requests>=2.23.0->ultralytics) (2025.4.26)\n",
            "Requirement already satisfied: filelock in /usr/local/lib/python3.11/dist-packages (from torch>=1.8.0->ultralytics) (3.18.0)\n",
            "Requirement already satisfied: typing-extensions>=4.10.0 in /usr/local/lib/python3.11/dist-packages (from torch>=1.8.0->ultralytics) (4.13.2)\n",
            "Requirement already satisfied: networkx in /usr/local/lib/python3.11/dist-packages (from torch>=1.8.0->ultralytics) (3.4.2)\n",
            "Requirement already satisfied: jinja2 in /usr/local/lib/python3.11/dist-packages (from torch>=1.8.0->ultralytics) (3.1.6)\n",
            "Requirement already satisfied: fsspec in /usr/local/lib/python3.11/dist-packages (from torch>=1.8.0->ultralytics) (2025.3.2)\n",
            "Collecting nvidia-cuda-nvrtc-cu12==12.4.127 (from torch>=1.8.0->ultralytics)\n",
            "  Using cached nvidia_cuda_nvrtc_cu12-12.4.127-py3-none-manylinux2014_x86_64.whl.metadata (1.5 kB)\n",
            "Collecting nvidia-cuda-runtime-cu12==12.4.127 (from torch>=1.8.0->ultralytics)\n",
            "  Using cached nvidia_cuda_runtime_cu12-12.4.127-py3-none-manylinux2014_x86_64.whl.metadata (1.5 kB)\n",
            "Collecting nvidia-cuda-cupti-cu12==12.4.127 (from torch>=1.8.0->ultralytics)\n",
            "  Using cached nvidia_cuda_cupti_cu12-12.4.127-py3-none-manylinux2014_x86_64.whl.metadata (1.6 kB)\n",
            "Collecting nvidia-cudnn-cu12==9.1.0.70 (from torch>=1.8.0->ultralytics)\n",
            "  Using cached nvidia_cudnn_cu12-9.1.0.70-py3-none-manylinux2014_x86_64.whl.metadata (1.6 kB)\n",
            "Collecting nvidia-cublas-cu12==12.4.5.8 (from torch>=1.8.0->ultralytics)\n",
            "  Using cached nvidia_cublas_cu12-12.4.5.8-py3-none-manylinux2014_x86_64.whl.metadata (1.5 kB)\n",
            "Collecting nvidia-cufft-cu12==11.2.1.3 (from torch>=1.8.0->ultralytics)\n",
            "  Using cached nvidia_cufft_cu12-11.2.1.3-py3-none-manylinux2014_x86_64.whl.metadata (1.5 kB)\n",
            "Collecting nvidia-curand-cu12==10.3.5.147 (from torch>=1.8.0->ultralytics)\n",
            "  Using cached nvidia_curand_cu12-10.3.5.147-py3-none-manylinux2014_x86_64.whl.metadata (1.5 kB)\n",
            "Collecting nvidia-cusolver-cu12==11.6.1.9 (from torch>=1.8.0->ultralytics)\n",
            "  Using cached nvidia_cusolver_cu12-11.6.1.9-py3-none-manylinux2014_x86_64.whl.metadata (1.6 kB)\n",
            "Collecting nvidia-cusparse-cu12==12.3.1.170 (from torch>=1.8.0->ultralytics)\n",
            "  Using cached nvidia_cusparse_cu12-12.3.1.170-py3-none-manylinux2014_x86_64.whl.metadata (1.6 kB)\n",
            "Requirement already satisfied: nvidia-cusparselt-cu12==0.6.2 in /usr/local/lib/python3.11/dist-packages (from torch>=1.8.0->ultralytics) (0.6.2)\n",
            "Requirement already satisfied: nvidia-nccl-cu12==2.21.5 in /usr/local/lib/python3.11/dist-packages (from torch>=1.8.0->ultralytics) (2.21.5)\n",
            "Requirement already satisfied: nvidia-nvtx-cu12==12.4.127 in /usr/local/lib/python3.11/dist-packages (from torch>=1.8.0->ultralytics) (12.4.127)\n",
            "Collecting nvidia-nvjitlink-cu12==12.4.127 (from torch>=1.8.0->ultralytics)\n",
            "  Using cached nvidia_nvjitlink_cu12-12.4.127-py3-none-manylinux2014_x86_64.whl.metadata (1.5 kB)\n",
            "Requirement already satisfied: triton==3.2.0 in /usr/local/lib/python3.11/dist-packages (from torch>=1.8.0->ultralytics) (3.2.0)\n",
            "Requirement already satisfied: sympy==1.13.1 in /usr/local/lib/python3.11/dist-packages (from torch>=1.8.0->ultralytics) (1.13.1)\n",
            "Requirement already satisfied: mpmath<1.4,>=1.1.0 in /usr/local/lib/python3.11/dist-packages (from sympy==1.13.1->torch>=1.8.0->ultralytics) (1.3.0)\n",
            "Requirement already satisfied: six>=1.5 in /usr/local/lib/python3.11/dist-packages (from python-dateutil>=2.7->matplotlib>=3.3.0->ultralytics) (1.17.0)\n",
            "Requirement already satisfied: MarkupSafe>=2.0 in /usr/local/lib/python3.11/dist-packages (from jinja2->torch>=1.8.0->ultralytics) (3.0.2)\n",
            "Using cached ultralytics-8.3.137-py3-none-any.whl (1.0 MB)\n",
            "Using cached nvidia_cublas_cu12-12.4.5.8-py3-none-manylinux2014_x86_64.whl (363.4 MB)\n",
            "Using cached nvidia_cuda_cupti_cu12-12.4.127-py3-none-manylinux2014_x86_64.whl (13.8 MB)\n",
            "Using cached nvidia_cuda_nvrtc_cu12-12.4.127-py3-none-manylinux2014_x86_64.whl (24.6 MB)\n",
            "Using cached nvidia_cuda_runtime_cu12-12.4.127-py3-none-manylinux2014_x86_64.whl (883 kB)\n",
            "Using cached nvidia_cudnn_cu12-9.1.0.70-py3-none-manylinux2014_x86_64.whl (664.8 MB)\n",
            "Using cached nvidia_cufft_cu12-11.2.1.3-py3-none-manylinux2014_x86_64.whl (211.5 MB)\n",
            "Using cached nvidia_curand_cu12-10.3.5.147-py3-none-manylinux2014_x86_64.whl (56.3 MB)\n",
            "Downloading nvidia_cusolver_cu12-11.6.1.9-py3-none-manylinux2014_x86_64.whl (127.9 MB)\n",
            "\u001b[2K   \u001b[90m━━━━━━━━━━━━━━━━━━━━━━━━━━━━━━━━━━━━━━━━\u001b[0m \u001b[32m127.9/127.9 MB\u001b[0m \u001b[31m7.1 MB/s\u001b[0m eta \u001b[36m0:00:00\u001b[0m\n",
            "\u001b[?25hDownloading nvidia_cusparse_cu12-12.3.1.170-py3-none-manylinux2014_x86_64.whl (207.5 MB)\n",
            "\u001b[2K   \u001b[90m━━━━━━━━━━━━━━━━━━━━━━━━━━━━━━━━━━━━━━━━\u001b[0m \u001b[32m207.5/207.5 MB\u001b[0m \u001b[31m6.3 MB/s\u001b[0m eta \u001b[36m0:00:00\u001b[0m\n",
            "\u001b[?25hDownloading nvidia_nvjitlink_cu12-12.4.127-py3-none-manylinux2014_x86_64.whl (21.1 MB)\n",
            "\u001b[2K   \u001b[90m━━━━━━━━━━━━━━━━━━━━━━━━━━━━━━━━━━━━━━━━\u001b[0m \u001b[32m21.1/21.1 MB\u001b[0m \u001b[31m70.7 MB/s\u001b[0m eta \u001b[36m0:00:00\u001b[0m\n",
            "\u001b[?25hDownloading ultralytics_thop-2.0.14-py3-none-any.whl (26 kB)\n",
            "Installing collected packages: nvidia-nvjitlink-cu12, nvidia-curand-cu12, nvidia-cufft-cu12, nvidia-cuda-runtime-cu12, nvidia-cuda-nvrtc-cu12, nvidia-cuda-cupti-cu12, nvidia-cublas-cu12, nvidia-cusparse-cu12, nvidia-cudnn-cu12, nvidia-cusolver-cu12, ultralytics-thop, ultralytics\n",
            "  Attempting uninstall: nvidia-nvjitlink-cu12\n",
            "    Found existing installation: nvidia-nvjitlink-cu12 12.5.82\n",
            "    Uninstalling nvidia-nvjitlink-cu12-12.5.82:\n",
            "      Successfully uninstalled nvidia-nvjitlink-cu12-12.5.82\n",
            "  Attempting uninstall: nvidia-curand-cu12\n",
            "    Found existing installation: nvidia-curand-cu12 10.3.6.82\n",
            "    Uninstalling nvidia-curand-cu12-10.3.6.82:\n",
            "      Successfully uninstalled nvidia-curand-cu12-10.3.6.82\n",
            "  Attempting uninstall: nvidia-cufft-cu12\n",
            "    Found existing installation: nvidia-cufft-cu12 11.2.3.61\n",
            "    Uninstalling nvidia-cufft-cu12-11.2.3.61:\n",
            "      Successfully uninstalled nvidia-cufft-cu12-11.2.3.61\n",
            "  Attempting uninstall: nvidia-cuda-runtime-cu12\n",
            "    Found existing installation: nvidia-cuda-runtime-cu12 12.5.82\n",
            "    Uninstalling nvidia-cuda-runtime-cu12-12.5.82:\n",
            "      Successfully uninstalled nvidia-cuda-runtime-cu12-12.5.82\n",
            "  Attempting uninstall: nvidia-cuda-nvrtc-cu12\n",
            "    Found existing installation: nvidia-cuda-nvrtc-cu12 12.5.82\n",
            "    Uninstalling nvidia-cuda-nvrtc-cu12-12.5.82:\n",
            "      Successfully uninstalled nvidia-cuda-nvrtc-cu12-12.5.82\n",
            "  Attempting uninstall: nvidia-cuda-cupti-cu12\n",
            "    Found existing installation: nvidia-cuda-cupti-cu12 12.5.82\n",
            "    Uninstalling nvidia-cuda-cupti-cu12-12.5.82:\n",
            "      Successfully uninstalled nvidia-cuda-cupti-cu12-12.5.82\n",
            "  Attempting uninstall: nvidia-cublas-cu12\n",
            "    Found existing installation: nvidia-cublas-cu12 12.5.3.2\n",
            "    Uninstalling nvidia-cublas-cu12-12.5.3.2:\n",
            "      Successfully uninstalled nvidia-cublas-cu12-12.5.3.2\n",
            "  Attempting uninstall: nvidia-cusparse-cu12\n",
            "    Found existing installation: nvidia-cusparse-cu12 12.5.1.3\n",
            "    Uninstalling nvidia-cusparse-cu12-12.5.1.3:\n",
            "      Successfully uninstalled nvidia-cusparse-cu12-12.5.1.3\n",
            "  Attempting uninstall: nvidia-cudnn-cu12\n",
            "    Found existing installation: nvidia-cudnn-cu12 9.3.0.75\n",
            "    Uninstalling nvidia-cudnn-cu12-9.3.0.75:\n",
            "      Successfully uninstalled nvidia-cudnn-cu12-9.3.0.75\n",
            "  Attempting uninstall: nvidia-cusolver-cu12\n",
            "    Found existing installation: nvidia-cusolver-cu12 11.6.3.83\n",
            "    Uninstalling nvidia-cusolver-cu12-11.6.3.83:\n",
            "      Successfully uninstalled nvidia-cusolver-cu12-11.6.3.83\n",
            "Successfully installed nvidia-cublas-cu12-12.4.5.8 nvidia-cuda-cupti-cu12-12.4.127 nvidia-cuda-nvrtc-cu12-12.4.127 nvidia-cuda-runtime-cu12-12.4.127 nvidia-cudnn-cu12-9.1.0.70 nvidia-cufft-cu12-11.2.1.3 nvidia-curand-cu12-10.3.5.147 nvidia-cusolver-cu12-11.6.1.9 nvidia-cusparse-cu12-12.3.1.170 nvidia-nvjitlink-cu12-12.4.127 ultralytics-8.3.137 ultralytics-thop-2.0.14\n",
            "Creating new Ultralytics Settings v0.0.6 file ✅ \n",
            "View Ultralytics Settings with 'yolo settings' or at '/root/.config/Ultralytics/settings.json'\n",
            "Update Settings with 'yolo settings key=value', i.e. 'yolo settings runs_dir=path/to/dir'. For help see https://docs.ultralytics.com/quickstart/#ultralytics-settings.\n",
            "Downloading https://github.com/ultralytics/assets/releases/download/v8.3.0/yolov8n.pt to 'yolov8n.pt'...\n"
          ]
        },
        {
          "metadata": {
            "tags": null
          },
          "name": "stderr",
          "output_type": "stream",
          "text": [
            "100%|██████████| 6.25M/6.25M [00:00<00:00, 76.1MB/s]\n"
          ]
        },
        {
          "metadata": {
            "tags": null
          },
          "name": "stdout",
          "output_type": "stream",
          "text": [
            "Ultralytics 8.3.137 🚀 Python-3.11.12 torch-2.6.0+cu124 CPU (Intel Xeon 2.20GHz)\n",
            "\u001b[34m\u001b[1mengine/trainer: \u001b[0magnostic_nms=False, amp=True, augment=False, auto_augment=randaugment, batch=16, bgr=0.0, box=7.5, cache=False, cfg=None, classes=None, close_mosaic=10, cls=0.5, conf=None, copy_paste=0.0, copy_paste_mode=flip, cos_lr=False, cutmix=0.0, data=/content/extracted_files/data.yaml, degrees=0.0, deterministic=True, device=cpu, dfl=1.5, dnn=False, dropout=0.0, dynamic=False, embed=None, epochs=40, erasing=0.4, exist_ok=False, fliplr=0.5, flipud=0.0, format=torchscript, fraction=1.0, freeze=None, half=False, hsv_h=0.015, hsv_s=0.7, hsv_v=0.4, imgsz=640, int8=False, iou=0.7, keras=False, kobj=1.0, line_width=None, lr0=0.01, lrf=0.01, mask_ratio=4, max_det=300, mixup=0.0, mode=train, model=yolov8n.pt, momentum=0.937, mosaic=1.0, multi_scale=False, name=train, nbs=64, nms=False, opset=None, optimize=False, optimizer=auto, overlap_mask=True, patience=100, perspective=0.0, plots=True, pose=12.0, pretrained=True, profile=False, project=None, rect=False, resume=False, retina_masks=False, save=True, save_conf=False, save_crop=False, save_dir=runs/detect/train, save_frames=False, save_json=False, save_period=-1, save_txt=False, scale=0.5, seed=0, shear=0.0, show=False, show_boxes=True, show_conf=True, show_labels=True, simplify=True, single_cls=False, source=None, split=val, stream_buffer=False, task=detect, time=None, tracker=botsort.yaml, translate=0.1, val=True, verbose=True, vid_stride=1, visualize=False, warmup_bias_lr=0.1, warmup_epochs=3.0, warmup_momentum=0.8, weight_decay=0.0005, workers=8, workspace=None\n",
            "Downloading https://ultralytics.com/assets/Arial.ttf to '/root/.config/Ultralytics/Arial.ttf'...\n"
          ]
        },
        {
          "metadata": {
            "tags": null
          },
          "name": "stderr",
          "output_type": "stream",
          "text": [
            "100%|██████████| 755k/755k [00:00<00:00, 14.1MB/s]"
          ]
        },
        {
          "metadata": {
            "tags": null
          },
          "name": "stdout",
          "output_type": "stream",
          "text": [
            "Overriding model.yaml nc=80 with nc=10\n",
            "\n",
            "                   from  n    params  module                                       arguments                     \n",
            "  0                  -1  1       464  ultralytics.nn.modules.conv.Conv             [3, 16, 3, 2]                 \n",
            "  1                  -1  1      4672  ultralytics.nn.modules.conv.Conv             [16, 32, 3, 2]                \n",
            "  2                  -1  1      7360  ultralytics.nn.modules.block.C2f             [32, 32, 1, True]             \n",
            "  3                  -1  1     18560  ultralytics.nn.modules.conv.Conv             [32, 64, 3, 2]                \n",
            "  4                  -1  2     49664  ultralytics.nn.modules.block.C2f             [64, 64, 2, True]             \n",
            "  5                  -1  1     73984  ultralytics.nn.modules.conv.Conv             [64, 128, 3, 2]               \n",
            "  6                  -1  2    197632  ultralytics.nn.modules.block.C2f             [128, 128, 2, True]           \n",
            "  7                  -1  1    295424  ultralytics.nn.modules.conv.Conv             [128, 256, 3, 2]              \n",
            "  8                  -1  1    460288  ultralytics.nn.modules.block.C2f             [256, 256, 1, True]           \n",
            "  9                  -1  1    164608  ultralytics.nn.modules.block.SPPF            [256, 256, 5]                 \n",
            " 10                  -1  1         0  torch.nn.modules.upsampling.Upsample         [None, 2, 'nearest']          \n",
            " 11             [-1, 6]  1         0  ultralytics.nn.modules.conv.Concat           [1]                           \n",
            " 12                  -1  1    148224  ultralytics.nn.modules.block.C2f             [384, 128, 1]                 \n",
            " 13                  -1  1         0  torch.nn.modules.upsampling.Upsample         [None, 2, 'nearest']          \n",
            " 14             [-1, 4]  1         0  ultralytics.nn.modules.conv.Concat           [1]                           \n",
            " 15                  -1  1     37248  ultralytics.nn.modules.block.C2f             [192, 64, 1]                  \n",
            " 16                  -1  1     36992  ultralytics.nn.modules.conv.Conv             [64, 64, 3, 2]                \n",
            " 17            [-1, 12]  1         0  ultralytics.nn.modules.conv.Concat           [1]                           \n",
            " 18                  -1  1    123648  ultralytics.nn.modules.block.C2f             [192, 128, 1]                 \n",
            " 19                  -1  1    147712  ultralytics.nn.modules.conv.Conv             [128, 128, 3, 2]              \n",
            " 20             [-1, 9]  1         0  ultralytics.nn.modules.conv.Concat           [1]                           \n",
            " 21                  -1  1    493056  ultralytics.nn.modules.block.C2f             [384, 256, 1]                 \n"
          ]
        },
        {
          "metadata": {
            "tags": null
          },
          "name": "stderr",
          "output_type": "stream",
          "text": [
            "\n"
          ]
        },
        {
          "metadata": {
            "tags": null
          },
          "name": "stdout",
          "output_type": "stream",
          "text": [
            " 22        [15, 18, 21]  1    753262  ultralytics.nn.modules.head.Detect           [10, [64, 128, 256]]          \n",
            "Model summary: 129 layers, 3,012,798 parameters, 3,012,782 gradients, 8.2 GFLOPs\n",
            "\n",
            "Transferred 319/355 items from pretrained weights\n",
            "Freezing layer 'model.22.dfl.conv.weight'\n",
            "\u001b[34m\u001b[1mtrain: \u001b[0mFast image access ✅ (ping: 0.0±0.0 ms, read: 89.2±157.3 MB/s, size: 51.2 KB)\n"
          ]
        },
        {
          "metadata": {
            "tags": null
          },
          "name": "stderr",
          "output_type": "stream",
          "text": [
            "\u001b[34m\u001b[1mtrain: \u001b[0mScanning /content/extracted_files/train/labels... 398 images, 7 backgrounds, 0 corrupt: 100%|██████████| 398/398 [00:00<00:00, 530.21it/s]"
          ]
        },
        {
          "metadata": {
            "tags": null
          },
          "name": "stdout",
          "output_type": "stream",
          "text": [
            "\u001b[34m\u001b[1mtrain: \u001b[0mNew cache created: /content/extracted_files/train/labels.cache\n"
          ]
        },
        {
          "metadata": {
            "tags": null
          },
          "name": "stderr",
          "output_type": "stream",
          "text": [
            "\n"
          ]
        },
        {
          "metadata": {
            "tags": null
          },
          "name": "stdout",
          "output_type": "stream",
          "text": [
            "\u001b[34m\u001b[1malbumentations: \u001b[0mBlur(p=0.01, blur_limit=(3, 7)), MedianBlur(p=0.01, blur_limit=(3, 7)), ToGray(p=0.01, method='weighted_average', num_output_channels=3), CLAHE(p=0.01, clip_limit=(1.0, 4.0), tile_grid_size=(8, 8))\n",
            "\u001b[34m\u001b[1mval: \u001b[0mFast image access ✅ (ping: 0.0±0.0 ms, read: 264.7±300.4 MB/s, size: 67.9 KB)\n"
          ]
        },
        {
          "metadata": {
            "tags": null
          },
          "name": "stderr",
          "output_type": "stream",
          "text": [
            "\u001b[34m\u001b[1mval: \u001b[0mScanning /content/extracted_files/valid/labels... 56 images, 1 backgrounds, 0 corrupt: 100%|██████████| 56/56 [00:00<00:00, 1240.70it/s]"
          ]
        },
        {
          "metadata": {
            "tags": null
          },
          "name": "stdout",
          "output_type": "stream",
          "text": [
            "\u001b[34m\u001b[1mval: \u001b[0mNew cache created: /content/extracted_files/valid/labels.cache\n"
          ]
        },
        {
          "metadata": {
            "tags": null
          },
          "name": "stderr",
          "output_type": "stream",
          "text": [
            "\n"
          ]
        },
        {
          "metadata": {
            "tags": null
          },
          "name": "stdout",
          "output_type": "stream",
          "text": [
            "Plotting labels to runs/detect/train/labels.jpg... \n",
            "\u001b[34m\u001b[1moptimizer:\u001b[0m 'optimizer=auto' found, ignoring 'lr0=0.01' and 'momentum=0.937' and determining best 'optimizer', 'lr0' and 'momentum' automatically... \n",
            "\u001b[34m\u001b[1moptimizer:\u001b[0m AdamW(lr=0.000714, momentum=0.9) with parameter groups 57 weight(decay=0.0), 64 weight(decay=0.0005), 63 bias(decay=0.0)\n",
            "Image sizes 640 train, 640 val\n",
            "Using 0 dataloader workers\n",
            "Logging results to \u001b[1mruns/detect/train\u001b[0m\n",
            "Starting training for 40 epochs...\n",
            "\n",
            "      Epoch    GPU_mem   box_loss   cls_loss   dfl_loss  Instances       Size\n"
          ]
        },
        {
          "metadata": {
            "tags": null
          },
          "name": "stderr",
          "output_type": "stream",
          "text": [
            "       1/40         0G      1.495      3.955        1.9         34        640: 100%|██████████| 25/25 [06:15<00:00, 15.03s/it]\n",
            "                 Class     Images  Instances      Box(P          R      mAP50  mAP50-95): 100%|██████████| 2/2 [00:22<00:00, 11.19s/it]"
          ]
        },
        {
          "metadata": {
            "tags": null
          },
          "name": "stdout",
          "output_type": "stream",
          "text": [
            "                   all         56        106    0.00708      0.909     0.0918     0.0497\n"
          ]
        },
        {
          "metadata": {
            "tags": null
          },
          "name": "stderr",
          "output_type": "stream",
          "text": [
            "\n"
          ]
        },
        {
          "metadata": {
            "tags": null
          },
          "name": "stdout",
          "output_type": "stream",
          "text": [
            "\n",
            "      Epoch    GPU_mem   box_loss   cls_loss   dfl_loss  Instances       Size\n"
          ]
        },
        {
          "metadata": {
            "tags": null
          },
          "name": "stderr",
          "output_type": "stream",
          "text": [
            "       2/40         0G      1.233      3.463      1.625         30        640: 100%|██████████| 25/25 [06:12<00:00, 14.89s/it]\n",
            "                 Class     Images  Instances      Box(P          R      mAP50  mAP50-95): 100%|██████████| 2/2 [00:19<00:00,  9.99s/it]"
          ]
        },
        {
          "metadata": {
            "tags": null
          },
          "name": "stdout",
          "output_type": "stream",
          "text": [
            "                   all         56        106    0.00709      0.905     0.0831     0.0402\n"
          ]
        },
        {
          "metadata": {
            "tags": null
          },
          "name": "stderr",
          "output_type": "stream",
          "text": [
            "\n"
          ]
        },
        {
          "metadata": {
            "tags": null
          },
          "name": "stdout",
          "output_type": "stream",
          "text": [
            "\n",
            "      Epoch    GPU_mem   box_loss   cls_loss   dfl_loss  Instances       Size\n"
          ]
        },
        {
          "metadata": {
            "tags": null
          },
          "name": "stderr",
          "output_type": "stream",
          "text": [
            "       3/40         0G      1.297      3.008      1.646         57        640: 100%|██████████| 25/25 [06:09<00:00, 14.79s/it]\n",
            "                 Class     Images  Instances      Box(P          R      mAP50  mAP50-95): 100%|██████████| 2/2 [00:18<00:00,  9.26s/it]"
          ]
        },
        {
          "metadata": {
            "tags": null
          },
          "name": "stdout",
          "output_type": "stream",
          "text": [
            "                   all         56        106      0.296      0.169      0.168     0.0879\n"
          ]
        },
        {
          "metadata": {
            "tags": null
          },
          "name": "stderr",
          "output_type": "stream",
          "text": [
            "\n"
          ]
        },
        {
          "metadata": {
            "tags": null
          },
          "name": "stdout",
          "output_type": "stream",
          "text": [
            "\n",
            "      Epoch    GPU_mem   box_loss   cls_loss   dfl_loss  Instances       Size\n"
          ]
        },
        {
          "metadata": {
            "tags": null
          },
          "name": "stderr",
          "output_type": "stream",
          "text": [
            "       4/40         0G      1.318      2.665      1.687         41        640: 100%|██████████| 25/25 [06:20<00:00, 15.21s/it]\n",
            "                 Class     Images  Instances      Box(P          R      mAP50  mAP50-95): 100%|██████████| 2/2 [00:18<00:00,  9.50s/it]"
          ]
        },
        {
          "metadata": {
            "tags": null
          },
          "name": "stdout",
          "output_type": "stream",
          "text": [
            "                   all         56        106      0.306      0.303      0.283      0.161\n"
          ]
        },
        {
          "metadata": {
            "tags": null
          },
          "name": "stderr",
          "output_type": "stream",
          "text": [
            "\n"
          ]
        },
        {
          "metadata": {
            "tags": null
          },
          "name": "stdout",
          "output_type": "stream",
          "text": [
            "\n",
            "      Epoch    GPU_mem   box_loss   cls_loss   dfl_loss  Instances       Size\n"
          ]
        },
        {
          "metadata": {
            "tags": null
          },
          "name": "stderr",
          "output_type": "stream",
          "text": [
            "       5/40         0G      1.354       2.36      1.672         42        640: 100%|██████████| 25/25 [06:06<00:00, 14.66s/it]\n",
            "                 Class     Images  Instances      Box(P          R      mAP50  mAP50-95): 100%|██████████| 2/2 [00:18<00:00,  9.41s/it]"
          ]
        },
        {
          "metadata": {
            "tags": null
          },
          "name": "stdout",
          "output_type": "stream",
          "text": [
            "                   all         56        106      0.329      0.386      0.309      0.161\n"
          ]
        },
        {
          "metadata": {
            "tags": null
          },
          "name": "stderr",
          "output_type": "stream",
          "text": [
            "\n"
          ]
        },
        {
          "metadata": {
            "tags": null
          },
          "name": "stdout",
          "output_type": "stream",
          "text": [
            "\n",
            "      Epoch    GPU_mem   box_loss   cls_loss   dfl_loss  Instances       Size\n"
          ]
        },
        {
          "metadata": {
            "tags": null
          },
          "name": "stderr",
          "output_type": "stream",
          "text": [
            "       6/40         0G      1.341      2.357      1.665         38        640: 100%|██████████| 25/25 [06:09<00:00, 14.77s/it]\n",
            "                 Class     Images  Instances      Box(P          R      mAP50  mAP50-95): 100%|██████████| 2/2 [00:19<00:00,  9.72s/it]"
          ]
        },
        {
          "metadata": {
            "tags": null
          },
          "name": "stdout",
          "output_type": "stream",
          "text": [
            "                   all         56        106      0.208      0.611      0.309       0.18\n"
          ]
        },
        {
          "metadata": {
            "tags": null
          },
          "name": "stderr",
          "output_type": "stream",
          "text": [
            "\n"
          ]
        },
        {
          "metadata": {
            "tags": null
          },
          "name": "stdout",
          "output_type": "stream",
          "text": [
            "\n",
            "      Epoch    GPU_mem   box_loss   cls_loss   dfl_loss  Instances       Size\n"
          ]
        },
        {
          "metadata": {
            "tags": null
          },
          "name": "stderr",
          "output_type": "stream",
          "text": [
            "       7/40         0G      1.304      2.133      1.615         48        640: 100%|██████████| 25/25 [06:38<00:00, 15.93s/it]\n",
            "                 Class     Images  Instances      Box(P          R      mAP50  mAP50-95): 100%|██████████| 2/2 [00:18<00:00,  9.39s/it]"
          ]
        },
        {
          "metadata": {
            "tags": null
          },
          "name": "stdout",
          "output_type": "stream",
          "text": [
            "                   all         56        106      0.309      0.419      0.302      0.167\n"
          ]
        },
        {
          "metadata": {
            "tags": null
          },
          "name": "stderr",
          "output_type": "stream",
          "text": [
            "\n"
          ]
        },
        {
          "metadata": {
            "tags": null
          },
          "name": "stdout",
          "output_type": "stream",
          "text": [
            "\n",
            "      Epoch    GPU_mem   box_loss   cls_loss   dfl_loss  Instances       Size\n"
          ]
        },
        {
          "metadata": {
            "tags": null
          },
          "name": "stderr",
          "output_type": "stream",
          "text": [
            "       8/40         0G      1.334      2.009      1.648         38        640: 100%|██████████| 25/25 [06:00<00:00, 14.44s/it]\n",
            "                 Class     Images  Instances      Box(P          R      mAP50  mAP50-95): 100%|██████████| 2/2 [00:19<00:00,  9.75s/it]"
          ]
        },
        {
          "metadata": {
            "tags": null
          },
          "name": "stdout",
          "output_type": "stream",
          "text": [
            "                   all         56        106      0.514      0.512      0.444      0.269\n"
          ]
        },
        {
          "metadata": {
            "tags": null
          },
          "name": "stderr",
          "output_type": "stream",
          "text": [
            "\n"
          ]
        },
        {
          "metadata": {
            "tags": null
          },
          "name": "stdout",
          "output_type": "stream",
          "text": [
            "\n",
            "      Epoch    GPU_mem   box_loss   cls_loss   dfl_loss  Instances       Size\n"
          ]
        },
        {
          "metadata": {
            "tags": null
          },
          "name": "stderr",
          "output_type": "stream",
          "text": [
            "       9/40         0G      1.298      1.944      1.639         37        640: 100%|██████████| 25/25 [06:03<00:00, 14.56s/it]\n",
            "                 Class     Images  Instances      Box(P          R      mAP50  mAP50-95): 100%|██████████| 2/2 [00:18<00:00,  9.12s/it]"
          ]
        },
        {
          "metadata": {
            "tags": null
          },
          "name": "stdout",
          "output_type": "stream",
          "text": [
            "                   all         56        106      0.423      0.493       0.45      0.272\n"
          ]
        },
        {
          "metadata": {
            "tags": null
          },
          "name": "stderr",
          "output_type": "stream",
          "text": [
            "\n"
          ]
        },
        {
          "metadata": {
            "tags": null
          },
          "name": "stdout",
          "output_type": "stream",
          "text": [
            "\n",
            "      Epoch    GPU_mem   box_loss   cls_loss   dfl_loss  Instances       Size\n"
          ]
        },
        {
          "metadata": {
            "tags": null
          },
          "name": "stderr",
          "output_type": "stream",
          "text": [
            "      10/40         0G      1.241      1.851      1.557         43        640: 100%|██████████| 25/25 [06:02<00:00, 14.49s/it]\n",
            "                 Class     Images  Instances      Box(P          R      mAP50  mAP50-95): 100%|██████████| 2/2 [00:17<00:00,  8.94s/it]"
          ]
        },
        {
          "metadata": {
            "tags": null
          },
          "name": "stdout",
          "output_type": "stream",
          "text": [
            "                   all         56        106      0.402      0.508      0.438      0.259\n"
          ]
        },
        {
          "metadata": {
            "tags": null
          },
          "name": "stderr",
          "output_type": "stream",
          "text": [
            "\n"
          ]
        },
        {
          "metadata": {
            "tags": null
          },
          "name": "stdout",
          "output_type": "stream",
          "text": [
            "\n",
            "      Epoch    GPU_mem   box_loss   cls_loss   dfl_loss  Instances       Size\n"
          ]
        },
        {
          "metadata": {
            "tags": null
          },
          "name": "stderr",
          "output_type": "stream",
          "text": [
            "      11/40         0G      1.248      1.892       1.57         34        640: 100%|██████████| 25/25 [06:01<00:00, 14.46s/it]\n",
            "                 Class     Images  Instances      Box(P          R      mAP50  mAP50-95): 100%|██████████| 2/2 [00:19<00:00,  9.74s/it]"
          ]
        },
        {
          "metadata": {
            "tags": null
          },
          "name": "stdout",
          "output_type": "stream",
          "text": [
            "                   all         56        106      0.298      0.495      0.403      0.248\n"
          ]
        },
        {
          "metadata": {
            "tags": null
          },
          "name": "stderr",
          "output_type": "stream",
          "text": [
            "\n"
          ]
        },
        {
          "metadata": {
            "tags": null
          },
          "name": "stdout",
          "output_type": "stream",
          "text": [
            "\n",
            "      Epoch    GPU_mem   box_loss   cls_loss   dfl_loss  Instances       Size\n"
          ]
        },
        {
          "metadata": {
            "tags": null
          },
          "name": "stderr",
          "output_type": "stream",
          "text": [
            "      12/40         0G      1.246      1.713      1.578         36        640: 100%|██████████| 25/25 [06:03<00:00, 14.53s/it]\n",
            "                 Class     Images  Instances      Box(P          R      mAP50  mAP50-95): 100%|██████████| 2/2 [00:18<00:00,  9.06s/it]"
          ]
        },
        {
          "metadata": {
            "tags": null
          },
          "name": "stdout",
          "output_type": "stream",
          "text": [
            "                   all         56        106      0.363      0.471      0.429      0.257\n"
          ]
        },
        {
          "metadata": {
            "tags": null
          },
          "name": "stderr",
          "output_type": "stream",
          "text": [
            "\n"
          ]
        },
        {
          "metadata": {
            "tags": null
          },
          "name": "stdout",
          "output_type": "stream",
          "text": [
            "\n",
            "      Epoch    GPU_mem   box_loss   cls_loss   dfl_loss  Instances       Size\n"
          ]
        },
        {
          "metadata": {
            "tags": null
          },
          "name": "stderr",
          "output_type": "stream",
          "text": [
            "      13/40         0G      1.255      1.774      1.565         39        640: 100%|██████████| 25/25 [06:05<00:00, 14.64s/it]\n",
            "                 Class     Images  Instances      Box(P          R      mAP50  mAP50-95): 100%|██████████| 2/2 [00:17<00:00,  8.83s/it]"
          ]
        },
        {
          "metadata": {
            "tags": null
          },
          "name": "stdout",
          "output_type": "stream",
          "text": [
            "                   all         56        106      0.411      0.458      0.502      0.294\n"
          ]
        },
        {
          "metadata": {
            "tags": null
          },
          "name": "stderr",
          "output_type": "stream",
          "text": [
            "\n"
          ]
        },
        {
          "metadata": {
            "tags": null
          },
          "name": "stdout",
          "output_type": "stream",
          "text": [
            "\n",
            "      Epoch    GPU_mem   box_loss   cls_loss   dfl_loss  Instances       Size\n"
          ]
        },
        {
          "metadata": {
            "tags": null
          },
          "name": "stderr",
          "output_type": "stream",
          "text": [
            "      14/40         0G      1.229      1.682      1.576         38        640: 100%|██████████| 25/25 [06:00<00:00, 14.41s/it]\n",
            "                 Class     Images  Instances      Box(P          R      mAP50  mAP50-95): 100%|██████████| 2/2 [00:17<00:00,  8.87s/it]"
          ]
        },
        {
          "metadata": {
            "tags": null
          },
          "name": "stdout",
          "output_type": "stream",
          "text": [
            "                   all         56        106      0.721      0.391      0.506      0.273\n"
          ]
        },
        {
          "metadata": {
            "tags": null
          },
          "name": "stderr",
          "output_type": "stream",
          "text": [
            "\n"
          ]
        },
        {
          "metadata": {
            "tags": null
          },
          "name": "stdout",
          "output_type": "stream",
          "text": [
            "\n",
            "      Epoch    GPU_mem   box_loss   cls_loss   dfl_loss  Instances       Size\n"
          ]
        },
        {
          "metadata": {
            "tags": null
          },
          "name": "stderr",
          "output_type": "stream",
          "text": [
            "      15/40         0G      1.244      1.683      1.571         30        640: 100%|██████████| 25/25 [06:03<00:00, 14.54s/it]\n",
            "                 Class     Images  Instances      Box(P          R      mAP50  mAP50-95): 100%|██████████| 2/2 [00:18<00:00,  9.35s/it]"
          ]
        },
        {
          "metadata": {
            "tags": null
          },
          "name": "stdout",
          "output_type": "stream",
          "text": [
            "                   all         56        106      0.596      0.454      0.458      0.264\n"
          ]
        },
        {
          "metadata": {
            "tags": null
          },
          "name": "stderr",
          "output_type": "stream",
          "text": [
            "\n"
          ]
        },
        {
          "metadata": {
            "tags": null
          },
          "name": "stdout",
          "output_type": "stream",
          "text": [
            "\n",
            "      Epoch    GPU_mem   box_loss   cls_loss   dfl_loss  Instances       Size\n"
          ]
        },
        {
          "metadata": {
            "tags": null
          },
          "name": "stderr",
          "output_type": "stream",
          "text": [
            "      16/40         0G      1.223      1.584      1.546         40        640: 100%|██████████| 25/25 [06:01<00:00, 14.45s/it]\n",
            "                 Class     Images  Instances      Box(P          R      mAP50  mAP50-95): 100%|██████████| 2/2 [00:18<00:00,  9.27s/it]"
          ]
        },
        {
          "metadata": {
            "tags": null
          },
          "name": "stdout",
          "output_type": "stream",
          "text": [
            "                   all         56        106      0.503      0.496      0.515      0.305\n"
          ]
        },
        {
          "metadata": {
            "tags": null
          },
          "name": "stderr",
          "output_type": "stream",
          "text": [
            "\n"
          ]
        },
        {
          "metadata": {
            "tags": null
          },
          "name": "stdout",
          "output_type": "stream",
          "text": [
            "\n",
            "      Epoch    GPU_mem   box_loss   cls_loss   dfl_loss  Instances       Size\n"
          ]
        },
        {
          "metadata": {
            "tags": null
          },
          "name": "stderr",
          "output_type": "stream",
          "text": [
            "      17/40         0G      1.225      1.651      1.554         34        640: 100%|██████████| 25/25 [06:03<00:00, 14.54s/it]\n",
            "                 Class     Images  Instances      Box(P          R      mAP50  mAP50-95): 100%|██████████| 2/2 [00:18<00:00,  9.19s/it]"
          ]
        },
        {
          "metadata": {
            "tags": null
          },
          "name": "stdout",
          "output_type": "stream",
          "text": [
            "                   all         56        106      0.457      0.562       0.48      0.283\n"
          ]
        },
        {
          "metadata": {
            "tags": null
          },
          "name": "stderr",
          "output_type": "stream",
          "text": [
            "\n"
          ]
        },
        {
          "metadata": {
            "tags": null
          },
          "name": "stdout",
          "output_type": "stream",
          "text": [
            "\n",
            "      Epoch    GPU_mem   box_loss   cls_loss   dfl_loss  Instances       Size\n"
          ]
        },
        {
          "output_type": "stream",
          "name": "stderr",
          "text": [
            "      18/40         0G      1.179       1.54       1.48         36        640: 100%|██████████| 25/25 [06:03<00:00, 14.56s/it]\n",
            "                 Class     Images  Instances      Box(P          R      mAP50  mAP50-95): 100%|██████████| 2/2 [00:20<00:00, 10.10s/it]"
          ]
        },
        {
          "output_type": "stream",
          "name": "stdout",
          "text": [
            "                   all         56        106      0.677      0.403      0.488      0.295\n"
          ]
        },
        {
          "output_type": "stream",
          "name": "stderr",
          "text": [
            "\n"
          ]
        },
        {
          "output_type": "stream",
          "name": "stdout",
          "text": [
            "\n",
            "      Epoch    GPU_mem   box_loss   cls_loss   dfl_loss  Instances       Size\n"
          ]
        },
        {
          "output_type": "stream",
          "name": "stderr",
          "text": [
            "      19/40         0G      1.159      1.483      1.492         45        640: 100%|██████████| 25/25 [06:06<00:00, 14.67s/it]\n",
            "                 Class     Images  Instances      Box(P          R      mAP50  mAP50-95): 100%|██████████| 2/2 [00:19<00:00,  9.80s/it]"
          ]
        },
        {
          "output_type": "stream",
          "name": "stdout",
          "text": [
            "                   all         56        106      0.489      0.658      0.542      0.311\n"
          ]
        },
        {
          "output_type": "stream",
          "name": "stderr",
          "text": [
            "\n"
          ]
        },
        {
          "output_type": "stream",
          "name": "stdout",
          "text": [
            "\n",
            "      Epoch    GPU_mem   box_loss   cls_loss   dfl_loss  Instances       Size\n"
          ]
        },
        {
          "output_type": "stream",
          "name": "stderr",
          "text": [
            "      20/40         0G      1.127      1.503      1.473         32        640: 100%|██████████| 25/25 [06:05<00:00, 14.62s/it]\n",
            "                 Class     Images  Instances      Box(P          R      mAP50  mAP50-95): 100%|██████████| 2/2 [00:19<00:00,  9.61s/it]"
          ]
        },
        {
          "output_type": "stream",
          "name": "stdout",
          "text": [
            "                   all         56        106      0.562      0.563      0.566      0.344\n"
          ]
        },
        {
          "output_type": "stream",
          "name": "stderr",
          "text": [
            "\n"
          ]
        },
        {
          "output_type": "stream",
          "name": "stdout",
          "text": [
            "\n",
            "      Epoch    GPU_mem   box_loss   cls_loss   dfl_loss  Instances       Size\n"
          ]
        },
        {
          "output_type": "stream",
          "name": "stderr",
          "text": [
            "      21/40         0G      1.151      1.467      1.488         38        640: 100%|██████████| 25/25 [06:07<00:00, 14.69s/it]\n",
            "                 Class     Images  Instances      Box(P          R      mAP50  mAP50-95): 100%|██████████| 2/2 [00:18<00:00,  9.07s/it]"
          ]
        },
        {
          "output_type": "stream",
          "name": "stdout",
          "text": [
            "                   all         56        106        0.6      0.557      0.542      0.322\n"
          ]
        },
        {
          "output_type": "stream",
          "name": "stderr",
          "text": [
            "\n"
          ]
        },
        {
          "output_type": "stream",
          "name": "stdout",
          "text": [
            "\n",
            "      Epoch    GPU_mem   box_loss   cls_loss   dfl_loss  Instances       Size\n"
          ]
        },
        {
          "output_type": "stream",
          "name": "stderr",
          "text": [
            "      22/40         0G      1.111      1.377      1.471         35        640: 100%|██████████| 25/25 [06:09<00:00, 14.78s/it]\n",
            "                 Class     Images  Instances      Box(P          R      mAP50  mAP50-95): 100%|██████████| 2/2 [00:18<00:00,  9.27s/it]"
          ]
        },
        {
          "output_type": "stream",
          "name": "stdout",
          "text": [
            "                   all         56        106      0.539      0.565      0.525      0.297\n"
          ]
        },
        {
          "output_type": "stream",
          "name": "stderr",
          "text": [
            "\n"
          ]
        },
        {
          "output_type": "stream",
          "name": "stdout",
          "text": [
            "\n",
            "      Epoch    GPU_mem   box_loss   cls_loss   dfl_loss  Instances       Size\n"
          ]
        },
        {
          "output_type": "stream",
          "name": "stderr",
          "text": [
            "      23/40         0G      1.133      1.391      1.465         36        640: 100%|██████████| 25/25 [06:05<00:00, 14.62s/it]\n",
            "                 Class     Images  Instances      Box(P          R      mAP50  mAP50-95): 100%|██████████| 2/2 [00:18<00:00,  9.15s/it]"
          ]
        },
        {
          "output_type": "stream",
          "name": "stdout",
          "text": [
            "                   all         56        106      0.598      0.524      0.566      0.344\n"
          ]
        },
        {
          "output_type": "stream",
          "name": "stderr",
          "text": [
            "\n"
          ]
        },
        {
          "output_type": "stream",
          "name": "stdout",
          "text": [
            "\n",
            "      Epoch    GPU_mem   box_loss   cls_loss   dfl_loss  Instances       Size\n"
          ]
        },
        {
          "output_type": "stream",
          "name": "stderr",
          "text": [
            "      24/40         0G      1.069      1.329      1.442         38        640: 100%|██████████| 25/25 [06:05<00:00, 14.60s/it]\n",
            "                 Class     Images  Instances      Box(P          R      mAP50  mAP50-95): 100%|██████████| 2/2 [00:19<00:00,  9.50s/it]"
          ]
        },
        {
          "output_type": "stream",
          "name": "stdout",
          "text": [
            "                   all         56        106       0.43      0.603      0.522      0.293\n"
          ]
        },
        {
          "output_type": "stream",
          "name": "stderr",
          "text": [
            "\n"
          ]
        },
        {
          "output_type": "stream",
          "name": "stdout",
          "text": [
            "\n",
            "      Epoch    GPU_mem   box_loss   cls_loss   dfl_loss  Instances       Size\n"
          ]
        },
        {
          "output_type": "stream",
          "name": "stderr",
          "text": [
            "      25/40         0G      1.072      1.367      1.431         34        640: 100%|██████████| 25/25 [06:05<00:00, 14.62s/it]\n",
            "                 Class     Images  Instances      Box(P          R      mAP50  mAP50-95): 100%|██████████| 2/2 [00:19<00:00,  9.51s/it]"
          ]
        },
        {
          "output_type": "stream",
          "name": "stdout",
          "text": [
            "                   all         56        106      0.482      0.641       0.57      0.343\n"
          ]
        },
        {
          "output_type": "stream",
          "name": "stderr",
          "text": [
            "\n"
          ]
        },
        {
          "output_type": "stream",
          "name": "stdout",
          "text": [
            "\n",
            "      Epoch    GPU_mem   box_loss   cls_loss   dfl_loss  Instances       Size\n"
          ]
        },
        {
          "output_type": "stream",
          "name": "stderr",
          "text": [
            "      26/40         0G      1.063      1.232      1.411         31        640: 100%|██████████| 25/25 [06:01<00:00, 14.48s/it]\n",
            "                 Class     Images  Instances      Box(P          R      mAP50  mAP50-95): 100%|██████████| 2/2 [00:18<00:00,  9.08s/it]"
          ]
        },
        {
          "output_type": "stream",
          "name": "stdout",
          "text": [
            "                   all         56        106      0.615      0.537      0.615      0.382\n"
          ]
        },
        {
          "output_type": "stream",
          "name": "stderr",
          "text": [
            "\n"
          ]
        },
        {
          "output_type": "stream",
          "name": "stdout",
          "text": [
            "\n",
            "      Epoch    GPU_mem   box_loss   cls_loss   dfl_loss  Instances       Size\n"
          ]
        },
        {
          "output_type": "stream",
          "name": "stderr",
          "text": [
            "      27/40         0G      1.067       1.28      1.429         29        640: 100%|██████████| 25/25 [06:05<00:00, 14.63s/it]\n",
            "                 Class     Images  Instances      Box(P          R      mAP50  mAP50-95): 100%|██████████| 2/2 [00:19<00:00,  9.84s/it]"
          ]
        },
        {
          "output_type": "stream",
          "name": "stdout",
          "text": [
            "                   all         56        106      0.548       0.65      0.584      0.336\n"
          ]
        },
        {
          "output_type": "stream",
          "name": "stderr",
          "text": [
            "\n"
          ]
        },
        {
          "output_type": "stream",
          "name": "stdout",
          "text": [
            "\n",
            "      Epoch    GPU_mem   box_loss   cls_loss   dfl_loss  Instances       Size\n"
          ]
        },
        {
          "output_type": "stream",
          "name": "stderr",
          "text": [
            "      28/40         0G      1.061      1.244      1.398         38        640: 100%|██████████| 25/25 [06:06<00:00, 14.66s/it]\n",
            "                 Class     Images  Instances      Box(P          R      mAP50  mAP50-95): 100%|██████████| 2/2 [00:18<00:00,  9.21s/it]"
          ]
        },
        {
          "output_type": "stream",
          "name": "stdout",
          "text": [
            "                   all         56        106       0.48      0.591      0.547      0.325\n"
          ]
        },
        {
          "output_type": "stream",
          "name": "stderr",
          "text": [
            "\n"
          ]
        },
        {
          "output_type": "stream",
          "name": "stdout",
          "text": [
            "\n",
            "      Epoch    GPU_mem   box_loss   cls_loss   dfl_loss  Instances       Size\n"
          ]
        },
        {
          "output_type": "stream",
          "name": "stderr",
          "text": [
            "      29/40         0G      1.024      1.177      1.391         31        640: 100%|██████████| 25/25 [06:04<00:00, 14.58s/it]\n",
            "                 Class     Images  Instances      Box(P          R      mAP50  mAP50-95): 100%|██████████| 2/2 [00:18<00:00,  9.13s/it]"
          ]
        },
        {
          "output_type": "stream",
          "name": "stdout",
          "text": [
            "                   all         56        106      0.547       0.53      0.505      0.309\n"
          ]
        },
        {
          "output_type": "stream",
          "name": "stderr",
          "text": [
            "\n"
          ]
        },
        {
          "output_type": "stream",
          "name": "stdout",
          "text": [
            "\n",
            "      Epoch    GPU_mem   box_loss   cls_loss   dfl_loss  Instances       Size\n"
          ]
        },
        {
          "output_type": "stream",
          "name": "stderr",
          "text": [
            "      30/40         0G     0.9983      1.139      1.372         40        640: 100%|██████████| 25/25 [06:02<00:00, 14.51s/it]\n",
            "                 Class     Images  Instances      Box(P          R      mAP50  mAP50-95): 100%|██████████| 2/2 [00:18<00:00,  9.43s/it]"
          ]
        },
        {
          "output_type": "stream",
          "name": "stdout",
          "text": [
            "                   all         56        106      0.587      0.617      0.577      0.341\n"
          ]
        },
        {
          "output_type": "stream",
          "name": "stderr",
          "text": [
            "\n"
          ]
        },
        {
          "output_type": "stream",
          "name": "stdout",
          "text": [
            "Closing dataloader mosaic\n",
            "\u001b[34m\u001b[1malbumentations: \u001b[0mBlur(p=0.01, blur_limit=(3, 7)), MedianBlur(p=0.01, blur_limit=(3, 7)), ToGray(p=0.01, method='weighted_average', num_output_channels=3), CLAHE(p=0.01, clip_limit=(1.0, 4.0), tile_grid_size=(8, 8))\n",
            "\n",
            "      Epoch    GPU_mem   box_loss   cls_loss   dfl_loss  Instances       Size\n"
          ]
        },
        {
          "output_type": "stream",
          "name": "stderr",
          "text": [
            "      31/40         0G     0.9554      1.402      1.508         15        640: 100%|██████████| 25/25 [06:05<00:00, 14.62s/it]\n",
            "                 Class     Images  Instances      Box(P          R      mAP50  mAP50-95): 100%|██████████| 2/2 [00:18<00:00,  9.33s/it]"
          ]
        },
        {
          "output_type": "stream",
          "name": "stdout",
          "text": [
            "                   all         56        106      0.457      0.585       0.55      0.324\n"
          ]
        },
        {
          "output_type": "stream",
          "name": "stderr",
          "text": [
            "\n"
          ]
        },
        {
          "output_type": "stream",
          "name": "stdout",
          "text": [
            "\n",
            "      Epoch    GPU_mem   box_loss   cls_loss   dfl_loss  Instances       Size\n"
          ]
        },
        {
          "output_type": "stream",
          "name": "stderr",
          "text": [
            "      32/40         0G     0.9454      1.324      1.495         15        640: 100%|██████████| 25/25 [06:04<00:00, 14.60s/it]\n",
            "                 Class     Images  Instances      Box(P          R      mAP50  mAP50-95): 100%|██████████| 2/2 [00:18<00:00,  9.24s/it]"
          ]
        },
        {
          "output_type": "stream",
          "name": "stdout",
          "text": [
            "                   all         56        106      0.411      0.562      0.495      0.296\n"
          ]
        },
        {
          "output_type": "stream",
          "name": "stderr",
          "text": [
            "\n"
          ]
        },
        {
          "output_type": "stream",
          "name": "stdout",
          "text": [
            "\n",
            "      Epoch    GPU_mem   box_loss   cls_loss   dfl_loss  Instances       Size\n"
          ]
        },
        {
          "output_type": "stream",
          "name": "stderr",
          "text": [
            "      33/40         0G     0.9281      1.353      1.475         13        640: 100%|██████████| 25/25 [06:02<00:00, 14.48s/it]\n",
            "                 Class     Images  Instances      Box(P          R      mAP50  mAP50-95): 100%|██████████| 2/2 [00:19<00:00,  9.76s/it]"
          ]
        },
        {
          "output_type": "stream",
          "name": "stdout",
          "text": [
            "                   all         56        106       0.44      0.575      0.528      0.315\n"
          ]
        },
        {
          "output_type": "stream",
          "name": "stderr",
          "text": [
            "\n"
          ]
        },
        {
          "output_type": "stream",
          "name": "stdout",
          "text": [
            "\n",
            "      Epoch    GPU_mem   box_loss   cls_loss   dfl_loss  Instances       Size\n"
          ]
        },
        {
          "output_type": "stream",
          "name": "stderr",
          "text": [
            "      34/40         0G     0.8654      1.205      1.445         19        640: 100%|██████████| 25/25 [06:02<00:00, 14.48s/it]\n",
            "                 Class     Images  Instances      Box(P          R      mAP50  mAP50-95): 100%|██████████| 2/2 [00:20<00:00, 10.09s/it]"
          ]
        },
        {
          "output_type": "stream",
          "name": "stdout",
          "text": [
            "                   all         56        106      0.573      0.666       0.62       0.36\n"
          ]
        },
        {
          "output_type": "stream",
          "name": "stderr",
          "text": [
            "\n"
          ]
        },
        {
          "output_type": "stream",
          "name": "stdout",
          "text": [
            "\n",
            "      Epoch    GPU_mem   box_loss   cls_loss   dfl_loss  Instances       Size\n"
          ]
        },
        {
          "output_type": "stream",
          "name": "stderr",
          "text": [
            "      35/40         0G     0.8852      1.184      1.434         15        640: 100%|██████████| 25/25 [06:06<00:00, 14.64s/it]\n",
            "                 Class     Images  Instances      Box(P          R      mAP50  mAP50-95): 100%|██████████| 2/2 [00:18<00:00,  9.42s/it]"
          ]
        },
        {
          "output_type": "stream",
          "name": "stdout",
          "text": [
            "                   all         56        106      0.588      0.636       0.62      0.361\n"
          ]
        },
        {
          "output_type": "stream",
          "name": "stderr",
          "text": [
            "\n"
          ]
        },
        {
          "output_type": "stream",
          "name": "stdout",
          "text": [
            "\n",
            "      Epoch    GPU_mem   box_loss   cls_loss   dfl_loss  Instances       Size\n"
          ]
        },
        {
          "output_type": "stream",
          "name": "stderr",
          "text": [
            "      36/40         0G     0.8795      1.155      1.453         13        640: 100%|██████████| 25/25 [06:08<00:00, 14.74s/it]\n",
            "                 Class     Images  Instances      Box(P          R      mAP50  mAP50-95): 100%|██████████| 2/2 [00:19<00:00,  9.76s/it]"
          ]
        },
        {
          "output_type": "stream",
          "name": "stdout",
          "text": [
            "                   all         56        106      0.461      0.641      0.592      0.352\n"
          ]
        },
        {
          "output_type": "stream",
          "name": "stderr",
          "text": [
            "\n"
          ]
        },
        {
          "output_type": "stream",
          "name": "stdout",
          "text": [
            "\n",
            "      Epoch    GPU_mem   box_loss   cls_loss   dfl_loss  Instances       Size\n"
          ]
        },
        {
          "output_type": "stream",
          "name": "stderr",
          "text": [
            "      37/40         0G     0.8328      1.123      1.402         15        640: 100%|██████████| 25/25 [06:40<00:00, 16.03s/it]\n",
            "                 Class     Images  Instances      Box(P          R      mAP50  mAP50-95): 100%|██████████| 2/2 [00:19<00:00,  9.71s/it]"
          ]
        },
        {
          "output_type": "stream",
          "name": "stdout",
          "text": [
            "                   all         56        106      0.555      0.639      0.605      0.346\n"
          ]
        },
        {
          "output_type": "stream",
          "name": "stderr",
          "text": [
            "\n"
          ]
        },
        {
          "output_type": "stream",
          "name": "stdout",
          "text": [
            "\n",
            "      Epoch    GPU_mem   box_loss   cls_loss   dfl_loss  Instances       Size\n"
          ]
        },
        {
          "output_type": "stream",
          "name": "stderr",
          "text": [
            "      38/40         0G     0.8123      1.106      1.352         17        640: 100%|██████████| 25/25 [06:04<00:00, 14.59s/it]\n",
            "                 Class     Images  Instances      Box(P          R      mAP50  mAP50-95): 100%|██████████| 2/2 [00:19<00:00,  9.71s/it]"
          ]
        },
        {
          "output_type": "stream",
          "name": "stdout",
          "text": [
            "                   all         56        106      0.557        0.6      0.603      0.342\n"
          ]
        },
        {
          "output_type": "stream",
          "name": "stderr",
          "text": [
            "\n"
          ]
        },
        {
          "output_type": "stream",
          "name": "stdout",
          "text": [
            "\n",
            "      Epoch    GPU_mem   box_loss   cls_loss   dfl_loss  Instances       Size\n"
          ]
        },
        {
          "output_type": "stream",
          "name": "stderr",
          "text": [
            "      39/40         0G     0.8091      1.076      1.378         17        640: 100%|██████████| 25/25 [06:07<00:00, 14.71s/it]\n",
            "                 Class     Images  Instances      Box(P          R      mAP50  mAP50-95): 100%|██████████| 2/2 [00:19<00:00,  9.65s/it]"
          ]
        },
        {
          "output_type": "stream",
          "name": "stdout",
          "text": [
            "                   all         56        106      0.624      0.576      0.608      0.347\n"
          ]
        },
        {
          "output_type": "stream",
          "name": "stderr",
          "text": [
            "\n"
          ]
        },
        {
          "output_type": "stream",
          "name": "stdout",
          "text": [
            "\n",
            "      Epoch    GPU_mem   box_loss   cls_loss   dfl_loss  Instances       Size\n"
          ]
        },
        {
          "output_type": "stream",
          "name": "stderr",
          "text": [
            "      40/40         0G     0.8049      1.092      1.366         17        640: 100%|██████████| 25/25 [06:04<00:00, 14.57s/it]\n",
            "                 Class     Images  Instances      Box(P          R      mAP50  mAP50-95): 100%|██████████| 2/2 [00:18<00:00,  9.15s/it]"
          ]
        },
        {
          "output_type": "stream",
          "name": "stdout",
          "text": [
            "                   all         56        106      0.616      0.577      0.605      0.347\n"
          ]
        },
        {
          "output_type": "stream",
          "name": "stderr",
          "text": [
            "\n"
          ]
        },
        {
          "output_type": "stream",
          "name": "stdout",
          "text": [
            "\n",
            "40 epochs completed in 4.296 hours.\n",
            "Optimizer stripped from runs/detect/train/weights/last.pt, 6.3MB\n",
            "Optimizer stripped from runs/detect/train/weights/best.pt, 6.3MB\n",
            "\n",
            "Validating runs/detect/train/weights/best.pt...\n",
            "Ultralytics 8.3.137 🚀 Python-3.11.12 torch-2.6.0+cu124 CPU (Intel Xeon 2.20GHz)\n",
            "Model summary (fused): 72 layers, 3,007,598 parameters, 0 gradients, 8.1 GFLOPs\n"
          ]
        },
        {
          "output_type": "stream",
          "name": "stderr",
          "text": [
            "                 Class     Images  Instances      Box(P          R      mAP50  mAP50-95): 100%|██████████| 2/2 [00:16<00:00,  8.06s/it]\n"
          ]
        },
        {
          "output_type": "stream",
          "name": "stdout",
          "text": [
            "                   all         56        106      0.615      0.536      0.614      0.382\n",
            "                ca_kho         10         13      0.619      0.308      0.709      0.317\n",
            "              canh_cai          8          9      0.501      0.778      0.739      0.432\n",
            "             canh_chua          8         10      0.914        0.6      0.736      0.496\n",
            "             com_trang         17         19      0.621      0.895      0.789      0.588\n",
            "         dau_hu_sot_ca          8         10       0.85        0.4      0.619      0.422\n",
            "              ga_chien          8          9       0.22      0.111      0.144     0.0686\n",
            "         rau_muong_xao          5          5      0.761      0.645      0.762      0.387\n",
            "              thit_kho         16         16      0.505      0.875      0.482       0.28\n",
            "        thit_kho_trung          3          3      0.615      0.667       0.72      0.588\n",
            "           trung_chien         12         12       0.54     0.0833      0.441      0.239\n",
            "Speed: 2.7ms preprocess, 269.5ms inference, 0.0ms loss, 1.3ms postprocess per image\n",
            "Results saved to \u001b[1mruns/detect/train\u001b[0m\n"
          ]
        },
        {
          "output_type": "execute_result",
          "data": {
            "text/plain": [
              "ultralytics.utils.metrics.DetMetrics object with attributes:\n",
              "\n",
              "ap_class_index: array([0, 1, 2, 3, 4, 5, 6, 7, 8, 9])\n",
              "box: ultralytics.utils.metrics.Metric object\n",
              "confusion_matrix: <ultralytics.utils.metrics.ConfusionMatrix object at 0x7e7639925090>\n",
              "curves: ['Precision-Recall(B)', 'F1-Confidence(B)', 'Precision-Confidence(B)', 'Recall-Confidence(B)']\n",
              "curves_results: [[array([          0,    0.001001,    0.002002,    0.003003,    0.004004,    0.005005,    0.006006,    0.007007,    0.008008,    0.009009,     0.01001,    0.011011,    0.012012,    0.013013,    0.014014,    0.015015,    0.016016,    0.017017,    0.018018,    0.019019,     0.02002,    0.021021,    0.022022,    0.023023,\n",
              "          0.024024,    0.025025,    0.026026,    0.027027,    0.028028,    0.029029,     0.03003,    0.031031,    0.032032,    0.033033,    0.034034,    0.035035,    0.036036,    0.037037,    0.038038,    0.039039,     0.04004,    0.041041,    0.042042,    0.043043,    0.044044,    0.045045,    0.046046,    0.047047,\n",
              "          0.048048,    0.049049,     0.05005,    0.051051,    0.052052,    0.053053,    0.054054,    0.055055,    0.056056,    0.057057,    0.058058,    0.059059,     0.06006,    0.061061,    0.062062,    0.063063,    0.064064,    0.065065,    0.066066,    0.067067,    0.068068,    0.069069,     0.07007,    0.071071,\n",
              "          0.072072,    0.073073,    0.074074,    0.075075,    0.076076,    0.077077,    0.078078,    0.079079,     0.08008,    0.081081,    0.082082,    0.083083,    0.084084,    0.085085,    0.086086,    0.087087,    0.088088,    0.089089,     0.09009,    0.091091,    0.092092,    0.093093,    0.094094,    0.095095,\n",
              "          0.096096,    0.097097,    0.098098,    0.099099,      0.1001,      0.1011,      0.1021,      0.1031,      0.1041,     0.10511,     0.10611,     0.10711,     0.10811,     0.10911,     0.11011,     0.11111,     0.11211,     0.11311,     0.11411,     0.11512,     0.11612,     0.11712,     0.11812,     0.11912,\n",
              "           0.12012,     0.12112,     0.12212,     0.12312,     0.12412,     0.12513,     0.12613,     0.12713,     0.12813,     0.12913,     0.13013,     0.13113,     0.13213,     0.13313,     0.13413,     0.13514,     0.13614,     0.13714,     0.13814,     0.13914,     0.14014,     0.14114,     0.14214,     0.14314,\n",
              "           0.14414,     0.14515,     0.14615,     0.14715,     0.14815,     0.14915,     0.15015,     0.15115,     0.15215,     0.15315,     0.15415,     0.15516,     0.15616,     0.15716,     0.15816,     0.15916,     0.16016,     0.16116,     0.16216,     0.16316,     0.16416,     0.16517,     0.16617,     0.16717,\n",
              "           0.16817,     0.16917,     0.17017,     0.17117,     0.17217,     0.17317,     0.17417,     0.17518,     0.17618,     0.17718,     0.17818,     0.17918,     0.18018,     0.18118,     0.18218,     0.18318,     0.18418,     0.18519,     0.18619,     0.18719,     0.18819,     0.18919,     0.19019,     0.19119,\n",
              "           0.19219,     0.19319,     0.19419,      0.1952,      0.1962,      0.1972,      0.1982,      0.1992,      0.2002,      0.2012,      0.2022,      0.2032,      0.2042,     0.20521,     0.20621,     0.20721,     0.20821,     0.20921,     0.21021,     0.21121,     0.21221,     0.21321,     0.21421,     0.21522,\n",
              "           0.21622,     0.21722,     0.21822,     0.21922,     0.22022,     0.22122,     0.22222,     0.22322,     0.22422,     0.22523,     0.22623,     0.22723,     0.22823,     0.22923,     0.23023,     0.23123,     0.23223,     0.23323,     0.23423,     0.23524,     0.23624,     0.23724,     0.23824,     0.23924,\n",
              "           0.24024,     0.24124,     0.24224,     0.24324,     0.24424,     0.24525,     0.24625,     0.24725,     0.24825,     0.24925,     0.25025,     0.25125,     0.25225,     0.25325,     0.25425,     0.25526,     0.25626,     0.25726,     0.25826,     0.25926,     0.26026,     0.26126,     0.26226,     0.26326,\n",
              "           0.26426,     0.26527,     0.26627,     0.26727,     0.26827,     0.26927,     0.27027,     0.27127,     0.27227,     0.27327,     0.27427,     0.27528,     0.27628,     0.27728,     0.27828,     0.27928,     0.28028,     0.28128,     0.28228,     0.28328,     0.28428,     0.28529,     0.28629,     0.28729,\n",
              "           0.28829,     0.28929,     0.29029,     0.29129,     0.29229,     0.29329,     0.29429,      0.2953,      0.2963,      0.2973,      0.2983,      0.2993,      0.3003,      0.3013,      0.3023,      0.3033,      0.3043,     0.30531,     0.30631,     0.30731,     0.30831,     0.30931,     0.31031,     0.31131,\n",
              "           0.31231,     0.31331,     0.31431,     0.31532,     0.31632,     0.31732,     0.31832,     0.31932,     0.32032,     0.32132,     0.32232,     0.32332,     0.32432,     0.32533,     0.32633,     0.32733,     0.32833,     0.32933,     0.33033,     0.33133,     0.33233,     0.33333,     0.33433,     0.33534,\n",
              "           0.33634,     0.33734,     0.33834,     0.33934,     0.34034,     0.34134,     0.34234,     0.34334,     0.34434,     0.34535,     0.34635,     0.34735,     0.34835,     0.34935,     0.35035,     0.35135,     0.35235,     0.35335,     0.35435,     0.35536,     0.35636,     0.35736,     0.35836,     0.35936,\n",
              "           0.36036,     0.36136,     0.36236,     0.36336,     0.36436,     0.36537,     0.36637,     0.36737,     0.36837,     0.36937,     0.37037,     0.37137,     0.37237,     0.37337,     0.37437,     0.37538,     0.37638,     0.37738,     0.37838,     0.37938,     0.38038,     0.38138,     0.38238,     0.38338,\n",
              "           0.38438,     0.38539,     0.38639,     0.38739,     0.38839,     0.38939,     0.39039,     0.39139,     0.39239,     0.39339,     0.39439,      0.3954,      0.3964,      0.3974,      0.3984,      0.3994,      0.4004,      0.4014,      0.4024,      0.4034,      0.4044,     0.40541,     0.40641,     0.40741,\n",
              "           0.40841,     0.40941,     0.41041,     0.41141,     0.41241,     0.41341,     0.41441,     0.41542,     0.41642,     0.41742,     0.41842,     0.41942,     0.42042,     0.42142,     0.42242,     0.42342,     0.42442,     0.42543,     0.42643,     0.42743,     0.42843,     0.42943,     0.43043,     0.43143,\n",
              "           0.43243,     0.43343,     0.43443,     0.43544,     0.43644,     0.43744,     0.43844,     0.43944,     0.44044,     0.44144,     0.44244,     0.44344,     0.44444,     0.44545,     0.44645,     0.44745,     0.44845,     0.44945,     0.45045,     0.45145,     0.45245,     0.45345,     0.45445,     0.45546,\n",
              "           0.45646,     0.45746,     0.45846,     0.45946,     0.46046,     0.46146,     0.46246,     0.46346,     0.46446,     0.46547,     0.46647,     0.46747,     0.46847,     0.46947,     0.47047,     0.47147,     0.47247,     0.47347,     0.47447,     0.47548,     0.47648,     0.47748,     0.47848,     0.47948,\n",
              "           0.48048,     0.48148,     0.48248,     0.48348,     0.48448,     0.48549,     0.48649,     0.48749,     0.48849,     0.48949,     0.49049,     0.49149,     0.49249,     0.49349,     0.49449,      0.4955,      0.4965,      0.4975,      0.4985,      0.4995,      0.5005,      0.5015,      0.5025,      0.5035,\n",
              "            0.5045,     0.50551,     0.50651,     0.50751,     0.50851,     0.50951,     0.51051,     0.51151,     0.51251,     0.51351,     0.51451,     0.51552,     0.51652,     0.51752,     0.51852,     0.51952,     0.52052,     0.52152,     0.52252,     0.52352,     0.52452,     0.52553,     0.52653,     0.52753,\n",
              "           0.52853,     0.52953,     0.53053,     0.53153,     0.53253,     0.53353,     0.53453,     0.53554,     0.53654,     0.53754,     0.53854,     0.53954,     0.54054,     0.54154,     0.54254,     0.54354,     0.54454,     0.54555,     0.54655,     0.54755,     0.54855,     0.54955,     0.55055,     0.55155,\n",
              "           0.55255,     0.55355,     0.55455,     0.55556,     0.55656,     0.55756,     0.55856,     0.55956,     0.56056,     0.56156,     0.56256,     0.56356,     0.56456,     0.56557,     0.56657,     0.56757,     0.56857,     0.56957,     0.57057,     0.57157,     0.57257,     0.57357,     0.57457,     0.57558,\n",
              "           0.57658,     0.57758,     0.57858,     0.57958,     0.58058,     0.58158,     0.58258,     0.58358,     0.58458,     0.58559,     0.58659,     0.58759,     0.58859,     0.58959,     0.59059,     0.59159,     0.59259,     0.59359,     0.59459,      0.5956,      0.5966,      0.5976,      0.5986,      0.5996,\n",
              "            0.6006,      0.6016,      0.6026,      0.6036,      0.6046,     0.60561,     0.60661,     0.60761,     0.60861,     0.60961,     0.61061,     0.61161,     0.61261,     0.61361,     0.61461,     0.61562,     0.61662,     0.61762,     0.61862,     0.61962,     0.62062,     0.62162,     0.62262,     0.62362,\n",
              "           0.62462,     0.62563,     0.62663,     0.62763,     0.62863,     0.62963,     0.63063,     0.63163,     0.63263,     0.63363,     0.63463,     0.63564,     0.63664,     0.63764,     0.63864,     0.63964,     0.64064,     0.64164,     0.64264,     0.64364,     0.64464,     0.64565,     0.64665,     0.64765,\n",
              "           0.64865,     0.64965,     0.65065,     0.65165,     0.65265,     0.65365,     0.65465,     0.65566,     0.65666,     0.65766,     0.65866,     0.65966,     0.66066,     0.66166,     0.66266,     0.66366,     0.66466,     0.66567,     0.66667,     0.66767,     0.66867,     0.66967,     0.67067,     0.67167,\n",
              "           0.67267,     0.67367,     0.67467,     0.67568,     0.67668,     0.67768,     0.67868,     0.67968,     0.68068,     0.68168,     0.68268,     0.68368,     0.68468,     0.68569,     0.68669,     0.68769,     0.68869,     0.68969,     0.69069,     0.69169,     0.69269,     0.69369,     0.69469,      0.6957,\n",
              "            0.6967,      0.6977,      0.6987,      0.6997,      0.7007,      0.7017,      0.7027,      0.7037,      0.7047,     0.70571,     0.70671,     0.70771,     0.70871,     0.70971,     0.71071,     0.71171,     0.71271,     0.71371,     0.71471,     0.71572,     0.71672,     0.71772,     0.71872,     0.71972,\n",
              "           0.72072,     0.72172,     0.72272,     0.72372,     0.72472,     0.72573,     0.72673,     0.72773,     0.72873,     0.72973,     0.73073,     0.73173,     0.73273,     0.73373,     0.73473,     0.73574,     0.73674,     0.73774,     0.73874,     0.73974,     0.74074,     0.74174,     0.74274,     0.74374,\n",
              "           0.74474,     0.74575,     0.74675,     0.74775,     0.74875,     0.74975,     0.75075,     0.75175,     0.75275,     0.75375,     0.75475,     0.75576,     0.75676,     0.75776,     0.75876,     0.75976,     0.76076,     0.76176,     0.76276,     0.76376,     0.76476,     0.76577,     0.76677,     0.76777,\n",
              "           0.76877,     0.76977,     0.77077,     0.77177,     0.77277,     0.77377,     0.77477,     0.77578,     0.77678,     0.77778,     0.77878,     0.77978,     0.78078,     0.78178,     0.78278,     0.78378,     0.78478,     0.78579,     0.78679,     0.78779,     0.78879,     0.78979,     0.79079,     0.79179,\n",
              "           0.79279,     0.79379,     0.79479,      0.7958,      0.7968,      0.7978,      0.7988,      0.7998,      0.8008,      0.8018,      0.8028,      0.8038,      0.8048,     0.80581,     0.80681,     0.80781,     0.80881,     0.80981,     0.81081,     0.81181,     0.81281,     0.81381,     0.81481,     0.81582,\n",
              "           0.81682,     0.81782,     0.81882,     0.81982,     0.82082,     0.82182,     0.82282,     0.82382,     0.82482,     0.82583,     0.82683,     0.82783,     0.82883,     0.82983,     0.83083,     0.83183,     0.83283,     0.83383,     0.83483,     0.83584,     0.83684,     0.83784,     0.83884,     0.83984,\n",
              "           0.84084,     0.84184,     0.84284,     0.84384,     0.84484,     0.84585,     0.84685,     0.84785,     0.84885,     0.84985,     0.85085,     0.85185,     0.85285,     0.85385,     0.85485,     0.85586,     0.85686,     0.85786,     0.85886,     0.85986,     0.86086,     0.86186,     0.86286,     0.86386,\n",
              "           0.86486,     0.86587,     0.86687,     0.86787,     0.86887,     0.86987,     0.87087,     0.87187,     0.87287,     0.87387,     0.87487,     0.87588,     0.87688,     0.87788,     0.87888,     0.87988,     0.88088,     0.88188,     0.88288,     0.88388,     0.88488,     0.88589,     0.88689,     0.88789,\n",
              "           0.88889,     0.88989,     0.89089,     0.89189,     0.89289,     0.89389,     0.89489,      0.8959,      0.8969,      0.8979,      0.8989,      0.8999,      0.9009,      0.9019,      0.9029,      0.9039,      0.9049,     0.90591,     0.90691,     0.90791,     0.90891,     0.90991,     0.91091,     0.91191,\n",
              "           0.91291,     0.91391,     0.91491,     0.91592,     0.91692,     0.91792,     0.91892,     0.91992,     0.92092,     0.92192,     0.92292,     0.92392,     0.92492,     0.92593,     0.92693,     0.92793,     0.92893,     0.92993,     0.93093,     0.93193,     0.93293,     0.93393,     0.93493,     0.93594,\n",
              "           0.93694,     0.93794,     0.93894,     0.93994,     0.94094,     0.94194,     0.94294,     0.94394,     0.94494,     0.94595,     0.94695,     0.94795,     0.94895,     0.94995,     0.95095,     0.95195,     0.95295,     0.95395,     0.95495,     0.95596,     0.95696,     0.95796,     0.95896,     0.95996,\n",
              "           0.96096,     0.96196,     0.96296,     0.96396,     0.96496,     0.96597,     0.96697,     0.96797,     0.96897,     0.96997,     0.97097,     0.97197,     0.97297,     0.97397,     0.97497,     0.97598,     0.97698,     0.97798,     0.97898,     0.97998,     0.98098,     0.98198,     0.98298,     0.98398,\n",
              "           0.98498,     0.98599,     0.98699,     0.98799,     0.98899,     0.98999,     0.99099,     0.99199,     0.99299,     0.99399,     0.99499,       0.996,       0.997,       0.998,       0.999,           1]), array([[          1,           1,           1, ...,     0.38235,     0.38235,           0],\n",
              "       [          1,           1,           1, ...,       0.375,       0.375,           0],\n",
              "       [          1,           1,           1, ...,  0.00028464,  0.00014232,           0],\n",
              "       ...,\n",
              "       [    0.52381,     0.52381,     0.52381, ...,  0.00037655,  0.00018828,           0],\n",
              "       [          1,           1,           1, ...,         0.5,         0.5,           0],\n",
              "       [          1,           1,           1, ...,      0.1791,      0.1791,           0]]), 'Recall', 'Precision'], [array([          0,    0.001001,    0.002002,    0.003003,    0.004004,    0.005005,    0.006006,    0.007007,    0.008008,    0.009009,     0.01001,    0.011011,    0.012012,    0.013013,    0.014014,    0.015015,    0.016016,    0.017017,    0.018018,    0.019019,     0.02002,    0.021021,    0.022022,    0.023023,\n",
              "          0.024024,    0.025025,    0.026026,    0.027027,    0.028028,    0.029029,     0.03003,    0.031031,    0.032032,    0.033033,    0.034034,    0.035035,    0.036036,    0.037037,    0.038038,    0.039039,     0.04004,    0.041041,    0.042042,    0.043043,    0.044044,    0.045045,    0.046046,    0.047047,\n",
              "          0.048048,    0.049049,     0.05005,    0.051051,    0.052052,    0.053053,    0.054054,    0.055055,    0.056056,    0.057057,    0.058058,    0.059059,     0.06006,    0.061061,    0.062062,    0.063063,    0.064064,    0.065065,    0.066066,    0.067067,    0.068068,    0.069069,     0.07007,    0.071071,\n",
              "          0.072072,    0.073073,    0.074074,    0.075075,    0.076076,    0.077077,    0.078078,    0.079079,     0.08008,    0.081081,    0.082082,    0.083083,    0.084084,    0.085085,    0.086086,    0.087087,    0.088088,    0.089089,     0.09009,    0.091091,    0.092092,    0.093093,    0.094094,    0.095095,\n",
              "          0.096096,    0.097097,    0.098098,    0.099099,      0.1001,      0.1011,      0.1021,      0.1031,      0.1041,     0.10511,     0.10611,     0.10711,     0.10811,     0.10911,     0.11011,     0.11111,     0.11211,     0.11311,     0.11411,     0.11512,     0.11612,     0.11712,     0.11812,     0.11912,\n",
              "           0.12012,     0.12112,     0.12212,     0.12312,     0.12412,     0.12513,     0.12613,     0.12713,     0.12813,     0.12913,     0.13013,     0.13113,     0.13213,     0.13313,     0.13413,     0.13514,     0.13614,     0.13714,     0.13814,     0.13914,     0.14014,     0.14114,     0.14214,     0.14314,\n",
              "           0.14414,     0.14515,     0.14615,     0.14715,     0.14815,     0.14915,     0.15015,     0.15115,     0.15215,     0.15315,     0.15415,     0.15516,     0.15616,     0.15716,     0.15816,     0.15916,     0.16016,     0.16116,     0.16216,     0.16316,     0.16416,     0.16517,     0.16617,     0.16717,\n",
              "           0.16817,     0.16917,     0.17017,     0.17117,     0.17217,     0.17317,     0.17417,     0.17518,     0.17618,     0.17718,     0.17818,     0.17918,     0.18018,     0.18118,     0.18218,     0.18318,     0.18418,     0.18519,     0.18619,     0.18719,     0.18819,     0.18919,     0.19019,     0.19119,\n",
              "           0.19219,     0.19319,     0.19419,      0.1952,      0.1962,      0.1972,      0.1982,      0.1992,      0.2002,      0.2012,      0.2022,      0.2032,      0.2042,     0.20521,     0.20621,     0.20721,     0.20821,     0.20921,     0.21021,     0.21121,     0.21221,     0.21321,     0.21421,     0.21522,\n",
              "           0.21622,     0.21722,     0.21822,     0.21922,     0.22022,     0.22122,     0.22222,     0.22322,     0.22422,     0.22523,     0.22623,     0.22723,     0.22823,     0.22923,     0.23023,     0.23123,     0.23223,     0.23323,     0.23423,     0.23524,     0.23624,     0.23724,     0.23824,     0.23924,\n",
              "           0.24024,     0.24124,     0.24224,     0.24324,     0.24424,     0.24525,     0.24625,     0.24725,     0.24825,     0.24925,     0.25025,     0.25125,     0.25225,     0.25325,     0.25425,     0.25526,     0.25626,     0.25726,     0.25826,     0.25926,     0.26026,     0.26126,     0.26226,     0.26326,\n",
              "           0.26426,     0.26527,     0.26627,     0.26727,     0.26827,     0.26927,     0.27027,     0.27127,     0.27227,     0.27327,     0.27427,     0.27528,     0.27628,     0.27728,     0.27828,     0.27928,     0.28028,     0.28128,     0.28228,     0.28328,     0.28428,     0.28529,     0.28629,     0.28729,\n",
              "           0.28829,     0.28929,     0.29029,     0.29129,     0.29229,     0.29329,     0.29429,      0.2953,      0.2963,      0.2973,      0.2983,      0.2993,      0.3003,      0.3013,      0.3023,      0.3033,      0.3043,     0.30531,     0.30631,     0.30731,     0.30831,     0.30931,     0.31031,     0.31131,\n",
              "           0.31231,     0.31331,     0.31431,     0.31532,     0.31632,     0.31732,     0.31832,     0.31932,     0.32032,     0.32132,     0.32232,     0.32332,     0.32432,     0.32533,     0.32633,     0.32733,     0.32833,     0.32933,     0.33033,     0.33133,     0.33233,     0.33333,     0.33433,     0.33534,\n",
              "           0.33634,     0.33734,     0.33834,     0.33934,     0.34034,     0.34134,     0.34234,     0.34334,     0.34434,     0.34535,     0.34635,     0.34735,     0.34835,     0.34935,     0.35035,     0.35135,     0.35235,     0.35335,     0.35435,     0.35536,     0.35636,     0.35736,     0.35836,     0.35936,\n",
              "           0.36036,     0.36136,     0.36236,     0.36336,     0.36436,     0.36537,     0.36637,     0.36737,     0.36837,     0.36937,     0.37037,     0.37137,     0.37237,     0.37337,     0.37437,     0.37538,     0.37638,     0.37738,     0.37838,     0.37938,     0.38038,     0.38138,     0.38238,     0.38338,\n",
              "           0.38438,     0.38539,     0.38639,     0.38739,     0.38839,     0.38939,     0.39039,     0.39139,     0.39239,     0.39339,     0.39439,      0.3954,      0.3964,      0.3974,      0.3984,      0.3994,      0.4004,      0.4014,      0.4024,      0.4034,      0.4044,     0.40541,     0.40641,     0.40741,\n",
              "           0.40841,     0.40941,     0.41041,     0.41141,     0.41241,     0.41341,     0.41441,     0.41542,     0.41642,     0.41742,     0.41842,     0.41942,     0.42042,     0.42142,     0.42242,     0.42342,     0.42442,     0.42543,     0.42643,     0.42743,     0.42843,     0.42943,     0.43043,     0.43143,\n",
              "           0.43243,     0.43343,     0.43443,     0.43544,     0.43644,     0.43744,     0.43844,     0.43944,     0.44044,     0.44144,     0.44244,     0.44344,     0.44444,     0.44545,     0.44645,     0.44745,     0.44845,     0.44945,     0.45045,     0.45145,     0.45245,     0.45345,     0.45445,     0.45546,\n",
              "           0.45646,     0.45746,     0.45846,     0.45946,     0.46046,     0.46146,     0.46246,     0.46346,     0.46446,     0.46547,     0.46647,     0.46747,     0.46847,     0.46947,     0.47047,     0.47147,     0.47247,     0.47347,     0.47447,     0.47548,     0.47648,     0.47748,     0.47848,     0.47948,\n",
              "           0.48048,     0.48148,     0.48248,     0.48348,     0.48448,     0.48549,     0.48649,     0.48749,     0.48849,     0.48949,     0.49049,     0.49149,     0.49249,     0.49349,     0.49449,      0.4955,      0.4965,      0.4975,      0.4985,      0.4995,      0.5005,      0.5015,      0.5025,      0.5035,\n",
              "            0.5045,     0.50551,     0.50651,     0.50751,     0.50851,     0.50951,     0.51051,     0.51151,     0.51251,     0.51351,     0.51451,     0.51552,     0.51652,     0.51752,     0.51852,     0.51952,     0.52052,     0.52152,     0.52252,     0.52352,     0.52452,     0.52553,     0.52653,     0.52753,\n",
              "           0.52853,     0.52953,     0.53053,     0.53153,     0.53253,     0.53353,     0.53453,     0.53554,     0.53654,     0.53754,     0.53854,     0.53954,     0.54054,     0.54154,     0.54254,     0.54354,     0.54454,     0.54555,     0.54655,     0.54755,     0.54855,     0.54955,     0.55055,     0.55155,\n",
              "           0.55255,     0.55355,     0.55455,     0.55556,     0.55656,     0.55756,     0.55856,     0.55956,     0.56056,     0.56156,     0.56256,     0.56356,     0.56456,     0.56557,     0.56657,     0.56757,     0.56857,     0.56957,     0.57057,     0.57157,     0.57257,     0.57357,     0.57457,     0.57558,\n",
              "           0.57658,     0.57758,     0.57858,     0.57958,     0.58058,     0.58158,     0.58258,     0.58358,     0.58458,     0.58559,     0.58659,     0.58759,     0.58859,     0.58959,     0.59059,     0.59159,     0.59259,     0.59359,     0.59459,      0.5956,      0.5966,      0.5976,      0.5986,      0.5996,\n",
              "            0.6006,      0.6016,      0.6026,      0.6036,      0.6046,     0.60561,     0.60661,     0.60761,     0.60861,     0.60961,     0.61061,     0.61161,     0.61261,     0.61361,     0.61461,     0.61562,     0.61662,     0.61762,     0.61862,     0.61962,     0.62062,     0.62162,     0.62262,     0.62362,\n",
              "           0.62462,     0.62563,     0.62663,     0.62763,     0.62863,     0.62963,     0.63063,     0.63163,     0.63263,     0.63363,     0.63463,     0.63564,     0.63664,     0.63764,     0.63864,     0.63964,     0.64064,     0.64164,     0.64264,     0.64364,     0.64464,     0.64565,     0.64665,     0.64765,\n",
              "           0.64865,     0.64965,     0.65065,     0.65165,     0.65265,     0.65365,     0.65465,     0.65566,     0.65666,     0.65766,     0.65866,     0.65966,     0.66066,     0.66166,     0.66266,     0.66366,     0.66466,     0.66567,     0.66667,     0.66767,     0.66867,     0.66967,     0.67067,     0.67167,\n",
              "           0.67267,     0.67367,     0.67467,     0.67568,     0.67668,     0.67768,     0.67868,     0.67968,     0.68068,     0.68168,     0.68268,     0.68368,     0.68468,     0.68569,     0.68669,     0.68769,     0.68869,     0.68969,     0.69069,     0.69169,     0.69269,     0.69369,     0.69469,      0.6957,\n",
              "            0.6967,      0.6977,      0.6987,      0.6997,      0.7007,      0.7017,      0.7027,      0.7037,      0.7047,     0.70571,     0.70671,     0.70771,     0.70871,     0.70971,     0.71071,     0.71171,     0.71271,     0.71371,     0.71471,     0.71572,     0.71672,     0.71772,     0.71872,     0.71972,\n",
              "           0.72072,     0.72172,     0.72272,     0.72372,     0.72472,     0.72573,     0.72673,     0.72773,     0.72873,     0.72973,     0.73073,     0.73173,     0.73273,     0.73373,     0.73473,     0.73574,     0.73674,     0.73774,     0.73874,     0.73974,     0.74074,     0.74174,     0.74274,     0.74374,\n",
              "           0.74474,     0.74575,     0.74675,     0.74775,     0.74875,     0.74975,     0.75075,     0.75175,     0.75275,     0.75375,     0.75475,     0.75576,     0.75676,     0.75776,     0.75876,     0.75976,     0.76076,     0.76176,     0.76276,     0.76376,     0.76476,     0.76577,     0.76677,     0.76777,\n",
              "           0.76877,     0.76977,     0.77077,     0.77177,     0.77277,     0.77377,     0.77477,     0.77578,     0.77678,     0.77778,     0.77878,     0.77978,     0.78078,     0.78178,     0.78278,     0.78378,     0.78478,     0.78579,     0.78679,     0.78779,     0.78879,     0.78979,     0.79079,     0.79179,\n",
              "           0.79279,     0.79379,     0.79479,      0.7958,      0.7968,      0.7978,      0.7988,      0.7998,      0.8008,      0.8018,      0.8028,      0.8038,      0.8048,     0.80581,     0.80681,     0.80781,     0.80881,     0.80981,     0.81081,     0.81181,     0.81281,     0.81381,     0.81481,     0.81582,\n",
              "           0.81682,     0.81782,     0.81882,     0.81982,     0.82082,     0.82182,     0.82282,     0.82382,     0.82482,     0.82583,     0.82683,     0.82783,     0.82883,     0.82983,     0.83083,     0.83183,     0.83283,     0.83383,     0.83483,     0.83584,     0.83684,     0.83784,     0.83884,     0.83984,\n",
              "           0.84084,     0.84184,     0.84284,     0.84384,     0.84484,     0.84585,     0.84685,     0.84785,     0.84885,     0.84985,     0.85085,     0.85185,     0.85285,     0.85385,     0.85485,     0.85586,     0.85686,     0.85786,     0.85886,     0.85986,     0.86086,     0.86186,     0.86286,     0.86386,\n",
              "           0.86486,     0.86587,     0.86687,     0.86787,     0.86887,     0.86987,     0.87087,     0.87187,     0.87287,     0.87387,     0.87487,     0.87588,     0.87688,     0.87788,     0.87888,     0.87988,     0.88088,     0.88188,     0.88288,     0.88388,     0.88488,     0.88589,     0.88689,     0.88789,\n",
              "           0.88889,     0.88989,     0.89089,     0.89189,     0.89289,     0.89389,     0.89489,      0.8959,      0.8969,      0.8979,      0.8989,      0.8999,      0.9009,      0.9019,      0.9029,      0.9039,      0.9049,     0.90591,     0.90691,     0.90791,     0.90891,     0.90991,     0.91091,     0.91191,\n",
              "           0.91291,     0.91391,     0.91491,     0.91592,     0.91692,     0.91792,     0.91892,     0.91992,     0.92092,     0.92192,     0.92292,     0.92392,     0.92492,     0.92593,     0.92693,     0.92793,     0.92893,     0.92993,     0.93093,     0.93193,     0.93293,     0.93393,     0.93493,     0.93594,\n",
              "           0.93694,     0.93794,     0.93894,     0.93994,     0.94094,     0.94194,     0.94294,     0.94394,     0.94494,     0.94595,     0.94695,     0.94795,     0.94895,     0.94995,     0.95095,     0.95195,     0.95295,     0.95395,     0.95495,     0.95596,     0.95696,     0.95796,     0.95896,     0.95996,\n",
              "           0.96096,     0.96196,     0.96296,     0.96396,     0.96496,     0.96597,     0.96697,     0.96797,     0.96897,     0.96997,     0.97097,     0.97197,     0.97297,     0.97397,     0.97497,     0.97598,     0.97698,     0.97798,     0.97898,     0.97998,     0.98098,     0.98198,     0.98298,     0.98398,\n",
              "           0.98498,     0.98599,     0.98699,     0.98799,     0.98899,     0.98999,     0.99099,     0.99199,     0.99299,     0.99399,     0.99499,       0.996,       0.997,       0.998,       0.999,           1]), array([[   0.032419,    0.032486,     0.11203, ...,           0,           0,           0],\n",
              "       [   0.011944,     0.01201,     0.12352, ...,           0,           0,           0],\n",
              "       [   0.027994,    0.028113,    0.099179, ...,           0,           0,           0],\n",
              "       ...,\n",
              "       [    0.02322,    0.023325,    0.088894, ...,           0,           0,           0],\n",
              "       [  0.0053763,   0.0053907,    0.023992, ...,           0,           0,           0],\n",
              "       [   0.022706,    0.022908,      0.1591, ...,           0,           0,           0]]), 'Confidence', 'F1'], [array([          0,    0.001001,    0.002002,    0.003003,    0.004004,    0.005005,    0.006006,    0.007007,    0.008008,    0.009009,     0.01001,    0.011011,    0.012012,    0.013013,    0.014014,    0.015015,    0.016016,    0.017017,    0.018018,    0.019019,     0.02002,    0.021021,    0.022022,    0.023023,\n",
              "          0.024024,    0.025025,    0.026026,    0.027027,    0.028028,    0.029029,     0.03003,    0.031031,    0.032032,    0.033033,    0.034034,    0.035035,    0.036036,    0.037037,    0.038038,    0.039039,     0.04004,    0.041041,    0.042042,    0.043043,    0.044044,    0.045045,    0.046046,    0.047047,\n",
              "          0.048048,    0.049049,     0.05005,    0.051051,    0.052052,    0.053053,    0.054054,    0.055055,    0.056056,    0.057057,    0.058058,    0.059059,     0.06006,    0.061061,    0.062062,    0.063063,    0.064064,    0.065065,    0.066066,    0.067067,    0.068068,    0.069069,     0.07007,    0.071071,\n",
              "          0.072072,    0.073073,    0.074074,    0.075075,    0.076076,    0.077077,    0.078078,    0.079079,     0.08008,    0.081081,    0.082082,    0.083083,    0.084084,    0.085085,    0.086086,    0.087087,    0.088088,    0.089089,     0.09009,    0.091091,    0.092092,    0.093093,    0.094094,    0.095095,\n",
              "          0.096096,    0.097097,    0.098098,    0.099099,      0.1001,      0.1011,      0.1021,      0.1031,      0.1041,     0.10511,     0.10611,     0.10711,     0.10811,     0.10911,     0.11011,     0.11111,     0.11211,     0.11311,     0.11411,     0.11512,     0.11612,     0.11712,     0.11812,     0.11912,\n",
              "           0.12012,     0.12112,     0.12212,     0.12312,     0.12412,     0.12513,     0.12613,     0.12713,     0.12813,     0.12913,     0.13013,     0.13113,     0.13213,     0.13313,     0.13413,     0.13514,     0.13614,     0.13714,     0.13814,     0.13914,     0.14014,     0.14114,     0.14214,     0.14314,\n",
              "           0.14414,     0.14515,     0.14615,     0.14715,     0.14815,     0.14915,     0.15015,     0.15115,     0.15215,     0.15315,     0.15415,     0.15516,     0.15616,     0.15716,     0.15816,     0.15916,     0.16016,     0.16116,     0.16216,     0.16316,     0.16416,     0.16517,     0.16617,     0.16717,\n",
              "           0.16817,     0.16917,     0.17017,     0.17117,     0.17217,     0.17317,     0.17417,     0.17518,     0.17618,     0.17718,     0.17818,     0.17918,     0.18018,     0.18118,     0.18218,     0.18318,     0.18418,     0.18519,     0.18619,     0.18719,     0.18819,     0.18919,     0.19019,     0.19119,\n",
              "           0.19219,     0.19319,     0.19419,      0.1952,      0.1962,      0.1972,      0.1982,      0.1992,      0.2002,      0.2012,      0.2022,      0.2032,      0.2042,     0.20521,     0.20621,     0.20721,     0.20821,     0.20921,     0.21021,     0.21121,     0.21221,     0.21321,     0.21421,     0.21522,\n",
              "           0.21622,     0.21722,     0.21822,     0.21922,     0.22022,     0.22122,     0.22222,     0.22322,     0.22422,     0.22523,     0.22623,     0.22723,     0.22823,     0.22923,     0.23023,     0.23123,     0.23223,     0.23323,     0.23423,     0.23524,     0.23624,     0.23724,     0.23824,     0.23924,\n",
              "           0.24024,     0.24124,     0.24224,     0.24324,     0.24424,     0.24525,     0.24625,     0.24725,     0.24825,     0.24925,     0.25025,     0.25125,     0.25225,     0.25325,     0.25425,     0.25526,     0.25626,     0.25726,     0.25826,     0.25926,     0.26026,     0.26126,     0.26226,     0.26326,\n",
              "           0.26426,     0.26527,     0.26627,     0.26727,     0.26827,     0.26927,     0.27027,     0.27127,     0.27227,     0.27327,     0.27427,     0.27528,     0.27628,     0.27728,     0.27828,     0.27928,     0.28028,     0.28128,     0.28228,     0.28328,     0.28428,     0.28529,     0.28629,     0.28729,\n",
              "           0.28829,     0.28929,     0.29029,     0.29129,     0.29229,     0.29329,     0.29429,      0.2953,      0.2963,      0.2973,      0.2983,      0.2993,      0.3003,      0.3013,      0.3023,      0.3033,      0.3043,     0.30531,     0.30631,     0.30731,     0.30831,     0.30931,     0.31031,     0.31131,\n",
              "           0.31231,     0.31331,     0.31431,     0.31532,     0.31632,     0.31732,     0.31832,     0.31932,     0.32032,     0.32132,     0.32232,     0.32332,     0.32432,     0.32533,     0.32633,     0.32733,     0.32833,     0.32933,     0.33033,     0.33133,     0.33233,     0.33333,     0.33433,     0.33534,\n",
              "           0.33634,     0.33734,     0.33834,     0.33934,     0.34034,     0.34134,     0.34234,     0.34334,     0.34434,     0.34535,     0.34635,     0.34735,     0.34835,     0.34935,     0.35035,     0.35135,     0.35235,     0.35335,     0.35435,     0.35536,     0.35636,     0.35736,     0.35836,     0.35936,\n",
              "           0.36036,     0.36136,     0.36236,     0.36336,     0.36436,     0.36537,     0.36637,     0.36737,     0.36837,     0.36937,     0.37037,     0.37137,     0.37237,     0.37337,     0.37437,     0.37538,     0.37638,     0.37738,     0.37838,     0.37938,     0.38038,     0.38138,     0.38238,     0.38338,\n",
              "           0.38438,     0.38539,     0.38639,     0.38739,     0.38839,     0.38939,     0.39039,     0.39139,     0.39239,     0.39339,     0.39439,      0.3954,      0.3964,      0.3974,      0.3984,      0.3994,      0.4004,      0.4014,      0.4024,      0.4034,      0.4044,     0.40541,     0.40641,     0.40741,\n",
              "           0.40841,     0.40941,     0.41041,     0.41141,     0.41241,     0.41341,     0.41441,     0.41542,     0.41642,     0.41742,     0.41842,     0.41942,     0.42042,     0.42142,     0.42242,     0.42342,     0.42442,     0.42543,     0.42643,     0.42743,     0.42843,     0.42943,     0.43043,     0.43143,\n",
              "           0.43243,     0.43343,     0.43443,     0.43544,     0.43644,     0.43744,     0.43844,     0.43944,     0.44044,     0.44144,     0.44244,     0.44344,     0.44444,     0.44545,     0.44645,     0.44745,     0.44845,     0.44945,     0.45045,     0.45145,     0.45245,     0.45345,     0.45445,     0.45546,\n",
              "           0.45646,     0.45746,     0.45846,     0.45946,     0.46046,     0.46146,     0.46246,     0.46346,     0.46446,     0.46547,     0.46647,     0.46747,     0.46847,     0.46947,     0.47047,     0.47147,     0.47247,     0.47347,     0.47447,     0.47548,     0.47648,     0.47748,     0.47848,     0.47948,\n",
              "           0.48048,     0.48148,     0.48248,     0.48348,     0.48448,     0.48549,     0.48649,     0.48749,     0.48849,     0.48949,     0.49049,     0.49149,     0.49249,     0.49349,     0.49449,      0.4955,      0.4965,      0.4975,      0.4985,      0.4995,      0.5005,      0.5015,      0.5025,      0.5035,\n",
              "            0.5045,     0.50551,     0.50651,     0.50751,     0.50851,     0.50951,     0.51051,     0.51151,     0.51251,     0.51351,     0.51451,     0.51552,     0.51652,     0.51752,     0.51852,     0.51952,     0.52052,     0.52152,     0.52252,     0.52352,     0.52452,     0.52553,     0.52653,     0.52753,\n",
              "           0.52853,     0.52953,     0.53053,     0.53153,     0.53253,     0.53353,     0.53453,     0.53554,     0.53654,     0.53754,     0.53854,     0.53954,     0.54054,     0.54154,     0.54254,     0.54354,     0.54454,     0.54555,     0.54655,     0.54755,     0.54855,     0.54955,     0.55055,     0.55155,\n",
              "           0.55255,     0.55355,     0.55455,     0.55556,     0.55656,     0.55756,     0.55856,     0.55956,     0.56056,     0.56156,     0.56256,     0.56356,     0.56456,     0.56557,     0.56657,     0.56757,     0.56857,     0.56957,     0.57057,     0.57157,     0.57257,     0.57357,     0.57457,     0.57558,\n",
              "           0.57658,     0.57758,     0.57858,     0.57958,     0.58058,     0.58158,     0.58258,     0.58358,     0.58458,     0.58559,     0.58659,     0.58759,     0.58859,     0.58959,     0.59059,     0.59159,     0.59259,     0.59359,     0.59459,      0.5956,      0.5966,      0.5976,      0.5986,      0.5996,\n",
              "            0.6006,      0.6016,      0.6026,      0.6036,      0.6046,     0.60561,     0.60661,     0.60761,     0.60861,     0.60961,     0.61061,     0.61161,     0.61261,     0.61361,     0.61461,     0.61562,     0.61662,     0.61762,     0.61862,     0.61962,     0.62062,     0.62162,     0.62262,     0.62362,\n",
              "           0.62462,     0.62563,     0.62663,     0.62763,     0.62863,     0.62963,     0.63063,     0.63163,     0.63263,     0.63363,     0.63463,     0.63564,     0.63664,     0.63764,     0.63864,     0.63964,     0.64064,     0.64164,     0.64264,     0.64364,     0.64464,     0.64565,     0.64665,     0.64765,\n",
              "           0.64865,     0.64965,     0.65065,     0.65165,     0.65265,     0.65365,     0.65465,     0.65566,     0.65666,     0.65766,     0.65866,     0.65966,     0.66066,     0.66166,     0.66266,     0.66366,     0.66466,     0.66567,     0.66667,     0.66767,     0.66867,     0.66967,     0.67067,     0.67167,\n",
              "           0.67267,     0.67367,     0.67467,     0.67568,     0.67668,     0.67768,     0.67868,     0.67968,     0.68068,     0.68168,     0.68268,     0.68368,     0.68468,     0.68569,     0.68669,     0.68769,     0.68869,     0.68969,     0.69069,     0.69169,     0.69269,     0.69369,     0.69469,      0.6957,\n",
              "            0.6967,      0.6977,      0.6987,      0.6997,      0.7007,      0.7017,      0.7027,      0.7037,      0.7047,     0.70571,     0.70671,     0.70771,     0.70871,     0.70971,     0.71071,     0.71171,     0.71271,     0.71371,     0.71471,     0.71572,     0.71672,     0.71772,     0.71872,     0.71972,\n",
              "           0.72072,     0.72172,     0.72272,     0.72372,     0.72472,     0.72573,     0.72673,     0.72773,     0.72873,     0.72973,     0.73073,     0.73173,     0.73273,     0.73373,     0.73473,     0.73574,     0.73674,     0.73774,     0.73874,     0.73974,     0.74074,     0.74174,     0.74274,     0.74374,\n",
              "           0.74474,     0.74575,     0.74675,     0.74775,     0.74875,     0.74975,     0.75075,     0.75175,     0.75275,     0.75375,     0.75475,     0.75576,     0.75676,     0.75776,     0.75876,     0.75976,     0.76076,     0.76176,     0.76276,     0.76376,     0.76476,     0.76577,     0.76677,     0.76777,\n",
              "           0.76877,     0.76977,     0.77077,     0.77177,     0.77277,     0.77377,     0.77477,     0.77578,     0.77678,     0.77778,     0.77878,     0.77978,     0.78078,     0.78178,     0.78278,     0.78378,     0.78478,     0.78579,     0.78679,     0.78779,     0.78879,     0.78979,     0.79079,     0.79179,\n",
              "           0.79279,     0.79379,     0.79479,      0.7958,      0.7968,      0.7978,      0.7988,      0.7998,      0.8008,      0.8018,      0.8028,      0.8038,      0.8048,     0.80581,     0.80681,     0.80781,     0.80881,     0.80981,     0.81081,     0.81181,     0.81281,     0.81381,     0.81481,     0.81582,\n",
              "           0.81682,     0.81782,     0.81882,     0.81982,     0.82082,     0.82182,     0.82282,     0.82382,     0.82482,     0.82583,     0.82683,     0.82783,     0.82883,     0.82983,     0.83083,     0.83183,     0.83283,     0.83383,     0.83483,     0.83584,     0.83684,     0.83784,     0.83884,     0.83984,\n",
              "           0.84084,     0.84184,     0.84284,     0.84384,     0.84484,     0.84585,     0.84685,     0.84785,     0.84885,     0.84985,     0.85085,     0.85185,     0.85285,     0.85385,     0.85485,     0.85586,     0.85686,     0.85786,     0.85886,     0.85986,     0.86086,     0.86186,     0.86286,     0.86386,\n",
              "           0.86486,     0.86587,     0.86687,     0.86787,     0.86887,     0.86987,     0.87087,     0.87187,     0.87287,     0.87387,     0.87487,     0.87588,     0.87688,     0.87788,     0.87888,     0.87988,     0.88088,     0.88188,     0.88288,     0.88388,     0.88488,     0.88589,     0.88689,     0.88789,\n",
              "           0.88889,     0.88989,     0.89089,     0.89189,     0.89289,     0.89389,     0.89489,      0.8959,      0.8969,      0.8979,      0.8989,      0.8999,      0.9009,      0.9019,      0.9029,      0.9039,      0.9049,     0.90591,     0.90691,     0.90791,     0.90891,     0.90991,     0.91091,     0.91191,\n",
              "           0.91291,     0.91391,     0.91491,     0.91592,     0.91692,     0.91792,     0.91892,     0.91992,     0.92092,     0.92192,     0.92292,     0.92392,     0.92492,     0.92593,     0.92693,     0.92793,     0.92893,     0.92993,     0.93093,     0.93193,     0.93293,     0.93393,     0.93493,     0.93594,\n",
              "           0.93694,     0.93794,     0.93894,     0.93994,     0.94094,     0.94194,     0.94294,     0.94394,     0.94494,     0.94595,     0.94695,     0.94795,     0.94895,     0.94995,     0.95095,     0.95195,     0.95295,     0.95395,     0.95495,     0.95596,     0.95696,     0.95796,     0.95896,     0.95996,\n",
              "           0.96096,     0.96196,     0.96296,     0.96396,     0.96496,     0.96597,     0.96697,     0.96797,     0.96897,     0.96997,     0.97097,     0.97197,     0.97297,     0.97397,     0.97497,     0.97598,     0.97698,     0.97798,     0.97898,     0.97998,     0.98098,     0.98198,     0.98298,     0.98398,\n",
              "           0.98498,     0.98599,     0.98699,     0.98799,     0.98899,     0.98999,     0.99099,     0.99199,     0.99299,     0.99399,     0.99499,       0.996,       0.997,       0.998,       0.999,           1]), array([[   0.016477,    0.016511,     0.05934, ...,           1,           1,           1],\n",
              "       [   0.006008,   0.0060412,    0.065828, ...,           1,           1,           1],\n",
              "       [   0.014218,    0.014279,    0.052867, ...,           1,           1,           1],\n",
              "       ...,\n",
              "       [   0.011755,    0.011809,    0.046659, ...,           1,           1,           1],\n",
              "       [  0.0026954,   0.0027026,    0.012141, ...,           1,           1,           1],\n",
              "       [   0.011483,    0.011587,    0.086427, ...,           1,           1,           1]]), 'Confidence', 'Precision'], [array([          0,    0.001001,    0.002002,    0.003003,    0.004004,    0.005005,    0.006006,    0.007007,    0.008008,    0.009009,     0.01001,    0.011011,    0.012012,    0.013013,    0.014014,    0.015015,    0.016016,    0.017017,    0.018018,    0.019019,     0.02002,    0.021021,    0.022022,    0.023023,\n",
              "          0.024024,    0.025025,    0.026026,    0.027027,    0.028028,    0.029029,     0.03003,    0.031031,    0.032032,    0.033033,    0.034034,    0.035035,    0.036036,    0.037037,    0.038038,    0.039039,     0.04004,    0.041041,    0.042042,    0.043043,    0.044044,    0.045045,    0.046046,    0.047047,\n",
              "          0.048048,    0.049049,     0.05005,    0.051051,    0.052052,    0.053053,    0.054054,    0.055055,    0.056056,    0.057057,    0.058058,    0.059059,     0.06006,    0.061061,    0.062062,    0.063063,    0.064064,    0.065065,    0.066066,    0.067067,    0.068068,    0.069069,     0.07007,    0.071071,\n",
              "          0.072072,    0.073073,    0.074074,    0.075075,    0.076076,    0.077077,    0.078078,    0.079079,     0.08008,    0.081081,    0.082082,    0.083083,    0.084084,    0.085085,    0.086086,    0.087087,    0.088088,    0.089089,     0.09009,    0.091091,    0.092092,    0.093093,    0.094094,    0.095095,\n",
              "          0.096096,    0.097097,    0.098098,    0.099099,      0.1001,      0.1011,      0.1021,      0.1031,      0.1041,     0.10511,     0.10611,     0.10711,     0.10811,     0.10911,     0.11011,     0.11111,     0.11211,     0.11311,     0.11411,     0.11512,     0.11612,     0.11712,     0.11812,     0.11912,\n",
              "           0.12012,     0.12112,     0.12212,     0.12312,     0.12412,     0.12513,     0.12613,     0.12713,     0.12813,     0.12913,     0.13013,     0.13113,     0.13213,     0.13313,     0.13413,     0.13514,     0.13614,     0.13714,     0.13814,     0.13914,     0.14014,     0.14114,     0.14214,     0.14314,\n",
              "           0.14414,     0.14515,     0.14615,     0.14715,     0.14815,     0.14915,     0.15015,     0.15115,     0.15215,     0.15315,     0.15415,     0.15516,     0.15616,     0.15716,     0.15816,     0.15916,     0.16016,     0.16116,     0.16216,     0.16316,     0.16416,     0.16517,     0.16617,     0.16717,\n",
              "           0.16817,     0.16917,     0.17017,     0.17117,     0.17217,     0.17317,     0.17417,     0.17518,     0.17618,     0.17718,     0.17818,     0.17918,     0.18018,     0.18118,     0.18218,     0.18318,     0.18418,     0.18519,     0.18619,     0.18719,     0.18819,     0.18919,     0.19019,     0.19119,\n",
              "           0.19219,     0.19319,     0.19419,      0.1952,      0.1962,      0.1972,      0.1982,      0.1992,      0.2002,      0.2012,      0.2022,      0.2032,      0.2042,     0.20521,     0.20621,     0.20721,     0.20821,     0.20921,     0.21021,     0.21121,     0.21221,     0.21321,     0.21421,     0.21522,\n",
              "           0.21622,     0.21722,     0.21822,     0.21922,     0.22022,     0.22122,     0.22222,     0.22322,     0.22422,     0.22523,     0.22623,     0.22723,     0.22823,     0.22923,     0.23023,     0.23123,     0.23223,     0.23323,     0.23423,     0.23524,     0.23624,     0.23724,     0.23824,     0.23924,\n",
              "           0.24024,     0.24124,     0.24224,     0.24324,     0.24424,     0.24525,     0.24625,     0.24725,     0.24825,     0.24925,     0.25025,     0.25125,     0.25225,     0.25325,     0.25425,     0.25526,     0.25626,     0.25726,     0.25826,     0.25926,     0.26026,     0.26126,     0.26226,     0.26326,\n",
              "           0.26426,     0.26527,     0.26627,     0.26727,     0.26827,     0.26927,     0.27027,     0.27127,     0.27227,     0.27327,     0.27427,     0.27528,     0.27628,     0.27728,     0.27828,     0.27928,     0.28028,     0.28128,     0.28228,     0.28328,     0.28428,     0.28529,     0.28629,     0.28729,\n",
              "           0.28829,     0.28929,     0.29029,     0.29129,     0.29229,     0.29329,     0.29429,      0.2953,      0.2963,      0.2973,      0.2983,      0.2993,      0.3003,      0.3013,      0.3023,      0.3033,      0.3043,     0.30531,     0.30631,     0.30731,     0.30831,     0.30931,     0.31031,     0.31131,\n",
              "           0.31231,     0.31331,     0.31431,     0.31532,     0.31632,     0.31732,     0.31832,     0.31932,     0.32032,     0.32132,     0.32232,     0.32332,     0.32432,     0.32533,     0.32633,     0.32733,     0.32833,     0.32933,     0.33033,     0.33133,     0.33233,     0.33333,     0.33433,     0.33534,\n",
              "           0.33634,     0.33734,     0.33834,     0.33934,     0.34034,     0.34134,     0.34234,     0.34334,     0.34434,     0.34535,     0.34635,     0.34735,     0.34835,     0.34935,     0.35035,     0.35135,     0.35235,     0.35335,     0.35435,     0.35536,     0.35636,     0.35736,     0.35836,     0.35936,\n",
              "           0.36036,     0.36136,     0.36236,     0.36336,     0.36436,     0.36537,     0.36637,     0.36737,     0.36837,     0.36937,     0.37037,     0.37137,     0.37237,     0.37337,     0.37437,     0.37538,     0.37638,     0.37738,     0.37838,     0.37938,     0.38038,     0.38138,     0.38238,     0.38338,\n",
              "           0.38438,     0.38539,     0.38639,     0.38739,     0.38839,     0.38939,     0.39039,     0.39139,     0.39239,     0.39339,     0.39439,      0.3954,      0.3964,      0.3974,      0.3984,      0.3994,      0.4004,      0.4014,      0.4024,      0.4034,      0.4044,     0.40541,     0.40641,     0.40741,\n",
              "           0.40841,     0.40941,     0.41041,     0.41141,     0.41241,     0.41341,     0.41441,     0.41542,     0.41642,     0.41742,     0.41842,     0.41942,     0.42042,     0.42142,     0.42242,     0.42342,     0.42442,     0.42543,     0.42643,     0.42743,     0.42843,     0.42943,     0.43043,     0.43143,\n",
              "           0.43243,     0.43343,     0.43443,     0.43544,     0.43644,     0.43744,     0.43844,     0.43944,     0.44044,     0.44144,     0.44244,     0.44344,     0.44444,     0.44545,     0.44645,     0.44745,     0.44845,     0.44945,     0.45045,     0.45145,     0.45245,     0.45345,     0.45445,     0.45546,\n",
              "           0.45646,     0.45746,     0.45846,     0.45946,     0.46046,     0.46146,     0.46246,     0.46346,     0.46446,     0.46547,     0.46647,     0.46747,     0.46847,     0.46947,     0.47047,     0.47147,     0.47247,     0.47347,     0.47447,     0.47548,     0.47648,     0.47748,     0.47848,     0.47948,\n",
              "           0.48048,     0.48148,     0.48248,     0.48348,     0.48448,     0.48549,     0.48649,     0.48749,     0.48849,     0.48949,     0.49049,     0.49149,     0.49249,     0.49349,     0.49449,      0.4955,      0.4965,      0.4975,      0.4985,      0.4995,      0.5005,      0.5015,      0.5025,      0.5035,\n",
              "            0.5045,     0.50551,     0.50651,     0.50751,     0.50851,     0.50951,     0.51051,     0.51151,     0.51251,     0.51351,     0.51451,     0.51552,     0.51652,     0.51752,     0.51852,     0.51952,     0.52052,     0.52152,     0.52252,     0.52352,     0.52452,     0.52553,     0.52653,     0.52753,\n",
              "           0.52853,     0.52953,     0.53053,     0.53153,     0.53253,     0.53353,     0.53453,     0.53554,     0.53654,     0.53754,     0.53854,     0.53954,     0.54054,     0.54154,     0.54254,     0.54354,     0.54454,     0.54555,     0.54655,     0.54755,     0.54855,     0.54955,     0.55055,     0.55155,\n",
              "           0.55255,     0.55355,     0.55455,     0.55556,     0.55656,     0.55756,     0.55856,     0.55956,     0.56056,     0.56156,     0.56256,     0.56356,     0.56456,     0.56557,     0.56657,     0.56757,     0.56857,     0.56957,     0.57057,     0.57157,     0.57257,     0.57357,     0.57457,     0.57558,\n",
              "           0.57658,     0.57758,     0.57858,     0.57958,     0.58058,     0.58158,     0.58258,     0.58358,     0.58458,     0.58559,     0.58659,     0.58759,     0.58859,     0.58959,     0.59059,     0.59159,     0.59259,     0.59359,     0.59459,      0.5956,      0.5966,      0.5976,      0.5986,      0.5996,\n",
              "            0.6006,      0.6016,      0.6026,      0.6036,      0.6046,     0.60561,     0.60661,     0.60761,     0.60861,     0.60961,     0.61061,     0.61161,     0.61261,     0.61361,     0.61461,     0.61562,     0.61662,     0.61762,     0.61862,     0.61962,     0.62062,     0.62162,     0.62262,     0.62362,\n",
              "           0.62462,     0.62563,     0.62663,     0.62763,     0.62863,     0.62963,     0.63063,     0.63163,     0.63263,     0.63363,     0.63463,     0.63564,     0.63664,     0.63764,     0.63864,     0.63964,     0.64064,     0.64164,     0.64264,     0.64364,     0.64464,     0.64565,     0.64665,     0.64765,\n",
              "           0.64865,     0.64965,     0.65065,     0.65165,     0.65265,     0.65365,     0.65465,     0.65566,     0.65666,     0.65766,     0.65866,     0.65966,     0.66066,     0.66166,     0.66266,     0.66366,     0.66466,     0.66567,     0.66667,     0.66767,     0.66867,     0.66967,     0.67067,     0.67167,\n",
              "           0.67267,     0.67367,     0.67467,     0.67568,     0.67668,     0.67768,     0.67868,     0.67968,     0.68068,     0.68168,     0.68268,     0.68368,     0.68468,     0.68569,     0.68669,     0.68769,     0.68869,     0.68969,     0.69069,     0.69169,     0.69269,     0.69369,     0.69469,      0.6957,\n",
              "            0.6967,      0.6977,      0.6987,      0.6997,      0.7007,      0.7017,      0.7027,      0.7037,      0.7047,     0.70571,     0.70671,     0.70771,     0.70871,     0.70971,     0.71071,     0.71171,     0.71271,     0.71371,     0.71471,     0.71572,     0.71672,     0.71772,     0.71872,     0.71972,\n",
              "           0.72072,     0.72172,     0.72272,     0.72372,     0.72472,     0.72573,     0.72673,     0.72773,     0.72873,     0.72973,     0.73073,     0.73173,     0.73273,     0.73373,     0.73473,     0.73574,     0.73674,     0.73774,     0.73874,     0.73974,     0.74074,     0.74174,     0.74274,     0.74374,\n",
              "           0.74474,     0.74575,     0.74675,     0.74775,     0.74875,     0.74975,     0.75075,     0.75175,     0.75275,     0.75375,     0.75475,     0.75576,     0.75676,     0.75776,     0.75876,     0.75976,     0.76076,     0.76176,     0.76276,     0.76376,     0.76476,     0.76577,     0.76677,     0.76777,\n",
              "           0.76877,     0.76977,     0.77077,     0.77177,     0.77277,     0.77377,     0.77477,     0.77578,     0.77678,     0.77778,     0.77878,     0.77978,     0.78078,     0.78178,     0.78278,     0.78378,     0.78478,     0.78579,     0.78679,     0.78779,     0.78879,     0.78979,     0.79079,     0.79179,\n",
              "           0.79279,     0.79379,     0.79479,      0.7958,      0.7968,      0.7978,      0.7988,      0.7998,      0.8008,      0.8018,      0.8028,      0.8038,      0.8048,     0.80581,     0.80681,     0.80781,     0.80881,     0.80981,     0.81081,     0.81181,     0.81281,     0.81381,     0.81481,     0.81582,\n",
              "           0.81682,     0.81782,     0.81882,     0.81982,     0.82082,     0.82182,     0.82282,     0.82382,     0.82482,     0.82583,     0.82683,     0.82783,     0.82883,     0.82983,     0.83083,     0.83183,     0.83283,     0.83383,     0.83483,     0.83584,     0.83684,     0.83784,     0.83884,     0.83984,\n",
              "           0.84084,     0.84184,     0.84284,     0.84384,     0.84484,     0.84585,     0.84685,     0.84785,     0.84885,     0.84985,     0.85085,     0.85185,     0.85285,     0.85385,     0.85485,     0.85586,     0.85686,     0.85786,     0.85886,     0.85986,     0.86086,     0.86186,     0.86286,     0.86386,\n",
              "           0.86486,     0.86587,     0.86687,     0.86787,     0.86887,     0.86987,     0.87087,     0.87187,     0.87287,     0.87387,     0.87487,     0.87588,     0.87688,     0.87788,     0.87888,     0.87988,     0.88088,     0.88188,     0.88288,     0.88388,     0.88488,     0.88589,     0.88689,     0.88789,\n",
              "           0.88889,     0.88989,     0.89089,     0.89189,     0.89289,     0.89389,     0.89489,      0.8959,      0.8969,      0.8979,      0.8989,      0.8999,      0.9009,      0.9019,      0.9029,      0.9039,      0.9049,     0.90591,     0.90691,     0.90791,     0.90891,     0.90991,     0.91091,     0.91191,\n",
              "           0.91291,     0.91391,     0.91491,     0.91592,     0.91692,     0.91792,     0.91892,     0.91992,     0.92092,     0.92192,     0.92292,     0.92392,     0.92492,     0.92593,     0.92693,     0.92793,     0.92893,     0.92993,     0.93093,     0.93193,     0.93293,     0.93393,     0.93493,     0.93594,\n",
              "           0.93694,     0.93794,     0.93894,     0.93994,     0.94094,     0.94194,     0.94294,     0.94394,     0.94494,     0.94595,     0.94695,     0.94795,     0.94895,     0.94995,     0.95095,     0.95195,     0.95295,     0.95395,     0.95495,     0.95596,     0.95696,     0.95796,     0.95896,     0.95996,\n",
              "           0.96096,     0.96196,     0.96296,     0.96396,     0.96496,     0.96597,     0.96697,     0.96797,     0.96897,     0.96997,     0.97097,     0.97197,     0.97297,     0.97397,     0.97497,     0.97598,     0.97698,     0.97798,     0.97898,     0.97998,     0.98098,     0.98198,     0.98298,     0.98398,\n",
              "           0.98498,     0.98599,     0.98699,     0.98799,     0.98899,     0.98999,     0.99099,     0.99199,     0.99299,     0.99399,     0.99499,       0.996,       0.997,       0.998,       0.999,           1]), array([[          1,           1,           1, ...,           0,           0,           0],\n",
              "       [          1,           1,           1, ...,           0,           0,           0],\n",
              "       [        0.9,         0.9,         0.8, ...,           0,           0,           0],\n",
              "       ...,\n",
              "       [     0.9375,      0.9375,      0.9375, ...,           0,           0,           0],\n",
              "       [          1,           1,           1, ...,           0,           0,           0],\n",
              "       [          1,           1,           1, ...,           0,           0,           0]]), 'Confidence', 'Recall']]\n",
              "fitness: np.float64(0.40504162053954507)\n",
              "keys: ['metrics/precision(B)', 'metrics/recall(B)', 'metrics/mAP50(B)', 'metrics/mAP50-95(B)']\n",
              "maps: array([    0.31698,     0.43236,     0.49615,     0.58842,     0.42192,    0.068638,     0.38707,     0.27979,     0.58812,     0.23863])\n",
              "names: {0: 'ca_kho', 1: 'canh_cai', 2: 'canh_chua', 3: 'com_trang', 4: 'dau_hu_sot_ca', 5: 'ga_chien', 6: 'rau_muong_xao', 7: 'thit_kho', 8: 'thit_kho_trung', 9: 'trung_chien'}\n",
              "plot: True\n",
              "results_dict: {'metrics/precision(B)': np.float64(0.6147337757398212), 'metrics/recall(B)': np.float64(0.5361552453484156), 'metrics/mAP50(B)': np.float64(0.6141399924653682), 'metrics/mAP50-95(B)': np.float64(0.38180846810334246), 'fitness': np.float64(0.40504162053954507)}\n",
              "save_dir: PosixPath('runs/detect/train')\n",
              "speed: {'preprocess': 2.6641167142835394, 'inference': 269.4898130535291, 'loss': 6.458929289822533e-05, 'postprocess': 1.3312788392860446}\n",
              "task: 'detect'"
            ]
          },
          "metadata": {},
          "execution_count": 3
        }
      ],
      "source": [
        "!pip install ultralytics\n",
        "from ultralytics import YOLO\n",
        "import json\n",
        "\n",
        "# Huấn luyện mô hình\n",
        "model = YOLO(\"yolov8n.pt\")  # hoặc yolov8s.pt\n",
        "model.train(data=\"/content/extracted_files/data.yaml\", epochs=40, imgsz=640)\n"
      ]
    },
    {
      "cell_type": "code",
      "execution_count": 4,
      "metadata": {
        "colab": {
          "base_uri": "https://localhost:8080/"
        },
        "id": "I9od91TQJrhT",
        "outputId": "0168432c-cc43-417a-9948-753f74c5e571"
      },
      "outputs": [
        {
          "output_type": "stream",
          "name": "stdout",
          "text": [
            "\n",
            "image 1/7 /content/extracted_files/test/images/IMG_1249_png.rf.0feeaffbc64952fb83262936d8e83e0f.jpg: 640x640 1 canh_chua, 1 com_trang, 1 thit_kho, 1460.4ms\n",
            "image 2/7 /content/extracted_files/test/images/IMG_1641_png.rf.7d84964400a02dba17a771a3ba75fa14.jpg: 640x640 1 com_trang, 899.0ms\n",
            "image 3/7 /content/extracted_files/test/images/IMG_1723_png.rf.c1a3681496b31aa815159b169d129502.jpg: 640x640 1 com_trang, 1 thit_kho, 1040.0ms\n",
            "image 4/7 /content/extracted_files/test/images/IMG_1927-1-_png.rf.239029b453b72dbf2a6df36574dec562.jpg: 640x640 1 com_trang, 919.8ms\n",
            "image 5/7 /content/extracted_files/test/images/d66a6b545f0cea52b31d_jpg.rf.a3fa3ceb87adea7db1e4483fef2a039b.jpg: 640x640 1 ga_chien, 867.9ms\n",
            "image 6/7 /content/extracted_files/test/images/f137817d8c2b3975603a_jpg.rf.bd01e735728011893c75ab9934c4fe5b.jpg: 640x640 1 canh_chua, 1 com_trang, 1 thit_kho, 1 thit_kho_trung, 1006.2ms\n",
            "image 7/7 /content/extracted_files/test/images/feb2c137f56f4031197e_jpg.rf.96ac06f076d6ad5e65134222bb93a20d.jpg: 640x640 (no detections), 775.1ms\n",
            "Speed: 16.7ms preprocess, 995.5ms inference, 5.3ms postprocess per image at shape (1, 3, 640, 640)\n"
          ]
        }
      ],
      "source": [
        "model_yolo = YOLO(\"runs/detect/train/weights/best.pt\")\n",
        "# Dự đoán ảnh test (đường dẫn ảnh bạn test)\n",
        "results = model_yolo.predict(\"/content/extracted_files/test/images/\", conf=0.5)"
      ]
    },
    {
      "cell_type": "code",
      "execution_count": 5,
      "metadata": {
        "colab": {
          "base_uri": "https://localhost:8080/"
        },
        "id": "tsqqLpSsuy8W",
        "outputId": "65bb5acf-3d7c-45c0-a908-690c3712ffc6"
      },
      "outputs": [
        {
          "output_type": "stream",
          "name": "stdout",
          "text": [
            "\n",
            "0: 640x640 1 ca_kho, 721.9ms\n",
            "Speed: 21.5ms preprocess, 721.9ms inference, 2.2ms postprocess per image at shape (1, 3, 640, 640)\n",
            "\n",
            "0: 640x640 1 canh_cai, 998.2ms\n",
            "Speed: 18.6ms preprocess, 998.2ms inference, 4.1ms postprocess per image at shape (1, 3, 640, 640)\n",
            "\n",
            "0: 640x640 1 ga_chien, 728.3ms\n",
            "Speed: 5.3ms preprocess, 728.3ms inference, 8.8ms postprocess per image at shape (1, 3, 640, 640)\n",
            "\n",
            "0: 640x640 2 ca_khos, 639.2ms\n",
            "Speed: 5.0ms preprocess, 639.2ms inference, 2.6ms postprocess per image at shape (1, 3, 640, 640)\n",
            "\n",
            "0: 640x640 1 thit_kho, 430.3ms\n",
            "Speed: 5.4ms preprocess, 430.3ms inference, 2.8ms postprocess per image at shape (1, 3, 640, 640)\n",
            "\n",
            "0: 640x640 1 dau_hu_sot_ca, 394.4ms\n",
            "Speed: 5.1ms preprocess, 394.4ms inference, 2.4ms postprocess per image at shape (1, 3, 640, 640)\n",
            "\n",
            "0: 640x640 1 canh_cai, 496.6ms\n",
            "Speed: 4.9ms preprocess, 496.6ms inference, 2.4ms postprocess per image at shape (1, 3, 640, 640)\n",
            "\n",
            "0: 640x640 1 canh_cai, 419.2ms\n",
            "Speed: 4.8ms preprocess, 419.2ms inference, 1.8ms postprocess per image at shape (1, 3, 640, 640)\n",
            "\n",
            "0: 640x640 1 rau_muong_xao, 272.3ms\n",
            "Speed: 5.5ms preprocess, 272.3ms inference, 1.6ms postprocess per image at shape (1, 3, 640, 640)\n",
            "\n",
            "0: 640x640 1 canh_cai, 283.4ms\n",
            "Speed: 4.7ms preprocess, 283.4ms inference, 2.0ms postprocess per image at shape (1, 3, 640, 640)\n",
            "\n",
            "0: 640x640 1 dau_hu_sot_ca, 276.2ms\n",
            "Speed: 5.2ms preprocess, 276.2ms inference, 1.8ms postprocess per image at shape (1, 3, 640, 640)\n",
            "\n",
            "0: 640x640 1 canh_cai, 264.6ms\n",
            "Speed: 5.6ms preprocess, 264.6ms inference, 1.6ms postprocess per image at shape (1, 3, 640, 640)\n",
            "\n",
            "0: 640x640 1 canh_chua, 276.9ms\n",
            "Speed: 5.6ms preprocess, 276.9ms inference, 1.7ms postprocess per image at shape (1, 3, 640, 640)\n",
            "\n",
            "0: 640x640 1 dau_hu_sot_ca, 283.5ms\n",
            "Speed: 6.2ms preprocess, 283.5ms inference, 2.1ms postprocess per image at shape (1, 3, 640, 640)\n",
            "\n",
            "0: 640x640 1 ca_kho, 270.5ms\n",
            "Speed: 5.3ms preprocess, 270.5ms inference, 1.7ms postprocess per image at shape (1, 3, 640, 640)\n",
            "\n",
            "0: 640x640 1 thit_kho_trung, 280.7ms\n",
            "Speed: 5.9ms preprocess, 280.7ms inference, 1.6ms postprocess per image at shape (1, 3, 640, 640)\n",
            "\n",
            "0: 640x640 1 ca_kho, 287.5ms\n",
            "Speed: 4.7ms preprocess, 287.5ms inference, 2.1ms postprocess per image at shape (1, 3, 640, 640)\n",
            "\n",
            "0: 640x640 1 dau_hu_sot_ca, 269.3ms\n",
            "Speed: 4.7ms preprocess, 269.3ms inference, 1.7ms postprocess per image at shape (1, 3, 640, 640)\n",
            "\n",
            "0: 640x640 1 ca_kho, 267.5ms\n",
            "Speed: 4.7ms preprocess, 267.5ms inference, 1.8ms postprocess per image at shape (1, 3, 640, 640)\n",
            "\n",
            "0: 640x640 1 canh_chua, 271.7ms\n",
            "Speed: 5.1ms preprocess, 271.7ms inference, 1.7ms postprocess per image at shape (1, 3, 640, 640)\n",
            "\n",
            "0: 640x640 1 ga_chien, 284.6ms\n",
            "Speed: 5.6ms preprocess, 284.6ms inference, 1.6ms postprocess per image at shape (1, 3, 640, 640)\n",
            "\n",
            "0: 640x640 1 thit_kho_trung, 269.1ms\n",
            "Speed: 5.2ms preprocess, 269.1ms inference, 1.7ms postprocess per image at shape (1, 3, 640, 640)\n",
            "\n",
            "0: 640x640 1 canh_cai, 269.4ms\n",
            "Speed: 5.1ms preprocess, 269.4ms inference, 1.7ms postprocess per image at shape (1, 3, 640, 640)\n",
            "\n",
            "0: 640x640 1 thit_kho_trung, 340.0ms\n",
            "Speed: 5.0ms preprocess, 340.0ms inference, 2.4ms postprocess per image at shape (1, 3, 640, 640)\n",
            "\n",
            "0: 640x640 1 canh_chua, 398.3ms\n",
            "Speed: 5.0ms preprocess, 398.3ms inference, 2.1ms postprocess per image at shape (1, 3, 640, 640)\n",
            "\n",
            "0: 640x640 1 ga_chien, 395.3ms\n",
            "Speed: 9.6ms preprocess, 395.3ms inference, 2.2ms postprocess per image at shape (1, 3, 640, 640)\n",
            "\n",
            "0: 640x640 1 canh_cai, 1 com_trang, 411.9ms\n",
            "Speed: 7.1ms preprocess, 411.9ms inference, 2.7ms postprocess per image at shape (1, 3, 640, 640)\n",
            "\n",
            "0: 640x640 1 canh_chua, 390.6ms\n",
            "Speed: 6.8ms preprocess, 390.6ms inference, 2.2ms postprocess per image at shape (1, 3, 640, 640)\n",
            "\n",
            "0: 640x640 1 rau_muong_xao, 400.0ms\n",
            "Speed: 7.1ms preprocess, 400.0ms inference, 2.5ms postprocess per image at shape (1, 3, 640, 640)\n",
            "\n",
            "0: 640x640 1 rau_muong_xao, 390.9ms\n",
            "Speed: 6.0ms preprocess, 390.9ms inference, 2.2ms postprocess per image at shape (1, 3, 640, 640)\n",
            "\n",
            "0: 640x640 1 canh_chua, 404.8ms\n",
            "Speed: 4.9ms preprocess, 404.8ms inference, 2.8ms postprocess per image at shape (1, 3, 640, 640)\n",
            "\n",
            "0: 640x640 1 canh_chua, 380.7ms\n",
            "Speed: 6.1ms preprocess, 380.7ms inference, 1.7ms postprocess per image at shape (1, 3, 640, 640)\n",
            "\n",
            "0: 640x640 1 dau_hu_sot_ca, 264.7ms\n",
            "Speed: 4.8ms preprocess, 264.7ms inference, 1.6ms postprocess per image at shape (1, 3, 640, 640)\n",
            "\n",
            "0: 640x640 1 trung_chien, 264.2ms\n",
            "Speed: 5.2ms preprocess, 264.2ms inference, 1.6ms postprocess per image at shape (1, 3, 640, 640)\n",
            "\n",
            "0: 640x640 2 canh_chuas, 287.0ms\n",
            "Speed: 5.0ms preprocess, 287.0ms inference, 2.0ms postprocess per image at shape (1, 3, 640, 640)\n",
            "\n",
            "0: 640x640 2 ga_chiens, 268.9ms\n",
            "Speed: 4.6ms preprocess, 268.9ms inference, 1.8ms postprocess per image at shape (1, 3, 640, 640)\n",
            "\n",
            "0: 640x640 1 trung_chien, 271.9ms\n",
            "Speed: 5.4ms preprocess, 271.9ms inference, 1.7ms postprocess per image at shape (1, 3, 640, 640)\n",
            "\n",
            "0: 640x640 2 thit_kho_trungs, 267.5ms\n",
            "Speed: 4.6ms preprocess, 267.5ms inference, 1.7ms postprocess per image at shape (1, 3, 640, 640)\n",
            "\n",
            "0: 640x640 1 rau_muong_xao, 280.9ms\n",
            "Speed: 4.6ms preprocess, 280.9ms inference, 1.7ms postprocess per image at shape (1, 3, 640, 640)\n",
            "\n",
            "0: 640x640 1 ca_kho, 271.0ms\n",
            "Speed: 5.4ms preprocess, 271.0ms inference, 1.5ms postprocess per image at shape (1, 3, 640, 640)\n",
            "\n",
            "0: 640x640 1 rau_muong_xao, 273.3ms\n",
            "Speed: 5.2ms preprocess, 273.3ms inference, 1.7ms postprocess per image at shape (1, 3, 640, 640)\n",
            "\n",
            "0: 640x640 1 thit_kho_trung, 266.7ms\n",
            "Speed: 5.3ms preprocess, 266.7ms inference, 2.3ms postprocess per image at shape (1, 3, 640, 640)\n",
            "\n",
            "0: 640x640 1 com_trang, 1 thit_kho, 269.6ms\n",
            "Speed: 5.0ms preprocess, 269.6ms inference, 1.6ms postprocess per image at shape (1, 3, 640, 640)\n",
            "\n",
            "0: 640x640 1 com_trang, 1 ga_chien, 3 thit_khos, 267.9ms\n",
            "Speed: 4.8ms preprocess, 267.9ms inference, 1.6ms postprocess per image at shape (1, 3, 640, 640)\n",
            "\n",
            "0: 640x640 1 ca_kho, 279.7ms\n",
            "Speed: 4.9ms preprocess, 279.7ms inference, 1.6ms postprocess per image at shape (1, 3, 640, 640)\n",
            "\n",
            "0: 640x640 1 canh_cai, 289.9ms\n",
            "Speed: 4.5ms preprocess, 289.9ms inference, 1.6ms postprocess per image at shape (1, 3, 640, 640)\n",
            "\n",
            "0: 640x640 1 thit_kho_trung, 262.8ms\n",
            "Speed: 4.8ms preprocess, 262.8ms inference, 1.6ms postprocess per image at shape (1, 3, 640, 640)\n",
            "\n",
            "0: 640x640 1 canh_cai, 276.2ms\n",
            "Speed: 4.9ms preprocess, 276.2ms inference, 1.7ms postprocess per image at shape (1, 3, 640, 640)\n",
            "\n",
            "0: 640x640 1 canh_cai, 267.5ms\n",
            "Speed: 4.9ms preprocess, 267.5ms inference, 2.1ms postprocess per image at shape (1, 3, 640, 640)\n",
            "\n",
            "0: 640x640 1 rau_muong_xao, 281.8ms\n",
            "Speed: 4.6ms preprocess, 281.8ms inference, 1.6ms postprocess per image at shape (1, 3, 640, 640)\n",
            "\n",
            "0: 640x640 1 thit_kho_trung, 291.6ms\n",
            "Speed: 5.1ms preprocess, 291.6ms inference, 2.1ms postprocess per image at shape (1, 3, 640, 640)\n",
            "\n",
            "0: 640x640 1 canh_cai, 259.2ms\n",
            "Speed: 4.7ms preprocess, 259.2ms inference, 1.6ms postprocess per image at shape (1, 3, 640, 640)\n",
            "\n",
            "0: 640x640 1 com_trang, 1 thit_kho, 290.3ms\n",
            "Speed: 5.4ms preprocess, 290.3ms inference, 1.8ms postprocess per image at shape (1, 3, 640, 640)\n",
            "\n",
            "0: 640x640 1 canh_chua, 264.8ms\n",
            "Speed: 4.6ms preprocess, 264.8ms inference, 1.7ms postprocess per image at shape (1, 3, 640, 640)\n",
            "\n",
            "0: 640x640 1 canh_chua, 267.9ms\n",
            "Speed: 4.1ms preprocess, 267.9ms inference, 2.4ms postprocess per image at shape (1, 3, 640, 640)\n",
            "\n",
            "0: 640x640 1 thit_kho_trung, 271.6ms\n",
            "Speed: 5.0ms preprocess, 271.6ms inference, 1.8ms postprocess per image at shape (1, 3, 640, 640)\n",
            "\n",
            "0: 640x640 1 dau_hu_sot_ca, 290.1ms\n",
            "Speed: 5.3ms preprocess, 290.1ms inference, 1.9ms postprocess per image at shape (1, 3, 640, 640)\n",
            "\n",
            "0: 640x640 1 thit_kho_trung, 269.5ms\n",
            "Speed: 4.3ms preprocess, 269.5ms inference, 1.7ms postprocess per image at shape (1, 3, 640, 640)\n",
            "\n",
            "0: 640x640 1 dau_hu_sot_ca, 269.9ms\n",
            "Speed: 4.9ms preprocess, 269.9ms inference, 2.2ms postprocess per image at shape (1, 3, 640, 640)\n",
            "\n",
            "0: 640x640 1 canh_cai, 1 thit_kho, 283.5ms\n",
            "Speed: 4.9ms preprocess, 283.5ms inference, 1.6ms postprocess per image at shape (1, 3, 640, 640)\n",
            "\n",
            "0: 640x640 3 ca_khos, 8 dau_hu_sot_cas, 8 rau_muong_xaos, 277.4ms\n",
            "Speed: 5.2ms preprocess, 277.4ms inference, 1.7ms postprocess per image at shape (1, 3, 640, 640)\n",
            "\n",
            "0: 640x640 1 thit_kho_trung, 263.8ms\n",
            "Speed: 4.9ms preprocess, 263.8ms inference, 1.6ms postprocess per image at shape (1, 3, 640, 640)\n",
            "\n",
            "0: 640x640 1 canh_chua, 281.3ms\n",
            "Speed: 5.2ms preprocess, 281.3ms inference, 1.7ms postprocess per image at shape (1, 3, 640, 640)\n",
            "\n",
            "0: 640x640 1 dau_hu_sot_ca, 1 rau_muong_xao, 1 thit_kho, 3 thit_kho_trungs, 296.5ms\n",
            "Speed: 5.8ms preprocess, 296.5ms inference, 1.9ms postprocess per image at shape (1, 3, 640, 640)\n",
            "\n",
            "0: 640x640 1 ca_kho, 274.4ms\n",
            "Speed: 5.5ms preprocess, 274.4ms inference, 2.3ms postprocess per image at shape (1, 3, 640, 640)\n",
            "\n",
            "0: 640x640 1 com_trang, 1 thit_kho, 305.1ms\n",
            "Speed: 5.1ms preprocess, 305.1ms inference, 2.2ms postprocess per image at shape (1, 3, 640, 640)\n",
            "\n",
            "0: 640x640 1 canh_cai, 1 thit_kho_trung, 400.3ms\n",
            "Speed: 7.3ms preprocess, 400.3ms inference, 2.2ms postprocess per image at shape (1, 3, 640, 640)\n",
            "\n",
            "0: 640x640 1 canh_cai, 390.8ms\n",
            "Speed: 7.2ms preprocess, 390.8ms inference, 2.2ms postprocess per image at shape (1, 3, 640, 640)\n",
            "\n",
            "0: 640x640 1 com_trang, 1 thit_kho, 391.1ms\n",
            "Speed: 5.6ms preprocess, 391.1ms inference, 6.4ms postprocess per image at shape (1, 3, 640, 640)\n",
            "\n",
            "0: 640x640 1 trung_chien, 408.7ms\n",
            "Speed: 5.1ms preprocess, 408.7ms inference, 2.0ms postprocess per image at shape (1, 3, 640, 640)\n",
            "\n",
            "0: 640x640 1 ga_chien, 396.1ms\n",
            "Speed: 4.7ms preprocess, 396.1ms inference, 3.0ms postprocess per image at shape (1, 3, 640, 640)\n",
            "\n",
            "0: 640x640 1 canh_cai, 393.0ms\n",
            "Speed: 5.6ms preprocess, 393.0ms inference, 2.0ms postprocess per image at shape (1, 3, 640, 640)\n",
            "\n",
            "0: 640x640 1 thit_kho_trung, 402.8ms\n",
            "Speed: 4.8ms preprocess, 402.8ms inference, 2.2ms postprocess per image at shape (1, 3, 640, 640)\n",
            "\n",
            "0: 640x640 1 canh_chua, 395.7ms\n",
            "Speed: 5.4ms preprocess, 395.7ms inference, 3.5ms postprocess per image at shape (1, 3, 640, 640)\n",
            "\n",
            "0: 640x640 1 thit_kho, 308.5ms\n",
            "Speed: 5.1ms preprocess, 308.5ms inference, 1.8ms postprocess per image at shape (1, 3, 640, 640)\n",
            "\n",
            "0: 640x640 1 trung_chien, 274.7ms\n",
            "Speed: 5.0ms preprocess, 274.7ms inference, 1.6ms postprocess per image at shape (1, 3, 640, 640)\n",
            "\n",
            "0: 640x640 1 canh_cai, 272.6ms\n",
            "Speed: 4.7ms preprocess, 272.6ms inference, 1.7ms postprocess per image at shape (1, 3, 640, 640)\n",
            "\n",
            "0: 640x640 2 rau_muong_xaos, 294.6ms\n",
            "Speed: 4.9ms preprocess, 294.6ms inference, 1.9ms postprocess per image at shape (1, 3, 640, 640)\n",
            "\n",
            "0: 640x640 1 trung_chien, 270.2ms\n",
            "Speed: 4.7ms preprocess, 270.2ms inference, 1.6ms postprocess per image at shape (1, 3, 640, 640)\n",
            "\n",
            "0: 640x640 1 thit_kho_trung, 273.2ms\n",
            "Speed: 4.3ms preprocess, 273.2ms inference, 1.8ms postprocess per image at shape (1, 3, 640, 640)\n",
            "\n",
            "0: 640x640 1 trung_chien, 262.3ms\n",
            "Speed: 3.8ms preprocess, 262.3ms inference, 1.7ms postprocess per image at shape (1, 3, 640, 640)\n",
            "\n",
            "0: 640x640 1 canh_chua, 278.4ms\n",
            "Speed: 4.9ms preprocess, 278.4ms inference, 1.6ms postprocess per image at shape (1, 3, 640, 640)\n",
            "\n",
            "0: 640x640 1 canh_cai, 1 canh_chua, 1 com_trang, 1 thit_kho, 280.8ms\n",
            "Speed: 5.0ms preprocess, 280.8ms inference, 1.7ms postprocess per image at shape (1, 3, 640, 640)\n",
            "\n",
            "0: 640x640 1 canh_chua, 270.9ms\n",
            "Speed: 5.2ms preprocess, 270.9ms inference, 1.8ms postprocess per image at shape (1, 3, 640, 640)\n",
            "\n",
            "0: 640x640 (no detections), 280.2ms\n",
            "Speed: 5.5ms preprocess, 280.2ms inference, 1.1ms postprocess per image at shape (1, 3, 640, 640)\n",
            "\n",
            "0: 640x640 1 thit_kho_trung, 266.3ms\n",
            "Speed: 4.6ms preprocess, 266.3ms inference, 1.6ms postprocess per image at shape (1, 3, 640, 640)\n",
            "\n",
            "0: 640x640 1 ca_kho, 271.6ms\n",
            "Speed: 4.9ms preprocess, 271.6ms inference, 1.6ms postprocess per image at shape (1, 3, 640, 640)\n",
            "\n",
            "0: 640x640 1 ga_chien, 268.9ms\n",
            "Speed: 5.3ms preprocess, 268.9ms inference, 1.5ms postprocess per image at shape (1, 3, 640, 640)\n",
            "\n",
            "0: 640x640 1 canh_cai, 282.6ms\n",
            "Speed: 4.7ms preprocess, 282.6ms inference, 1.6ms postprocess per image at shape (1, 3, 640, 640)\n",
            "\n",
            "0: 640x640 1 canh_chua, 271.6ms\n",
            "Speed: 5.3ms preprocess, 271.6ms inference, 1.9ms postprocess per image at shape (1, 3, 640, 640)\n",
            "\n",
            "0: 640x640 1 thit_kho_trung, 266.0ms\n",
            "Speed: 5.2ms preprocess, 266.0ms inference, 1.6ms postprocess per image at shape (1, 3, 640, 640)\n",
            "\n",
            "0: 640x640 1 canh_cai, 263.6ms\n",
            "Speed: 4.9ms preprocess, 263.6ms inference, 1.6ms postprocess per image at shape (1, 3, 640, 640)\n",
            "\n",
            "0: 640x640 1 ca_kho, 281.4ms\n",
            "Speed: 4.3ms preprocess, 281.4ms inference, 1.7ms postprocess per image at shape (1, 3, 640, 640)\n",
            "\n",
            "0: 640x640 1 thit_kho_trung, 273.7ms\n",
            "Speed: 4.9ms preprocess, 273.7ms inference, 1.6ms postprocess per image at shape (1, 3, 640, 640)\n",
            "\n",
            "0: 640x640 1 canh_cai, 277.9ms\n",
            "Speed: 6.1ms preprocess, 277.9ms inference, 1.8ms postprocess per image at shape (1, 3, 640, 640)\n",
            "\n",
            "0: 640x640 1 canh_cai, 1 com_trang, 2 thit_khos, 284.0ms\n",
            "Speed: 5.0ms preprocess, 284.0ms inference, 1.6ms postprocess per image at shape (1, 3, 640, 640)\n",
            "\n",
            "0: 640x640 1 ga_chien, 267.9ms\n",
            "Speed: 5.0ms preprocess, 267.9ms inference, 1.7ms postprocess per image at shape (1, 3, 640, 640)\n",
            "\n",
            "0: 640x640 1 dau_hu_sot_ca, 271.3ms\n",
            "Speed: 5.7ms preprocess, 271.3ms inference, 1.7ms postprocess per image at shape (1, 3, 640, 640)\n",
            "\n",
            "0: 640x640 1 ca_kho, 1 rau_muong_xao, 267.2ms\n",
            "Speed: 5.1ms preprocess, 267.2ms inference, 1.7ms postprocess per image at shape (1, 3, 640, 640)\n",
            "\n",
            "0: 640x640 1 ca_kho, 288.5ms\n",
            "Speed: 4.7ms preprocess, 288.5ms inference, 1.7ms postprocess per image at shape (1, 3, 640, 640)\n",
            "\n",
            "0: 640x640 1 thit_kho, 330.0ms\n",
            "Speed: 4.9ms preprocess, 330.0ms inference, 1.5ms postprocess per image at shape (1, 3, 640, 640)\n",
            "\n",
            "0: 640x640 1 canh_cai, 265.6ms\n",
            "Speed: 4.7ms preprocess, 265.6ms inference, 1.7ms postprocess per image at shape (1, 3, 640, 640)\n",
            "\n",
            "0: 640x640 1 canh_chua, 280.8ms\n",
            "Speed: 5.1ms preprocess, 280.8ms inference, 1.6ms postprocess per image at shape (1, 3, 640, 640)\n",
            "\n",
            "0: 640x640 1 thit_kho_trung, 267.2ms\n",
            "Speed: 6.0ms preprocess, 267.2ms inference, 1.7ms postprocess per image at shape (1, 3, 640, 640)\n",
            "\n",
            "0: 640x640 1 thit_kho_trung, 266.4ms\n",
            "Speed: 5.5ms preprocess, 266.4ms inference, 1.6ms postprocess per image at shape (1, 3, 640, 640)\n",
            "\n",
            "0: 640x640 1 trung_chien, 274.0ms\n",
            "Speed: 5.4ms preprocess, 274.0ms inference, 3.2ms postprocess per image at shape (1, 3, 640, 640)\n",
            "\n",
            "0: 640x640 1 ga_chien, 285.2ms\n",
            "Speed: 4.7ms preprocess, 285.2ms inference, 1.7ms postprocess per image at shape (1, 3, 640, 640)\n",
            "\n",
            "0: 640x640 1 dau_hu_sot_ca, 266.0ms\n",
            "Speed: 4.6ms preprocess, 266.0ms inference, 1.6ms postprocess per image at shape (1, 3, 640, 640)\n",
            "\n",
            "0: 640x640 1 rau_muong_xao, 341.0ms\n",
            "Speed: 5.1ms preprocess, 341.0ms inference, 2.0ms postprocess per image at shape (1, 3, 640, 640)\n",
            "\n",
            "0: 640x640 1 ga_chien, 413.1ms\n",
            "Speed: 4.7ms preprocess, 413.1ms inference, 2.1ms postprocess per image at shape (1, 3, 640, 640)\n",
            "\n",
            "0: 640x640 1 rau_muong_xao, 397.7ms\n",
            "Speed: 7.2ms preprocess, 397.7ms inference, 2.1ms postprocess per image at shape (1, 3, 640, 640)\n",
            "\n",
            "0: 640x640 1 ga_chien, 414.7ms\n",
            "Speed: 5.3ms preprocess, 414.7ms inference, 1.9ms postprocess per image at shape (1, 3, 640, 640)\n",
            "\n",
            "0: 640x640 1 trung_chien, 391.1ms\n",
            "Speed: 5.9ms preprocess, 391.1ms inference, 2.4ms postprocess per image at shape (1, 3, 640, 640)\n",
            "\n",
            "0: 640x640 1 thit_kho_trung, 389.5ms\n",
            "Speed: 6.3ms preprocess, 389.5ms inference, 2.0ms postprocess per image at shape (1, 3, 640, 640)\n",
            "\n",
            "0: 640x640 1 canh_cai, 407.3ms\n",
            "Speed: 8.5ms preprocess, 407.3ms inference, 2.3ms postprocess per image at shape (1, 3, 640, 640)\n",
            "\n",
            "0: 640x640 1 rau_muong_xao, 387.9ms\n",
            "Speed: 5.4ms preprocess, 387.9ms inference, 2.8ms postprocess per image at shape (1, 3, 640, 640)\n",
            "\n",
            "0: 640x640 1 ga_chien, 378.6ms\n",
            "Speed: 4.9ms preprocess, 378.6ms inference, 2.4ms postprocess per image at shape (1, 3, 640, 640)\n",
            "\n",
            "0: 640x640 1 thit_kho_trung, 278.9ms\n",
            "Speed: 5.5ms preprocess, 278.9ms inference, 1.6ms postprocess per image at shape (1, 3, 640, 640)\n",
            "\n",
            "0: 640x640 1 canh_cai, 275.1ms\n",
            "Speed: 4.9ms preprocess, 275.1ms inference, 1.6ms postprocess per image at shape (1, 3, 640, 640)\n",
            "\n",
            "0: 640x640 1 trung_chien, 274.2ms\n",
            "Speed: 5.0ms preprocess, 274.2ms inference, 1.6ms postprocess per image at shape (1, 3, 640, 640)\n",
            "\n",
            "0: 640x640 1 thit_kho, 283.0ms\n",
            "Speed: 5.8ms preprocess, 283.0ms inference, 2.1ms postprocess per image at shape (1, 3, 640, 640)\n",
            "\n",
            "0: 640x640 1 ga_chien, 276.0ms\n",
            "Speed: 5.0ms preprocess, 276.0ms inference, 1.6ms postprocess per image at shape (1, 3, 640, 640)\n",
            "\n",
            "0: 640x640 1 dau_hu_sot_ca, 272.2ms\n",
            "Speed: 5.0ms preprocess, 272.2ms inference, 1.6ms postprocess per image at shape (1, 3, 640, 640)\n",
            "\n",
            "0: 640x640 1 rau_muong_xao, 267.3ms\n",
            "Speed: 5.0ms preprocess, 267.3ms inference, 1.6ms postprocess per image at shape (1, 3, 640, 640)\n",
            "\n",
            "0: 640x640 1 ca_kho, 282.1ms\n",
            "Speed: 4.3ms preprocess, 282.1ms inference, 1.7ms postprocess per image at shape (1, 3, 640, 640)\n",
            "\n",
            "0: 640x640 1 trung_chien, 274.3ms\n",
            "Speed: 4.9ms preprocess, 274.3ms inference, 1.5ms postprocess per image at shape (1, 3, 640, 640)\n",
            "\n",
            "0: 640x640 1 ca_kho, 268.9ms\n",
            "Speed: 4.7ms preprocess, 268.9ms inference, 1.9ms postprocess per image at shape (1, 3, 640, 640)\n",
            "\n",
            "0: 640x640 1 thit_kho_trung, 280.3ms\n",
            "Speed: 5.2ms preprocess, 280.3ms inference, 1.6ms postprocess per image at shape (1, 3, 640, 640)\n",
            "\n",
            "0: 640x640 1 canh_cai, 270.1ms\n",
            "Speed: 5.3ms preprocess, 270.1ms inference, 1.5ms postprocess per image at shape (1, 3, 640, 640)\n",
            "\n",
            "0: 640x640 1 com_trang, 2 thit_khos, 266.0ms\n",
            "Speed: 5.5ms preprocess, 266.0ms inference, 1.6ms postprocess per image at shape (1, 3, 640, 640)\n",
            "\n",
            "0: 640x640 1 trung_chien, 266.9ms\n",
            "Speed: 5.5ms preprocess, 266.9ms inference, 1.6ms postprocess per image at shape (1, 3, 640, 640)\n",
            "\n",
            "0: 640x640 1 dau_hu_sot_ca, 286.8ms\n",
            "Speed: 7.7ms preprocess, 286.8ms inference, 1.7ms postprocess per image at shape (1, 3, 640, 640)\n",
            "\n",
            "0: 640x640 1 ca_kho, 272.8ms\n",
            "Speed: 4.4ms preprocess, 272.8ms inference, 1.6ms postprocess per image at shape (1, 3, 640, 640)\n",
            "\n",
            "0: 640x640 1 rau_muong_xao, 277.2ms\n",
            "Speed: 5.3ms preprocess, 277.2ms inference, 1.7ms postprocess per image at shape (1, 3, 640, 640)\n",
            "\n",
            "0: 640x640 1 thit_kho, 287.1ms\n",
            "Speed: 5.1ms preprocess, 287.1ms inference, 1.6ms postprocess per image at shape (1, 3, 640, 640)\n",
            "\n",
            "0: 640x640 1 dau_hu_sot_ca, 275.4ms\n",
            "Speed: 5.9ms preprocess, 275.4ms inference, 1.5ms postprocess per image at shape (1, 3, 640, 640)\n",
            "\n",
            "0: 640x640 1 canh_chua, 270.3ms\n",
            "Speed: 5.1ms preprocess, 270.3ms inference, 1.8ms postprocess per image at shape (1, 3, 640, 640)\n",
            "\n",
            "0: 640x640 1 rau_muong_xao, 267.5ms\n",
            "Speed: 4.7ms preprocess, 267.5ms inference, 1.6ms postprocess per image at shape (1, 3, 640, 640)\n",
            "\n",
            "0: 640x640 1 com_trang, 1 dau_hu_sot_ca, 1 ga_chien, 1 thit_kho, 285.9ms\n",
            "Speed: 6.0ms preprocess, 285.9ms inference, 1.6ms postprocess per image at shape (1, 3, 640, 640)\n",
            "\n",
            "0: 640x640 1 canh_cai, 273.8ms\n",
            "Speed: 4.8ms preprocess, 273.8ms inference, 1.7ms postprocess per image at shape (1, 3, 640, 640)\n",
            "\n",
            "0: 640x640 1 ca_kho, 269.6ms\n",
            "Speed: 4.7ms preprocess, 269.6ms inference, 1.6ms postprocess per image at shape (1, 3, 640, 640)\n",
            "\n",
            "0: 640x640 1 ga_chien, 287.0ms\n",
            "Speed: 5.3ms preprocess, 287.0ms inference, 1.7ms postprocess per image at shape (1, 3, 640, 640)\n",
            "\n",
            "0: 640x640 1 canh_cai, 1 com_trang, 1 thit_kho, 274.8ms\n",
            "Speed: 5.8ms preprocess, 274.8ms inference, 1.7ms postprocess per image at shape (1, 3, 640, 640)\n",
            "\n",
            "0: 640x640 1 ca_kho, 287.2ms\n",
            "Speed: 7.0ms preprocess, 287.2ms inference, 1.7ms postprocess per image at shape (1, 3, 640, 640)\n",
            "\n",
            "0: 640x640 1 thit_kho_trung, 272.4ms\n",
            "Speed: 5.2ms preprocess, 272.4ms inference, 1.6ms postprocess per image at shape (1, 3, 640, 640)\n",
            "\n",
            "0: 640x640 1 thit_kho_trung, 303.0ms\n",
            "Speed: 5.0ms preprocess, 303.0ms inference, 1.7ms postprocess per image at shape (1, 3, 640, 640)\n",
            "\n",
            "0: 640x640 1 rau_muong_xao, 275.0ms\n",
            "Speed: 4.7ms preprocess, 275.0ms inference, 1.8ms postprocess per image at shape (1, 3, 640, 640)\n",
            "\n",
            "0: 640x640 1 canh_cai, 1 com_trang, 1 thit_kho, 270.1ms\n",
            "Speed: 4.7ms preprocess, 270.1ms inference, 1.6ms postprocess per image at shape (1, 3, 640, 640)\n",
            "\n",
            "0: 640x640 1 com_trang, 287.4ms\n",
            "Speed: 6.0ms preprocess, 287.4ms inference, 1.6ms postprocess per image at shape (1, 3, 640, 640)\n",
            "\n",
            "0: 640x640 1 dau_hu_sot_ca, 273.3ms\n",
            "Speed: 5.1ms preprocess, 273.3ms inference, 1.6ms postprocess per image at shape (1, 3, 640, 640)\n",
            "\n",
            "0: 640x640 2 ga_chiens, 308.1ms\n",
            "Speed: 4.8ms preprocess, 308.1ms inference, 2.5ms postprocess per image at shape (1, 3, 640, 640)\n",
            "\n",
            "0: 640x640 1 thit_kho_trung, 412.1ms\n",
            "Speed: 6.2ms preprocess, 412.1ms inference, 2.4ms postprocess per image at shape (1, 3, 640, 640)\n",
            "\n",
            "0: 640x640 1 rau_muong_xao, 400.5ms\n",
            "Speed: 5.6ms preprocess, 400.5ms inference, 2.1ms postprocess per image at shape (1, 3, 640, 640)\n",
            "\n",
            "0: 640x640 1 canh_cai, 395.9ms\n",
            "Speed: 4.7ms preprocess, 395.9ms inference, 2.1ms postprocess per image at shape (1, 3, 640, 640)\n",
            "\n",
            "0: 640x640 1 ca_kho, 412.8ms\n",
            "Speed: 5.4ms preprocess, 412.8ms inference, 2.4ms postprocess per image at shape (1, 3, 640, 640)\n",
            "\n",
            "0: 640x640 1 thit_kho_trung, 401.6ms\n",
            "Speed: 4.8ms preprocess, 401.6ms inference, 2.5ms postprocess per image at shape (1, 3, 640, 640)\n",
            "\n",
            "0: 640x640 1 trung_chien, 400.9ms\n",
            "Speed: 8.3ms preprocess, 400.9ms inference, 2.3ms postprocess per image at shape (1, 3, 640, 640)\n",
            "\n",
            "0: 640x640 1 thit_kho_trung, 399.1ms\n",
            "Speed: 5.1ms preprocess, 399.1ms inference, 2.0ms postprocess per image at shape (1, 3, 640, 640)\n",
            "\n",
            "0: 640x640 1 canh_cai, 386.8ms\n",
            "Speed: 7.6ms preprocess, 386.8ms inference, 2.3ms postprocess per image at shape (1, 3, 640, 640)\n",
            "\n",
            "0: 640x640 1 com_trang, 1 thit_kho, 314.1ms\n",
            "Speed: 4.7ms preprocess, 314.1ms inference, 1.9ms postprocess per image at shape (1, 3, 640, 640)\n",
            "\n",
            "0: 640x640 1 dau_hu_sot_ca, 269.5ms\n",
            "Speed: 4.7ms preprocess, 269.5ms inference, 1.6ms postprocess per image at shape (1, 3, 640, 640)\n",
            "\n",
            "0: 640x640 1 dau_hu_sot_ca, 271.8ms\n",
            "Speed: 6.6ms preprocess, 271.8ms inference, 1.7ms postprocess per image at shape (1, 3, 640, 640)\n",
            "\n",
            "0: 640x640 1 rau_muong_xao, 290.2ms\n",
            "Speed: 5.6ms preprocess, 290.2ms inference, 2.5ms postprocess per image at shape (1, 3, 640, 640)\n",
            "\n",
            "0: 640x640 1 ga_chien, 278.9ms\n",
            "Speed: 4.6ms preprocess, 278.9ms inference, 1.8ms postprocess per image at shape (1, 3, 640, 640)\n",
            "\n",
            "0: 640x640 (no detections), 278.2ms\n",
            "Speed: 5.5ms preprocess, 278.2ms inference, 1.1ms postprocess per image at shape (1, 3, 640, 640)\n",
            "\n",
            "0: 640x640 1 rau_muong_xao, 265.8ms\n",
            "Speed: 5.2ms preprocess, 265.8ms inference, 1.6ms postprocess per image at shape (1, 3, 640, 640)\n",
            "\n",
            "0: 640x640 1 trung_chien, 294.4ms\n",
            "Speed: 5.2ms preprocess, 294.4ms inference, 1.9ms postprocess per image at shape (1, 3, 640, 640)\n",
            "\n",
            "0: 640x640 1 canh_cai, 273.1ms\n",
            "Speed: 6.0ms preprocess, 273.1ms inference, 1.7ms postprocess per image at shape (1, 3, 640, 640)\n",
            "\n",
            "0: 640x640 1 canh_chua, 260.9ms\n",
            "Speed: 5.1ms preprocess, 260.9ms inference, 1.6ms postprocess per image at shape (1, 3, 640, 640)\n",
            "\n",
            "0: 640x640 1 canh_chua, 276.8ms\n",
            "Speed: 5.0ms preprocess, 276.8ms inference, 2.3ms postprocess per image at shape (1, 3, 640, 640)\n",
            "\n",
            "0: 640x640 1 dau_hu_sot_ca, 282.7ms\n",
            "Speed: 5.3ms preprocess, 282.7ms inference, 1.6ms postprocess per image at shape (1, 3, 640, 640)\n",
            "\n",
            "0: 640x640 1 rau_muong_xao, 292.4ms\n",
            "Speed: 5.3ms preprocess, 292.4ms inference, 1.8ms postprocess per image at shape (1, 3, 640, 640)\n",
            "\n",
            "0: 640x640 1 ca_kho, 281.1ms\n",
            "Speed: 5.0ms preprocess, 281.1ms inference, 1.7ms postprocess per image at shape (1, 3, 640, 640)\n",
            "\n",
            "0: 640x640 2 canh_cais, 289.2ms\n",
            "Speed: 5.7ms preprocess, 289.2ms inference, 1.7ms postprocess per image at shape (1, 3, 640, 640)\n",
            "\n",
            "0: 640x640 1 dau_hu_sot_ca, 278.1ms\n",
            "Speed: 5.5ms preprocess, 278.1ms inference, 1.5ms postprocess per image at shape (1, 3, 640, 640)\n",
            "\n",
            "0: 640x640 1 com_trang, 2 thit_khos, 276.2ms\n",
            "Speed: 5.2ms preprocess, 276.2ms inference, 2.1ms postprocess per image at shape (1, 3, 640, 640)\n",
            "\n",
            "0: 640x640 1 ga_chien, 315.2ms\n",
            "Speed: 5.3ms preprocess, 315.2ms inference, 1.7ms postprocess per image at shape (1, 3, 640, 640)\n",
            "\n",
            "0: 640x640 1 rau_muong_xao, 281.1ms\n",
            "Speed: 5.0ms preprocess, 281.1ms inference, 2.1ms postprocess per image at shape (1, 3, 640, 640)\n",
            "\n",
            "0: 640x640 1 rau_muong_xao, 290.4ms\n",
            "Speed: 5.4ms preprocess, 290.4ms inference, 1.6ms postprocess per image at shape (1, 3, 640, 640)\n",
            "\n",
            "0: 640x640 1 trung_chien, 271.1ms\n",
            "Speed: 5.3ms preprocess, 271.1ms inference, 1.9ms postprocess per image at shape (1, 3, 640, 640)\n",
            "\n",
            "0: 640x640 2 canh_cais, 1 com_trang, 1 dau_hu_sot_ca, 1 trung_chien, 282.5ms\n",
            "Speed: 4.5ms preprocess, 282.5ms inference, 2.2ms postprocess per image at shape (1, 3, 640, 640)\n",
            "\n",
            "0: 640x640 1 trung_chien, 274.6ms\n",
            "Speed: 5.2ms preprocess, 274.6ms inference, 1.6ms postprocess per image at shape (1, 3, 640, 640)\n",
            "\n",
            "0: 640x640 1 trung_chien, 273.2ms\n",
            "Speed: 5.5ms preprocess, 273.2ms inference, 1.8ms postprocess per image at shape (1, 3, 640, 640)\n",
            "\n",
            "0: 640x640 1 canh_chua, 1 com_trang, 1 ga_chien, 289.9ms\n",
            "Speed: 5.0ms preprocess, 289.9ms inference, 1.6ms postprocess per image at shape (1, 3, 640, 640)\n",
            "\n",
            "0: 640x640 1 com_trang, 2 thit_khos, 269.7ms\n",
            "Speed: 6.3ms preprocess, 269.7ms inference, 1.7ms postprocess per image at shape (1, 3, 640, 640)\n",
            "\n",
            "0: 640x640 1 rau_muong_xao, 267.6ms\n",
            "Speed: 5.0ms preprocess, 267.6ms inference, 1.5ms postprocess per image at shape (1, 3, 640, 640)\n",
            "\n",
            "0: 640x640 1 trung_chien, 281.2ms\n",
            "Speed: 5.2ms preprocess, 281.2ms inference, 1.6ms postprocess per image at shape (1, 3, 640, 640)\n",
            "\n",
            "0: 640x640 1 com_trang, 1 thit_kho, 290.0ms\n",
            "Speed: 5.9ms preprocess, 290.0ms inference, 1.6ms postprocess per image at shape (1, 3, 640, 640)\n",
            "\n",
            "0: 640x640 1 com_trang, 1 dau_hu_sot_ca, 2 thit_khos, 281.4ms\n",
            "Speed: 5.5ms preprocess, 281.4ms inference, 1.6ms postprocess per image at shape (1, 3, 640, 640)\n",
            "\n",
            "0: 640x640 1 ga_chien, 271.0ms\n",
            "Speed: 5.3ms preprocess, 271.0ms inference, 1.6ms postprocess per image at shape (1, 3, 640, 640)\n",
            "\n",
            "0: 640x640 1 dau_hu_sot_ca, 294.0ms\n",
            "Speed: 5.0ms preprocess, 294.0ms inference, 1.7ms postprocess per image at shape (1, 3, 640, 640)\n",
            "\n",
            "0: 640x640 1 canh_chua, 270.5ms\n",
            "Speed: 5.4ms preprocess, 270.5ms inference, 1.7ms postprocess per image at shape (1, 3, 640, 640)\n",
            "\n",
            "0: 640x640 1 thit_kho_trung, 324.7ms\n",
            "Speed: 5.8ms preprocess, 324.7ms inference, 2.2ms postprocess per image at shape (1, 3, 640, 640)\n",
            "\n",
            "0: 640x640 1 dau_hu_sot_ca, 422.5ms\n",
            "Speed: 5.4ms preprocess, 422.5ms inference, 2.4ms postprocess per image at shape (1, 3, 640, 640)\n",
            "\n",
            "0: 640x640 1 trung_chien, 398.9ms\n",
            "Speed: 4.9ms preprocess, 398.9ms inference, 2.1ms postprocess per image at shape (1, 3, 640, 640)\n",
            "\n",
            "0: 640x640 1 thit_kho_trung, 409.4ms\n",
            "Speed: 9.3ms preprocess, 409.4ms inference, 2.8ms postprocess per image at shape (1, 3, 640, 640)\n",
            "\n",
            "0: 640x640 1 ga_chien, 411.0ms\n",
            "Speed: 4.8ms preprocess, 411.0ms inference, 2.7ms postprocess per image at shape (1, 3, 640, 640)\n",
            "\n",
            "0: 640x640 1 dau_hu_sot_ca, 428.1ms\n",
            "Speed: 9.2ms preprocess, 428.1ms inference, 2.5ms postprocess per image at shape (1, 3, 640, 640)\n",
            "\n",
            "0: 640x640 1 canh_chua, 405.1ms\n",
            "Speed: 5.1ms preprocess, 405.1ms inference, 2.7ms postprocess per image at shape (1, 3, 640, 640)\n",
            "\n",
            "0: 640x640 1 thit_kho_trung, 390.6ms\n",
            "Speed: 6.1ms preprocess, 390.6ms inference, 2.4ms postprocess per image at shape (1, 3, 640, 640)\n",
            "\n",
            "0: 640x640 1 ga_chien, 398.1ms\n",
            "Speed: 4.9ms preprocess, 398.1ms inference, 1.5ms postprocess per image at shape (1, 3, 640, 640)\n",
            "\n",
            "0: 640x640 1 dau_hu_sot_ca, 277.5ms\n",
            "Speed: 5.0ms preprocess, 277.5ms inference, 1.6ms postprocess per image at shape (1, 3, 640, 640)\n",
            "\n",
            "0: 640x640 1 rau_muong_xao, 265.5ms\n",
            "Speed: 5.6ms preprocess, 265.5ms inference, 1.5ms postprocess per image at shape (1, 3, 640, 640)\n",
            "\n",
            "0: 640x640 1 com_trang, 1 thit_kho, 264.0ms\n",
            "Speed: 4.9ms preprocess, 264.0ms inference, 1.9ms postprocess per image at shape (1, 3, 640, 640)\n",
            "\n",
            "0: 640x640 1 ga_chien, 283.9ms\n",
            "Speed: 5.2ms preprocess, 283.9ms inference, 1.7ms postprocess per image at shape (1, 3, 640, 640)\n",
            "\n",
            "0: 640x640 1 trung_chien, 269.0ms\n",
            "Speed: 5.1ms preprocess, 269.0ms inference, 1.7ms postprocess per image at shape (1, 3, 640, 640)\n",
            "\n",
            "0: 640x640 1 thit_kho_trung, 273.0ms\n",
            "Speed: 5.7ms preprocess, 273.0ms inference, 1.7ms postprocess per image at shape (1, 3, 640, 640)\n",
            "\n",
            "0: 640x640 1 trung_chien, 276.4ms\n",
            "Speed: 6.4ms preprocess, 276.4ms inference, 1.6ms postprocess per image at shape (1, 3, 640, 640)\n",
            "\n",
            "0: 640x640 1 ca_kho, 281.3ms\n",
            "Speed: 4.8ms preprocess, 281.3ms inference, 1.5ms postprocess per image at shape (1, 3, 640, 640)\n",
            "\n",
            "0: 640x640 1 canh_cai, 274.3ms\n",
            "Speed: 5.2ms preprocess, 274.3ms inference, 1.6ms postprocess per image at shape (1, 3, 640, 640)\n",
            "\n",
            "0: 640x640 1 canh_cai, 267.4ms\n",
            "Speed: 6.7ms preprocess, 267.4ms inference, 1.6ms postprocess per image at shape (1, 3, 640, 640)\n",
            "\n",
            "0: 640x640 1 ga_chien, 284.2ms\n",
            "Speed: 5.2ms preprocess, 284.2ms inference, 1.6ms postprocess per image at shape (1, 3, 640, 640)\n",
            "\n",
            "0: 640x640 1 canh_cai, 277.3ms\n",
            "Speed: 4.5ms preprocess, 277.3ms inference, 2.4ms postprocess per image at shape (1, 3, 640, 640)\n",
            "\n",
            "0: 640x640 1 canh_cai, 276.8ms\n",
            "Speed: 4.9ms preprocess, 276.8ms inference, 2.1ms postprocess per image at shape (1, 3, 640, 640)\n",
            "\n",
            "0: 640x640 1 canh_cai, 282.5ms\n",
            "Speed: 5.4ms preprocess, 282.5ms inference, 2.0ms postprocess per image at shape (1, 3, 640, 640)\n",
            "\n",
            "0: 640x640 1 com_trang, 2 thit_khos, 285.0ms\n",
            "Speed: 4.7ms preprocess, 285.0ms inference, 1.8ms postprocess per image at shape (1, 3, 640, 640)\n",
            "\n",
            "0: 640x640 1 canh_cai, 279.0ms\n",
            "Speed: 5.6ms preprocess, 279.0ms inference, 1.6ms postprocess per image at shape (1, 3, 640, 640)\n",
            "\n",
            "0: 640x640 1 canh_cai, 296.4ms\n",
            "Speed: 5.4ms preprocess, 296.4ms inference, 1.9ms postprocess per image at shape (1, 3, 640, 640)\n",
            "\n",
            "0: 640x640 1 canh_chua, 300.5ms\n",
            "Speed: 5.2ms preprocess, 300.5ms inference, 2.0ms postprocess per image at shape (1, 3, 640, 640)\n",
            "\n",
            "0: 640x640 1 thit_kho, 278.1ms\n",
            "Speed: 5.1ms preprocess, 278.1ms inference, 2.6ms postprocess per image at shape (1, 3, 640, 640)\n",
            "\n",
            "0: 640x640 1 canh_cai, 276.4ms\n",
            "Speed: 3.9ms preprocess, 276.4ms inference, 1.6ms postprocess per image at shape (1, 3, 640, 640)\n",
            "\n",
            "0: 640x640 1 ca_kho, 270.1ms\n",
            "Speed: 5.3ms preprocess, 270.1ms inference, 1.6ms postprocess per image at shape (1, 3, 640, 640)\n",
            "\n",
            "0: 640x640 1 canh_cai, 290.7ms\n",
            "Speed: 6.9ms preprocess, 290.7ms inference, 1.8ms postprocess per image at shape (1, 3, 640, 640)\n",
            "\n",
            "0: 640x640 1 canh_cai, 277.8ms\n",
            "Speed: 6.1ms preprocess, 277.8ms inference, 2.1ms postprocess per image at shape (1, 3, 640, 640)\n",
            "\n",
            "0: 640x640 1 trung_chien, 278.3ms\n",
            "Speed: 7.6ms preprocess, 278.3ms inference, 1.8ms postprocess per image at shape (1, 3, 640, 640)\n",
            "\n",
            "0: 640x640 1 rau_muong_xao, 284.9ms\n",
            "Speed: 6.3ms preprocess, 284.9ms inference, 1.7ms postprocess per image at shape (1, 3, 640, 640)\n",
            "\n",
            "0: 640x640 1 rau_muong_xao, 277.4ms\n",
            "Speed: 5.3ms preprocess, 277.4ms inference, 1.7ms postprocess per image at shape (1, 3, 640, 640)\n",
            "\n",
            "0: 640x640 1 ga_chien, 272.8ms\n",
            "Speed: 5.9ms preprocess, 272.8ms inference, 1.6ms postprocess per image at shape (1, 3, 640, 640)\n",
            "\n",
            "0: 640x640 1 trung_chien, 276.2ms\n",
            "Speed: 3.6ms preprocess, 276.2ms inference, 2.0ms postprocess per image at shape (1, 3, 640, 640)\n",
            "\n",
            "0: 640x640 1 com_trang, 1 thit_kho, 1 trung_chien, 299.8ms\n",
            "Speed: 7.5ms preprocess, 299.8ms inference, 2.4ms postprocess per image at shape (1, 3, 640, 640)\n",
            "\n",
            "0: 640x640 1 rau_muong_xao, 275.2ms\n",
            "Speed: 6.0ms preprocess, 275.2ms inference, 1.8ms postprocess per image at shape (1, 3, 640, 640)\n",
            "\n",
            "0: 640x640 1 ca_kho, 1 canh_chua, 1 com_trang, 277.6ms\n",
            "Speed: 5.6ms preprocess, 277.6ms inference, 1.9ms postprocess per image at shape (1, 3, 640, 640)\n",
            "\n",
            "0: 640x640 1 trung_chien, 282.1ms\n",
            "Speed: 5.1ms preprocess, 282.1ms inference, 1.5ms postprocess per image at shape (1, 3, 640, 640)\n",
            "\n",
            "0: 640x640 1 canh_chua, 278.6ms\n",
            "Speed: 6.1ms preprocess, 278.6ms inference, 1.6ms postprocess per image at shape (1, 3, 640, 640)\n",
            "\n",
            "0: 640x640 1 trung_chien, 634.5ms\n",
            "Speed: 6.7ms preprocess, 634.5ms inference, 22.7ms postprocess per image at shape (1, 3, 640, 640)\n",
            "\n",
            "0: 640x640 2 rau_muong_xaos, 671.8ms\n",
            "Speed: 15.5ms preprocess, 671.8ms inference, 2.1ms postprocess per image at shape (1, 3, 640, 640)\n",
            "\n",
            "0: 640x640 1 canh_cai, 1203.1ms\n",
            "Speed: 5.3ms preprocess, 1203.1ms inference, 2.0ms postprocess per image at shape (1, 3, 640, 640)\n",
            "\n",
            "0: 640x640 1 com_trang, 1027.9ms\n",
            "Speed: 5.9ms preprocess, 1027.9ms inference, 3.8ms postprocess per image at shape (1, 3, 640, 640)\n",
            "\n",
            "0: 640x640 1 thit_kho_trung, 413.8ms\n",
            "Speed: 5.0ms preprocess, 413.8ms inference, 2.3ms postprocess per image at shape (1, 3, 640, 640)\n",
            "\n",
            "0: 640x640 1 trung_chien, 324.3ms\n",
            "Speed: 5.7ms preprocess, 324.3ms inference, 1.6ms postprocess per image at shape (1, 3, 640, 640)\n",
            "\n",
            "0: 640x640 1 ca_kho, 264.3ms\n",
            "Speed: 5.4ms preprocess, 264.3ms inference, 1.7ms postprocess per image at shape (1, 3, 640, 640)\n",
            "\n",
            "0: 640x640 1 canh_cai, 288.9ms\n",
            "Speed: 5.6ms preprocess, 288.9ms inference, 1.7ms postprocess per image at shape (1, 3, 640, 640)\n",
            "\n",
            "0: 640x640 1 dau_hu_sot_ca, 275.5ms\n",
            "Speed: 5.6ms preprocess, 275.5ms inference, 1.7ms postprocess per image at shape (1, 3, 640, 640)\n",
            "\n",
            "0: 640x640 1 ca_kho, 265.8ms\n",
            "Speed: 5.3ms preprocess, 265.8ms inference, 1.6ms postprocess per image at shape (1, 3, 640, 640)\n",
            "\n",
            "0: 640x640 1 canh_chua, 269.3ms\n",
            "Speed: 4.7ms preprocess, 269.3ms inference, 1.7ms postprocess per image at shape (1, 3, 640, 640)\n",
            "\n",
            "0: 640x640 1 dau_hu_sot_ca, 1 ga_chien, 1 rau_muong_xao, 285.4ms\n",
            "Speed: 5.7ms preprocess, 285.4ms inference, 1.6ms postprocess per image at shape (1, 3, 640, 640)\n",
            "\n",
            "0: 640x640 3 ca_khos, 276.3ms\n",
            "Speed: 7.5ms preprocess, 276.3ms inference, 1.6ms postprocess per image at shape (1, 3, 640, 640)\n",
            "\n",
            "0: 640x640 2 ga_chiens, 268.9ms\n",
            "Speed: 5.4ms preprocess, 268.9ms inference, 1.7ms postprocess per image at shape (1, 3, 640, 640)\n",
            "\n",
            "0: 640x640 1 canh_cai, 1 com_trang, 1 ga_chien, 1 thit_kho, 288.4ms\n",
            "Speed: 6.8ms preprocess, 288.4ms inference, 1.7ms postprocess per image at shape (1, 3, 640, 640)\n",
            "\n",
            "0: 640x640 1 canh_cai, 278.4ms\n",
            "Speed: 5.4ms preprocess, 278.4ms inference, 2.0ms postprocess per image at shape (1, 3, 640, 640)\n",
            "\n",
            "0: 640x640 1 canh_cai, 271.6ms\n",
            "Speed: 4.5ms preprocess, 271.6ms inference, 1.7ms postprocess per image at shape (1, 3, 640, 640)\n",
            "\n",
            "0: 640x640 1 ca_kho, 279.4ms\n",
            "Speed: 8.3ms preprocess, 279.4ms inference, 1.8ms postprocess per image at shape (1, 3, 640, 640)\n",
            "\n",
            "0: 640x640 1 rau_muong_xao, 282.7ms\n",
            "Speed: 6.0ms preprocess, 282.7ms inference, 1.6ms postprocess per image at shape (1, 3, 640, 640)\n",
            "\n",
            "0: 640x640 1 rau_muong_xao, 280.7ms\n",
            "Speed: 6.4ms preprocess, 280.7ms inference, 1.7ms postprocess per image at shape (1, 3, 640, 640)\n",
            "\n",
            "0: 640x640 1 ga_chien, 278.5ms\n",
            "Speed: 6.8ms preprocess, 278.5ms inference, 1.9ms postprocess per image at shape (1, 3, 640, 640)\n",
            "\n",
            "0: 640x640 1 ca_kho, 288.1ms\n",
            "Speed: 5.9ms preprocess, 288.1ms inference, 1.7ms postprocess per image at shape (1, 3, 640, 640)\n",
            "\n",
            "0: 640x640 1 ca_kho, 269.5ms\n",
            "Speed: 4.8ms preprocess, 269.5ms inference, 1.6ms postprocess per image at shape (1, 3, 640, 640)\n",
            "\n",
            "0: 640x640 2 rau_muong_xaos, 273.0ms\n",
            "Speed: 5.1ms preprocess, 273.0ms inference, 1.6ms postprocess per image at shape (1, 3, 640, 640)\n",
            "\n",
            "0: 640x640 2 rau_muong_xaos, 270.7ms\n",
            "Speed: 5.3ms preprocess, 270.7ms inference, 1.7ms postprocess per image at shape (1, 3, 640, 640)\n",
            "\n",
            "0: 640x640 1 canh_cai, 278.5ms\n",
            "Speed: 7.4ms preprocess, 278.5ms inference, 2.2ms postprocess per image at shape (1, 3, 640, 640)\n",
            "\n",
            "0: 640x640 1 thit_kho_trung, 280.8ms\n",
            "Speed: 5.3ms preprocess, 280.8ms inference, 1.6ms postprocess per image at shape (1, 3, 640, 640)\n",
            "\n",
            "0: 640x640 2 ca_khos, 271.5ms\n",
            "Speed: 5.5ms preprocess, 271.5ms inference, 1.6ms postprocess per image at shape (1, 3, 640, 640)\n",
            "\n",
            "0: 640x640 1 ca_kho, 274.5ms\n",
            "Speed: 5.2ms preprocess, 274.5ms inference, 1.8ms postprocess per image at shape (1, 3, 640, 640)\n",
            "\n",
            "0: 640x640 1 dau_hu_sot_ca, 281.5ms\n",
            "Speed: 4.9ms preprocess, 281.5ms inference, 1.6ms postprocess per image at shape (1, 3, 640, 640)\n",
            "\n",
            "0: 640x640 2 rau_muong_xaos, 278.2ms\n",
            "Speed: 4.7ms preprocess, 278.2ms inference, 1.6ms postprocess per image at shape (1, 3, 640, 640)\n",
            "\n",
            "0: 640x640 1 com_trang, 2 thit_khos, 269.1ms\n",
            "Speed: 5.3ms preprocess, 269.1ms inference, 1.7ms postprocess per image at shape (1, 3, 640, 640)\n",
            "\n",
            "0: 640x640 1 trung_chien, 285.0ms\n",
            "Speed: 5.1ms preprocess, 285.0ms inference, 1.7ms postprocess per image at shape (1, 3, 640, 640)\n",
            "\n",
            "0: 640x640 1 canh_cai, 412.6ms\n",
            "Speed: 4.9ms preprocess, 412.6ms inference, 3.4ms postprocess per image at shape (1, 3, 640, 640)\n",
            "\n",
            "0: 640x640 1 trung_chien, 409.8ms\n",
            "Speed: 11.0ms preprocess, 409.8ms inference, 1.8ms postprocess per image at shape (1, 3, 640, 640)\n",
            "\n",
            "0: 640x640 1 thit_kho, 325.6ms\n",
            "Speed: 4.7ms preprocess, 325.6ms inference, 12.6ms postprocess per image at shape (1, 3, 640, 640)\n",
            "\n",
            "0: 640x640 1 canh_cai, 474.1ms\n",
            "Speed: 15.5ms preprocess, 474.1ms inference, 4.4ms postprocess per image at shape (1, 3, 640, 640)\n",
            "\n",
            "0: 640x640 1 trung_chien, 691.2ms\n",
            "Speed: 5.4ms preprocess, 691.2ms inference, 14.2ms postprocess per image at shape (1, 3, 640, 640)\n",
            "\n",
            "0: 640x640 1 com_trang, 1 thit_kho, 548.9ms\n",
            "Speed: 5.3ms preprocess, 548.9ms inference, 2.7ms postprocess per image at shape (1, 3, 640, 640)\n",
            "\n",
            "0: 640x640 1 thit_kho, 396.6ms\n",
            "Speed: 6.6ms preprocess, 396.6ms inference, 2.0ms postprocess per image at shape (1, 3, 640, 640)\n",
            "\n",
            "0: 640x640 1 dau_hu_sot_ca, 398.2ms\n",
            "Speed: 7.2ms preprocess, 398.2ms inference, 2.7ms postprocess per image at shape (1, 3, 640, 640)\n",
            "\n",
            "0: 640x640 1 canh_chua, 414.2ms\n",
            "Speed: 5.2ms preprocess, 414.2ms inference, 2.7ms postprocess per image at shape (1, 3, 640, 640)\n",
            "\n",
            "0: 640x640 1 thit_kho_trung, 391.4ms\n",
            "Speed: 7.1ms preprocess, 391.4ms inference, 2.3ms postprocess per image at shape (1, 3, 640, 640)\n",
            "\n",
            "0: 640x640 2 ga_chiens, 403.7ms\n",
            "Speed: 9.1ms preprocess, 403.7ms inference, 3.1ms postprocess per image at shape (1, 3, 640, 640)\n",
            "\n",
            "0: 640x640 1 canh_cai, 1 com_trang, 2 thit_khos, 347.6ms\n",
            "Speed: 6.8ms preprocess, 347.6ms inference, 3.8ms postprocess per image at shape (1, 3, 640, 640)\n",
            "\n",
            "0: 640x640 1 canh_cai, 289.9ms\n",
            "Speed: 5.0ms preprocess, 289.9ms inference, 3.1ms postprocess per image at shape (1, 3, 640, 640)\n",
            "\n",
            "0: 640x640 1 thit_kho_trung, 298.8ms\n",
            "Speed: 6.5ms preprocess, 298.8ms inference, 1.7ms postprocess per image at shape (1, 3, 640, 640)\n",
            "\n",
            "0: 640x640 1 ga_chien, 312.6ms\n",
            "Speed: 4.8ms preprocess, 312.6ms inference, 2.1ms postprocess per image at shape (1, 3, 640, 640)\n",
            "\n",
            "0: 640x640 1 thit_kho_trung, 297.9ms\n",
            "Speed: 5.9ms preprocess, 297.9ms inference, 2.3ms postprocess per image at shape (1, 3, 640, 640)\n",
            "\n",
            "0: 640x640 1 thit_kho_trung, 294.4ms\n",
            "Speed: 5.1ms preprocess, 294.4ms inference, 1.6ms postprocess per image at shape (1, 3, 640, 640)\n",
            "\n",
            "0: 640x640 1 dau_hu_sot_ca, 288.1ms\n",
            "Speed: 7.0ms preprocess, 288.1ms inference, 1.6ms postprocess per image at shape (1, 3, 640, 640)\n",
            "\n",
            "0: 640x640 1 canh_chua, 270.8ms\n",
            "Speed: 5.6ms preprocess, 270.8ms inference, 1.6ms postprocess per image at shape (1, 3, 640, 640)\n",
            "\n",
            "0: 640x640 1 com_trang, 1 thit_kho, 292.1ms\n",
            "Speed: 5.7ms preprocess, 292.1ms inference, 1.6ms postprocess per image at shape (1, 3, 640, 640)\n",
            "\n",
            "0: 640x640 3 rau_muong_xaos, 293.4ms\n",
            "Speed: 4.8ms preprocess, 293.4ms inference, 1.6ms postprocess per image at shape (1, 3, 640, 640)\n",
            "\n",
            "0: 640x640 1 thit_kho_trung, 260.5ms\n",
            "Speed: 4.8ms preprocess, 260.5ms inference, 1.6ms postprocess per image at shape (1, 3, 640, 640)\n",
            "\n",
            "0: 640x640 1 canh_cai, 267.1ms\n",
            "Speed: 4.5ms preprocess, 267.1ms inference, 1.8ms postprocess per image at shape (1, 3, 640, 640)\n",
            "\n",
            "0: 640x640 1 canh_chua, 277.3ms\n",
            "Speed: 4.8ms preprocess, 277.3ms inference, 1.6ms postprocess per image at shape (1, 3, 640, 640)\n",
            "\n",
            "0: 640x640 1 dau_hu_sot_ca, 279.9ms\n",
            "Speed: 6.0ms preprocess, 279.9ms inference, 1.6ms postprocess per image at shape (1, 3, 640, 640)\n",
            "\n",
            "0: 640x640 2 ga_chiens, 265.6ms\n",
            "Speed: 4.8ms preprocess, 265.6ms inference, 1.5ms postprocess per image at shape (1, 3, 640, 640)\n",
            "\n",
            "0: 640x640 1 ca_kho, 1 ga_chien, 267.2ms\n",
            "Speed: 4.9ms preprocess, 267.2ms inference, 1.6ms postprocess per image at shape (1, 3, 640, 640)\n",
            "\n",
            "0: 640x640 1 ga_chien, 282.9ms\n",
            "Speed: 5.0ms preprocess, 282.9ms inference, 1.6ms postprocess per image at shape (1, 3, 640, 640)\n",
            "\n",
            "0: 640x640 1 canh_chua, 268.3ms\n",
            "Speed: 4.7ms preprocess, 268.3ms inference, 1.6ms postprocess per image at shape (1, 3, 640, 640)\n",
            "\n",
            "0: 640x640 1 thit_kho_trung, 272.6ms\n",
            "Speed: 6.0ms preprocess, 272.6ms inference, 1.6ms postprocess per image at shape (1, 3, 640, 640)\n",
            "\n",
            "0: 640x640 1 com_trang, 1 thit_kho, 280.4ms\n",
            "Speed: 5.0ms preprocess, 280.4ms inference, 1.6ms postprocess per image at shape (1, 3, 640, 640)\n",
            "\n",
            "0: 640x640 1 ca_kho, 266.3ms\n",
            "Speed: 4.8ms preprocess, 266.3ms inference, 1.5ms postprocess per image at shape (1, 3, 640, 640)\n",
            "\n",
            "0: 640x640 1 canh_chua, 277.0ms\n",
            "Speed: 4.5ms preprocess, 277.0ms inference, 1.6ms postprocess per image at shape (1, 3, 640, 640)\n",
            "\n",
            "0: 640x640 1 thit_kho, 271.7ms\n",
            "Speed: 4.0ms preprocess, 271.7ms inference, 1.6ms postprocess per image at shape (1, 3, 640, 640)\n",
            "\n",
            "0: 640x640 1 com_trang, 1 thit_kho, 1 trung_chien, 289.0ms\n",
            "Speed: 4.6ms preprocess, 289.0ms inference, 1.6ms postprocess per image at shape (1, 3, 640, 640)\n",
            "\n",
            "0: 640x640 1 ga_chien, 267.7ms\n",
            "Speed: 5.5ms preprocess, 267.7ms inference, 2.2ms postprocess per image at shape (1, 3, 640, 640)\n",
            "\n",
            "0: 640x640 1 canh_cai, 265.5ms\n",
            "Speed: 4.7ms preprocess, 265.5ms inference, 1.6ms postprocess per image at shape (1, 3, 640, 640)\n",
            "\n",
            "0: 640x640 1 dau_hu_sot_ca, 280.7ms\n",
            "Speed: 6.0ms preprocess, 280.7ms inference, 2.4ms postprocess per image at shape (1, 3, 640, 640)\n",
            "\n",
            "0: 640x640 1 dau_hu_sot_ca, 265.1ms\n",
            "Speed: 6.3ms preprocess, 265.1ms inference, 1.6ms postprocess per image at shape (1, 3, 640, 640)\n",
            "\n",
            "0: 640x640 1 canh_chua, 272.1ms\n",
            "Speed: 5.2ms preprocess, 272.1ms inference, 1.5ms postprocess per image at shape (1, 3, 640, 640)\n",
            "\n",
            "0: 640x640 1 canh_chua, 265.6ms\n",
            "Speed: 5.9ms preprocess, 265.6ms inference, 1.6ms postprocess per image at shape (1, 3, 640, 640)\n",
            "\n",
            "0: 640x640 1 ca_kho, 1 com_trang, 1 thit_kho, 297.4ms\n",
            "Speed: 6.7ms preprocess, 297.4ms inference, 1.6ms postprocess per image at shape (1, 3, 640, 640)\n",
            "\n",
            "0: 640x640 1 ga_chien, 277.4ms\n",
            "Speed: 3.8ms preprocess, 277.4ms inference, 1.6ms postprocess per image at shape (1, 3, 640, 640)\n",
            "\n",
            "0: 640x640 1 com_trang, 1 ga_chien, 1 thit_kho, 270.9ms\n",
            "Speed: 6.0ms preprocess, 270.9ms inference, 1.7ms postprocess per image at shape (1, 3, 640, 640)\n",
            "\n",
            "0: 640x640 1 canh_chua, 301.4ms\n",
            "Speed: 7.4ms preprocess, 301.4ms inference, 2.4ms postprocess per image at shape (1, 3, 640, 640)\n",
            "\n",
            "0: 640x640 1 ca_kho, 403.5ms\n",
            "Speed: 4.9ms preprocess, 403.5ms inference, 2.0ms postprocess per image at shape (1, 3, 640, 640)\n",
            "\n",
            "0: 640x640 1 canh_chua, 390.0ms\n",
            "Speed: 5.2ms preprocess, 390.0ms inference, 2.1ms postprocess per image at shape (1, 3, 640, 640)\n",
            "\n",
            "0: 640x640 1 thit_kho, 418.3ms\n",
            "Speed: 5.9ms preprocess, 418.3ms inference, 2.1ms postprocess per image at shape (1, 3, 640, 640)\n",
            "\n",
            "0: 640x640 1 thit_kho_trung, 397.6ms\n",
            "Speed: 6.2ms preprocess, 397.6ms inference, 2.0ms postprocess per image at shape (1, 3, 640, 640)\n",
            "\n",
            "0: 640x640 1 canh_cai, 389.3ms\n",
            "Speed: 7.1ms preprocess, 389.3ms inference, 1.9ms postprocess per image at shape (1, 3, 640, 640)\n",
            "\n",
            "0: 640x640 1 ca_kho, 394.7ms\n",
            "Speed: 4.7ms preprocess, 394.7ms inference, 2.3ms postprocess per image at shape (1, 3, 640, 640)\n",
            "\n",
            "0: 640x640 1 thit_kho_trung, 396.3ms\n",
            "Speed: 5.2ms preprocess, 396.3ms inference, 2.2ms postprocess per image at shape (1, 3, 640, 640)\n",
            "\n",
            "0: 640x640 1 ca_kho, 427.4ms\n",
            "Speed: 5.1ms preprocess, 427.4ms inference, 2.4ms postprocess per image at shape (1, 3, 640, 640)\n",
            "\n",
            "0: 640x640 1 canh_chua, 348.0ms\n",
            "Speed: 6.7ms preprocess, 348.0ms inference, 1.6ms postprocess per image at shape (1, 3, 640, 640)\n",
            "\n",
            "0: 640x640 1 trung_chien, 276.8ms\n",
            "Speed: 5.1ms preprocess, 276.8ms inference, 2.0ms postprocess per image at shape (1, 3, 640, 640)\n",
            "\n",
            "0: 640x640 1 ga_chien, 285.6ms\n",
            "Speed: 4.0ms preprocess, 285.6ms inference, 3.0ms postprocess per image at shape (1, 3, 640, 640)\n",
            "\n",
            "0: 640x640 1 canh_cai, 271.9ms\n",
            "Speed: 5.2ms preprocess, 271.9ms inference, 1.5ms postprocess per image at shape (1, 3, 640, 640)\n",
            "\n",
            "0: 640x640 1 canh_chua, 278.7ms\n",
            "Speed: 5.5ms preprocess, 278.7ms inference, 1.6ms postprocess per image at shape (1, 3, 640, 640)\n",
            "\n",
            "0: 640x640 1 thit_kho_trung, 272.4ms\n",
            "Speed: 5.6ms preprocess, 272.4ms inference, 1.6ms postprocess per image at shape (1, 3, 640, 640)\n",
            "\n",
            "0: 640x640 2 ga_chiens, 304.1ms\n",
            "Speed: 5.1ms preprocess, 304.1ms inference, 1.5ms postprocess per image at shape (1, 3, 640, 640)\n",
            "\n",
            "0: 640x640 1 ca_kho, 270.1ms\n",
            "Speed: 4.8ms preprocess, 270.1ms inference, 2.3ms postprocess per image at shape (1, 3, 640, 640)\n",
            "\n",
            "0: 640x640 2 ga_chiens, 274.5ms\n",
            "Speed: 6.9ms preprocess, 274.5ms inference, 5.2ms postprocess per image at shape (1, 3, 640, 640)\n",
            "\n",
            "0: 640x640 1 dau_hu_sot_ca, 283.1ms\n",
            "Speed: 5.2ms preprocess, 283.1ms inference, 1.5ms postprocess per image at shape (1, 3, 640, 640)\n",
            "\n",
            "0: 640x640 1 canh_cai, 271.1ms\n",
            "Speed: 4.6ms preprocess, 271.1ms inference, 2.5ms postprocess per image at shape (1, 3, 640, 640)\n",
            "\n",
            "0: 640x640 1 thit_kho_trung, 276.9ms\n",
            "Speed: 5.6ms preprocess, 276.9ms inference, 1.6ms postprocess per image at shape (1, 3, 640, 640)\n",
            "\n",
            "0: 640x640 1 ga_chien, 272.3ms\n",
            "Speed: 5.7ms preprocess, 272.3ms inference, 1.7ms postprocess per image at shape (1, 3, 640, 640)\n",
            "\n",
            "0: 640x640 1 ga_chien, 293.1ms\n",
            "Speed: 5.3ms preprocess, 293.1ms inference, 1.7ms postprocess per image at shape (1, 3, 640, 640)\n",
            "\n",
            "0: 640x640 2 ga_chiens, 272.5ms\n",
            "Speed: 6.6ms preprocess, 272.5ms inference, 1.6ms postprocess per image at shape (1, 3, 640, 640)\n",
            "\n",
            "0: 640x640 1 dau_hu_sot_ca, 259.0ms\n",
            "Speed: 6.4ms preprocess, 259.0ms inference, 1.6ms postprocess per image at shape (1, 3, 640, 640)\n",
            "\n",
            "0: 640x640 1 canh_chua, 282.2ms\n",
            "Speed: 6.2ms preprocess, 282.2ms inference, 1.9ms postprocess per image at shape (1, 3, 640, 640)\n",
            "\n",
            "0: 640x640 1 canh_chua, 271.3ms\n",
            "Speed: 5.5ms preprocess, 271.3ms inference, 1.6ms postprocess per image at shape (1, 3, 640, 640)\n",
            "\n",
            "0: 640x640 1 trung_chien, 272.7ms\n",
            "Speed: 5.1ms preprocess, 272.7ms inference, 1.6ms postprocess per image at shape (1, 3, 640, 640)\n",
            "\n",
            "0: 640x640 1 ga_chien, 278.2ms\n",
            "Speed: 5.3ms preprocess, 278.2ms inference, 1.5ms postprocess per image at shape (1, 3, 640, 640)\n",
            "\n",
            "0: 640x640 1 dau_hu_sot_ca, 282.1ms\n",
            "Speed: 5.6ms preprocess, 282.1ms inference, 1.6ms postprocess per image at shape (1, 3, 640, 640)\n",
            "\n",
            "0: 640x640 1 canh_cai, 1 com_trang, 2 thit_khos, 282.3ms\n",
            "Speed: 5.8ms preprocess, 282.3ms inference, 1.5ms postprocess per image at shape (1, 3, 640, 640)\n",
            "\n",
            "0: 640x640 1 dau_hu_sot_ca, 271.3ms\n",
            "Speed: 6.0ms preprocess, 271.3ms inference, 1.6ms postprocess per image at shape (1, 3, 640, 640)\n",
            "\n",
            "0: 640x640 1 ca_kho, 283.6ms\n",
            "Speed: 5.0ms preprocess, 283.6ms inference, 2.0ms postprocess per image at shape (1, 3, 640, 640)\n",
            "\n",
            "0: 640x640 1 ga_chien, 276.9ms\n",
            "Speed: 4.9ms preprocess, 276.9ms inference, 1.6ms postprocess per image at shape (1, 3, 640, 640)\n",
            "\n",
            "0: 640x640 1 thit_kho_trung, 271.0ms\n",
            "Speed: 4.7ms preprocess, 271.0ms inference, 1.5ms postprocess per image at shape (1, 3, 640, 640)\n",
            "\n",
            "0: 640x640 1 canh_chua, 269.5ms\n",
            "Speed: 4.8ms preprocess, 269.5ms inference, 1.6ms postprocess per image at shape (1, 3, 640, 640)\n",
            "\n",
            "0: 640x640 1 com_trang, 1 dau_hu_sot_ca, 1 thit_kho, 287.3ms\n",
            "Speed: 8.2ms preprocess, 287.3ms inference, 1.7ms postprocess per image at shape (1, 3, 640, 640)\n",
            "\n",
            "0: 640x640 1 canh_chua, 270.5ms\n",
            "Speed: 5.4ms preprocess, 270.5ms inference, 1.6ms postprocess per image at shape (1, 3, 640, 640)\n",
            "\n",
            "0: 640x640 1 thit_kho_trung, 270.5ms\n",
            "Speed: 4.9ms preprocess, 270.5ms inference, 1.5ms postprocess per image at shape (1, 3, 640, 640)\n",
            "\n",
            "0: 640x640 1 dau_hu_sot_ca, 273.7ms\n",
            "Speed: 4.3ms preprocess, 273.7ms inference, 1.6ms postprocess per image at shape (1, 3, 640, 640)\n",
            "\n",
            "0: 640x640 1 thit_kho_trung, 272.1ms\n",
            "Speed: 6.0ms preprocess, 272.1ms inference, 1.6ms postprocess per image at shape (1, 3, 640, 640)\n",
            "\n",
            "0: 640x640 1 ga_chien, 269.7ms\n",
            "Speed: 4.7ms preprocess, 269.7ms inference, 1.8ms postprocess per image at shape (1, 3, 640, 640)\n",
            "\n",
            "0: 640x640 1 ca_kho, 277.1ms\n",
            "Speed: 5.1ms preprocess, 277.1ms inference, 1.5ms postprocess per image at shape (1, 3, 640, 640)\n",
            "\n",
            "0: 640x640 1 ga_chien, 386.6ms\n",
            "Speed: 5.1ms preprocess, 386.6ms inference, 4.0ms postprocess per image at shape (1, 3, 640, 640)\n",
            "\n",
            "0: 640x640 1 rau_muong_xao, 393.8ms\n",
            "Speed: 5.0ms preprocess, 393.8ms inference, 2.2ms postprocess per image at shape (1, 3, 640, 640)\n",
            "\n",
            "0: 640x640 1 rau_muong_xao, 425.8ms\n",
            "Speed: 5.3ms preprocess, 425.8ms inference, 7.7ms postprocess per image at shape (1, 3, 640, 640)\n",
            "\n",
            "0: 640x640 1 thit_kho_trung, 400.9ms\n",
            "Speed: 4.7ms preprocess, 400.9ms inference, 2.1ms postprocess per image at shape (1, 3, 640, 640)\n",
            "\n",
            "0: 640x640 1 com_trang, 1 thit_kho_trung, 415.4ms\n",
            "Speed: 5.4ms preprocess, 415.4ms inference, 2.4ms postprocess per image at shape (1, 3, 640, 640)\n",
            "\n",
            "0: 640x640 1 thit_kho_trung, 1 trung_chien, 436.8ms\n",
            "Speed: 9.6ms preprocess, 436.8ms inference, 2.9ms postprocess per image at shape (1, 3, 640, 640)\n",
            "\n",
            "0: 640x640 1 canh_chua, 417.9ms\n",
            "Speed: 4.7ms preprocess, 417.9ms inference, 2.3ms postprocess per image at shape (1, 3, 640, 640)\n",
            "\n",
            "0: 640x640 1 trung_chien, 429.1ms\n",
            "Speed: 7.7ms preprocess, 429.1ms inference, 2.3ms postprocess per image at shape (1, 3, 640, 640)\n",
            "\n",
            "0: 640x640 1 ga_chien, 1 thit_kho_trung, 339.6ms\n",
            "Speed: 7.9ms preprocess, 339.6ms inference, 1.6ms postprocess per image at shape (1, 3, 640, 640)\n",
            "\n",
            "0: 640x640 1 ga_chien, 1 thit_kho_trung, 276.0ms\n",
            "Speed: 5.4ms preprocess, 276.0ms inference, 1.7ms postprocess per image at shape (1, 3, 640, 640)\n",
            "\n",
            "0: 640x640 1 ca_kho, 303.2ms\n",
            "Speed: 6.6ms preprocess, 303.2ms inference, 2.5ms postprocess per image at shape (1, 3, 640, 640)\n",
            "\n",
            "0: 640x640 1 ga_chien, 278.7ms\n",
            "Speed: 5.0ms preprocess, 278.7ms inference, 1.6ms postprocess per image at shape (1, 3, 640, 640)\n",
            "\n",
            "0: 640x640 1 thit_kho_trung, 270.3ms\n",
            "Speed: 5.0ms preprocess, 270.3ms inference, 1.7ms postprocess per image at shape (1, 3, 640, 640)\n",
            "\n",
            "0: 640x640 1 ca_kho, 269.2ms\n",
            "Speed: 4.7ms preprocess, 269.2ms inference, 1.6ms postprocess per image at shape (1, 3, 640, 640)\n",
            "\n",
            "0: 640x640 1 thit_kho_trung, 288.5ms\n",
            "Speed: 5.0ms preprocess, 288.5ms inference, 2.3ms postprocess per image at shape (1, 3, 640, 640)\n",
            "\n",
            "0: 640x640 1 dau_hu_sot_ca, 271.9ms\n",
            "Speed: 5.0ms preprocess, 271.9ms inference, 1.6ms postprocess per image at shape (1, 3, 640, 640)\n",
            "\n",
            "0: 640x640 1 ca_kho, 275.5ms\n",
            "Speed: 6.2ms preprocess, 275.5ms inference, 1.6ms postprocess per image at shape (1, 3, 640, 640)\n",
            "\n",
            "0: 640x640 1 ca_kho, 275.4ms\n",
            "Speed: 5.4ms preprocess, 275.4ms inference, 1.8ms postprocess per image at shape (1, 3, 640, 640)\n",
            "\n",
            "0: 640x640 1 trung_chien, 299.4ms\n",
            "Speed: 5.9ms preprocess, 299.4ms inference, 1.6ms postprocess per image at shape (1, 3, 640, 640)\n",
            "\n",
            "0: 640x640 1 ca_kho, 282.6ms\n",
            "Speed: 5.4ms preprocess, 282.6ms inference, 1.9ms postprocess per image at shape (1, 3, 640, 640)\n",
            "\n",
            "0: 640x640 1 dau_hu_sot_ca, 290.2ms\n",
            "Speed: 6.0ms preprocess, 290.2ms inference, 2.4ms postprocess per image at shape (1, 3, 640, 640)\n",
            "\n",
            "0: 640x640 1 canh_cai, 1 com_trang, 2 dau_hu_sot_cas, 1 thit_kho, 291.9ms\n",
            "Speed: 5.5ms preprocess, 291.9ms inference, 2.1ms postprocess per image at shape (1, 3, 640, 640)\n",
            "\n",
            "0: 640x640 1 ca_kho, 272.5ms\n",
            "Speed: 5.9ms preprocess, 272.5ms inference, 1.5ms postprocess per image at shape (1, 3, 640, 640)\n",
            "\n",
            "0: 640x640 1 trung_chien, 269.1ms\n",
            "Speed: 5.5ms preprocess, 269.1ms inference, 1.6ms postprocess per image at shape (1, 3, 640, 640)\n",
            "\n",
            "0: 640x640 1 trung_chien, 286.0ms\n",
            "Speed: 5.2ms preprocess, 286.0ms inference, 2.1ms postprocess per image at shape (1, 3, 640, 640)\n",
            "\n",
            "0: 640x640 1 com_trang, 1 dau_hu_sot_ca, 1 rau_muong_xao, 263.2ms\n",
            "Speed: 5.4ms preprocess, 263.2ms inference, 1.5ms postprocess per image at shape (1, 3, 640, 640)\n",
            "\n",
            "0: 640x640 1 canh_cai, 1 rau_muong_xao, 268.9ms\n",
            "Speed: 5.3ms preprocess, 268.9ms inference, 1.5ms postprocess per image at shape (1, 3, 640, 640)\n",
            "\n",
            "0: 640x640 1 ca_kho, 1 canh_cai, 273.5ms\n",
            "Speed: 5.2ms preprocess, 273.5ms inference, 1.7ms postprocess per image at shape (1, 3, 640, 640)\n",
            "\n",
            "0: 640x640 1 ca_kho, 288.3ms\n",
            "Speed: 4.5ms preprocess, 288.3ms inference, 1.6ms postprocess per image at shape (1, 3, 640, 640)\n",
            "\n",
            "0: 640x640 1 thit_kho_trung, 273.4ms\n",
            "Speed: 4.8ms preprocess, 273.4ms inference, 2.0ms postprocess per image at shape (1, 3, 640, 640)\n",
            "\n",
            "0: 640x640 1 dau_hu_sot_ca, 272.7ms\n",
            "Speed: 5.3ms preprocess, 272.7ms inference, 1.6ms postprocess per image at shape (1, 3, 640, 640)\n",
            "\n",
            "0: 640x640 1 canh_chua, 270.2ms\n",
            "Speed: 5.3ms preprocess, 270.2ms inference, 2.4ms postprocess per image at shape (1, 3, 640, 640)\n",
            "\n",
            "0: 640x640 2 ga_chiens, 270.1ms\n",
            "Speed: 5.1ms preprocess, 270.1ms inference, 1.6ms postprocess per image at shape (1, 3, 640, 640)\n",
            "\n",
            "0: 640x640 1 thit_kho, 280.4ms\n",
            "Speed: 5.0ms preprocess, 280.4ms inference, 1.7ms postprocess per image at shape (1, 3, 640, 640)\n",
            "\n",
            "0: 640x640 1 canh_cai, 273.5ms\n",
            "Speed: 6.3ms preprocess, 273.5ms inference, 1.6ms postprocess per image at shape (1, 3, 640, 640)\n",
            "\n",
            "0: 640x640 1 ga_chien, 282.9ms\n",
            "Speed: 5.6ms preprocess, 282.9ms inference, 2.7ms postprocess per image at shape (1, 3, 640, 640)\n",
            "\n",
            "0: 640x640 1 dau_hu_sot_ca, 270.0ms\n",
            "Speed: 5.2ms preprocess, 270.0ms inference, 1.7ms postprocess per image at shape (1, 3, 640, 640)\n",
            "\n",
            "0: 640x640 1 canh_cai, 271.0ms\n",
            "Speed: 4.2ms preprocess, 271.0ms inference, 2.1ms postprocess per image at shape (1, 3, 640, 640)\n",
            "\n",
            "0: 640x640 2 ga_chiens, 269.7ms\n",
            "Speed: 4.5ms preprocess, 269.7ms inference, 1.8ms postprocess per image at shape (1, 3, 640, 640)\n",
            "\n",
            "0: 640x640 1 canh_cai, 1 com_trang, 2 thit_khos, 305.7ms\n",
            "Speed: 4.6ms preprocess, 305.7ms inference, 2.0ms postprocess per image at shape (1, 3, 640, 640)\n",
            "\n",
            "0: 640x640 1 canh_chua, 287.2ms\n",
            "Speed: 6.5ms preprocess, 287.2ms inference, 1.6ms postprocess per image at shape (1, 3, 640, 640)\n",
            "\n",
            "0: 640x640 1 canh_chua, 306.7ms\n",
            "Speed: 4.7ms preprocess, 306.7ms inference, 2.3ms postprocess per image at shape (1, 3, 640, 640)\n",
            "\n",
            "0: 640x640 1 rau_muong_xao, 391.4ms\n",
            "Speed: 7.8ms preprocess, 391.4ms inference, 2.2ms postprocess per image at shape (1, 3, 640, 640)\n",
            "\n",
            "0: 640x640 1 com_trang, 1 thit_kho, 400.2ms\n",
            "Speed: 4.8ms preprocess, 400.2ms inference, 2.0ms postprocess per image at shape (1, 3, 640, 640)\n",
            "\n",
            "0: 640x640 1 canh_cai, 1 com_trang, 1 thit_kho, 428.4ms\n",
            "Speed: 5.1ms preprocess, 428.4ms inference, 3.9ms postprocess per image at shape (1, 3, 640, 640)\n",
            "\n",
            "0: 640x640 1 canh_chua, 1 thit_kho, 406.9ms\n",
            "Speed: 5.6ms preprocess, 406.9ms inference, 2.0ms postprocess per image at shape (1, 3, 640, 640)\n",
            "\n",
            "0: 640x640 1 com_trang, 2 thit_khos, 404.3ms\n",
            "Speed: 7.7ms preprocess, 404.3ms inference, 2.0ms postprocess per image at shape (1, 3, 640, 640)\n",
            "\n",
            "0: 640x640 1 canh_cai, 1 com_trang, 1 thit_kho, 406.4ms\n",
            "Speed: 5.2ms preprocess, 406.4ms inference, 2.0ms postprocess per image at shape (1, 3, 640, 640)\n",
            "\n",
            "0: 640x640 1 ga_chien, 409.4ms\n",
            "Speed: 4.3ms preprocess, 409.4ms inference, 2.2ms postprocess per image at shape (1, 3, 640, 640)\n",
            "\n",
            "0: 640x640 1 ca_kho, 1 canh_cai, 1 com_trang, 1 thit_kho, 404.5ms\n",
            "Speed: 4.8ms preprocess, 404.5ms inference, 2.2ms postprocess per image at shape (1, 3, 640, 640)\n",
            "\n",
            "0: 640x640 1 com_trang, 1 thit_kho, 1 thit_kho_trung, 289.7ms\n",
            "Speed: 4.7ms preprocess, 289.7ms inference, 1.6ms postprocess per image at shape (1, 3, 640, 640)\n",
            "\n",
            "0: 640x640 1 canh_chua, 277.0ms\n",
            "Speed: 5.1ms preprocess, 277.0ms inference, 1.8ms postprocess per image at shape (1, 3, 640, 640)\n",
            "\n",
            "0: 640x640 1 ca_kho, 1 canh_cai, 1 com_trang, 266.2ms\n",
            "Speed: 5.6ms preprocess, 266.2ms inference, 1.9ms postprocess per image at shape (1, 3, 640, 640)\n",
            "\n",
            "0: 640x640 1 canh_chua, 1 com_trang, 2 thit_khos, 278.0ms\n",
            "Speed: 6.1ms preprocess, 278.0ms inference, 1.6ms postprocess per image at shape (1, 3, 640, 640)\n",
            "\n",
            "0: 640x640 1 com_trang, 1 thit_kho, 264.5ms\n",
            "Speed: 4.6ms preprocess, 264.5ms inference, 1.6ms postprocess per image at shape (1, 3, 640, 640)\n",
            "\n",
            "0: 640x640 1 canh_cai, 1 com_trang, 1 thit_kho, 271.1ms\n",
            "Speed: 5.3ms preprocess, 271.1ms inference, 1.8ms postprocess per image at shape (1, 3, 640, 640)\n",
            "\n",
            "0: 640x640 1 ca_kho, 1 canh_chua, 280.2ms\n",
            "Speed: 5.2ms preprocess, 280.2ms inference, 2.3ms postprocess per image at shape (1, 3, 640, 640)\n",
            "\n",
            "0: 640x640 2 com_trangs, 265.6ms\n",
            "Speed: 4.6ms preprocess, 265.6ms inference, 1.6ms postprocess per image at shape (1, 3, 640, 640)\n",
            "\n",
            "0: 640x640 1 ca_kho, 299.8ms\n",
            "Speed: 5.3ms preprocess, 299.8ms inference, 1.6ms postprocess per image at shape (1, 3, 640, 640)\n",
            "\n",
            "0: 640x640 2 thit_khos, 271.4ms\n",
            "Speed: 4.6ms preprocess, 271.4ms inference, 1.5ms postprocess per image at shape (1, 3, 640, 640)\n",
            "\n",
            "0: 640x640 1 com_trang, 1 ga_chien, 3 thit_khos, 279.4ms\n",
            "Speed: 5.3ms preprocess, 279.4ms inference, 1.6ms postprocess per image at shape (1, 3, 640, 640)\n",
            "\n",
            "0: 640x640 1 canh_cai, 1 canh_chua, 267.4ms\n",
            "Speed: 4.7ms preprocess, 267.4ms inference, 1.5ms postprocess per image at shape (1, 3, 640, 640)\n",
            "\n",
            "0: 640x640 1 ga_chien, 265.2ms\n",
            "Speed: 5.2ms preprocess, 265.2ms inference, 1.5ms postprocess per image at shape (1, 3, 640, 640)\n",
            "\n",
            "0: 640x640 1 ga_chien, 279.8ms\n",
            "Speed: 5.5ms preprocess, 279.8ms inference, 3.2ms postprocess per image at shape (1, 3, 640, 640)\n",
            "\n",
            "0: 640x640 1 canh_cai, 1 com_trang, 2 thit_khos, 276.6ms\n",
            "Speed: 7.1ms preprocess, 276.6ms inference, 1.6ms postprocess per image at shape (1, 3, 640, 640)\n",
            "\n",
            "0: 640x640 1 com_trang, 1 thit_kho, 268.4ms\n",
            "Speed: 4.7ms preprocess, 268.4ms inference, 1.5ms postprocess per image at shape (1, 3, 640, 640)\n",
            "\n",
            "0: 640x640 1 canh_cai, 1 com_trang, 1 rau_muong_xao, 2 thit_khos, 270.4ms\n",
            "Speed: 4.8ms preprocess, 270.4ms inference, 1.8ms postprocess per image at shape (1, 3, 640, 640)\n",
            "\n",
            "0: 640x640 1 canh_cai, 1 com_trang, 1 ga_chien, 1 thit_kho, 281.4ms\n",
            "Speed: 5.3ms preprocess, 281.4ms inference, 1.6ms postprocess per image at shape (1, 3, 640, 640)\n",
            "\n",
            "0: 640x640 1 ca_kho, 271.0ms\n",
            "Speed: 4.4ms preprocess, 271.0ms inference, 1.5ms postprocess per image at shape (1, 3, 640, 640)\n",
            "\n",
            "0: 640x640 1 canh_cai, 1 com_trang, 1 thit_kho, 279.4ms\n",
            "Speed: 5.8ms preprocess, 279.4ms inference, 1.6ms postprocess per image at shape (1, 3, 640, 640)\n",
            "\n",
            "0: 640x640 1 canh_cai, 1 com_trang, 1 trung_chien, 287.7ms\n",
            "Speed: 5.5ms preprocess, 287.7ms inference, 2.3ms postprocess per image at shape (1, 3, 640, 640)\n",
            "\n",
            "0: 640x640 1 canh_cai, 1 com_trang, 1 thit_kho_trung, 285.6ms\n",
            "Speed: 8.7ms preprocess, 285.6ms inference, 2.4ms postprocess per image at shape (1, 3, 640, 640)\n",
            "\n",
            "0: 640x640 1 com_trang, 1 thit_kho, 279.6ms\n",
            "Speed: 5.3ms preprocess, 279.6ms inference, 1.8ms postprocess per image at shape (1, 3, 640, 640)\n",
            "\n",
            "0: 640x640 1 com_trang, 1 rau_muong_xao, 1 thit_kho, 1 thit_kho_trung, 266.4ms\n",
            "Speed: 5.3ms preprocess, 266.4ms inference, 1.7ms postprocess per image at shape (1, 3, 640, 640)\n",
            "\n",
            "0: 640x640 1 canh_cai, 1 thit_kho, 283.8ms\n",
            "Speed: 5.0ms preprocess, 283.8ms inference, 1.8ms postprocess per image at shape (1, 3, 640, 640)\n",
            "\n",
            "0: 640x640 1 com_trang, 1 thit_kho, 272.5ms\n",
            "Speed: 5.3ms preprocess, 272.5ms inference, 1.7ms postprocess per image at shape (1, 3, 640, 640)\n",
            "\n",
            "0: 640x640 1 canh_chua, 274.3ms\n",
            "Speed: 5.2ms preprocess, 274.3ms inference, 1.5ms postprocess per image at shape (1, 3, 640, 640)\n",
            "\n",
            "0: 640x640 1 ga_chien, 270.9ms\n",
            "Speed: 7.8ms preprocess, 270.9ms inference, 1.9ms postprocess per image at shape (1, 3, 640, 640)\n",
            "\n",
            "0: 640x640 1 com_trang, 1 rau_muong_xao, 2 thit_khos, 279.6ms\n",
            "Speed: 6.9ms preprocess, 279.6ms inference, 2.0ms postprocess per image at shape (1, 3, 640, 640)\n",
            "\n",
            "0: 640x640 1 canh_cai, 1 com_trang, 1 thit_kho, 270.5ms\n",
            "Speed: 5.2ms preprocess, 270.5ms inference, 1.7ms postprocess per image at shape (1, 3, 640, 640)\n",
            "\n",
            "0: 640x640 1 com_trang, 2 thit_khos, 264.7ms\n",
            "Speed: 5.2ms preprocess, 264.7ms inference, 1.5ms postprocess per image at shape (1, 3, 640, 640)\n",
            "\n",
            "0: 640x640 1 canh_cai, 1 com_trang, 1 thit_kho, 284.7ms\n",
            "Speed: 4.7ms preprocess, 284.7ms inference, 1.7ms postprocess per image at shape (1, 3, 640, 640)\n",
            "\n",
            "0: 640x640 1 ca_kho, 267.0ms\n",
            "Speed: 5.3ms preprocess, 267.0ms inference, 1.5ms postprocess per image at shape (1, 3, 640, 640)\n",
            "\n",
            "0: 640x640 2 thit_khos, 268.9ms\n",
            "Speed: 5.3ms preprocess, 268.9ms inference, 1.4ms postprocess per image at shape (1, 3, 640, 640)\n",
            "\n",
            "0: 640x640 1 dau_hu_sot_ca, 406.9ms\n",
            "Speed: 4.5ms preprocess, 406.9ms inference, 2.0ms postprocess per image at shape (1, 3, 640, 640)\n",
            "\n",
            "0: 640x640 1 dau_hu_sot_ca, 419.3ms\n",
            "Speed: 5.2ms preprocess, 419.3ms inference, 20.6ms postprocess per image at shape (1, 3, 640, 640)\n",
            "\n",
            "0: 640x640 1 com_trang, 1 rau_muong_xao, 1 thit_kho, 1295.2ms\n",
            "Speed: 22.6ms preprocess, 1295.2ms inference, 2.2ms postprocess per image at shape (1, 3, 640, 640)\n",
            "\n",
            "0: 640x640 1 canh_cai, 1 com_trang, 1 rau_muong_xao, 456.9ms\n",
            "Speed: 12.2ms preprocess, 456.9ms inference, 2.2ms postprocess per image at shape (1, 3, 640, 640)\n",
            "\n",
            "0: 640x640 1 ga_chien, 394.4ms\n",
            "Speed: 6.2ms preprocess, 394.4ms inference, 2.5ms postprocess per image at shape (1, 3, 640, 640)\n",
            "\n",
            "0: 640x640 1 ga_chien, 359.9ms\n",
            "Speed: 9.0ms preprocess, 359.9ms inference, 1.6ms postprocess per image at shape (1, 3, 640, 640)\n",
            "\n",
            "0: 640x640 1 canh_chua, 273.8ms\n",
            "Speed: 4.2ms preprocess, 273.8ms inference, 1.5ms postprocess per image at shape (1, 3, 640, 640)\n",
            "\n",
            "0: 640x640 1 canh_cai, 269.1ms\n",
            "Speed: 4.9ms preprocess, 269.1ms inference, 1.6ms postprocess per image at shape (1, 3, 640, 640)\n",
            "\n",
            "0: 640x640 1 thit_kho_trung, 276.1ms\n",
            "Speed: 5.3ms preprocess, 276.1ms inference, 1.5ms postprocess per image at shape (1, 3, 640, 640)\n",
            "\n",
            "0: 640x640 1 canh_cai, 1 com_trang, 1 thit_kho, 275.7ms\n",
            "Speed: 5.4ms preprocess, 275.7ms inference, 1.5ms postprocess per image at shape (1, 3, 640, 640)\n",
            "\n",
            "0: 640x640 1 ca_kho, 1 canh_cai, 1 com_trang, 1 thit_kho, 1 trung_chien, 269.8ms\n",
            "Speed: 5.5ms preprocess, 269.8ms inference, 1.7ms postprocess per image at shape (1, 3, 640, 640)\n",
            "\n",
            "0: 640x640 1 com_trang, 1 thit_kho, 268.2ms\n",
            "Speed: 5.4ms preprocess, 268.2ms inference, 1.7ms postprocess per image at shape (1, 3, 640, 640)\n",
            "\n",
            "0: 640x640 1 dau_hu_sot_ca, 270.4ms\n",
            "Speed: 4.7ms preprocess, 270.4ms inference, 1.5ms postprocess per image at shape (1, 3, 640, 640)\n",
            "\n",
            "0: 640x640 1 dau_hu_sot_ca, 280.3ms\n",
            "Speed: 7.3ms preprocess, 280.3ms inference, 1.6ms postprocess per image at shape (1, 3, 640, 640)\n",
            "\n",
            "0: 640x640 1 dau_hu_sot_ca, 276.7ms\n",
            "Speed: 4.7ms preprocess, 276.7ms inference, 1.6ms postprocess per image at shape (1, 3, 640, 640)\n",
            "\n",
            "0: 640x640 2 thit_khos, 274.2ms\n",
            "Speed: 4.5ms preprocess, 274.2ms inference, 1.6ms postprocess per image at shape (1, 3, 640, 640)\n"
          ]
        }
      ],
      "source": [
        "import cv2\n",
        "import os\n",
        "from ultralytics import YOLO\n",
        "\n",
        "model_yolo = YOLO(\"runs/detect/train/weights/best.pt\")\n",
        "\n",
        "def crop_images(image_dir, save_dir):\n",
        "    os.makedirs(save_dir, exist_ok=True)\n",
        "    image_paths = [os.path.join(image_dir, f) for f in os.listdir(image_dir) if f.endswith('.jpg')]\n",
        "\n",
        "    for img_path in image_paths:\n",
        "        img = cv2.imread(img_path)\n",
        "        results = model_yolo.predict(img)[0]\n",
        "\n",
        "        boxes = results.boxes.xyxy.cpu().numpy()\n",
        "        classes = results.boxes.cls.cpu().numpy().astype(int)\n",
        "\n",
        "        for i, box in enumerate(boxes):\n",
        "            x1, y1, x2, y2 = map(int, box)\n",
        "            crop_img = img[y1:y2, x1:x2]\n",
        "\n",
        "            class_id = classes[i]\n",
        "            class_name = model_yolo.names[class_id]\n",
        "\n",
        "            class_folder = os.path.join(save_dir, class_name)\n",
        "            os.makedirs(class_folder, exist_ok=True)\n",
        "\n",
        "            base_name = os.path.basename(img_path).split('.')[0]\n",
        "            save_path = os.path.join(class_folder, f\"{base_name}_{i}.jpg\")\n",
        "            cv2.imwrite(save_path, crop_img)\n",
        "\n",
        "# Crop ảnh train\n",
        "crop_images(\"/content/extracted_files/train/images\", \"/content/data_cropped/train\")\n",
        "\n",
        "# Crop ảnh valid\n",
        "crop_images(\"/content/extracted_files/valid/images\", \"/content/data_cropped/val\")"
      ]
    },
    {
      "cell_type": "code",
      "execution_count": 27,
      "metadata": {
        "colab": {
          "base_uri": "https://localhost:8080/"
        },
        "id": "9_4kTQ4gJtNE",
        "outputId": "00322f2b-1672-4696-ceb1-3802c180b061"
      },
      "outputs": [
        {
          "output_type": "stream",
          "name": "stdout",
          "text": [
            "Found 189 images belonging to 10 classes.\n",
            "Found 122 images belonging to 10 classes.\n",
            "Epoch 1/15\n",
            "\u001b[1m6/6\u001b[0m \u001b[32m━━━━━━━━━━━━━━━━━━━━\u001b[0m\u001b[37m\u001b[0m \u001b[1m12s\u001b[0m 2s/step - accuracy: 0.2368 - loss: 2.1922 - val_accuracy: 0.4836 - val_loss: 1.7410\n",
            "Epoch 2/15\n",
            "\u001b[1m6/6\u001b[0m \u001b[32m━━━━━━━━━━━━━━━━━━━━\u001b[0m\u001b[37m\u001b[0m \u001b[1m9s\u001b[0m 1s/step - accuracy: 0.4371 - loss: 1.7738 - val_accuracy: 0.5082 - val_loss: 1.6548\n",
            "Epoch 3/15\n",
            "\u001b[1m6/6\u001b[0m \u001b[32m━━━━━━━━━━━━━━━━━━━━\u001b[0m\u001b[37m\u001b[0m \u001b[1m9s\u001b[0m 2s/step - accuracy: 0.5935 - loss: 1.4493 - val_accuracy: 0.6885 - val_loss: 1.1748\n",
            "Epoch 4/15\n",
            "\u001b[1m6/6\u001b[0m \u001b[32m━━━━━━━━━━━━━━━━━━━━\u001b[0m\u001b[37m\u001b[0m \u001b[1m9s\u001b[0m 2s/step - accuracy: 0.6970 - loss: 1.1434 - val_accuracy: 0.6393 - val_loss: 1.1287\n",
            "Epoch 5/15\n",
            "\u001b[1m6/6\u001b[0m \u001b[32m━━━━━━━━━━━━━━━━━━━━\u001b[0m\u001b[37m\u001b[0m \u001b[1m8s\u001b[0m 1s/step - accuracy: 0.7115 - loss: 0.9657 - val_accuracy: 0.6803 - val_loss: 1.1184\n",
            "Epoch 6/15\n",
            "\u001b[1m6/6\u001b[0m \u001b[32m━━━━━━━━━━━━━━━━━━━━\u001b[0m\u001b[37m\u001b[0m \u001b[1m9s\u001b[0m 2s/step - accuracy: 0.7302 - loss: 0.8358 - val_accuracy: 0.6557 - val_loss: 1.0119\n",
            "Epoch 7/15\n",
            "\u001b[1m6/6\u001b[0m \u001b[32m━━━━━━━━━━━━━━━━━━━━\u001b[0m\u001b[37m\u001b[0m \u001b[1m7s\u001b[0m 1s/step - accuracy: 0.8518 - loss: 0.5889 - val_accuracy: 0.7213 - val_loss: 0.9113\n",
            "Epoch 8/15\n",
            "\u001b[1m6/6\u001b[0m \u001b[32m━━━━━━━━━━━━━━━━━━━━\u001b[0m\u001b[37m\u001b[0m \u001b[1m9s\u001b[0m 2s/step - accuracy: 0.8423 - loss: 0.5210 - val_accuracy: 0.6967 - val_loss: 1.0325\n",
            "Epoch 9/15\n",
            "\u001b[1m6/6\u001b[0m \u001b[32m━━━━━━━━━━━━━━━━━━━━\u001b[0m\u001b[37m\u001b[0m \u001b[1m9s\u001b[0m 2s/step - accuracy: 0.8683 - loss: 0.4319 - val_accuracy: 0.6885 - val_loss: 1.0161\n",
            "Epoch 10/15\n",
            "\u001b[1m6/6\u001b[0m \u001b[32m━━━━━━━━━━━━━━━━━━━━\u001b[0m\u001b[37m\u001b[0m \u001b[1m8s\u001b[0m 1s/step - accuracy: 0.8994 - loss: 0.3168 - val_accuracy: 0.6639 - val_loss: 0.9636\n",
            "Epoch 11/15\n",
            "\u001b[1m6/6\u001b[0m \u001b[32m━━━━━━━━━━━━━━━━━━━━\u001b[0m\u001b[37m\u001b[0m \u001b[1m9s\u001b[0m 2s/step - accuracy: 0.9539 - loss: 0.2018 - val_accuracy: 0.7131 - val_loss: 1.0195\n",
            "Epoch 12/15\n",
            "\u001b[1m6/6\u001b[0m \u001b[32m━━━━━━━━━━━━━━━━━━━━\u001b[0m\u001b[37m\u001b[0m \u001b[1m7s\u001b[0m 1s/step - accuracy: 0.9599 - loss: 0.1581 - val_accuracy: 0.7213 - val_loss: 1.0354\n",
            "Epoch 13/15\n",
            "\u001b[1m6/6\u001b[0m \u001b[32m━━━━━━━━━━━━━━━━━━━━\u001b[0m\u001b[37m\u001b[0m \u001b[1m9s\u001b[0m 2s/step - accuracy: 0.9537 - loss: 0.1522 - val_accuracy: 0.7131 - val_loss: 1.2215\n",
            "Epoch 14/15\n",
            "\u001b[1m6/6\u001b[0m \u001b[32m━━━━━━━━━━━━━━━━━━━━\u001b[0m\u001b[37m\u001b[0m \u001b[1m9s\u001b[0m 2s/step - accuracy: 0.9731 - loss: 0.0942 - val_accuracy: 0.6230 - val_loss: 1.2291\n",
            "Epoch 15/15\n",
            "\u001b[1m6/6\u001b[0m \u001b[32m━━━━━━━━━━━━━━━━━━━━\u001b[0m\u001b[37m\u001b[0m \u001b[1m8s\u001b[0m 1s/step - accuracy: 0.9783 - loss: 0.0999 - val_accuracy: 0.6803 - val_loss: 1.1140\n"
          ]
        },
        {
          "output_type": "stream",
          "name": "stderr",
          "text": [
            "WARNING:absl:You are saving your model as an HDF5 file via `model.save()` or `keras.saving.save_model(model)`. This file format is considered legacy. We recommend using instead the native Keras format, e.g. `model.save('my_model.keras')` or `keras.saving.save_model(model, 'my_model.keras')`. \n"
          ]
        }
      ],
      "source": [
        "import tensorflow as tf\n",
        "from tensorflow.keras.preprocessing.image import ImageDataGenerator\n",
        "from tensorflow.keras import layers, models\n",
        "import matplotlib.pyplot as plt\n",
        "\n",
        "# Tạo bộ dữ liệu\n",
        "train_dir = '/content/data_cropped/train'\n",
        "val_dir = '/content/data_cropped/val'\n",
        "\n",
        "# ImageDataGenerator để load ảnh và augment\n",
        "train_datagen = ImageDataGenerator(rescale=1./255)\n",
        "val_datagen = ImageDataGenerator(rescale=1./255)\n",
        "\n",
        "train_generator = train_datagen.flow_from_directory(\n",
        "    train_dir,\n",
        "    target_size=(128, 128),\n",
        "    batch_size=32,\n",
        "    class_mode='categorical'\n",
        ")\n",
        "\n",
        "val_generator = val_datagen.flow_from_directory(\n",
        "    val_dir,\n",
        "    target_size=(128, 128),\n",
        "    batch_size=32,\n",
        "    class_mode='categorical'\n",
        ")\n",
        "\n",
        "# Mô hình CNN đơn giản\n",
        "model_cnn = models.Sequential([\n",
        "    layers.Conv2D(32, (3,3), activation='relu', input_shape=(128, 128, 3)),\n",
        "    layers.MaxPooling2D(2,2),\n",
        "\n",
        "    layers.Conv2D(64, (3,3), activation='relu'),\n",
        "    layers.MaxPooling2D(2,2),\n",
        "\n",
        "    layers.Conv2D(128, (3,3), activation='relu'),\n",
        "    layers.MaxPooling2D(2,2),\n",
        "\n",
        "    layers.Flatten(),\n",
        "    layers.Dense(128, activation='relu'),\n",
        "    layers.Dense(train_generator.num_classes, activation='softmax')\n",
        "])\n",
        "\n",
        "model_cnn.compile(optimizer='adam',\n",
        "                  loss='categorical_crossentropy',\n",
        "                  metrics=['accuracy'])\n",
        "\n",
        "# Huấn luyện\n",
        "history = model_cnn.fit(\n",
        "    train_generator,\n",
        "    validation_data=val_generator,\n",
        "    epochs=15\n",
        ")\n",
        "\n",
        "# Lưu model\n",
        "model_cnn.save(\"food_cnn_model.h5\")"
      ]
    },
    {
      "cell_type": "code",
      "execution_count": 23,
      "metadata": {
        "colab": {
          "base_uri": "https://localhost:8080/"
        },
        "id": "dpmMf7Hk0UxG",
        "outputId": "8e927665-64c4-4849-c4d6-fd4d5a3e112f"
      },
      "outputs": [
        {
          "output_type": "execute_result",
          "data": {
            "text/plain": [
              "<keras.src.callbacks.history.History at 0x7e761de52b10>"
            ]
          },
          "metadata": {},
          "execution_count": 23
        }
      ],
      "source": [
        "\n",
        "model_cnn.compile(optimizer='adam',\n",
        "                  loss='categorical_crossentropy',\n",
        "                  metrics=['accuracy'])\n",
        "\n",
        "model_cnn.fit(train_generator, validation_data=val_generator, epochs=10, initial_epoch=10)\n"
      ]
    },
    {
      "cell_type": "code",
      "execution_count": 14,
      "metadata": {
        "colab": {
          "base_uri": "https://localhost:8080/"
        },
        "id": "Fzvu4Iqy2wo-",
        "outputId": "7780ac01-2f01-40dc-c5f3-52072db75dcf"
      },
      "outputs": [
        {
          "output_type": "stream",
          "name": "stderr",
          "text": [
            "/usr/local/lib/python3.11/dist-packages/keras/src/layers/convolutional/base_conv.py:107: UserWarning: Do not pass an `input_shape`/`input_dim` argument to a layer. When using Sequential models, prefer using an `Input(shape)` object as the first layer in the model instead.\n",
            "  super().__init__(activity_regularizer=activity_regularizer, **kwargs)\n"
          ]
        }
      ],
      "source": []
    },
    {
      "cell_type": "code",
      "execution_count": 28,
      "metadata": {
        "colab": {
          "base_uri": "https://localhost:8080/"
        },
        "id": "yFpswKgyKT-Y",
        "outputId": "bb55fe86-6588-4c1e-f9d6-bb693158d0ae"
      },
      "outputs": [
        {
          "output_type": "stream",
          "name": "stdout",
          "text": [
            "\n",
            "image 1/7 /content/extracted_files/test/images/IMG_1249_png.rf.0feeaffbc64952fb83262936d8e83e0f.jpg: 640x640 1 canh_chua, 1 com_trang, 1 thit_kho, 296.0ms\n",
            "image 2/7 /content/extracted_files/test/images/IMG_1641_png.rf.7d84964400a02dba17a771a3ba75fa14.jpg: 640x640 1 com_trang, 1 thit_kho, 278.3ms\n",
            "image 3/7 /content/extracted_files/test/images/IMG_1723_png.rf.c1a3681496b31aa815159b169d129502.jpg: 640x640 1 com_trang, 1 thit_kho, 281.8ms\n",
            "image 4/7 /content/extracted_files/test/images/IMG_1927-1-_png.rf.239029b453b72dbf2a6df36574dec562.jpg: 640x640 1 com_trang, 1 ga_chien, 262.7ms\n",
            "image 5/7 /content/extracted_files/test/images/d66a6b545f0cea52b31d_jpg.rf.a3fa3ceb87adea7db1e4483fef2a039b.jpg: 640x640 1 ga_chien, 266.8ms\n",
            "image 6/7 /content/extracted_files/test/images/f137817d8c2b3975603a_jpg.rf.bd01e735728011893c75ab9934c4fe5b.jpg: 640x640 1 canh_chua, 1 com_trang, 1 thit_kho, 1 thit_kho_trung, 253.9ms\n",
            "image 7/7 /content/extracted_files/test/images/feb2c137f56f4031197e_jpg.rf.96ac06f076d6ad5e65134222bb93a20d.jpg: 640x640 (no detections), 281.3ms\n",
            "Speed: 5.0ms preprocess, 274.4ms inference, 1.6ms postprocess per image at shape (1, 3, 640, 640)\n",
            "\n",
            "0: 640x640 1 com_trang, 1 thit_kho, 277.9ms\n",
            "Speed: 5.2ms preprocess, 277.9ms inference, 1.8ms postprocess per image at shape (1, 3, 640, 640)\n",
            "\u001b[1m1/1\u001b[0m \u001b[32m━━━━━━━━━━━━━━━━━━━━\u001b[0m\u001b[37m\u001b[0m \u001b[1m0s\u001b[0m 144ms/step\n",
            "\u001b[1m1/1\u001b[0m \u001b[32m━━━━━━━━━━━━━━━━━━━━\u001b[0m\u001b[37m\u001b[0m \u001b[1m0s\u001b[0m 60ms/step\n",
            "\n",
            "Ảnh: /content/extracted_files/test/images/IMG_1641_png.rf.7d84964400a02dba17a771a3ba75fa14.jpg\n",
            "Món ăn nhận diện: ['com_trang', 'thit_kho']\n",
            "Tổng tiền: 22000 VNĐ\n",
            "\n",
            "0: 640x640 1 ga_chien, 282.2ms\n",
            "Speed: 4.6ms preprocess, 282.2ms inference, 1.5ms postprocess per image at shape (1, 3, 640, 640)\n",
            "\u001b[1m1/1\u001b[0m \u001b[32m━━━━━━━━━━━━━━━━━━━━\u001b[0m\u001b[37m\u001b[0m \u001b[1m0s\u001b[0m 59ms/step\n",
            "\n",
            "Ảnh: /content/extracted_files/test/images/d66a6b545f0cea52b31d_jpg.rf.a3fa3ceb87adea7db1e4483fef2a039b.jpg\n",
            "Món ăn nhận diện: ['canh_cai']\n",
            "Tổng tiền: 9000 VNĐ\n",
            "\n",
            "0: 640x640 1 canh_chua, 1 com_trang, 1 thit_kho, 267.3ms\n",
            "Speed: 4.9ms preprocess, 267.3ms inference, 1.7ms postprocess per image at shape (1, 3, 640, 640)\n",
            "\u001b[1m1/1\u001b[0m \u001b[32m━━━━━━━━━━━━━━━━━━━━\u001b[0m\u001b[37m\u001b[0m \u001b[1m0s\u001b[0m 57ms/step\n",
            "\u001b[1m1/1\u001b[0m \u001b[32m━━━━━━━━━━━━━━━━━━━━\u001b[0m\u001b[37m\u001b[0m \u001b[1m0s\u001b[0m 57ms/step\n",
            "\u001b[1m1/1\u001b[0m \u001b[32m━━━━━━━━━━━━━━━━━━━━\u001b[0m\u001b[37m\u001b[0m \u001b[1m0s\u001b[0m 59ms/step\n",
            "\n",
            "Ảnh: /content/extracted_files/test/images/IMG_1249_png.rf.0feeaffbc64952fb83262936d8e83e0f.jpg\n",
            "Món ăn nhận diện: ['thit_kho', 'canh_cai', 'com_trang']\n",
            "Tổng tiền: 31000 VNĐ\n",
            "\n",
            "0: 640x640 1 canh_chua, 1 com_trang, 1 thit_kho, 1 thit_kho_trung, 279.0ms\n",
            "Speed: 4.5ms preprocess, 279.0ms inference, 1.6ms postprocess per image at shape (1, 3, 640, 640)\n",
            "\u001b[1m1/1\u001b[0m \u001b[32m━━━━━━━━━━━━━━━━━━━━\u001b[0m\u001b[37m\u001b[0m \u001b[1m0s\u001b[0m 58ms/step\n",
            "\u001b[1m1/1\u001b[0m \u001b[32m━━━━━━━━━━━━━━━━━━━━\u001b[0m\u001b[37m\u001b[0m \u001b[1m0s\u001b[0m 60ms/step\n",
            "\u001b[1m1/1\u001b[0m \u001b[32m━━━━━━━━━━━━━━━━━━━━\u001b[0m\u001b[37m\u001b[0m \u001b[1m0s\u001b[0m 64ms/step\n",
            "\u001b[1m1/1\u001b[0m \u001b[32m━━━━━━━━━━━━━━━━━━━━\u001b[0m\u001b[37m\u001b[0m \u001b[1m0s\u001b[0m 63ms/step\n",
            "\n",
            "Ảnh: /content/extracted_files/test/images/f137817d8c2b3975603a_jpg.rf.bd01e735728011893c75ab9934c4fe5b.jpg\n",
            "Món ăn nhận diện: ['com_trang', 'canh_cai', 'canh_cai', 'thit_kho']\n",
            "Tổng tiền: 40000 VNĐ\n",
            "\n",
            "0: 640x640 (no detections), 334.9ms\n",
            "Speed: 9.5ms preprocess, 334.9ms inference, 1.4ms postprocess per image at shape (1, 3, 640, 640)\n",
            "\n",
            "Ảnh: /content/extracted_files/test/images/feb2c137f56f4031197e_jpg.rf.96ac06f076d6ad5e65134222bb93a20d.jpg\n",
            "Món ăn nhận diện: []\n",
            "Tổng tiền: 0 VNĐ\n",
            "\n",
            "0: 640x640 1 com_trang, 1 thit_kho, 273.1ms\n",
            "Speed: 7.0ms preprocess, 273.1ms inference, 1.5ms postprocess per image at shape (1, 3, 640, 640)\n",
            "\u001b[1m1/1\u001b[0m \u001b[32m━━━━━━━━━━━━━━━━━━━━\u001b[0m\u001b[37m\u001b[0m \u001b[1m0s\u001b[0m 58ms/step\n",
            "\u001b[1m1/1\u001b[0m \u001b[32m━━━━━━━━━━━━━━━━━━━━\u001b[0m\u001b[37m\u001b[0m \u001b[1m0s\u001b[0m 58ms/step\n",
            "\n",
            "Ảnh: /content/extracted_files/test/images/IMG_1723_png.rf.c1a3681496b31aa815159b169d129502.jpg\n",
            "Món ăn nhận diện: ['thit_kho', 'com_trang']\n",
            "Tổng tiền: 22000 VNĐ\n",
            "\n",
            "0: 640x640 1 com_trang, 1 ga_chien, 264.6ms\n",
            "Speed: 5.5ms preprocess, 264.6ms inference, 1.8ms postprocess per image at shape (1, 3, 640, 640)\n",
            "\u001b[1m1/1\u001b[0m \u001b[32m━━━━━━━━━━━━━━━━━━━━\u001b[0m\u001b[37m\u001b[0m \u001b[1m0s\u001b[0m 60ms/step\n",
            "\u001b[1m1/1\u001b[0m \u001b[32m━━━━━━━━━━━━━━━━━━━━\u001b[0m\u001b[37m\u001b[0m \u001b[1m0s\u001b[0m 56ms/step\n",
            "\n",
            "Ảnh: /content/extracted_files/test/images/IMG_1927-1-_png.rf.239029b453b72dbf2a6df36574dec562.jpg\n",
            "Món ăn nhận diện: ['com_trang', 'canh_cai']\n",
            "Tổng tiền: 14000 VNĐ\n"
          ]
        }
      ],
      "source": [
        "import cv2\n",
        "import numpy as np\n",
        "import glob\n",
        "import json\n",
        "from tensorflow.keras.preprocessing.image import img_to_array\n",
        "from ultralytics import YOLO\n",
        "\n",
        "model_yolo = YOLO(\"runs/detect/train/weights/best.pt\")  # mô hình bạn đã huấn luyện\n",
        "\n",
        "results = model_yolo.predict(\"/content/extracted_files/test/images/\", conf=0.2)\n",
        "# Load menu giá món ăn\n",
        "with open(\"menu.json\", \"r\") as f:\n",
        "    menu = json.load(f)\n",
        "menu_list=[\n",
        "    {\"label\":\"ca_kho\",\"price\":22000},\n",
        "    {\"label\":\"canh_cai\",\"price\":9000},\n",
        "    {\"label\":\"canh_chua\",\"price\":10000},\n",
        "    {\"label\":\"com_trang\",\"price\":5000},\n",
        "    {\"label\":\"dau_hu_sot_ca\",\"price\":16000},\n",
        "    {\"label\":\"ga_chien\",\"price\":25000},\n",
        "    {\"label\":\"rau_muong_xao\",\"price\":8000},\n",
        "    {\"label\":\"thit_kho\",\"price\":17000},\n",
        "    {\"label\":\"thit_kho_trung\",\"price\":18000},\n",
        "    {\"label\":\"trung_chien\",\"price\":12000}\n",
        "]\n",
        "menu = {item[\"label\"]: item[\"price\"] for item in menu_list}\n",
        "from PIL import Image\n",
        "\n",
        "# Load ảnh từ thư mục test\n",
        "image_paths = glob.glob('/content/extracted_files/test/images/*.jpg')\n",
        "\n",
        "all_results = []\n",
        "\n",
        "for img_path in image_paths:\n",
        "    # Đọc ảnh\n",
        "    img = cv2.imread(img_path)\n",
        "\n",
        "    # YOLO detect\n",
        "    results = model_yolo.predict(img)[0]  # Chỉ lấy kết quả đầu\n",
        "\n",
        "    boxes = results.boxes.xyxy.cpu().numpy()  # [x1, y1, x2, y2]\n",
        "    labels = []\n",
        "\n",
        "    for box in boxes:\n",
        "        x1, y1, x2, y2 = map(int, box)\n",
        "        crop = img[y1:y2, x1:x2]\n",
        "\n",
        "        # Resize & preprocess crop cho CNN\n",
        "        crop_resized = cv2.resize(crop, (128, 128))\n",
        "        crop_array = img_to_array(crop_resized) / 255.0\n",
        "        crop_array = np.expand_dims(crop_array, axis=0)\n",
        "\n",
        "        # Dự đoán bằng CNN\n",
        "        pred = model_cnn.predict(crop_array)\n",
        "        class_id = np.argmax(pred)\n",
        "        label = list(train_generator.class_indices.keys())[class_id].strip()\n",
        "\n",
        "        labels.append(label)\n",
        "\n",
        "    # Tính tổng tiền theo nhãn đã dự đoán\n",
        "    total = sum(menu.get(label.strip(), 0) for label in labels)\n",
        "\n",
        "\n",
        "    print(f\"\\nẢnh: {img_path}\")\n",
        "    print(\"Món ăn nhận diện:\", labels)\n",
        "    print(\"Tổng tiền:\", total, \"VNĐ\")\n",
        "\n",
        "    # Lưu kết quả nếu cần\n",
        "    all_results.append({\n",
        "        \"image\": img_path,\n",
        "        \"labels\": labels,\n",
        "        \"total\": total\n",
        "    })"
      ]
    },
    {
      "cell_type": "code",
      "execution_count": 8,
      "metadata": {
        "colab": {
          "base_uri": "https://localhost:8080/",
          "height": 256
        },
        "id": "wXvrJHWi0wAx",
        "outputId": "3ad7af0c-9f0c-4488-d750-5576a19bfe0b"
      },
      "outputs": [
        {
          "output_type": "display_data",
          "data": {
            "text/plain": [
              "<IPython.core.display.HTML object>"
            ],
            "text/html": [
              "\n",
              "     <input type=\"file\" id=\"files-eb25272b-9ba2-450c-b81e-707a4ae75335\" name=\"files[]\" multiple disabled\n",
              "        style=\"border:none\" />\n",
              "     <output id=\"result-eb25272b-9ba2-450c-b81e-707a4ae75335\">\n",
              "      Upload widget is only available when the cell has been executed in the\n",
              "      current browser session. Please rerun this cell to enable.\n",
              "      </output>\n",
              "      <script>// Copyright 2017 Google LLC\n",
              "//\n",
              "// Licensed under the Apache License, Version 2.0 (the \"License\");\n",
              "// you may not use this file except in compliance with the License.\n",
              "// You may obtain a copy of the License at\n",
              "//\n",
              "//      http://www.apache.org/licenses/LICENSE-2.0\n",
              "//\n",
              "// Unless required by applicable law or agreed to in writing, software\n",
              "// distributed under the License is distributed on an \"AS IS\" BASIS,\n",
              "// WITHOUT WARRANTIES OR CONDITIONS OF ANY KIND, either express or implied.\n",
              "// See the License for the specific language governing permissions and\n",
              "// limitations under the License.\n",
              "\n",
              "/**\n",
              " * @fileoverview Helpers for google.colab Python module.\n",
              " */\n",
              "(function(scope) {\n",
              "function span(text, styleAttributes = {}) {\n",
              "  const element = document.createElement('span');\n",
              "  element.textContent = text;\n",
              "  for (const key of Object.keys(styleAttributes)) {\n",
              "    element.style[key] = styleAttributes[key];\n",
              "  }\n",
              "  return element;\n",
              "}\n",
              "\n",
              "// Max number of bytes which will be uploaded at a time.\n",
              "const MAX_PAYLOAD_SIZE = 100 * 1024;\n",
              "\n",
              "function _uploadFiles(inputId, outputId) {\n",
              "  const steps = uploadFilesStep(inputId, outputId);\n",
              "  const outputElement = document.getElementById(outputId);\n",
              "  // Cache steps on the outputElement to make it available for the next call\n",
              "  // to uploadFilesContinue from Python.\n",
              "  outputElement.steps = steps;\n",
              "\n",
              "  return _uploadFilesContinue(outputId);\n",
              "}\n",
              "\n",
              "// This is roughly an async generator (not supported in the browser yet),\n",
              "// where there are multiple asynchronous steps and the Python side is going\n",
              "// to poll for completion of each step.\n",
              "// This uses a Promise to block the python side on completion of each step,\n",
              "// then passes the result of the previous step as the input to the next step.\n",
              "function _uploadFilesContinue(outputId) {\n",
              "  const outputElement = document.getElementById(outputId);\n",
              "  const steps = outputElement.steps;\n",
              "\n",
              "  const next = steps.next(outputElement.lastPromiseValue);\n",
              "  return Promise.resolve(next.value.promise).then((value) => {\n",
              "    // Cache the last promise value to make it available to the next\n",
              "    // step of the generator.\n",
              "    outputElement.lastPromiseValue = value;\n",
              "    return next.value.response;\n",
              "  });\n",
              "}\n",
              "\n",
              "/**\n",
              " * Generator function which is called between each async step of the upload\n",
              " * process.\n",
              " * @param {string} inputId Element ID of the input file picker element.\n",
              " * @param {string} outputId Element ID of the output display.\n",
              " * @return {!Iterable<!Object>} Iterable of next steps.\n",
              " */\n",
              "function* uploadFilesStep(inputId, outputId) {\n",
              "  const inputElement = document.getElementById(inputId);\n",
              "  inputElement.disabled = false;\n",
              "\n",
              "  const outputElement = document.getElementById(outputId);\n",
              "  outputElement.innerHTML = '';\n",
              "\n",
              "  const pickedPromise = new Promise((resolve) => {\n",
              "    inputElement.addEventListener('change', (e) => {\n",
              "      resolve(e.target.files);\n",
              "    });\n",
              "  });\n",
              "\n",
              "  const cancel = document.createElement('button');\n",
              "  inputElement.parentElement.appendChild(cancel);\n",
              "  cancel.textContent = 'Cancel upload';\n",
              "  const cancelPromise = new Promise((resolve) => {\n",
              "    cancel.onclick = () => {\n",
              "      resolve(null);\n",
              "    };\n",
              "  });\n",
              "\n",
              "  // Wait for the user to pick the files.\n",
              "  const files = yield {\n",
              "    promise: Promise.race([pickedPromise, cancelPromise]),\n",
              "    response: {\n",
              "      action: 'starting',\n",
              "    }\n",
              "  };\n",
              "\n",
              "  cancel.remove();\n",
              "\n",
              "  // Disable the input element since further picks are not allowed.\n",
              "  inputElement.disabled = true;\n",
              "\n",
              "  if (!files) {\n",
              "    return {\n",
              "      response: {\n",
              "        action: 'complete',\n",
              "      }\n",
              "    };\n",
              "  }\n",
              "\n",
              "  for (const file of files) {\n",
              "    const li = document.createElement('li');\n",
              "    li.append(span(file.name, {fontWeight: 'bold'}));\n",
              "    li.append(span(\n",
              "        `(${file.type || 'n/a'}) - ${file.size} bytes, ` +\n",
              "        `last modified: ${\n",
              "            file.lastModifiedDate ? file.lastModifiedDate.toLocaleDateString() :\n",
              "                                    'n/a'} - `));\n",
              "    const percent = span('0% done');\n",
              "    li.appendChild(percent);\n",
              "\n",
              "    outputElement.appendChild(li);\n",
              "\n",
              "    const fileDataPromise = new Promise((resolve) => {\n",
              "      const reader = new FileReader();\n",
              "      reader.onload = (e) => {\n",
              "        resolve(e.target.result);\n",
              "      };\n",
              "      reader.readAsArrayBuffer(file);\n",
              "    });\n",
              "    // Wait for the data to be ready.\n",
              "    let fileData = yield {\n",
              "      promise: fileDataPromise,\n",
              "      response: {\n",
              "        action: 'continue',\n",
              "      }\n",
              "    };\n",
              "\n",
              "    // Use a chunked sending to avoid message size limits. See b/62115660.\n",
              "    let position = 0;\n",
              "    do {\n",
              "      const length = Math.min(fileData.byteLength - position, MAX_PAYLOAD_SIZE);\n",
              "      const chunk = new Uint8Array(fileData, position, length);\n",
              "      position += length;\n",
              "\n",
              "      const base64 = btoa(String.fromCharCode.apply(null, chunk));\n",
              "      yield {\n",
              "        response: {\n",
              "          action: 'append',\n",
              "          file: file.name,\n",
              "          data: base64,\n",
              "        },\n",
              "      };\n",
              "\n",
              "      let percentDone = fileData.byteLength === 0 ?\n",
              "          100 :\n",
              "          Math.round((position / fileData.byteLength) * 100);\n",
              "      percent.textContent = `${percentDone}% done`;\n",
              "\n",
              "    } while (position < fileData.byteLength);\n",
              "  }\n",
              "\n",
              "  // All done.\n",
              "  yield {\n",
              "    response: {\n",
              "      action: 'complete',\n",
              "    }\n",
              "  };\n",
              "}\n",
              "\n",
              "scope.google = scope.google || {};\n",
              "scope.google.colab = scope.google.colab || {};\n",
              "scope.google.colab._files = {\n",
              "  _uploadFiles,\n",
              "  _uploadFilesContinue,\n",
              "};\n",
              "})(self);\n",
              "</script> "
            ]
          },
          "metadata": {}
        },
        {
          "output_type": "stream",
          "name": "stdout",
          "text": [
            "Saving menu1.json to menu1.json\n"
          ]
        },
        {
          "output_type": "execute_result",
          "data": {
            "text/plain": [
              "{'menu1.json': b'[\\r\\n    {\"label\":\"ca_kho\",\"price\":22000},\\r\\n    {\"label\":\"canh_cai\",\"price\":9000},\\r\\n    {\"label\":\"canh_chua\",\"price\":10000},\\r\\n    {\"label\":\"com_trang\",\"price\":5000},\\r\\n    {\"label\":\"dau_hu_sot_ca\",\"price\":16000},\\r\\n    {\"label\":\"ga_chien\",\"price\":25000},\\r\\n    {\"label\":\"rau_muong_xao\",\"price\":8000},\\r\\n    {\"label\":\"thit_kho\",\"price\":17000},\\r\\n    {\"label\":\"thit_kho_trung\",\"price\":18000},\\r\\n    {\"label\":\"trung_chien\",\"price\":12000} \\r\\n]'}"
            ]
          },
          "metadata": {},
          "execution_count": 8
        }
      ],
      "source": [
        "from google.colab import files\n",
        "files.upload()"
      ]
    }
  ],
  "metadata": {
    "colab": {
      "provenance": [],
      "include_colab_link": true
    },
    "kernelspec": {
      "display_name": "Python 3",
      "name": "python3"
    },
    "language_info": {
      "name": "python"
    }
  },
  "nbformat": 4,
  "nbformat_minor": 0
}